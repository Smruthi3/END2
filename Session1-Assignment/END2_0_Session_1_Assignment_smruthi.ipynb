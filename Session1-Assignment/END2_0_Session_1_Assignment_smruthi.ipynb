{
  "nbformat": 4,
  "nbformat_minor": 0,
  "metadata": {
    "colab": {
      "name": "END2.0 Session 1-Assignment-smruthi.ipynb",
      "provenance": [],
      "include_colab_link": true
    },
    "kernelspec": {
      "name": "python3",
      "display_name": "Python 3"
    },
    "language_info": {
      "name": "python"
    }
  },
  "cells": [
    {
      "cell_type": "markdown",
      "metadata": {
        "id": "view-in-github",
        "colab_type": "text"
      },
      "source": [
        "<a href=\"https://colab.research.google.com/github/Smruthi3/END2/blob/main/Session1-Assignment/END2_0_Session_1_Assignment_smruthi.ipynb\" target=\"_parent\"><img src=\"https://colab.research.google.com/assets/colab-badge.svg\" alt=\"Open In Colab\"/></a>"
      ]
    },
    {
      "cell_type": "code",
      "metadata": {
        "colab": {
          "base_uri": "https://localhost:8080/"
        },
        "id": "GC_6PeobwwkH",
        "outputId": "a3832e69-31c7-4676-d72c-9f8f600773dc"
      },
      "source": [
        "import torch\n",
        "from torch.autograd import Variable\n",
        "import torch.nn as nn\n",
        "import torch.nn.functional as F\n",
        "import torch.optim as optim\n",
        "import numpy as np\n",
        "import matplotlib.pyplot as plt\n",
        "%matplotlib inline\n",
        "torch.manual_seed(2)"
      ],
      "execution_count": 1,
      "outputs": [
        {
          "output_type": "execute_result",
          "data": {
            "text/plain": [
              "<torch._C.Generator at 0x7ff0ec3f18d0>"
            ]
          },
          "metadata": {
            "tags": []
          },
          "execution_count": 1
        }
      ]
    },
    {
      "cell_type": "code",
      "metadata": {
        "id": "bL64bMTkw2GP"
      },
      "source": [
        "X = torch.Tensor([[0,0], [0,1], [1,0],[1,1]])\n",
        "Y = torch.Tensor([0, 1, 1, 0]).view(-1,1)"
      ],
      "execution_count": 56,
      "outputs": []
    },
    {
      "cell_type": "code",
      "metadata": {
        "colab": {
          "base_uri": "https://localhost:8080/"
        },
        "id": "-5Ug6KMJBXu0",
        "outputId": "5525cd96-7c0f-4112-b979-ceb71ba6226f"
      },
      "source": [
        "print(X.shape)\n",
        "print(Y.shape)"
      ],
      "execution_count": 57,
      "outputs": [
        {
          "output_type": "stream",
          "text": [
            "torch.Size([4, 2])\n",
            "torch.Size([4, 1])\n"
          ],
          "name": "stdout"
        }
      ]
    },
    {
      "cell_type": "markdown",
      "metadata": {
        "id": "uXEBvLzfUTmo"
      },
      "source": [
        "1. Removed the last activation function\n",
        "2. In order to make total 44 parameters: Following changes have to be made to existing architecture\n",
        "\n",
        "* Changing the hidden layer dimension from 2 to 5\n",
        "* Adding one more hidden layer with dimention = 4 \n"
      ]
    },
    {
      "cell_type": "code",
      "metadata": {
        "id": "C1xzx3giUWJ9"
      },
      "source": [
        "class XOR(nn.Module):\n",
        "    def __init__(self, input_dim = 2, hidden_dim2=4 ## 2nd hidden layer dimention\n",
        "                 , output_dim=1):\n",
        "        super(XOR, self).__init__()\n",
        "        self.lin1 = nn.Linear(input_dim, 5) ## 5 nodes  in 1st hidden layer\n",
        "        self.lin2 = nn.Linear(5,hidden_dim2)\n",
        "        self.lin3 = nn.Linear(hidden_dim2, output_dim)\n",
        "  \n",
        "    def forward(self, x):\n",
        "        x = self.lin1(x)\n",
        "        x = F.tanh(x)\n",
        "        x = self.lin2(x)\n",
        "        x = F.tanh(x)\n",
        "        x = self.lin3(x)\n",
        "        ## x = F.tanh(x) ## Removing the last activation function here\n",
        "        return x"
      ],
      "execution_count": 93,
      "outputs": []
    },
    {
      "cell_type": "code",
      "metadata": {
        "colab": {
          "base_uri": "https://localhost:8080/"
        },
        "id": "lbPBZpw6UuNy",
        "outputId": "86dba9de-2cc6-4d98-b326-b4afb257ee78"
      },
      "source": [
        "model = XOR()\n",
        "print(model)\n",
        "from torchsummary import summary\n",
        "summary(model, (2,2))"
      ],
      "execution_count": 94,
      "outputs": [
        {
          "output_type": "stream",
          "text": [
            "XOR(\n",
            "  (lin1): Linear(in_features=2, out_features=5, bias=True)\n",
            "  (lin2): Linear(in_features=5, out_features=4, bias=True)\n",
            "  (lin3): Linear(in_features=4, out_features=1, bias=True)\n",
            ")\n",
            "----------------------------------------------------------------\n",
            "        Layer (type)               Output Shape         Param #\n",
            "================================================================\n",
            "            Linear-1                 [-1, 2, 5]              15\n",
            "            Linear-2                 [-1, 2, 4]              24\n",
            "            Linear-3                 [-1, 2, 1]               5\n",
            "================================================================\n",
            "Total params: 44\n",
            "Trainable params: 44\n",
            "Non-trainable params: 0\n",
            "----------------------------------------------------------------\n",
            "Input size (MB): 0.00\n",
            "Forward/backward pass size (MB): 0.00\n",
            "Params size (MB): 0.00\n",
            "Estimated Total Size (MB): 0.00\n",
            "----------------------------------------------------------------\n"
          ],
          "name": "stdout"
        },
        {
          "output_type": "stream",
          "text": [
            "/usr/local/lib/python3.7/dist-packages/torch/nn/functional.py:1698: UserWarning: nn.functional.tanh is deprecated. Use torch.tanh instead.\n",
            "  warnings.warn(\"nn.functional.tanh is deprecated. Use torch.tanh instead.\")\n"
          ],
          "name": "stderr"
        }
      ]
    },
    {
      "cell_type": "code",
      "metadata": {
        "id": "yeotEq19x6XF"
      },
      "source": [
        "def weights_init(model):\n",
        "    for m in model.modules():\n",
        "        if isinstance(m, nn.Linear):\n",
        "            # initialize the weight tensor, here we use a normal distribution\n",
        "            m.weight.data.normal_(0, 1)\n",
        "\n",
        "weights_init(model)"
      ],
      "execution_count": 95,
      "outputs": []
    },
    {
      "cell_type": "code",
      "metadata": {
        "id": "WrD_sNzLx78e"
      },
      "source": [
        "loss_func = nn.L1Loss()"
      ],
      "execution_count": 96,
      "outputs": []
    },
    {
      "cell_type": "code",
      "metadata": {
        "id": "-zvbrMd2x_lA"
      },
      "source": [
        "optimizer = optim.SGD(model.parameters(), lr=0.02, momentum=0.9)\n"
      ],
      "execution_count": 97,
      "outputs": []
    },
    {
      "cell_type": "markdown",
      "metadata": {
        "id": "qmpEj41bYYn0"
      },
      "source": [
        "3. Running for 2001 epochs"
      ]
    },
    {
      "cell_type": "code",
      "metadata": {
        "colab": {
          "base_uri": "https://localhost:8080/"
        },
        "id": "q7tWa3D7yA5X",
        "outputId": "aa944dc1-6807-4740-f070-7c86410f161f"
      },
      "source": [
        "epochs = 2001\n",
        "steps = X.size(0)\n",
        "for i in range(epochs):\n",
        "    for j in range(steps):\n",
        "        data_point = np.random.randint(X.size(0))\n",
        "        x_var = Variable(X[data_point], requires_grad=False)\n",
        "        y_var = Variable(Y[data_point], requires_grad=False)\n",
        "        \n",
        "        optimizer.zero_grad()\n",
        "        y_hat = model(x_var)\n",
        "        loss = loss_func.forward(y_hat, y_var)\n",
        "        loss.backward()\n",
        "        optimizer.step()\n",
        "        \n",
        "    if i % 50 == 0:\n",
        "        print( \"Epoch: {0}, Loss: {1}, \".format(i, loss.data.numpy()))"
      ],
      "execution_count": 98,
      "outputs": [
        {
          "output_type": "stream",
          "text": [
            "/usr/local/lib/python3.7/dist-packages/torch/nn/functional.py:1698: UserWarning: nn.functional.tanh is deprecated. Use torch.tanh instead.\n",
            "  warnings.warn(\"nn.functional.tanh is deprecated. Use torch.tanh instead.\")\n"
          ],
          "name": "stderr"
        },
        {
          "output_type": "stream",
          "text": [
            "Epoch: 0, Loss: 1.526001214981079, \n",
            "Epoch: 50, Loss: 0.7248811721801758, \n",
            "Epoch: 100, Loss: 0.12606596946716309, \n",
            "Epoch: 150, Loss: 0.17624884843826294, \n",
            "Epoch: 200, Loss: 0.10600864887237549, \n",
            "Epoch: 250, Loss: 0.08061802387237549, \n",
            "Epoch: 300, Loss: 0.14441579580307007, \n",
            "Epoch: 350, Loss: 0.5837128758430481, \n",
            "Epoch: 400, Loss: 0.4064936637878418, \n",
            "Epoch: 450, Loss: 0.0037517547607421875, \n",
            "Epoch: 500, Loss: 0.08452659845352173, \n",
            "Epoch: 550, Loss: 0.30299901962280273, \n",
            "Epoch: 600, Loss: 0.08625972270965576, \n",
            "Epoch: 650, Loss: 0.07638406753540039, \n",
            "Epoch: 700, Loss: 0.2301691174507141, \n",
            "Epoch: 750, Loss: 0.042201876640319824, \n",
            "Epoch: 800, Loss: 0.132129967212677, \n",
            "Epoch: 850, Loss: 0.024085521697998047, \n",
            "Epoch: 900, Loss: 0.008402585983276367, \n",
            "Epoch: 950, Loss: 0.04211318492889404, \n",
            "Epoch: 1000, Loss: 0.31957077980041504, \n",
            "Epoch: 1050, Loss: 0.03663444519042969, \n",
            "Epoch: 1100, Loss: 0.020725250244140625, \n",
            "Epoch: 1150, Loss: 0.2943652868270874, \n",
            "Epoch: 1200, Loss: 0.09305506944656372, \n",
            "Epoch: 1250, Loss: 0.1467442512512207, \n",
            "Epoch: 1300, Loss: 0.0782632827758789, \n",
            "Epoch: 1350, Loss: 0.050220608711242676, \n",
            "Epoch: 1400, Loss: 0.2998928427696228, \n",
            "Epoch: 1450, Loss: 0.6151360273361206, \n",
            "Epoch: 1500, Loss: 0.45969659090042114, \n",
            "Epoch: 1550, Loss: 0.5401777029037476, \n",
            "Epoch: 1600, Loss: 0.1169118881225586, \n",
            "Epoch: 1650, Loss: 0.1379796266555786, \n",
            "Epoch: 1700, Loss: 0.15125811100006104, \n",
            "Epoch: 1750, Loss: 0.05618762969970703, \n",
            "Epoch: 1800, Loss: 0.2383105754852295, \n",
            "Epoch: 1850, Loss: 0.1809539794921875, \n",
            "Epoch: 1900, Loss: 0.4877748489379883, \n",
            "Epoch: 1950, Loss: 0.16578686237335205, \n",
            "Epoch: 2000, Loss: 0.03816723823547363, \n"
          ],
          "name": "stdout"
        }
      ]
    },
    {
      "cell_type": "code",
      "metadata": {
        "id": "QV0dIdveyCRi"
      },
      "source": [
        ""
      ],
      "execution_count": null,
      "outputs": []
    }
  ]
}