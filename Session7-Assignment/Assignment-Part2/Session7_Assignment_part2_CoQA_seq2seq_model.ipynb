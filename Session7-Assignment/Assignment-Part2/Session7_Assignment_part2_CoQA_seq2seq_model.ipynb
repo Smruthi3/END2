{
  "nbformat": 4,
  "nbformat_minor": 0,
  "metadata": {
    "colab": {
      "name": "Session7-Assignment-part2-CoQA-seq2seq-model.ipynb",
      "provenance": [],
      "collapsed_sections": [],
      "include_colab_link": true
    },
    "kernelspec": {
      "display_name": "Python 3",
      "name": "python3"
    },
    "accelerator": "GPU"
  },
  "cells": [
    {
      "cell_type": "markdown",
      "metadata": {
        "id": "view-in-github",
        "colab_type": "text"
      },
      "source": [
        "<a href=\"https://colab.research.google.com/github/Smruthi3/END2/blob/main/Session7-Assignment/Assignment-Part2/Session7_Assignment_part2_CoQA_seq2seq_model.ipynb\" target=\"_parent\"><img src=\"https://colab.research.google.com/assets/colab-badge.svg\" alt=\"Open In Colab\"/></a>"
      ]
    },
    {
      "cell_type": "code",
      "metadata": {
        "colab": {
          "base_uri": "https://localhost:8080/"
        },
        "id": "tKY2PLmhm9pn",
        "outputId": "b2682ae5-ca83-4755-ae9d-a3cc3eb1ba7e"
      },
      "source": [
        "import torch\n",
        "import torch.nn as nn\n",
        "import torch.optim as optim\n",
        "import pandas as pd \n",
        "#from torchtext.legacy.data import Example,Field, BucketIterator,Dataset\n",
        "from torchtext.legacy.data import Field, BucketIterator\n",
        "from torchtext.legacy import data\n",
        "\n",
        "import spacy\n",
        "import numpy as np\n",
        "\n",
        "import random\n",
        "import math\n",
        "import time\n",
        "\n",
        "SEED = 1234\n",
        "\n",
        "random.seed(SEED)\n",
        "np.random.seed(SEED)\n",
        "torch.manual_seed(SEED)\n",
        "torch.cuda.manual_seed(SEED)\n",
        "torch.backends.cudnn.deterministic = True\n",
        "\n",
        "pd.set_option('display.max_colwidth', -1)"
      ],
      "execution_count": 2,
      "outputs": [
        {
          "output_type": "stream",
          "text": [
            "/usr/local/lib/python3.7/dist-packages/ipykernel_launcher.py:24: FutureWarning: Passing a negative integer is deprecated in version 1.0 and will not be supported in future version. Instead, use None to not limit the column width.\n"
          ],
          "name": "stderr"
        }
      ]
    },
    {
      "cell_type": "markdown",
      "metadata": {
        "id": "Bz4eQ-tfFMES"
      },
      "source": [
        "##Data Preview :\n",
        "\n",
        "CoQA is a large-scale dataset for building Conversational Question Answering systems. The goal of the CoQA challenge is to measure the ability of machines to understand a text passage and answer a series of interconnected questions that appear in a conversation.\n",
        "\n",
        "The the following links contains training and testing dataset :\n",
        "\n",
        "Train : 'http://downloads.cs.stanford.edu/nlp/data/coqa/coqa-train-v1.0.json'\n",
        "\n",
        "Test : 'http://downloads.cs.stanford.edu/nlp/data/coqa/coqa-dev-v1.0.json'\n",
        "\n",
        "As per the assignment instractions we have to spilt the data into 70% train and 30% test\n",
        "\n",
        "To adhere this, combining both the links into one dataset and then split data into 70% train and 30% test using torch dataset\n",
        "\n",
        "Following way data is prepared and fed to model:\n",
        "\n",
        "\n",
        "1. The dataset contains story (conversation) , questions and answers. Note     that one story contains multiple questions and respective answers\n",
        "\n",
        "2. #Model takes source and target as inputs:\n",
        "  source here would be story and questions combined and given\n",
        "  target here would be answers\n",
        "\n",
        "  For example : If a story has 5 questions, then story is repeated 5 times with each question combined as source and respective answer to the question as the target\n",
        "\n",
        "\n",
        "\n",
        "\n",
        "\n",
        "\n",
        "\n"
      ]
    },
    {
      "cell_type": "code",
      "metadata": {
        "id": "IuoQfqBcnGt6"
      },
      "source": [
        "import pandas as pd\n",
        "train=pd.read_json('http://downloads.cs.stanford.edu/nlp/data/coqa/coqa-train-v1.0.json')\n",
        "test=pd.read_json('http://downloads.cs.stanford.edu/nlp/data/coqa/coqa-dev-v1.0.json')\n",
        "\n",
        "combine_data = pd.concat([train,test])\n",
        "combine_data=combine_data.reset_index(drop=True)"
      ],
      "execution_count": 3,
      "outputs": []
    },
    {
      "cell_type": "code",
      "metadata": {
        "colab": {
          "base_uri": "https://localhost:8080/"
        },
        "id": "BRp2iZI2JAoy",
        "outputId": "a13ecd7d-26c0-4750-bb05-d30491ff81f3"
      },
      "source": [
        "train.shape, test.shape,combine_data.shape"
      ],
      "execution_count": 4,
      "outputs": [
        {
          "output_type": "execute_result",
          "data": {
            "text/plain": [
              "((7199, 2), (500, 2), (7699, 2))"
            ]
          },
          "metadata": {
            "tags": []
          },
          "execution_count": 4
        }
      ]
    },
    {
      "cell_type": "code",
      "metadata": {
        "colab": {
          "base_uri": "https://localhost:8080/"
        },
        "id": "G-_VAGmsKij1",
        "outputId": "f52a9503-4539-4afd-a84f-dba51f6f5050"
      },
      "source": [
        "combine_data.data[0]"
      ],
      "execution_count": 5,
      "outputs": [
        {
          "output_type": "execute_result",
          "data": {
            "text/plain": [
              "{'answers': [{'input_text': 'It was formally established in 1475',\n",
              "   'span_end': 179,\n",
              "   'span_start': 151,\n",
              "   'span_text': 'Formally established in 1475',\n",
              "   'turn_id': 1},\n",
              "  {'input_text': 'research',\n",
              "   'span_end': 494,\n",
              "   'span_start': 454,\n",
              "   'span_text': 'he Vatican Library is a research library',\n",
              "   'turn_id': 2},\n",
              "  {'input_text': 'history, and law',\n",
              "   'span_end': 511,\n",
              "   'span_start': 457,\n",
              "   'span_text': 'Vatican Library is a research library for history, law',\n",
              "   'turn_id': 3},\n",
              "  {'input_text': 'philosophy, science and theology',\n",
              "   'span_end': 545,\n",
              "   'span_start': 457,\n",
              "   'span_text': 'Vatican Library is a research library for history, law, philosophy, science and theology',\n",
              "   'turn_id': 4},\n",
              "  {'input_text': 'a  project',\n",
              "   'span_end': 879,\n",
              "   'span_start': 769,\n",
              "   'span_text': 'March 2014, the Vatican Library began an initial four-year project of digitising its collection of manuscripts',\n",
              "   'turn_id': 5},\n",
              "  {'input_text': 'into periods',\n",
              "   'span_end': 1127,\n",
              "   'span_start': 1048,\n",
              "   'span_text': 'Scholars have traditionally divided the history of the library into five period',\n",
              "   'turn_id': 6},\n",
              "  {'input_text': 'five',\n",
              "   'span_end': 1128,\n",
              "   'span_start': 1048,\n",
              "   'span_text': 'Scholars have traditionally divided the history of the library into five periods',\n",
              "   'turn_id': 7},\n",
              "  {'input_text': 'The Vatican Apostolic Library',\n",
              "   'span_end': 94,\n",
              "   'span_start': 4,\n",
              "   'span_text': 'Vatican Apostolic Library (), more commonly called the Vatican Library or simply the Vat, ',\n",
              "   'turn_id': 8},\n",
              "  {'input_text': 'in Vatican City',\n",
              "   'span_end': 150,\n",
              "   'span_start': 94,\n",
              "   'span_text': 'is the library of the Holy See, located in Vatican City.',\n",
              "   'turn_id': 9},\n",
              "  {'input_text': '1.1 million',\n",
              "   'span_end': 412,\n",
              "   'span_start': 328,\n",
              "   'span_text': ' It has 75,000 codices from throughout history, as well as 1.1 million printed books',\n",
              "   'turn_id': 10},\n",
              "  {'input_text': 'at the beginning of the 17th century;',\n",
              "   'span_end': 1009,\n",
              "   'span_start': 917,\n",
              "   'span_text': 'atican Secret Archives were separated from the library at the beginning of the 17th century;',\n",
              "   'turn_id': 11},\n",
              "  {'input_text': '150,000',\n",
              "   'span_end': 1046,\n",
              "   'span_start': 915,\n",
              "   'span_text': ' Vatican Secret Archives were separated from the library at the beginning of the 17th century; they contain another 150,000 items. ',\n",
              "   'turn_id': 12},\n",
              "  {'input_text': 'anyone who can document their qualifications and research needs.',\n",
              "   'span_end': 643,\n",
              "   'span_start': 546,\n",
              "   'span_text': ' The Vatican Library is open to anyone who can document their qualifications and research needs. ',\n",
              "   'turn_id': 13},\n",
              "  {'bad_turn': 'true',\n",
              "   'input_text': 'unknown',\n",
              "   'span_end': -1,\n",
              "   'span_start': -1,\n",
              "   'span_text': 'unknown',\n",
              "   'turn_id': 14},\n",
              "  {'input_text': 'Photocopies',\n",
              "   'span_end': 764,\n",
              "   'span_start': 643,\n",
              "   'span_text': 'Photocopies for private study of pages from books published between 1801 and 1990 can be requested in person or by mail. ',\n",
              "   'turn_id': 15},\n",
              "  {'input_text': 'only books published between 1801 and 1990',\n",
              "   'span_end': 724,\n",
              "   'span_start': 644,\n",
              "   'span_text': 'hotocopies for private study of pages from books published between 1801 and 1990',\n",
              "   'turn_id': 16},\n",
              "  {'input_text': 'the Holy See',\n",
              "   'span_end': 125,\n",
              "   'span_start': 78,\n",
              "   'span_text': 'simply the Vat, is the library of the Holy See,',\n",
              "   'turn_id': 17},\n",
              "  {'input_text': 'a handful of volumes',\n",
              "   'span_end': 1384,\n",
              "   'span_start': 1192,\n",
              "   'span_text': 'Pre-Lateran period, comprising the initial days of the library, dated from the earliest days of the Church. Only a handful of volumes survive from this period, though some are very significant',\n",
              "   'turn_id': 18},\n",
              "  {'input_text': 'digitising manuscripts',\n",
              "   'span_end': 881,\n",
              "   'span_start': 785,\n",
              "   'span_text': 'Vatican Library began an initial four-year project of digitising its collection of manuscripts, ',\n",
              "   'turn_id': 19},\n",
              "  {'input_text': 'them to be viewed online.',\n",
              "   'span_end': 910,\n",
              "   'span_start': 868,\n",
              "   'span_text': 'manuscripts, to be made available online. ',\n",
              "   'turn_id': 20}],\n",
              " 'filename': 'Vatican_Library.txt',\n",
              " 'id': '3zotghdk5ibi9cex97fepx7jetpso7',\n",
              " 'name': 'Vatican_Library.txt',\n",
              " 'questions': [{'input_text': 'When was the Vat formally opened?',\n",
              "   'turn_id': 1},\n",
              "  {'input_text': 'what is the library for?', 'turn_id': 2},\n",
              "  {'input_text': 'for what subjects?', 'turn_id': 3},\n",
              "  {'input_text': 'and?', 'turn_id': 4},\n",
              "  {'input_text': 'what was started in 2014?', 'turn_id': 5},\n",
              "  {'input_text': 'how do scholars divide the library?', 'turn_id': 6},\n",
              "  {'input_text': 'how many?', 'turn_id': 7},\n",
              "  {'input_text': 'what is the official name of the Vat?', 'turn_id': 8},\n",
              "  {'input_text': 'where is it?', 'turn_id': 9},\n",
              "  {'input_text': 'how many printed books does it contain?', 'turn_id': 10},\n",
              "  {'input_text': 'when were the Secret Archives moved from the rest of the library?',\n",
              "   'turn_id': 11},\n",
              "  {'input_text': 'how many items are in this secret collection?',\n",
              "   'turn_id': 12},\n",
              "  {'input_text': 'Can anyone use this library?', 'turn_id': 13},\n",
              "  {'input_text': 'what must be requested to view?', 'turn_id': 14},\n",
              "  {'input_text': 'what must be requested in person or by mail?',\n",
              "   'turn_id': 15},\n",
              "  {'input_text': 'of what books?', 'turn_id': 16},\n",
              "  {'input_text': 'What is the Vat the library of?', 'turn_id': 17},\n",
              "  {'input_text': 'How many books survived the Pre Lateran period?',\n",
              "   'turn_id': 18},\n",
              "  {'input_text': 'what is the point of the project started in 2014?',\n",
              "   'turn_id': 19},\n",
              "  {'input_text': 'what will this allow?', 'turn_id': 20}],\n",
              " 'source': 'wikipedia',\n",
              " 'story': 'The Vatican Apostolic Library (), more commonly called the Vatican Library or simply the Vat, is the library of the Holy See, located in Vatican City. Formally established in 1475, although it is much older, it is one of the oldest libraries in the world and contains one of the most significant collections of historical texts. It has 75,000 codices from throughout history, as well as 1.1 million printed books, which include some 8,500 incunabula. \\n\\nThe Vatican Library is a research library for history, law, philosophy, science and theology. The Vatican Library is open to anyone who can document their qualifications and research needs. Photocopies for private study of pages from books published between 1801 and 1990 can be requested in person or by mail. \\n\\nIn March 2014, the Vatican Library began an initial four-year project of digitising its collection of manuscripts, to be made available online. \\n\\nThe Vatican Secret Archives were separated from the library at the beginning of the 17th century; they contain another 150,000 items. \\n\\nScholars have traditionally divided the history of the library into five periods, Pre-Lateran, Lateran, Avignon, Pre-Vatican and Vatican. \\n\\nThe Pre-Lateran period, comprising the initial days of the library, dated from the earliest days of the Church. Only a handful of volumes survive from this period, though some are very significant.'}"
            ]
          },
          "metadata": {
            "tags": []
          },
          "execution_count": 5
        }
      ]
    },
    {
      "cell_type": "code",
      "metadata": {
        "id": "fp5O8G01Nbi9"
      },
      "source": [
        "import time\n",
        "def data_prep(dt):\n",
        "  st=time.time()\n",
        "  story=[]\n",
        "  question=[]\n",
        "  answer=[]\n",
        "  for i in range(0,dt.data.shape[0]):\n",
        "    sty=dt.data[i]['story']\n",
        "    for j in range(0,len(dt.data[i]['questions'])):\n",
        "      story.append(sty)\n",
        "      question.append(dt.data[i]['questions'][j]['input_text'])\n",
        "      answer.append(dt.data[i]['answers'][j]['input_text'])\n",
        "  print(time.time()-st)\n",
        "  return(story,question,answer)\n"
      ],
      "execution_count": 6,
      "outputs": []
    },
    {
      "cell_type": "code",
      "metadata": {
        "colab": {
          "base_uri": "https://localhost:8080/"
        },
        "id": "mIjrNAw2p6SZ",
        "outputId": "9270b040-9f6a-4f94-e01e-91a70ac2a3ff"
      },
      "source": [
        "st_complete,question_complete,answer_complete=data_prep(combine_data)\n",
        "coqa_dataset=pd.DataFrame(\n",
        "    {'story': st_complete,\n",
        "     'question': question_complete,\n",
        "     'answer': answer_complete\n",
        "    })"
      ],
      "execution_count": 7,
      "outputs": [
        {
          "output_type": "stream",
          "text": [
            "2.760836362838745\n"
          ],
          "name": "stdout"
        }
      ]
    },
    {
      "cell_type": "code",
      "metadata": {
        "colab": {
          "base_uri": "https://localhost:8080/",
          "height": 104
        },
        "id": "eSI9VwcBqK9l",
        "outputId": "e0cdc4d8-7466-4218-963a-d806b92d5bc3"
      },
      "source": [
        "st_complete[0]"
      ],
      "execution_count": 8,
      "outputs": [
        {
          "output_type": "execute_result",
          "data": {
            "application/vnd.google.colaboratory.intrinsic+json": {
              "type": "string"
            },
            "text/plain": [
              "'The Vatican Apostolic Library (), more commonly called the Vatican Library or simply the Vat, is the library of the Holy See, located in Vatican City. Formally established in 1475, although it is much older, it is one of the oldest libraries in the world and contains one of the most significant collections of historical texts. It has 75,000 codices from throughout history, as well as 1.1 million printed books, which include some 8,500 incunabula. \\n\\nThe Vatican Library is a research library for history, law, philosophy, science and theology. The Vatican Library is open to anyone who can document their qualifications and research needs. Photocopies for private study of pages from books published between 1801 and 1990 can be requested in person or by mail. \\n\\nIn March 2014, the Vatican Library began an initial four-year project of digitising its collection of manuscripts, to be made available online. \\n\\nThe Vatican Secret Archives were separated from the library at the beginning of the 17th century; they contain another 150,000 items. \\n\\nScholars have traditionally divided the history of the library into five periods, Pre-Lateran, Lateran, Avignon, Pre-Vatican and Vatican. \\n\\nThe Pre-Lateran period, comprising the initial days of the library, dated from the earliest days of the Church. Only a handful of volumes survive from this period, though some are very significant.'"
            ]
          },
          "metadata": {
            "tags": []
          },
          "execution_count": 8
        }
      ]
    },
    {
      "cell_type": "code",
      "metadata": {
        "colab": {
          "base_uri": "https://localhost:8080/",
          "height": 34
        },
        "id": "AQgMhVFxqQBA",
        "outputId": "45a5322b-07e6-4896-b304-c2892373b297"
      },
      "source": [
        "question_complete[0]"
      ],
      "execution_count": 9,
      "outputs": [
        {
          "output_type": "execute_result",
          "data": {
            "application/vnd.google.colaboratory.intrinsic+json": {
              "type": "string"
            },
            "text/plain": [
              "'When was the Vat formally opened?'"
            ]
          },
          "metadata": {
            "tags": []
          },
          "execution_count": 9
        }
      ]
    },
    {
      "cell_type": "code",
      "metadata": {
        "colab": {
          "base_uri": "https://localhost:8080/",
          "height": 34
        },
        "id": "9UZKNL0mLina",
        "outputId": "433e7d48-d71a-42c1-9cf5-e1e8d5eb1132"
      },
      "source": [
        "answer_complete[0]"
      ],
      "execution_count": 10,
      "outputs": [
        {
          "output_type": "execute_result",
          "data": {
            "application/vnd.google.colaboratory.intrinsic+json": {
              "type": "string"
            },
            "text/plain": [
              "'It was formally established in 1475'"
            ]
          },
          "metadata": {
            "tags": []
          },
          "execution_count": 10
        }
      ]
    },
    {
      "cell_type": "code",
      "metadata": {
        "colab": {
          "base_uri": "https://localhost:8080/"
        },
        "id": "Z5hgdF6zOZNr",
        "outputId": "bdf2b88f-603c-42c4-99e2-b97d287c658b"
      },
      "source": [
        "coqa_dataset.shape"
      ],
      "execution_count": 11,
      "outputs": [
        {
          "output_type": "execute_result",
          "data": {
            "text/plain": [
              "(116630, 3)"
            ]
          },
          "metadata": {
            "tags": []
          },
          "execution_count": 11
        }
      ]
    },
    {
      "cell_type": "code",
      "metadata": {
        "id": "XSEb14XYemkP"
      },
      "source": [
        "#MAX_LEN = 100\n",
        "#coqa_dataset['story'] = coqa_dataset['story'].apply(lambda x: ' '.join(x.split(' ')[:MAX_LEN]))"
      ],
      "execution_count": 12,
      "outputs": []
    },
    {
      "cell_type": "code",
      "metadata": {
        "colab": {
          "base_uri": "https://localhost:8080/"
        },
        "id": "SS3Jy85vwUuw",
        "outputId": "95af93cb-785a-4510-af50-235ab32ed82d"
      },
      "source": [
        "len(coqa_dataset['story'][0])"
      ],
      "execution_count": 13,
      "outputs": [
        {
          "output_type": "execute_result",
          "data": {
            "text/plain": [
              "1385"
            ]
          },
          "metadata": {
            "tags": []
          },
          "execution_count": 13
        }
      ]
    },
    {
      "cell_type": "code",
      "metadata": {
        "id": "ZNqzVs7YwR5-"
      },
      "source": [
        "coqa_dataset['sty_ques']=coqa_dataset['story']+\" \"+coqa_dataset['question']"
      ],
      "execution_count": 14,
      "outputs": []
    },
    {
      "cell_type": "code",
      "metadata": {
        "colab": {
          "base_uri": "https://localhost:8080/",
          "height": 1000
        },
        "id": "Fn5-NX0VNNA4",
        "outputId": "cdf5d3ea-e2de-465a-c980-2bdeaf2f7054"
      },
      "source": [
        "coqa_dataset.head()"
      ],
      "execution_count": 15,
      "outputs": [
        {
          "output_type": "execute_result",
          "data": {
            "text/html": [
              "<div>\n",
              "<style scoped>\n",
              "    .dataframe tbody tr th:only-of-type {\n",
              "        vertical-align: middle;\n",
              "    }\n",
              "\n",
              "    .dataframe tbody tr th {\n",
              "        vertical-align: top;\n",
              "    }\n",
              "\n",
              "    .dataframe thead th {\n",
              "        text-align: right;\n",
              "    }\n",
              "</style>\n",
              "<table border=\"1\" class=\"dataframe\">\n",
              "  <thead>\n",
              "    <tr style=\"text-align: right;\">\n",
              "      <th></th>\n",
              "      <th>story</th>\n",
              "      <th>question</th>\n",
              "      <th>answer</th>\n",
              "      <th>sty_ques</th>\n",
              "    </tr>\n",
              "  </thead>\n",
              "  <tbody>\n",
              "    <tr>\n",
              "      <th>0</th>\n",
              "      <td>The Vatican Apostolic Library (), more commonly called the Vatican Library or simply the Vat, is the library of the Holy See, located in Vatican City. Formally established in 1475, although it is much older, it is one of the oldest libraries in the world and contains one of the most significant collections of historical texts. It has 75,000 codices from throughout history, as well as 1.1 million printed books, which include some 8,500 incunabula. \\n\\nThe Vatican Library is a research library for history, law, philosophy, science and theology. The Vatican Library is open to anyone who can document their qualifications and research needs. Photocopies for private study of pages from books published between 1801 and 1990 can be requested in person or by mail. \\n\\nIn March 2014, the Vatican Library began an initial four-year project of digitising its collection of manuscripts, to be made available online. \\n\\nThe Vatican Secret Archives were separated from the library at the beginning of the 17th century; they contain another 150,000 items. \\n\\nScholars have traditionally divided the history of the library into five periods, Pre-Lateran, Lateran, Avignon, Pre-Vatican and Vatican. \\n\\nThe Pre-Lateran period, comprising the initial days of the library, dated from the earliest days of the Church. Only a handful of volumes survive from this period, though some are very significant.</td>\n",
              "      <td>When was the Vat formally opened?</td>\n",
              "      <td>It was formally established in 1475</td>\n",
              "      <td>The Vatican Apostolic Library (), more commonly called the Vatican Library or simply the Vat, is the library of the Holy See, located in Vatican City. Formally established in 1475, although it is much older, it is one of the oldest libraries in the world and contains one of the most significant collections of historical texts. It has 75,000 codices from throughout history, as well as 1.1 million printed books, which include some 8,500 incunabula. \\n\\nThe Vatican Library is a research library for history, law, philosophy, science and theology. The Vatican Library is open to anyone who can document their qualifications and research needs. Photocopies for private study of pages from books published between 1801 and 1990 can be requested in person or by mail. \\n\\nIn March 2014, the Vatican Library began an initial four-year project of digitising its collection of manuscripts, to be made available online. \\n\\nThe Vatican Secret Archives were separated from the library at the beginning of the 17th century; they contain another 150,000 items. \\n\\nScholars have traditionally divided the history of the library into five periods, Pre-Lateran, Lateran, Avignon, Pre-Vatican and Vatican. \\n\\nThe Pre-Lateran period, comprising the initial days of the library, dated from the earliest days of the Church. Only a handful of volumes survive from this period, though some are very significant. When was the Vat formally opened?</td>\n",
              "    </tr>\n",
              "    <tr>\n",
              "      <th>1</th>\n",
              "      <td>The Vatican Apostolic Library (), more commonly called the Vatican Library or simply the Vat, is the library of the Holy See, located in Vatican City. Formally established in 1475, although it is much older, it is one of the oldest libraries in the world and contains one of the most significant collections of historical texts. It has 75,000 codices from throughout history, as well as 1.1 million printed books, which include some 8,500 incunabula. \\n\\nThe Vatican Library is a research library for history, law, philosophy, science and theology. The Vatican Library is open to anyone who can document their qualifications and research needs. Photocopies for private study of pages from books published between 1801 and 1990 can be requested in person or by mail. \\n\\nIn March 2014, the Vatican Library began an initial four-year project of digitising its collection of manuscripts, to be made available online. \\n\\nThe Vatican Secret Archives were separated from the library at the beginning of the 17th century; they contain another 150,000 items. \\n\\nScholars have traditionally divided the history of the library into five periods, Pre-Lateran, Lateran, Avignon, Pre-Vatican and Vatican. \\n\\nThe Pre-Lateran period, comprising the initial days of the library, dated from the earliest days of the Church. Only a handful of volumes survive from this period, though some are very significant.</td>\n",
              "      <td>what is the library for?</td>\n",
              "      <td>research</td>\n",
              "      <td>The Vatican Apostolic Library (), more commonly called the Vatican Library or simply the Vat, is the library of the Holy See, located in Vatican City. Formally established in 1475, although it is much older, it is one of the oldest libraries in the world and contains one of the most significant collections of historical texts. It has 75,000 codices from throughout history, as well as 1.1 million printed books, which include some 8,500 incunabula. \\n\\nThe Vatican Library is a research library for history, law, philosophy, science and theology. The Vatican Library is open to anyone who can document their qualifications and research needs. Photocopies for private study of pages from books published between 1801 and 1990 can be requested in person or by mail. \\n\\nIn March 2014, the Vatican Library began an initial four-year project of digitising its collection of manuscripts, to be made available online. \\n\\nThe Vatican Secret Archives were separated from the library at the beginning of the 17th century; they contain another 150,000 items. \\n\\nScholars have traditionally divided the history of the library into five periods, Pre-Lateran, Lateran, Avignon, Pre-Vatican and Vatican. \\n\\nThe Pre-Lateran period, comprising the initial days of the library, dated from the earliest days of the Church. Only a handful of volumes survive from this period, though some are very significant. what is the library for?</td>\n",
              "    </tr>\n",
              "    <tr>\n",
              "      <th>2</th>\n",
              "      <td>The Vatican Apostolic Library (), more commonly called the Vatican Library or simply the Vat, is the library of the Holy See, located in Vatican City. Formally established in 1475, although it is much older, it is one of the oldest libraries in the world and contains one of the most significant collections of historical texts. It has 75,000 codices from throughout history, as well as 1.1 million printed books, which include some 8,500 incunabula. \\n\\nThe Vatican Library is a research library for history, law, philosophy, science and theology. The Vatican Library is open to anyone who can document their qualifications and research needs. Photocopies for private study of pages from books published between 1801 and 1990 can be requested in person or by mail. \\n\\nIn March 2014, the Vatican Library began an initial four-year project of digitising its collection of manuscripts, to be made available online. \\n\\nThe Vatican Secret Archives were separated from the library at the beginning of the 17th century; they contain another 150,000 items. \\n\\nScholars have traditionally divided the history of the library into five periods, Pre-Lateran, Lateran, Avignon, Pre-Vatican and Vatican. \\n\\nThe Pre-Lateran period, comprising the initial days of the library, dated from the earliest days of the Church. Only a handful of volumes survive from this period, though some are very significant.</td>\n",
              "      <td>for what subjects?</td>\n",
              "      <td>history, and law</td>\n",
              "      <td>The Vatican Apostolic Library (), more commonly called the Vatican Library or simply the Vat, is the library of the Holy See, located in Vatican City. Formally established in 1475, although it is much older, it is one of the oldest libraries in the world and contains one of the most significant collections of historical texts. It has 75,000 codices from throughout history, as well as 1.1 million printed books, which include some 8,500 incunabula. \\n\\nThe Vatican Library is a research library for history, law, philosophy, science and theology. The Vatican Library is open to anyone who can document their qualifications and research needs. Photocopies for private study of pages from books published between 1801 and 1990 can be requested in person or by mail. \\n\\nIn March 2014, the Vatican Library began an initial four-year project of digitising its collection of manuscripts, to be made available online. \\n\\nThe Vatican Secret Archives were separated from the library at the beginning of the 17th century; they contain another 150,000 items. \\n\\nScholars have traditionally divided the history of the library into five periods, Pre-Lateran, Lateran, Avignon, Pre-Vatican and Vatican. \\n\\nThe Pre-Lateran period, comprising the initial days of the library, dated from the earliest days of the Church. Only a handful of volumes survive from this period, though some are very significant. for what subjects?</td>\n",
              "    </tr>\n",
              "    <tr>\n",
              "      <th>3</th>\n",
              "      <td>The Vatican Apostolic Library (), more commonly called the Vatican Library or simply the Vat, is the library of the Holy See, located in Vatican City. Formally established in 1475, although it is much older, it is one of the oldest libraries in the world and contains one of the most significant collections of historical texts. It has 75,000 codices from throughout history, as well as 1.1 million printed books, which include some 8,500 incunabula. \\n\\nThe Vatican Library is a research library for history, law, philosophy, science and theology. The Vatican Library is open to anyone who can document their qualifications and research needs. Photocopies for private study of pages from books published between 1801 and 1990 can be requested in person or by mail. \\n\\nIn March 2014, the Vatican Library began an initial four-year project of digitising its collection of manuscripts, to be made available online. \\n\\nThe Vatican Secret Archives were separated from the library at the beginning of the 17th century; they contain another 150,000 items. \\n\\nScholars have traditionally divided the history of the library into five periods, Pre-Lateran, Lateran, Avignon, Pre-Vatican and Vatican. \\n\\nThe Pre-Lateran period, comprising the initial days of the library, dated from the earliest days of the Church. Only a handful of volumes survive from this period, though some are very significant.</td>\n",
              "      <td>and?</td>\n",
              "      <td>philosophy, science and theology</td>\n",
              "      <td>The Vatican Apostolic Library (), more commonly called the Vatican Library or simply the Vat, is the library of the Holy See, located in Vatican City. Formally established in 1475, although it is much older, it is one of the oldest libraries in the world and contains one of the most significant collections of historical texts. It has 75,000 codices from throughout history, as well as 1.1 million printed books, which include some 8,500 incunabula. \\n\\nThe Vatican Library is a research library for history, law, philosophy, science and theology. The Vatican Library is open to anyone who can document their qualifications and research needs. Photocopies for private study of pages from books published between 1801 and 1990 can be requested in person or by mail. \\n\\nIn March 2014, the Vatican Library began an initial four-year project of digitising its collection of manuscripts, to be made available online. \\n\\nThe Vatican Secret Archives were separated from the library at the beginning of the 17th century; they contain another 150,000 items. \\n\\nScholars have traditionally divided the history of the library into five periods, Pre-Lateran, Lateran, Avignon, Pre-Vatican and Vatican. \\n\\nThe Pre-Lateran period, comprising the initial days of the library, dated from the earliest days of the Church. Only a handful of volumes survive from this period, though some are very significant. and?</td>\n",
              "    </tr>\n",
              "    <tr>\n",
              "      <th>4</th>\n",
              "      <td>The Vatican Apostolic Library (), more commonly called the Vatican Library or simply the Vat, is the library of the Holy See, located in Vatican City. Formally established in 1475, although it is much older, it is one of the oldest libraries in the world and contains one of the most significant collections of historical texts. It has 75,000 codices from throughout history, as well as 1.1 million printed books, which include some 8,500 incunabula. \\n\\nThe Vatican Library is a research library for history, law, philosophy, science and theology. The Vatican Library is open to anyone who can document their qualifications and research needs. Photocopies for private study of pages from books published between 1801 and 1990 can be requested in person or by mail. \\n\\nIn March 2014, the Vatican Library began an initial four-year project of digitising its collection of manuscripts, to be made available online. \\n\\nThe Vatican Secret Archives were separated from the library at the beginning of the 17th century; they contain another 150,000 items. \\n\\nScholars have traditionally divided the history of the library into five periods, Pre-Lateran, Lateran, Avignon, Pre-Vatican and Vatican. \\n\\nThe Pre-Lateran period, comprising the initial days of the library, dated from the earliest days of the Church. Only a handful of volumes survive from this period, though some are very significant.</td>\n",
              "      <td>what was started in 2014?</td>\n",
              "      <td>a  project</td>\n",
              "      <td>The Vatican Apostolic Library (), more commonly called the Vatican Library or simply the Vat, is the library of the Holy See, located in Vatican City. Formally established in 1475, although it is much older, it is one of the oldest libraries in the world and contains one of the most significant collections of historical texts. It has 75,000 codices from throughout history, as well as 1.1 million printed books, which include some 8,500 incunabula. \\n\\nThe Vatican Library is a research library for history, law, philosophy, science and theology. The Vatican Library is open to anyone who can document their qualifications and research needs. Photocopies for private study of pages from books published between 1801 and 1990 can be requested in person or by mail. \\n\\nIn March 2014, the Vatican Library began an initial four-year project of digitising its collection of manuscripts, to be made available online. \\n\\nThe Vatican Secret Archives were separated from the library at the beginning of the 17th century; they contain another 150,000 items. \\n\\nScholars have traditionally divided the history of the library into five periods, Pre-Lateran, Lateran, Avignon, Pre-Vatican and Vatican. \\n\\nThe Pre-Lateran period, comprising the initial days of the library, dated from the earliest days of the Church. Only a handful of volumes survive from this period, though some are very significant. what was started in 2014?</td>\n",
              "    </tr>\n",
              "  </tbody>\n",
              "</table>\n",
              "</div>"
            ],
            "text/plain": [
              "                                                                                                                                                                                                                                                                                                                                                                                                                                                                                                                                                                                                                                                                                                                                                                                                                                                                                                                                                                                                                                                                                                                                                                                                                                                                                                                                                                                                                                                 story  ...                                                                                                                                                                                                                                                                                                                                                                                                                                                                                                                                                                                                                                                                                                                                                                                                                                                                                                                                                                                                                                                                                                                                                                                                                                                                                                                                                                                                                                                                               sty_ques\n",
              "0  The Vatican Apostolic Library (), more commonly called the Vatican Library or simply the Vat, is the library of the Holy See, located in Vatican City. Formally established in 1475, although it is much older, it is one of the oldest libraries in the world and contains one of the most significant collections of historical texts. It has 75,000 codices from throughout history, as well as 1.1 million printed books, which include some 8,500 incunabula. \\n\\nThe Vatican Library is a research library for history, law, philosophy, science and theology. The Vatican Library is open to anyone who can document their qualifications and research needs. Photocopies for private study of pages from books published between 1801 and 1990 can be requested in person or by mail. \\n\\nIn March 2014, the Vatican Library began an initial four-year project of digitising its collection of manuscripts, to be made available online. \\n\\nThe Vatican Secret Archives were separated from the library at the beginning of the 17th century; they contain another 150,000 items. \\n\\nScholars have traditionally divided the history of the library into five periods, Pre-Lateran, Lateran, Avignon, Pre-Vatican and Vatican. \\n\\nThe Pre-Lateran period, comprising the initial days of the library, dated from the earliest days of the Church. Only a handful of volumes survive from this period, though some are very significant.  ...  The Vatican Apostolic Library (), more commonly called the Vatican Library or simply the Vat, is the library of the Holy See, located in Vatican City. Formally established in 1475, although it is much older, it is one of the oldest libraries in the world and contains one of the most significant collections of historical texts. It has 75,000 codices from throughout history, as well as 1.1 million printed books, which include some 8,500 incunabula. \\n\\nThe Vatican Library is a research library for history, law, philosophy, science and theology. The Vatican Library is open to anyone who can document their qualifications and research needs. Photocopies for private study of pages from books published between 1801 and 1990 can be requested in person or by mail. \\n\\nIn March 2014, the Vatican Library began an initial four-year project of digitising its collection of manuscripts, to be made available online. \\n\\nThe Vatican Secret Archives were separated from the library at the beginning of the 17th century; they contain another 150,000 items. \\n\\nScholars have traditionally divided the history of the library into five periods, Pre-Lateran, Lateran, Avignon, Pre-Vatican and Vatican. \\n\\nThe Pre-Lateran period, comprising the initial days of the library, dated from the earliest days of the Church. Only a handful of volumes survive from this period, though some are very significant. When was the Vat formally opened?\n",
              "1  The Vatican Apostolic Library (), more commonly called the Vatican Library or simply the Vat, is the library of the Holy See, located in Vatican City. Formally established in 1475, although it is much older, it is one of the oldest libraries in the world and contains one of the most significant collections of historical texts. It has 75,000 codices from throughout history, as well as 1.1 million printed books, which include some 8,500 incunabula. \\n\\nThe Vatican Library is a research library for history, law, philosophy, science and theology. The Vatican Library is open to anyone who can document their qualifications and research needs. Photocopies for private study of pages from books published between 1801 and 1990 can be requested in person or by mail. \\n\\nIn March 2014, the Vatican Library began an initial four-year project of digitising its collection of manuscripts, to be made available online. \\n\\nThe Vatican Secret Archives were separated from the library at the beginning of the 17th century; they contain another 150,000 items. \\n\\nScholars have traditionally divided the history of the library into five periods, Pre-Lateran, Lateran, Avignon, Pre-Vatican and Vatican. \\n\\nThe Pre-Lateran period, comprising the initial days of the library, dated from the earliest days of the Church. Only a handful of volumes survive from this period, though some are very significant.  ...  The Vatican Apostolic Library (), more commonly called the Vatican Library or simply the Vat, is the library of the Holy See, located in Vatican City. Formally established in 1475, although it is much older, it is one of the oldest libraries in the world and contains one of the most significant collections of historical texts. It has 75,000 codices from throughout history, as well as 1.1 million printed books, which include some 8,500 incunabula. \\n\\nThe Vatican Library is a research library for history, law, philosophy, science and theology. The Vatican Library is open to anyone who can document their qualifications and research needs. Photocopies for private study of pages from books published between 1801 and 1990 can be requested in person or by mail. \\n\\nIn March 2014, the Vatican Library began an initial four-year project of digitising its collection of manuscripts, to be made available online. \\n\\nThe Vatican Secret Archives were separated from the library at the beginning of the 17th century; they contain another 150,000 items. \\n\\nScholars have traditionally divided the history of the library into five periods, Pre-Lateran, Lateran, Avignon, Pre-Vatican and Vatican. \\n\\nThe Pre-Lateran period, comprising the initial days of the library, dated from the earliest days of the Church. Only a handful of volumes survive from this period, though some are very significant. what is the library for?         \n",
              "2  The Vatican Apostolic Library (), more commonly called the Vatican Library or simply the Vat, is the library of the Holy See, located in Vatican City. Formally established in 1475, although it is much older, it is one of the oldest libraries in the world and contains one of the most significant collections of historical texts. It has 75,000 codices from throughout history, as well as 1.1 million printed books, which include some 8,500 incunabula. \\n\\nThe Vatican Library is a research library for history, law, philosophy, science and theology. The Vatican Library is open to anyone who can document their qualifications and research needs. Photocopies for private study of pages from books published between 1801 and 1990 can be requested in person or by mail. \\n\\nIn March 2014, the Vatican Library began an initial four-year project of digitising its collection of manuscripts, to be made available online. \\n\\nThe Vatican Secret Archives were separated from the library at the beginning of the 17th century; they contain another 150,000 items. \\n\\nScholars have traditionally divided the history of the library into five periods, Pre-Lateran, Lateran, Avignon, Pre-Vatican and Vatican. \\n\\nThe Pre-Lateran period, comprising the initial days of the library, dated from the earliest days of the Church. Only a handful of volumes survive from this period, though some are very significant.  ...  The Vatican Apostolic Library (), more commonly called the Vatican Library or simply the Vat, is the library of the Holy See, located in Vatican City. Formally established in 1475, although it is much older, it is one of the oldest libraries in the world and contains one of the most significant collections of historical texts. It has 75,000 codices from throughout history, as well as 1.1 million printed books, which include some 8,500 incunabula. \\n\\nThe Vatican Library is a research library for history, law, philosophy, science and theology. The Vatican Library is open to anyone who can document their qualifications and research needs. Photocopies for private study of pages from books published between 1801 and 1990 can be requested in person or by mail. \\n\\nIn March 2014, the Vatican Library began an initial four-year project of digitising its collection of manuscripts, to be made available online. \\n\\nThe Vatican Secret Archives were separated from the library at the beginning of the 17th century; they contain another 150,000 items. \\n\\nScholars have traditionally divided the history of the library into five periods, Pre-Lateran, Lateran, Avignon, Pre-Vatican and Vatican. \\n\\nThe Pre-Lateran period, comprising the initial days of the library, dated from the earliest days of the Church. Only a handful of volumes survive from this period, though some are very significant. for what subjects?               \n",
              "3  The Vatican Apostolic Library (), more commonly called the Vatican Library or simply the Vat, is the library of the Holy See, located in Vatican City. Formally established in 1475, although it is much older, it is one of the oldest libraries in the world and contains one of the most significant collections of historical texts. It has 75,000 codices from throughout history, as well as 1.1 million printed books, which include some 8,500 incunabula. \\n\\nThe Vatican Library is a research library for history, law, philosophy, science and theology. The Vatican Library is open to anyone who can document their qualifications and research needs. Photocopies for private study of pages from books published between 1801 and 1990 can be requested in person or by mail. \\n\\nIn March 2014, the Vatican Library began an initial four-year project of digitising its collection of manuscripts, to be made available online. \\n\\nThe Vatican Secret Archives were separated from the library at the beginning of the 17th century; they contain another 150,000 items. \\n\\nScholars have traditionally divided the history of the library into five periods, Pre-Lateran, Lateran, Avignon, Pre-Vatican and Vatican. \\n\\nThe Pre-Lateran period, comprising the initial days of the library, dated from the earliest days of the Church. Only a handful of volumes survive from this period, though some are very significant.  ...  The Vatican Apostolic Library (), more commonly called the Vatican Library or simply the Vat, is the library of the Holy See, located in Vatican City. Formally established in 1475, although it is much older, it is one of the oldest libraries in the world and contains one of the most significant collections of historical texts. It has 75,000 codices from throughout history, as well as 1.1 million printed books, which include some 8,500 incunabula. \\n\\nThe Vatican Library is a research library for history, law, philosophy, science and theology. The Vatican Library is open to anyone who can document their qualifications and research needs. Photocopies for private study of pages from books published between 1801 and 1990 can be requested in person or by mail. \\n\\nIn March 2014, the Vatican Library began an initial four-year project of digitising its collection of manuscripts, to be made available online. \\n\\nThe Vatican Secret Archives were separated from the library at the beginning of the 17th century; they contain another 150,000 items. \\n\\nScholars have traditionally divided the history of the library into five periods, Pre-Lateran, Lateran, Avignon, Pre-Vatican and Vatican. \\n\\nThe Pre-Lateran period, comprising the initial days of the library, dated from the earliest days of the Church. Only a handful of volumes survive from this period, though some are very significant. and?                             \n",
              "4  The Vatican Apostolic Library (), more commonly called the Vatican Library or simply the Vat, is the library of the Holy See, located in Vatican City. Formally established in 1475, although it is much older, it is one of the oldest libraries in the world and contains one of the most significant collections of historical texts. It has 75,000 codices from throughout history, as well as 1.1 million printed books, which include some 8,500 incunabula. \\n\\nThe Vatican Library is a research library for history, law, philosophy, science and theology. The Vatican Library is open to anyone who can document their qualifications and research needs. Photocopies for private study of pages from books published between 1801 and 1990 can be requested in person or by mail. \\n\\nIn March 2014, the Vatican Library began an initial four-year project of digitising its collection of manuscripts, to be made available online. \\n\\nThe Vatican Secret Archives were separated from the library at the beginning of the 17th century; they contain another 150,000 items. \\n\\nScholars have traditionally divided the history of the library into five periods, Pre-Lateran, Lateran, Avignon, Pre-Vatican and Vatican. \\n\\nThe Pre-Lateran period, comprising the initial days of the library, dated from the earliest days of the Church. Only a handful of volumes survive from this period, though some are very significant.  ...  The Vatican Apostolic Library (), more commonly called the Vatican Library or simply the Vat, is the library of the Holy See, located in Vatican City. Formally established in 1475, although it is much older, it is one of the oldest libraries in the world and contains one of the most significant collections of historical texts. It has 75,000 codices from throughout history, as well as 1.1 million printed books, which include some 8,500 incunabula. \\n\\nThe Vatican Library is a research library for history, law, philosophy, science and theology. The Vatican Library is open to anyone who can document their qualifications and research needs. Photocopies for private study of pages from books published between 1801 and 1990 can be requested in person or by mail. \\n\\nIn March 2014, the Vatican Library began an initial four-year project of digitising its collection of manuscripts, to be made available online. \\n\\nThe Vatican Secret Archives were separated from the library at the beginning of the 17th century; they contain another 150,000 items. \\n\\nScholars have traditionally divided the history of the library into five periods, Pre-Lateran, Lateran, Avignon, Pre-Vatican and Vatican. \\n\\nThe Pre-Lateran period, comprising the initial days of the library, dated from the earliest days of the Church. Only a handful of volumes survive from this period, though some are very significant. what was started in 2014?        \n",
              "\n",
              "[5 rows x 4 columns]"
            ]
          },
          "metadata": {
            "tags": []
          },
          "execution_count": 15
        }
      ]
    },
    {
      "cell_type": "code",
      "metadata": {
        "colab": {
          "base_uri": "https://localhost:8080/",
          "height": 104
        },
        "id": "cfFCcHgxNBnm",
        "outputId": "00026f85-d7c3-4802-80e6-0d9b5fef9479"
      },
      "source": [
        "coqa_dataset.sty_ques[0]"
      ],
      "execution_count": 16,
      "outputs": [
        {
          "output_type": "execute_result",
          "data": {
            "application/vnd.google.colaboratory.intrinsic+json": {
              "type": "string"
            },
            "text/plain": [
              "'The Vatican Apostolic Library (), more commonly called the Vatican Library or simply the Vat, is the library of the Holy See, located in Vatican City. Formally established in 1475, although it is much older, it is one of the oldest libraries in the world and contains one of the most significant collections of historical texts. It has 75,000 codices from throughout history, as well as 1.1 million printed books, which include some 8,500 incunabula. \\n\\nThe Vatican Library is a research library for history, law, philosophy, science and theology. The Vatican Library is open to anyone who can document their qualifications and research needs. Photocopies for private study of pages from books published between 1801 and 1990 can be requested in person or by mail. \\n\\nIn March 2014, the Vatican Library began an initial four-year project of digitising its collection of manuscripts, to be made available online. \\n\\nThe Vatican Secret Archives were separated from the library at the beginning of the 17th century; they contain another 150,000 items. \\n\\nScholars have traditionally divided the history of the library into five periods, Pre-Lateran, Lateran, Avignon, Pre-Vatican and Vatican. \\n\\nThe Pre-Lateran period, comprising the initial days of the library, dated from the earliest days of the Church. Only a handful of volumes survive from this period, though some are very significant. When was the Vat formally opened?'"
            ]
          },
          "metadata": {
            "tags": []
          },
          "execution_count": 16
        }
      ]
    },
    {
      "cell_type": "markdown",
      "metadata": {
        "id": "fL9hauDDlcUJ"
      },
      "source": [
        "####Obtaining only revelent fields from the data set"
      ]
    },
    {
      "cell_type": "code",
      "metadata": {
        "id": "ux_ln_TeuDGS"
      },
      "source": [
        "coqa_dataset1 = coqa_dataset[['sty_ques','answer']]\n"
      ],
      "execution_count": 17,
      "outputs": []
    },
    {
      "cell_type": "code",
      "metadata": {
        "colab": {
          "base_uri": "https://localhost:8080/"
        },
        "id": "CwquLqkCxlyv",
        "outputId": "67be135e-dae1-4ee4-9685-6cfd2117c366"
      },
      "source": [
        "coqa_dataset1.shape"
      ],
      "execution_count": 18,
      "outputs": [
        {
          "output_type": "execute_result",
          "data": {
            "text/plain": [
              "(116630, 2)"
            ]
          },
          "metadata": {
            "tags": []
          },
          "execution_count": 18
        }
      ]
    },
    {
      "cell_type": "markdown",
      "metadata": {
        "id": "5oCztIfDlhrq"
      },
      "source": [
        "### Create our fields to process our data\n"
      ]
    },
    {
      "cell_type": "code",
      "metadata": {
        "id": "DgSL8XDWxnd_"
      },
      "source": [
        "question = Field(tokenize='spacy', \n",
        "            init_token='<sos>', \n",
        "            eos_token='<eos>', \n",
        "            lower=True)\n",
        "answer = Field(tokenize='spacy', \n",
        "            init_token='<sos>', \n",
        "            eos_token='<eos>', \n",
        "            lower=True)"
      ],
      "execution_count": 19,
      "outputs": []
    },
    {
      "cell_type": "code",
      "metadata": {
        "id": "MBDDQXh6PKOg"
      },
      "source": [
        "fields = [('questions', question),('answers',answer)]"
      ],
      "execution_count": 20,
      "outputs": []
    },
    {
      "cell_type": "code",
      "metadata": {
        "colab": {
          "base_uri": "https://localhost:8080/"
        },
        "id": "LbH8gcNWTgCT",
        "outputId": "61d9bfc2-a993-42ff-840b-02f816c2d62b"
      },
      "source": [
        "fields"
      ],
      "execution_count": 21,
      "outputs": [
        {
          "output_type": "execute_result",
          "data": {
            "text/plain": [
              "[('questions', <torchtext.legacy.data.field.Field at 0x7f8197338650>),\n",
              " ('answers', <torchtext.legacy.data.field.Field at 0x7f81973030d0>)]"
            ]
          },
          "metadata": {
            "tags": []
          },
          "execution_count": 21
        }
      ]
    },
    {
      "cell_type": "code",
      "metadata": {
        "id": "1xoxRB-ZTudy"
      },
      "source": [
        "example = [data.Example.fromlist([coqa_dataset1.sty_ques[i],coqa_dataset1.answer[i]], fields) for i in range(coqa_dataset1.shape[0])]"
      ],
      "execution_count": 22,
      "outputs": []
    },
    {
      "cell_type": "code",
      "metadata": {
        "id": "hGXb95D7UUBK"
      },
      "source": [
        "questionDataset = data.Dataset(example, fields)"
      ],
      "execution_count": 23,
      "outputs": []
    },
    {
      "cell_type": "code",
      "metadata": {
        "id": "H622VippUuSx"
      },
      "source": [
        "(train, test) = questionDataset.split(split_ratio=[0.70, 0.30], random_state=random.seed(SEED))"
      ],
      "execution_count": 24,
      "outputs": []
    },
    {
      "cell_type": "code",
      "metadata": {
        "id": "z1dQ6VkpV5_L",
        "colab": {
          "base_uri": "https://localhost:8080/"
        },
        "outputId": "2291ad5d-5348-4d1c-9654-9d6da0a3e214"
      },
      "source": [
        "print(len(train))"
      ],
      "execution_count": 25,
      "outputs": [
        {
          "output_type": "stream",
          "text": [
            "81641\n"
          ],
          "name": "stdout"
        }
      ]
    },
    {
      "cell_type": "code",
      "metadata": {
        "colab": {
          "base_uri": "https://localhost:8080/"
        },
        "id": "zip-n907PQ9w",
        "outputId": "9dece043-1340-4a14-e8c4-c0c9206efe1e"
      },
      "source": [
        "print(len(test))"
      ],
      "execution_count": 26,
      "outputs": [
        {
          "output_type": "stream",
          "text": [
            "34989\n"
          ],
          "name": "stdout"
        }
      ]
    },
    {
      "cell_type": "code",
      "metadata": {
        "id": "9vXYt8uUGGMN",
        "colab": {
          "base_uri": "https://localhost:8080/"
        },
        "outputId": "8215a043-1530-403b-948b-f35dd9470a62"
      },
      "source": [
        "print(vars(train.examples[0]))"
      ],
      "execution_count": 27,
      "outputs": [
        {
          "output_type": "stream",
          "text": [
            "{'questions': ['the', 'weather', 'was', 'perfect', '.', 'we', 'were', 'just', 'out', 'for', 'a', 'picnic', '.', 'when', 'lunch', 'time', 'came', ',', 'we', 'decided', 'to', 'go', 'and', 'get', 'something', 'to', 'eat', ',', 'and', 'meet', 'back', 'on', 'the', 'grass', '.', 'susan', 'and', 'i', 'headed', 'for', 'a', 'hot', 'dog', 'stand', '.', 'we', 'watched', 'the', 'seller', 'put', 'together', 'the', 'hot', 'dog', '.', 'but', 'when', 'susan', 'took', 'out', 'her', 'money', ',', 'the', 'man', 'surprised', 'us', '.', '\"', 'it', 'looks', 'a', 'little', 'overdone', ',', '\"', 'he', 'said', ',', '\"', 'so', 'you', 'do', \"n't\", 'have', 'to', 'pay', 'me', '.', '\"', 'we', 'said', 'our', 'thanks', ',', 'joined', 'our', 'friends', ',', 'and', 'began', 'to', 'enjoy', 'our', 'food', '.', 'but', 'as', 'we', 'talked', 'and', 'ate', ',', 'i', 'noticed', 'a', 'man', 'sitting', 'alone', ',', 'in', 'dirty', 'clothes', '.', 'i', 'could', 'tell', 'that', 'he', 'had', \"n't\", 'had', 'a', 'bath', 'for', 'days', '.', 'another', 'homeless', 'person', ',', 'i', 'thought', '.', 'we', 'finished', 'eating', 'but', 'when', 'susan', 'and', 'i', 'went', 'to', 'throw', 'away', 'the', 'lunch', 'bag', ',', 'i', 'heard', 'a', 'voice', 'ask', ',', '\"', 'there', 'is', \"n't\", 'any', 'food', 'in', 'that', 'bag', ',', 'is', 'there', '?', '\"', 'it', 'was', 'the', 'homeless', 'man', '.', 'i', 'did', \"n't\", 'know', 'what', 'to', 'say', '.', '\"', 'no', ',', 'i', 'ate', 'it', 'already', '.', '\"', '\"', 'oh', ',', 'really', '?', '\"', 'was', 'his', 'only', 'answer', '.', 'he', 'was', 'obviously', 'very', 'hungry', '.', 'i', 'felt', 'bad', 'for', 'him', ',', 'but', 'i', 'did', \"n't\", 'know', 'what', 'to', 'do', '.', 'suddenly', 'susan', 'said', ',', '\"', 'i', \"'ll\", 'be', 'right', 'back', '.', 'please', 'wait', 'for', 'me', 'a', 'minute', '.', '\"', 'i', 'watched', 'curiously', 'as', 'she', 'went', 'across', 'to', 'the', 'hot', 'dog', 'stand', '.', 'then', 'i', 'realized', 'what', 'she', 'was', 'doing', '.', 'she', 'bought', 'a', 'hot', 'dog', ',', 'crossed', 'back', ',', 'and', 'gave', 'the', 'man', 'the', 'food', '.', 'when', 'she', 'came', 'back', 'to', 'us', ',', 'susan', 'said', 'simply', ',', '\"', 'i', 'was', 'just', 'passing', 'on', 'the', 'kindness', 'that', 'someone', 'gave', 'to', 'me', '.', '\"', 'that', 'day', 'i', 'learned', 'how', '_', 'can', 'go', 'farther', 'than', 'the', 'person', 'you', 'give', 'to', '.', 'by', 'giving', ',', 'you', 'teach', 'others', 'how', 'to', 'give', 'also', '.', 'you', 'never', 'know', 'what', 'happiness', 'a', 'simple', 'act', 'of', 'care', 'will', 'bring', '.', 'did', 'he', 'seem', 'blatantly', 'hungry', '?'], 'answers': ['yes']}\n"
          ],
          "name": "stdout"
        }
      ]
    },
    {
      "cell_type": "code",
      "metadata": {
        "id": "IMpew01dvzmv",
        "colab": {
          "base_uri": "https://localhost:8080/"
        },
        "outputId": "8bd96a3a-0fa8-41fb-9009-3128eb2ea7cd"
      },
      "source": [
        "print(vars(train.examples[1]))"
      ],
      "execution_count": 28,
      "outputs": [
        {
          "output_type": "stream",
          "text": [
            "{'questions': ['hong', 'kong', '(', 'cnn', ')', '--', 'a', 'car', 'theft', 'in', 'china', 'that', 'spiraled', 'into', 'a', 'manhunt', 'and', 'a', 'baby', \"'s\", 'killing', 'has', 'left', 'the', 'country', 'grieving', 'and', 'sparked', 'outrage', 'on', 'social', 'media', '.', '\\n\\n', 'the', 'body', 'of', 'the', 'infant', ',', 'whose', 'name', 'was', 'haobo', ',', 'was', 'found', 'buried', 'in', 'the', 'snow', 'wednesday', '.', 'his', 'father', ',', 'xu', 'jialin', ',', 'said', 'he', 'and', 'his', 'wife', 'identified', 'their', 'two', '-', 'month', '-', 'old', 'son', ',', 'according', 'to', 'state', '-', 'run', 'news', 'agency', 'xinhua', '.', '\\n\\n', 'thousands', 'gathered', 'in', 'a', 'square', 'tuesday', 'night', 'in', 'changchun', ',', 'the', 'capital', 'of', 'jilin', 'province', ',', 'to', 'mourn', 'the', 'baby', ',', 'killed', 'by', '\"', 'a', 'thief', 'who', 'found', 'the', 'missing', 'boy', 'sleeping', 'in', 'a', 'car', 'he', 'had', 'stolen', ',', '\"', 'xinhua', 'reported', '.', '\\n\\n', 'the', '48-year', '-', 'old', 'man', ',', 'identified', 'as', 'zhou', 'xijun', ',', 'turned', 'himself', 'in', 'to', 'police', 'tuesday', 'and', 'confessed', 'that', 'he', 'had', 'killed', 'the', 'baby', 'and', 'buried', 'him', 'in', 'the', 'snow', ',', 'xinhua', 'reported', ',', 'citing', 'local', 'police', '.', '\\n\\n', 'xu', ',', 'the', 'father', ',', 'had', 'parked', 'his', 'car', 'monday', 'in', 'front', 'of', 'the', 'supermarket', 'he', 'runs', 'in', 'changchun', 'and', 'entered', 'the', 'store', 'to', 'turn', 'on', 'a', 'stove', ',', 'leaving', 'his', 'son', 'in', 'the', 'back', 'seat', 'with', 'the', 'car', \"'s\", 'engine', 'still', 'running', ',', 'according', 'to', 'state', '-', 'run', 'news', 'reports', '.', '\\n\\n', 'xu', 'returned', 'minutes', 'later', 'to', 'find', 'his', 'car', 'was', 'missing', '.', 'he', 'called', 'police', 'immediately', '.', '\\n\\n', 'zhou', 'had', 'allegedly', 'stolen', 'the', 'grey', 'toyota', 'suv', 'and', 'discovered', 'the', 'child', 'on', 'the', 'backseat', 'as', 'he', 'drove', 'the', 'vehicle', 'away', '.', '\\n\\n', 'more', 'than', '8,000', 'police', 'and', 'hundreds', 'of', 'volunteers', 'joined', 'a', 'search', 'for', 'the', 'child', 'for', 'two', 'days', '.', '\\n\\n', 'zhou', 'has', 'confessed', '\"', 'that', 'he', 'parked', 'the', 'car', 'on', 'the', 'roadside', 'and', 'choked', 'the', 'baby', 'about', 'an', 'hour', 'after', 'he', 'stole', 'the', 'car', '.', 'he', 'then', 'abandoned', 'the', 'baby', \"'s\", 'clothes', 'and', 'the', 'car', 'in', 'the', 'nearby', 'city', 'of', 'gongzhuling', ',', '\"', 'xinhua', 'reported', '.', ' ', 'what', 'was', 'his', 'name', '?'], 'answers': ['haobo']}\n"
          ],
          "name": "stdout"
        }
      ]
    },
    {
      "cell_type": "markdown",
      "metadata": {
        "id": "w3wV4zXKXvXB"
      },
      "source": [
        "###Building Vocabulary"
      ]
    },
    {
      "cell_type": "code",
      "metadata": {
        "id": "54FdVK_sX5Ud"
      },
      "source": [
        "MAX_VOCAB_SIZE = 25_000\n",
        "\n",
        "question.build_vocab(train,max_size = MAX_VOCAB_SIZE, \n",
        "                     min_freq = 2)\n",
        "answer.build_vocab(train,max_size = MAX_VOCAB_SIZE,\n",
        "                   min_freq = 2)\n"
      ],
      "execution_count": 29,
      "outputs": []
    },
    {
      "cell_type": "code",
      "metadata": {
        "id": "IP58XwrwqW34"
      },
      "source": [
        "device = torch.device('cuda' if torch.cuda.is_available() else 'cpu')"
      ],
      "execution_count": 30,
      "outputs": []
    },
    {
      "cell_type": "code",
      "metadata": {
        "id": "fEyCt12_Xbbt",
        "colab": {
          "base_uri": "https://localhost:8080/"
        },
        "outputId": "e99dde67-e60e-4aca-a0cb-bffa5f893c63"
      },
      "source": [
        "device"
      ],
      "execution_count": 31,
      "outputs": [
        {
          "output_type": "execute_result",
          "data": {
            "text/plain": [
              "device(type='cuda')"
            ]
          },
          "metadata": {
            "tags": []
          },
          "execution_count": 31
        }
      ]
    },
    {
      "cell_type": "code",
      "metadata": {
        "id": "sttwl-C0XhiB"
      },
      "source": [
        "BATCH_SIZE = 64\n",
        "\n",
        "train_iterator, test_iterator = BucketIterator.splits(\n",
        "    (train, test), \n",
        "    batch_size = BATCH_SIZE, \n",
        "    device = device,sort=False)"
      ],
      "execution_count": 32,
      "outputs": []
    },
    {
      "cell_type": "markdown",
      "metadata": {
        "id": "PECWYs6NXqt8"
      },
      "source": [
        "###Defining The model arrchitecture"
      ]
    },
    {
      "cell_type": "code",
      "metadata": {
        "id": "4mZPcp5CX6Xs"
      },
      "source": [
        "class Encoder(nn.Module):\n",
        "    def __init__(self, input_dim, emb_dim, hid_dim, dropout):\n",
        "        super().__init__()\n",
        "\n",
        "        self.hid_dim = hid_dim\n",
        "        \n",
        "        self.embedding = nn.Embedding(input_dim, emb_dim) #no dropout as only one layer!\n",
        "        \n",
        "        self.rnn = nn.GRU(emb_dim, hid_dim)\n",
        "        \n",
        "        self.dropout = nn.Dropout(dropout)\n",
        "        \n",
        "    def forward(self, src):\n",
        "        \n",
        "        #src = [src len, batch size]\n",
        "        \n",
        "        embedded = self.dropout(self.embedding(src))\n",
        "        \n",
        "        #embedded = [src len, batch size, emb dim]\n",
        "        \n",
        "        outputs, hidden = self.rnn(embedded) #no cell state!\n",
        "        \n",
        "        #outputs = [src len, batch size, hid dim * n directions]\n",
        "        #hidden = [n layers * n directions, batch size, hid dim]\n",
        "        \n",
        "        #outputs are always from the top hidden layer\n",
        "        \n",
        "        return hidden"
      ],
      "execution_count": 33,
      "outputs": []
    },
    {
      "cell_type": "code",
      "metadata": {
        "id": "rB2qBxbTYHmu"
      },
      "source": [
        "class Decoder(nn.Module):\n",
        "    def __init__(self, output_dim, emb_dim, hid_dim, dropout):\n",
        "        super().__init__()\n",
        "\n",
        "        self.hid_dim = hid_dim\n",
        "        self.output_dim = output_dim\n",
        "        \n",
        "        self.embedding = nn.Embedding(output_dim, emb_dim)\n",
        "        \n",
        "        self.rnn = nn.GRU(emb_dim + hid_dim, hid_dim)\n",
        "        \n",
        "        self.fc_out = nn.Linear(emb_dim + hid_dim * 2, output_dim)\n",
        "        \n",
        "        self.dropout = nn.Dropout(dropout)\n",
        "        \n",
        "    def forward(self, input, hidden, context):\n",
        "        \n",
        "        #input = [batch size]\n",
        "        #hidden = [n layers * n directions, batch size, hid dim]\n",
        "        #context = [n layers * n directions, batch size, hid dim]\n",
        "        \n",
        "        #n layers and n directions in the decoder will both always be 1, therefore:\n",
        "        #hidden = [1, batch size, hid dim]\n",
        "        #context = [1, batch size, hid dim]\n",
        "        \n",
        "        input = input.unsqueeze(0)\n",
        "        \n",
        "        #input = [1, batch size]\n",
        "        \n",
        "        embedded = self.dropout(self.embedding(input))\n",
        "        \n",
        "        #embedded = [1, batch size, emb dim]\n",
        "\n",
        "        emb_con = torch.cat((embedded, context), dim = 2)\n",
        "            \n",
        "        #emb_con = [1, batch size, emb dim + hid dim]\n",
        "            \n",
        "        output, hidden = self.rnn(emb_con, hidden)\n",
        "        \n",
        "        #output = [seq len, batch size, hid dim * n directions]\n",
        "        #hidden = [n layers * n directions, batch size, hid dim]\n",
        "        \n",
        "        #seq len, n layers and n directions will always be 1 in the decoder, therefore:\n",
        "        #output = [1, batch size, hid dim]\n",
        "        #hidden = [1, batch size, hid dim]\n",
        "        \n",
        "        output = torch.cat((embedded.squeeze(0), hidden.squeeze(0), context.squeeze(0)), \n",
        "                           dim = 1)\n",
        "        \n",
        "        #output = [batch size, emb dim + hid dim * 2]\n",
        "        \n",
        "        prediction = self.fc_out(output)\n",
        "        \n",
        "        #prediction = [batch size, output dim]\n",
        "        \n",
        "        return prediction, hidden\n",
        "        \n",
        "        embedded = self.dropout(self.embedding(input))\n",
        "        \n",
        "        #embedded = [1, batch size, emb dim]\n",
        "                \n",
        "        emb_con = torch.cat((embedded, context), dim = 2)\n",
        "            \n",
        "        #emb_con = [1, batch size, emb dim + hid dim]\n",
        "            \n",
        "        output, hidden = self.rnn(emb_con, hidden)\n",
        "        \n",
        "        #output = [seq len, batch size, hid dim * n directions]\n",
        "        #hidden = [n layers * n directions, batch size, hid dim]\n",
        "        \n",
        "        #seq len, n layers and n directions will always be 1 in the decoder, therefore:\n",
        "        #output = [1, batch size, hid dim]\n",
        "        #hidden = [1, batch size, hid dim]\n",
        "        \n",
        "        output = torch.cat((embedded.squeeze(0), hidden.squeeze(0), context.squeeze(0)), \n",
        "                           dim = 1)\n",
        "        \n",
        "        #output = [batch size, emb dim + hid dim * 2]\n",
        "        \n",
        "        prediction = self.fc_out(output)\n",
        "        \n",
        "        #prediction = [batch size, output dim]\n",
        "        \n",
        "        return prediction, hidden"
      ],
      "execution_count": 34,
      "outputs": []
    },
    {
      "cell_type": "code",
      "metadata": {
        "id": "5pCOQAKzYSR4"
      },
      "source": [
        "class Seq2Seq(nn.Module):\n",
        "    def __init__(self, encoder, decoder, device):\n",
        "        super().__init__()\n",
        "        \n",
        "        self.encoder = encoder\n",
        "        self.decoder = decoder\n",
        "        self.device = device\n",
        "        \n",
        "        assert encoder.hid_dim == decoder.hid_dim, \\\n",
        "            \"Hidden dimensions of encoder and decoder must be equal!\"\n",
        "        \n",
        "    def forward(self, src, trg, teacher_forcing_ratio = 0.5):\n",
        "        \n",
        "        #src = [src len, batch size]\n",
        "        #trg = [trg len, batch size]\n",
        "        #teacher_forcing_ratio is probability to use teacher forcing\n",
        "        #e.g. if teacher_forcing_ratio is 0.75 we use ground-truth inputs 75% of the time\n",
        "        \n",
        "        batch_size = trg.shape[1]\n",
        "        trg_len = trg.shape[0]\n",
        "        trg_vocab_size = self.decoder.output_dim\n",
        "        \n",
        "        #tensor to store decoder outputs\n",
        "        outputs = torch.zeros(trg_len, batch_size, trg_vocab_size).to(self.device)\n",
        "        \n",
        "        #last hidden state of the encoder is the context\n",
        "        context = self.encoder(src)\n",
        "        \n",
        "        #context also used as the initial hidden state of the decoder\n",
        "        hidden = context\n",
        "        \n",
        "        #first input to the decoder is the <sos> tokens\n",
        "        input = trg[0,:]\n",
        "        \n",
        "        for t in range(1, trg_len):\n",
        "            \n",
        "            #insert input token embedding, previous hidden state and the context state\n",
        "            #receive output tensor (predictions) and new hidden state\n",
        "            output, hidden = self.decoder(input, hidden, context)\n",
        "            \n",
        "            #place predictions in a tensor holding predictions for each token\n",
        "            outputs[t] = output\n",
        "            \n",
        "            #decide if we are going to use teacher forcing or not\n",
        "            teacher_force = random.random() < teacher_forcing_ratio\n",
        "            \n",
        "            #get the highest predicted token from our predictions\n",
        "            top1 = output.argmax(1) \n",
        "            \n",
        "            #if teacher forcing, use actual next token as next input\n",
        "            #if not, use predicted token\n",
        "            input = trg[t] if teacher_force else top1\n",
        "\n",
        "        return outputs"
      ],
      "execution_count": 35,
      "outputs": []
    },
    {
      "cell_type": "code",
      "metadata": {
        "id": "n9KLZICEYcZ5"
      },
      "source": [
        "INPUT_DIM = len(question.vocab)\n",
        "OUTPUT_DIM = len(answer.vocab)\n",
        "ENC_EMB_DIM = 256\n",
        "DEC_EMB_DIM = 256\n",
        "HID_DIM = 512\n",
        "ENC_DROPOUT = 0.5\n",
        "DEC_DROPOUT = 0.5\n",
        "\n",
        "enc = Encoder(INPUT_DIM, ENC_EMB_DIM, HID_DIM, ENC_DROPOUT)\n",
        "dec = Decoder(OUTPUT_DIM, DEC_EMB_DIM, HID_DIM, DEC_DROPOUT)\n",
        "\n",
        "device = torch.device('cuda' if torch.cuda.is_available() else 'cpu')\n",
        "\n",
        "model = Seq2Seq(enc, dec, device).to(device)"
      ],
      "execution_count": 36,
      "outputs": []
    },
    {
      "cell_type": "code",
      "metadata": {
        "id": "tvCMSJupbOH1",
        "colab": {
          "base_uri": "https://localhost:8080/"
        },
        "outputId": "00564d01-5d1c-4a09-e8b8-ae01e1d02521"
      },
      "source": [
        "print(INPUT_DIM)\n",
        "print(OUTPUT_DIM)"
      ],
      "execution_count": 37,
      "outputs": [
        {
          "output_type": "stream",
          "text": [
            "25004\n",
            "13002\n"
          ],
          "name": "stdout"
        }
      ]
    },
    {
      "cell_type": "code",
      "metadata": {
        "id": "50E3KFBHYj-i",
        "colab": {
          "base_uri": "https://localhost:8080/"
        },
        "outputId": "6f701bd1-1cb7-428a-f781-566078ba9d30"
      },
      "source": [
        "def init_weights(m):\n",
        "    for name, param in m.named_parameters():\n",
        "        nn.init.normal_(param.data, mean=0, std=0.01)\n",
        "        \n",
        "model.apply(init_weights)"
      ],
      "execution_count": 38,
      "outputs": [
        {
          "output_type": "execute_result",
          "data": {
            "text/plain": [
              "Seq2Seq(\n",
              "  (encoder): Encoder(\n",
              "    (embedding): Embedding(25004, 256)\n",
              "    (rnn): GRU(256, 512)\n",
              "    (dropout): Dropout(p=0.5, inplace=False)\n",
              "  )\n",
              "  (decoder): Decoder(\n",
              "    (embedding): Embedding(13002, 256)\n",
              "    (rnn): GRU(768, 512)\n",
              "    (fc_out): Linear(in_features=1280, out_features=13002, bias=True)\n",
              "    (dropout): Dropout(p=0.5, inplace=False)\n",
              "  )\n",
              ")"
            ]
          },
          "metadata": {
            "tags": []
          },
          "execution_count": 38
        }
      ]
    },
    {
      "cell_type": "markdown",
      "metadata": {
        "id": "LrmMUcFWX6P8"
      },
      "source": [
        "### Model Training and Evaluation"
      ]
    },
    {
      "cell_type": "code",
      "metadata": {
        "id": "L2caqUQdYxyp"
      },
      "source": [
        "optimizer = optim.Adam(model.parameters())"
      ],
      "execution_count": 39,
      "outputs": []
    },
    {
      "cell_type": "code",
      "metadata": {
        "id": "VMKMMqoiY26g"
      },
      "source": [
        "TRG_PAD_IDX = answer.vocab.stoi[answer.pad_token]\n",
        "\n",
        "criterion = nn.CrossEntropyLoss(ignore_index = TRG_PAD_IDX)"
      ],
      "execution_count": 40,
      "outputs": []
    },
    {
      "cell_type": "markdown",
      "metadata": {
        "id": "PoH4mrKYX78x"
      },
      "source": [
        "#### Training loop"
      ]
    },
    {
      "cell_type": "code",
      "metadata": {
        "id": "FeduKImkY43G"
      },
      "source": [
        "def train(model, iterator, optimizer, criterion, clip):\n",
        "    \n",
        "    model.train()\n",
        "    \n",
        "    epoch_loss = 0\n",
        "    \n",
        "    for i, batch in enumerate(iterator):\n",
        "        \n",
        "        src = batch.questions\n",
        "        trg = batch.answers\n",
        "              \n",
        "        optimizer.zero_grad()\n",
        "        \n",
        "        output = model(src, trg)\n",
        "        \n",
        "        #trg = [trg len, batch size]\n",
        "        #output = [trg len, batch size, output dim]\n",
        "        \n",
        "        output_dim = output.shape[-1]\n",
        "        \n",
        "        output = output[1:].view(-1, output_dim)\n",
        "        trg = trg[1:].view(-1)\n",
        "        \n",
        "        #trg = [(trg len - 1) * batch size]\n",
        "        #output = [(trg len - 1) * batch size, output dim]\n",
        "        \n",
        "        loss = criterion(output, trg)\n",
        "        \n",
        "        loss.backward()\n",
        "        \n",
        "        torch.nn.utils.clip_grad_norm_(model.parameters(), clip)\n",
        "        \n",
        "        optimizer.step()\n",
        "        \n",
        "        epoch_loss += loss.item()\n",
        "        \n",
        "    return epoch_loss / len(iterator)"
      ],
      "execution_count": 41,
      "outputs": []
    },
    {
      "cell_type": "markdown",
      "metadata": {
        "id": "_ltk3fTiX_Kw"
      },
      "source": [
        "#### Evaluation loop"
      ]
    },
    {
      "cell_type": "code",
      "metadata": {
        "id": "58VPTPGgZOSF"
      },
      "source": [
        "def evaluate(model, iterator, criterion):\n",
        "    \n",
        "    model.eval()\n",
        "    \n",
        "    epoch_loss = 0\n",
        "    \n",
        "    with torch.no_grad():\n",
        "    \n",
        "        for i, batch in enumerate(iterator):\n",
        "\n",
        "            src = batch.questions\n",
        "            trg = batch.answers\n",
        "\n",
        "            output = model(src, trg, 0) #turn off teacher forcing\n",
        "\n",
        "            #trg = [trg len, batch size]\n",
        "            #output = [trg len, batch size, output dim]\n",
        "\n",
        "            output_dim = output.shape[-1]\n",
        "            \n",
        "            output = output[1:].view(-1, output_dim)\n",
        "            trg = trg[1:].view(-1)\n",
        "\n",
        "            #trg = [(trg len - 1) * batch size]\n",
        "            #output = [(trg len - 1) * batch size, output dim]\n",
        "\n",
        "            loss = criterion(output, trg)\n",
        "\n",
        "            epoch_loss += loss.item()\n",
        "        \n",
        "    return epoch_loss / len(iterator)"
      ],
      "execution_count": 42,
      "outputs": []
    },
    {
      "cell_type": "code",
      "metadata": {
        "id": "SnVLQiArZWtH"
      },
      "source": [
        "def epoch_time(start_time, end_time):\n",
        "    elapsed_time = end_time - start_time\n",
        "    elapsed_mins = int(elapsed_time / 60)\n",
        "    elapsed_secs = int(elapsed_time - (elapsed_mins * 60))\n",
        "    return elapsed_mins, elapsed_secs"
      ],
      "execution_count": 43,
      "outputs": []
    },
    {
      "cell_type": "markdown",
      "metadata": {
        "id": "yNM54uj3YLij"
      },
      "source": [
        "### Model training and Evaluation"
      ]
    },
    {
      "cell_type": "code",
      "metadata": {
        "id": "-pF7Blh6ZZfg",
        "colab": {
          "base_uri": "https://localhost:8080/"
        },
        "outputId": "4e75e64a-3e6d-4e8b-e771-24c124062426"
      },
      "source": [
        "N_EPOCHS = 10\n",
        "CLIP = 1\n",
        "\n",
        "best_test_loss = float('inf')\n",
        "\n",
        "for epoch in range(N_EPOCHS):\n",
        "    \n",
        "    start_time = time.time()\n",
        "    \n",
        "    train_loss = train(model, train_iterator, optimizer, criterion, CLIP)\n",
        "    test_loss = evaluate(model, test_iterator, criterion)\n",
        "    \n",
        "    end_time = time.time()\n",
        "    \n",
        "    epoch_mins, epoch_secs = epoch_time(start_time, end_time)\n",
        "    \n",
        "    if test_loss < best_test_loss:\n",
        "        best_test_loss = test_loss\n",
        "        torch.save(model.state_dict(), 'tut2-model.pt')\n",
        "    \n",
        "    print(f'Epoch: {epoch+1:02} | Time: {epoch_mins}m {epoch_secs}s')\n",
        "    print(f'\\tTrain Loss: {train_loss:.3f} | Train PPL: {math.exp(train_loss):7.3f}')\n",
        "    print(f'\\t Val. Loss: {test_loss:.3f} |  Val. PPL: {math.exp(test_loss):7.3f}')"
      ],
      "execution_count": 44,
      "outputs": [
        {
          "output_type": "stream",
          "text": [
            "Epoch: 01 | Time: 12m 39s\n",
            "\tTrain Loss: 5.457 | Train PPL: 234.375\n",
            "\t Val. Loss: 5.202 |  Val. PPL: 181.608\n",
            "Epoch: 02 | Time: 12m 38s\n",
            "\tTrain Loss: 5.130 | Train PPL: 168.990\n",
            "\t Val. Loss: 5.196 |  Val. PPL: 180.464\n",
            "Epoch: 03 | Time: 12m 41s\n",
            "\tTrain Loss: 4.997 | Train PPL: 147.912\n",
            "\t Val. Loss: 5.194 |  Val. PPL: 180.139\n",
            "Epoch: 04 | Time: 12m 46s\n",
            "\tTrain Loss: 4.816 | Train PPL: 123.454\n",
            "\t Val. Loss: 4.881 |  Val. PPL: 131.808\n",
            "Epoch: 05 | Time: 12m 49s\n",
            "\tTrain Loss: 4.483 | Train PPL:  88.493\n",
            "\t Val. Loss: 4.732 |  Val. PPL: 113.493\n",
            "Epoch: 06 | Time: 12m 44s\n",
            "\tTrain Loss: 4.258 | Train PPL:  70.694\n",
            "\t Val. Loss: 4.684 |  Val. PPL: 108.238\n",
            "Epoch: 07 | Time: 12m 43s\n",
            "\tTrain Loss: 4.077 | Train PPL:  58.965\n",
            "\t Val. Loss: 4.644 |  Val. PPL: 103.951\n",
            "Epoch: 08 | Time: 12m 46s\n",
            "\tTrain Loss: 3.912 | Train PPL:  50.023\n",
            "\t Val. Loss: 4.637 |  Val. PPL: 103.183\n",
            "Epoch: 09 | Time: 12m 39s\n",
            "\tTrain Loss: 3.754 | Train PPL:  42.674\n",
            "\t Val. Loss: 4.637 |  Val. PPL: 103.266\n",
            "Epoch: 10 | Time: 12m 46s\n",
            "\tTrain Loss: 3.585 | Train PPL:  36.046\n",
            "\t Val. Loss: 4.647 |  Val. PPL: 104.298\n"
          ],
          "name": "stdout"
        }
      ]
    },
    {
      "cell_type": "code",
      "metadata": {
        "id": "Lomh5KdPTIZc"
      },
      "source": [
        ""
      ],
      "execution_count": null,
      "outputs": []
    }
  ]
}