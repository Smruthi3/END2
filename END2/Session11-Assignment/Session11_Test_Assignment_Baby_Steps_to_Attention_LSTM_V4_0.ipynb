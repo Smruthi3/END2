{
  "nbformat": 4,
  "nbformat_minor": 0,
  "metadata": {
    "colab": {
      "name": "Session11_Test_Assignment_Baby_Steps_to_Attention_LSTM_V4.0.ipynb",
      "provenance": [],
      "collapsed_sections": [],
      "machine_shape": "hm",
      "include_colab_link": true
    },
    "kernelspec": {
      "name": "python3",
      "display_name": "Python 3"
    },
    "language_info": {
      "name": "python"
    }
  },
  "cells": [
    {
      "cell_type": "markdown",
      "metadata": {
        "id": "view-in-github",
        "colab_type": "text"
      },
      "source": [
        "<a href=\"https://colab.research.google.com/github/Smruthi3/END2/blob/main/END2/Session11-Assignment/Session11_Test_Assignment_Baby_Steps_to_Attention_LSTM_V4_0.ipynb\" target=\"_parent\"><img src=\"https://colab.research.google.com/assets/colab-badge.svg\" alt=\"Open In Colab\"/></a>"
      ]
    },
    {
      "cell_type": "markdown",
      "metadata": {
        "id": "uHz1qy1bdGeS"
      },
      "source": [
        "# Sequence to Sequence and Attention Mechanism\n",
        "\n",
        "In this code we'll we will dig much deeper and try and come up with the model ourselves. We will see the steps required to do so. \n",
        "\n",
        "For the actual model refer to [this](https://colab.research.google.com/drive/1yyQw39zVJOHtJSivjJICR4AlH4U8JwQf?usp=sharing) colab link. \n",
        "\n",
        "The part we are going to borrow from the code above is the data-preprocessing as that is straight forward. "
      ]
    },
    {
      "cell_type": "code",
      "metadata": {
        "colab": {
          "base_uri": "https://localhost:8080/"
        },
        "id": "j4wolA2hcrGF",
        "outputId": "7a6068c5-35cd-42a8-f9c4-dee09dd3c4c2"
      },
      "source": [
        "%matplotlib inline\n",
        "\n",
        "from __future__ import unicode_literals, print_function, division\n",
        "from io import open\n",
        "import unicodedata\n",
        "import string\n",
        "import re\n",
        "import random\n",
        "\n",
        "import torch\n",
        "import torch.nn as nn\n",
        "from torch import optim\n",
        "import torch.nn.functional as F\n",
        "\n",
        "device = torch.device(\"cuda\" if torch.cuda.is_available() else \"cpu\")\n",
        "\n",
        "!wget https://download.pytorch.org/tutorial/data.zip\n",
        "\n",
        "!unzip data.zip"
      ],
      "execution_count": null,
      "outputs": [
        {
          "output_type": "stream",
          "text": [
            "--2021-07-24 14:58:34--  https://download.pytorch.org/tutorial/data.zip\n",
            "Resolving download.pytorch.org (download.pytorch.org)... 13.226.52.36, 13.226.52.51, 13.226.52.90, ...\n",
            "Connecting to download.pytorch.org (download.pytorch.org)|13.226.52.36|:443... connected.\n",
            "HTTP request sent, awaiting response... 200 OK\n",
            "Length: 2882130 (2.7M) [application/zip]\n",
            "Saving to: ‘data.zip’\n",
            "\n",
            "data.zip            100%[===================>]   2.75M  16.7MB/s    in 0.2s    \n",
            "\n",
            "2021-07-24 14:58:34 (16.7 MB/s) - ‘data.zip’ saved [2882130/2882130]\n",
            "\n",
            "Archive:  data.zip\n",
            "   creating: data/\n",
            "  inflating: data/eng-fra.txt        \n",
            "   creating: data/names/\n",
            "  inflating: data/names/Arabic.txt   \n",
            "  inflating: data/names/Chinese.txt  \n",
            "  inflating: data/names/Czech.txt    \n",
            "  inflating: data/names/Dutch.txt    \n",
            "  inflating: data/names/English.txt  \n",
            "  inflating: data/names/French.txt   \n",
            "  inflating: data/names/German.txt   \n",
            "  inflating: data/names/Greek.txt    \n",
            "  inflating: data/names/Irish.txt    \n",
            "  inflating: data/names/Italian.txt  \n",
            "  inflating: data/names/Japanese.txt  \n",
            "  inflating: data/names/Korean.txt   \n",
            "  inflating: data/names/Polish.txt   \n",
            "  inflating: data/names/Portuguese.txt  \n",
            "  inflating: data/names/Russian.txt  \n",
            "  inflating: data/names/Scottish.txt  \n",
            "  inflating: data/names/Spanish.txt  \n",
            "  inflating: data/names/Vietnamese.txt  \n"
          ],
          "name": "stdout"
        }
      ]
    },
    {
      "cell_type": "code",
      "metadata": {
        "colab": {
          "base_uri": "https://localhost:8080/"
        },
        "id": "kOvRiBM1dmNf",
        "outputId": "ed73af67-beec-49f2-8464-015897d9326f"
      },
      "source": [
        "SOS_token = 0\n",
        "EOS_token = 1\n",
        "\n",
        "\n",
        "class Lang:\n",
        "    def __init__(self, name):\n",
        "        self.name = name\n",
        "        self.word2index = {}\n",
        "        self.word2count = {}\n",
        "        self.index2word = {0: \"SOS\", 1: \"EOS\"}\n",
        "        self.n_words = 2  # Count SOS and EOS\n",
        "\n",
        "    def addSentence(self, sentence):\n",
        "        for word in sentence.split(' '):\n",
        "            self.addWord(word)\n",
        "\n",
        "    def addWord(self, word):\n",
        "        if word not in self.word2index:\n",
        "            self.word2index[word] = self.n_words\n",
        "            self.word2count[word] = 1\n",
        "            self.index2word[self.n_words] = word\n",
        "            self.n_words += 1\n",
        "        else:\n",
        "            self.word2count[word] += 1\n",
        "\n",
        "# Turn a Unicode string to plain ASCII, thanks to\n",
        "# https://stackoverflow.com/a/518232/2809427\n",
        "def unicodeToAscii(s):\n",
        "    return ''.join(\n",
        "        c for c in unicodedata.normalize('NFD', s)\n",
        "        if unicodedata.category(c) != 'Mn'\n",
        "    )\n",
        "\n",
        "# Lowercase, trim, and remove non-letter characters\n",
        "\n",
        "\n",
        "def normalizeString(s):\n",
        "    s = unicodeToAscii(s.lower().strip())\n",
        "    s = re.sub(r\"([.!?])\", r\" \\1\", s)\n",
        "    s = re.sub(r\"[^a-zA-Z.!?]+\", r\" \", s)\n",
        "    return s\n",
        "\n",
        "def readLangs(lang1, lang2, reverse=False):\n",
        "    print(\"Reading lines...\")\n",
        "\n",
        "    # Read the file and split into lines\n",
        "    lines = open('data/%s-%s.txt' % (lang1, lang2), encoding='utf-8').\\\n",
        "        read().strip().split('\\n')\n",
        "\n",
        "    # Split every line into pairs and normalize\n",
        "    pairs = [[normalizeString(s) for s in l.split('\\t')] for l in lines]\n",
        "\n",
        "    # Reverse pairs, make Lang instances\n",
        "    if reverse:\n",
        "        pairs = [list(reversed(p)) for p in pairs]\n",
        "        input_lang = Lang(lang2)\n",
        "        output_lang = Lang(lang1)\n",
        "    else:\n",
        "        input_lang = Lang(lang1)\n",
        "        output_lang = Lang(lang2)\n",
        "\n",
        "    return input_lang, output_lang, pairs\n",
        "\n",
        "\n",
        "MAX_LENGTH = 10\n",
        "\n",
        "eng_prefixes = (\n",
        "    \"i am \", \"i m \",\n",
        "    \"he is\", \"he s \",\n",
        "    \"she is\", \"she s \",\n",
        "    \"you are\", \"you re \",\n",
        "    \"we are\", \"we re \",\n",
        "    \"they are\", \"they re \"\n",
        ")\n",
        "\n",
        "\n",
        "def filterPair(p):\n",
        "    return len(p[0].split(' ')) < MAX_LENGTH and \\\n",
        "        len(p[1].split(' ')) < MAX_LENGTH and \\\n",
        "        p[1].startswith(eng_prefixes)\n",
        "\n",
        "\n",
        "def filterPairs(pairs):\n",
        "    return [pair for pair in pairs if filterPair(pair)]\n",
        "\n",
        "\n",
        "def prepareData(lang1, lang2, reverse=False):\n",
        "    input_lang, output_lang, pairs = readLangs(lang1, lang2, reverse)\n",
        "    print(\"Read %s sentence pairs\" % len(pairs))\n",
        "    pairs = filterPairs(pairs)\n",
        "    print(\"Trimmed to %s sentence pairs\" % len(pairs))\n",
        "    print(\"Counting words...\")\n",
        "    for pair in pairs:\n",
        "        input_lang.addSentence(pair[0])\n",
        "        output_lang.addSentence(pair[1])\n",
        "    print(\"Counted words:\")\n",
        "    print(input_lang.name, input_lang.n_words)\n",
        "    print(output_lang.name, output_lang.n_words)\n",
        "    return input_lang, output_lang, pairs\n",
        "\n",
        "\n",
        "input_lang, output_lang, pairs = prepareData('eng', 'fra', True)\n",
        "print(random.choice(pairs))"
      ],
      "execution_count": null,
      "outputs": [
        {
          "output_type": "stream",
          "text": [
            "Reading lines...\n",
            "Read 135842 sentence pairs\n",
            "Trimmed to 10599 sentence pairs\n",
            "Counting words...\n",
            "Counted words:\n",
            "fra 4345\n",
            "eng 2803\n",
            "['tu me decois vraiment .', 'i m very disappointed in you .']\n"
          ],
          "name": "stdout"
        }
      ]
    },
    {
      "cell_type": "markdown",
      "metadata": {
        "id": "9Mb7aOPld6ET"
      },
      "source": [
        "After all of these steps, our data is ready. Let's explore it a bit"
      ]
    },
    {
      "cell_type": "code",
      "metadata": {
        "colab": {
          "base_uri": "https://localhost:8080/"
        },
        "id": "1Vwlh_8Id00Q",
        "outputId": "f16aeedc-3459-4868-c55e-b6d7a068d073"
      },
      "source": [
        "type(pairs)"
      ],
      "execution_count": null,
      "outputs": [
        {
          "output_type": "execute_result",
          "data": {
            "text/plain": [
              "list"
            ]
          },
          "metadata": {
            "tags": []
          },
          "execution_count": 3
        }
      ]
    },
    {
      "cell_type": "code",
      "metadata": {
        "colab": {
          "base_uri": "https://localhost:8080/"
        },
        "id": "pY4XuElfd9kl",
        "outputId": "018e7304-07e2-41a8-95bd-66945aad87c4"
      },
      "source": [
        "pairs[0:5]"
      ],
      "execution_count": null,
      "outputs": [
        {
          "output_type": "execute_result",
          "data": {
            "text/plain": [
              "[['j ai ans .', 'i m .'],\n",
              " ['je vais bien .', 'i m ok .'],\n",
              " ['ca va .', 'i m ok .'],\n",
              " ['je suis gras .', 'i m fat .'],\n",
              " ['je suis gros .', 'i m fat .']]"
            ]
          },
          "metadata": {
            "tags": []
          },
          "execution_count": 4
        }
      ]
    },
    {
      "cell_type": "markdown",
      "metadata": {
        "id": "gbH-jlZKeRI7"
      },
      "source": [
        "Cool, so our data is actually a list of list, and each innter list element consists of fra to eng translation. \n",
        "\n",
        "# The architecture we are building\n",
        "\n",
        "![image](https://miro.medium.com/max/1838/1*tXchCn0hBSUau3WO0ViD7w.jpeg)\n",
        "\n",
        "As we can see here, we will have an encoder, an attention mechanism block and decoder. In the final code the attention mechanicm block and decoder will be merged into single block as we need both to work together. \n",
        "\n",
        "As we can see here, we need to create a copy of h1, h2, h3 and h4. These are encoder outputs for a sentence with 4 words. \n",
        "\n",
        "# Encoder\n",
        "\n",
        "We will build our encoder with a LSTM, but that's all we know. Let's NOT strait away build a class, but see how to come up with one for the Encoder. We need to answer few questions first:\n",
        "1. what would be the hidden size of our LSTM\n",
        "2. What would be the input size\n",
        "3. What would be the embedding dimesions. \n",
        "\n",
        "For simplicity, lets keep 1. and 3. to be 256. \n",
        "\n",
        "We can't feed our input directly to LSTM, we need to tensorize it, convert to embeddings first. \n",
        "\n",
        "`embedding = nn.Embedding(input_size, hidden_size) `\n",
        "\n",
        "## What is input_size?\n",
        "\n",
        "Remember the line below?\n",
        "\n",
        "`input_lang, output_lang, pairs = prepareData('eng', 'fra', True)`"
      ]
    },
    {
      "cell_type": "code",
      "metadata": {
        "colab": {
          "base_uri": "https://localhost:8080/"
        },
        "id": "_hlEJhN6eCFW",
        "outputId": "abd313b8-4426-4b79-d32e-6659b85ab9f4"
      },
      "source": [
        "input_lang"
      ],
      "execution_count": null,
      "outputs": [
        {
          "output_type": "execute_result",
          "data": {
            "text/plain": [
              "<__main__.Lang at 0x7f436b48b610>"
            ]
          },
          "metadata": {
            "tags": []
          },
          "execution_count": 5
        }
      ]
    },
    {
      "cell_type": "markdown",
      "metadata": {
        "id": "iwI5jyQGhE4N"
      },
      "source": [
        "Well that doesn't give us much. Let's dig into what it is. "
      ]
    },
    {
      "cell_type": "code",
      "metadata": {
        "colab": {
          "base_uri": "https://localhost:8080/"
        },
        "id": "Fj-cHSHigpE7",
        "outputId": "8e05373b-c7b4-469d-cba7-b34bb18f0d96"
      },
      "source": [
        "help(input_lang)"
      ],
      "execution_count": null,
      "outputs": [
        {
          "output_type": "stream",
          "text": [
            "Help on Lang in module __main__ object:\n",
            "\n",
            "class Lang(builtins.object)\n",
            " |  Lang(name)\n",
            " |  \n",
            " |  Methods defined here:\n",
            " |  \n",
            " |  __init__(self, name)\n",
            " |      Initialize self.  See help(type(self)) for accurate signature.\n",
            " |  \n",
            " |  addSentence(self, sentence)\n",
            " |  \n",
            " |  addWord(self, word)\n",
            " |  \n",
            " |  ----------------------------------------------------------------------\n",
            " |  Data descriptors defined here:\n",
            " |  \n",
            " |  __dict__\n",
            " |      dictionary for instance variables (if defined)\n",
            " |  \n",
            " |  __weakref__\n",
            " |      list of weak references to the object (if defined)\n",
            "\n"
          ],
          "name": "stdout"
        }
      ]
    },
    {
      "cell_type": "code",
      "metadata": {
        "colab": {
          "base_uri": "https://localhost:8080/"
        },
        "id": "IA-BzE8ShLy1",
        "outputId": "a001daa1-4bcb-4fc3-fcaa-ed94fc1d6a50"
      },
      "source": [
        "input_lang.__dict__.items()"
      ],
      "execution_count": null,
      "outputs": [
        {
          "output_type": "execute_result",
          "data": {
            "text/plain": [
              "dict_items([('name', 'fra'), ('word2index', {'j': 2, 'ai': 3, 'ans': 4, '.': 5, 'je': 6, 'vais': 7, 'bien': 8, 'ca': 9, 'va': 10, 'suis': 11, 'gras': 12, 'gros': 13, 'en': 14, 'forme': 15, 'touche': 16, '!': 17, 'touchee': 18, 'malade': 19, 'triste': 20, 'timide': 21, 'mouille': 22, 'mouillee': 23, 'il': 24, 'est': 25, 'revenu': 26, 'me': 27, 'revoila': 28, 'chauve': 29, 'occupe': 30, 'occupee': 31, 'calme': 32, 'froid': 33, 'fini': 34, 'tout': 35, 'libre': 36, 'disponible': 37, 'repu': 38, 'rassasie': 39, 'content': 40, 'chez': 41, 'moi': 42, 'retard': 43, 'paresseux': 44, 'faineant': 45, 'paresseuse': 46, 'faineante': 47, 'porte': 48, 'securite': 49, 'certain': 50, 'sur': 51, 'sure': 52, 'grande': 53, 'mince': 54, 'ordonne': 55, 'ordonnee': 56, 'laid': 57, 'laide': 58, 'faible': 59, 'vieux': 60, 'dj': 61, 'bon': 62, 'riche': 63, 'ici': 64, 'flic': 65, 'un': 66, 'homme': 67, 'seule': 68, 'seul': 69, 'arme': 70, 'armee': 71, 'reveille': 72, 'aveugle': 73, 'fauche': 74, 'fou': 75, 'folle': 76, 'gueri': 77, 'guerie': 78, 'saoul': 79, 'soul': 80, 'ivre': 81, 'meurs': 82, 'avance': 83, 'premier': 84, 'difficile': 85, 'tatillon': 86, 'tatillonne': 87, 'pars': 88, 'maintenant': 89, 'tire': 90, 'y': 91, 'loyal': 92, 'loyale': 93, 'veinard': 94, 'veinarde': 95, 'du': 96, 'pot': 97, 'chanceux': 98, 'chanceuse': 99, 'train': 100, 'de': 101, 'mentir': 102, 'tranquille': 103, 'prete': 104, 'pret': 105, 'raison': 106, 'sobre': 107, 'excuse': 108, 'desole': 109, 'desolee': 110, 'coincee': 111, 'fatigue': 112, 'dur': 113, 'dure': 114, 'a': 115, 'cuire': 116, 'toi': 117, 'vous': 118, 'elle': 119, 'chaude': 120, 'tres': 121, 'attirante': 122, 'nous': 123, 'avons': 124, 'chaud': 125, 'sommes': 126, 'tristes': 127, 'timides': 128, 'faire': 129, 'gentil': 130, 'pauvre': 131, 'suisse': 132, 'helvete': 133, 'ruine': 134, 'intelligent': 135, 'humain': 136, 'creve': 137, 'francais': 138, 'coreen': 139, 'heros': 140, 'menteur': 141, 'cuis': 142, 'mieux': 143, 'paie': 144, 'c': 145, 'qui': 146, 'grassouillet': 147, 'grassouillette': 148, 'mange': 149, 'connu': 150, 'connue': 151, 'plus': 152, 'rapide': 153, 'flasque': 154, 'cupide': 155, 'gourmand': 156, 'gourmande': 157, 'cache': 158, 'honnete': 159, 'humble': 160, 'faim': 161, 'immunise': 162, 'immunisee': 163, 'au': 164, 'lit': 165, 'alite': 166, 'alitee': 167, 'rigole': 168, 'sens': 169, 'perdre': 170, 'demenager': 171, 'normal': 172, 'normale': 173, 'payer': 174, 'repose': 175, 'reposee': 176, 'ruinee': 177, 'remue': 178, 'remuee': 179, 'celibataire': 180, 'maigrichon': 181, 'maigrichonne': 182, 'sommeil': 183, 'sournois': 184, 'sournoise': 185, 'strict': 186, 'stricte': 187, 'fort': 188, 'forte': 189, 'trente': 190, 'affaiblie': 191, 'vieille': 192, 'gentille': 193, 'des': 194, 'hommes': 195, 'retour': 196, 'occupes': 197, 'occupees': 198, 'termine': 199, 'quittes': 200, 'allons': 201, 'la': 202, 'perdus': 203, 'perdues': 204, 'riches': 205, 'on': 206, 'foutu': 207, 'foutus': 208, 'faibles': 209, 'tu': 210, 'es': 211, 'vilain': 212, 'grand': 213, 'etes': 214, 'grands': 215, 'grandes': 216, 't': 217, 'marrante': 218, 'marrant': 219, 'vieilles': 220, 'huit': 221, 'hai': 222, 'mechant': 223, 'jeune': 224, 'beau': 225, 'mec': 226, 'gosse': 227, 'type': 228, 'binoclard': 229, 'flemmard': 230, 'endormi': 231, 'arrive': 232, 'd': 233, 'arriver': 234, 'pleurer': 235, 'simule': 236, 'blinde': 237, 'pete': 238, 'thune': 239, 'plein': 240, 'aux': 241, 'as': 242, 'mon': 243, 'age': 244, 'n': 245, 'pas': 246, 'lui': 247, 'l': 248, 'interieur': 249, 'cuisinier': 250, 'moine': 251, 'plaisante': 252, 'egalement': 253, 'dix': 254, 'sept': 255, 'finlandais': 256, 'finlandaise': 257, 'italien': 258, 'boulanger': 259, 'boulangere': 260, 'fait': 261, 'honte': 262, 'maison': 263, 'dans': 264, 'perplexe': 265, 'beni': 266, 'benie': 267, 'prudent': 268, 'prudente': 269, 'les': 270, 'foies': 271, 'chocottes': 272, 'curieux': 273, 'curieuse': 274, 'danser': 275, 'regime': 276, 'conduire': 277, 'conduis': 278, 'fiance': 279, 'fiancee': 280, 'excite': 281, 'excitee': 282, 'fais': 283, 'diete': 284, 'meticuleux': 285, 'meticuleuse': 286, 'affole': 287, 'affolee': 288, 'furieux': 289, 'bonne': 290, 'sante': 291, 'fredonne': 292, 'jalouse': 293, 'frousse': 294, 'marie': 295, 'mariee': 296, 'ne': 297, 'une': 298, 'idiote': 299, 'service': 300, 'patiente': 301, 'patient': 302, 'populaire': 303, 'remonte': 304, 'voyant': 305, 'voyante': 306, 'lis': 307, 'detendu': 308, 'detendue': 309, 'retraite': 310, 'retraitee': 311, 'pensionne': 312, 'pensionnee': 313, 'egoiste': 314, 'serieux': 315, 'choque': 316, 'choquee': 317, 'sincere': 318, 'bourre': 319, 'bourree': 320, 'tellement': 321, 'estomac': 322, 'talons': 323, 'dalle': 324, 'crocs': 325, 'reste': 326, 'gave': 327, 'gavee': 328, 'sidere': 329, 'sideree': 330, 'discuter': 331, 'taquine': 332, 'soif': 333, 'trop': 334, 'mecontent': 335, 'mecontente': 336, 'schcoumoune': 337, 'fortune': 338, 'fortunee': 339, 'gagne': 340, 'emporte': 341, 'travailler': 342, 'souci': 343, 'charme': 344, 'morte': 345, 'enfoiree': 346, 'renard': 347, 'ils': 348, 'sont': 349, 'mauvais': 350, 'elles': 351, 'mauvaises': 352, 'egalite': 353, 'seuls': 354, 'seules': 355, 'colere': 356, 'armes': 357, 'armees': 358, 'ennuyons': 359, 's': 360, 'emmerde': 361, 'fauches': 362, 'fauchees': 363, 'mourir': 364, 'heureux': 365, 'pretes': 366, 'sauves': 367, 'sauvees': 368, 'intelligents': 369, 'intelligentes': 370, 'desoles': 371, 'desolees': 372, 'coinces': 373, 'coincees': 374, 'fatigues': 375, 'fatiguees': 376, 'jumeaux': 377, 'jumelles': 378, 'sympa': 379, 'decontracte': 380, 'juste': 381, 'justes': 382, 'vas': 383, 'libres': 384, 'bons': 385, 'bonnes': 386, 'paresseuses': 387, 'perdu': 388, 'perdue': 389, 'sympas': 390, 'dingue': 391, 'dingues': 392, 'givre': 393, 'givree': 394, 'givres': 395, 'givrees': 396, 'grossier': 397, 'grossiers': 398, 'grossiere': 399, 'grossieres': 400, 'sauf': 401, 'saufs': 402, 'sauve': 403, 'minces': 404, 'poete': 405, 'excentrique': 406, 'manger': 407, 'heroique': 408, 'anglais': 409, 'bigot': 410, 'sectaire': 411, 'fanatique': 412, 'illumine': 413, 'souffre': 414, 'actuellement': 415, 'exterieur': 416, 'si': 417, 'mignon': 418, 'couard': 419, 'lache': 420, 'medecin': 421, 'toubib': 422, 'fermier': 423, 'agriculteur': 424, 'travaille': 425, 'ma': 426, 'ferme': 427, 'puriste': 428, 'drogue': 429, 'accro': 430, 'assuetude': 431, 'ouie': 432, 'adulte': 433, 'agent': 434, 'saigner': 435, 'melange': 436, 'pinceaux': 437, 'creatif': 438, 'creative': 439, 'cultive': 440, 'cultivee': 441, 'divorce': 442, 'divorcee': 443, 'noyer': 444, 'fidele': 445, 'affame': 446, 'intrepide': 447, 'bats': 448, 'gele': 449, 'cloue': 450, 'clouee': 451, 'credule': 452, 'le': 453, 'mal': 454, 'pays': 455, 'gueule': 456, 'bois': 457, 'paris': 458, 'innocent': 459, 'innocente': 460, 'ingenu': 461, 'ingenue': 462, 'implique': 463, 'impliquee': 464, 'm': 465, 'sors': 466, 'nouveau': 467, 'rebelle': 468, 'saint': 469, 'sainte': 470, 'sourd': 471, 'sourde': 472, 'abruti': 473, 'abrutie': 474, 'blesse': 475, 'blessee': 476, 'mechante': 477, 'certaine': 478, 'offense': 479, 'offensee': 480, 'indigne': 481, 'indignee': 482, 'puissant': 483, 'puissante': 484, 'preparee': 485, 'prepare': 486, 'ponctuel': 487, 'ponctuelle': 488, 'rationnel': 489, 'rationnelle': 490, 'amende': 491, 'amendee': 492, 'fiable': 493, 'tiens': 494, 'place': 495, 'impitoyable': 496, 'dormir': 497, 'las': 498, 'parler': 499, 'fringale': 500, 'tetu': 501, 'tetue': 502, 'obstine': 503, 'obstinee': 504, 'patron': 505, 'patronne': 506, 'reflechis': 507, 'minutieux': 508, 'minutieuse': 509, 'consciencieux': 510, 'consciencieuse': 511, 'ravi': 512, 'ravie': 513, 'chatouilleux': 514, 'chatouilleuse': 515, 'affaire': 516, 'affairee': 517, 'dis': 518, 'verite': 519, 'impartial': 520, 'impartiale': 521, 'dessus': 522, 'epuise': 523, 'chancarde': 524, 'tranchante': 525, 'affutee': 526, 'tort': 527, 'ce': 528, 'garcons': 529, 'froids': 530, 'froides': 531, 'flics': 532, 'mignons': 533, 'mignonnes': 534, 'decedes': 535, 'decedees': 536, 'ont': 537, 'partis': 538, 'parties': 539, 'miens': 540, 'miennes': 541, 'arabes': 542, 'equipe': 543, 'adultes': 544, 'tous': 545, 'guerre': 546, 'notre': 547, 'point': 548, 'vue': 549, 'biaise': 550, 'prejuges': 551, 'achetons': 552, 'fermes': 553, 'venons': 554, 'sortons': 555, 'ensemble': 556, 'condamnes': 557, 'cachons': 558, 'plaisantons': 559, 'perdons': 560, 'bouger': 561, 'normaux': 562, 'normales': 563, 'creves': 564, 'crevees': 565, 'ruines': 566, 'ruinees': 567, 'remues': 568, 'remuees': 569, 'sournoises': 570, 'forts': 571, 'fortes': 572, 'essayons': 573, 'joues': 574, 'chef': 575, 'cruelle': 576, 'cruel': 577, 'cruelles': 578, 'cruels': 579, 'viens': 580, 'tot': 581, 'matinal': 582, 'matinale': 583, 'vire': 584, 'licencie': 585, 'passes': 586, 'marrants': 587, 'marrantes': 588, 'manieres': 589, 'faites': 590, 'malpoli': 591, 'mens': 592, 'mentez': 593, 'lunatique': 594, 'naif': 595, 'naive': 596, 'naifs': 597, 'naives': 598, 'idiot': 599, 'idiots': 600, 'idiotes': 601, 'plante': 602, 'plantee': 603, 'plantes': 604, 'plantees': 605, 'durs': 606, 'dures': 607, 'contrariee': 608, 'contrarie': 609, 'bizarre': 610, 'bizarres': 611, 'erreur': 612, 'jeunes': 613, 'britannique': 614, 'voleur': 615, 'genre': 616, 'sorti': 617, 'lire': 618, 'court': 619, 'patin': 620, 'patine': 621, 'rouspeteur': 622, 'jesuite': 623, 'aine': 624, 'ancien': 625, 'magnat': 626, 'adorable': 627, 'derriere': 628, 'apres': 629, 'mes': 630, 'fesses': 631, 'poursuit': 632, 'embetant': 633, 'tokyo': 634, 'peu': 635, 'manque': 636, 'confiance': 637, 'sans': 638, 'pitie': 639, 'etudie': 640, 'etudier': 641, 'lent': 642, 'ton': 643, 'fils': 644, 'votre': 645, 'americain': 646, 'americaine': 647, 'japonais': 648, 'musulman': 649, 'musulmane': 650, 'coureur': 651, 'diabetique': 652, 'etudiant': 653, 'professeur': 654, 'enseignante': 655, 'adapte': 656, 'peur': 657, 'toute': 658, 'ambitieuse': 659, 'ambitieux': 660, 'artiste': 661, 'orphelin': 662, 'attentive': 663, 'attentif': 664, 'belle': 665, 'preoccupe': 666, 'preoccupee': 667, 'voila': 668, 'satisfait': 669, 'satisfaite': 670, 'convaincu': 671, 'deprime': 672, 'desespere': 673, 'desesperee': 674, 'differente': 675, 'degoute': 676, 'degoutee': 677, 'facile': 678, 'vivre': 679, 'epuisee': 680, 'vanne': 681, 'vannee': 682, 'fourbu': 683, 'crevee': 684, 'distrait': 685, 'distraite': 686, 'etourdi': 687, 'etourdie': 688, 'tom': 689, 'ur': 690, 'impatient': 691, 'impatiente': 692, 'important': 693, 'impressionnee': 694, 'impulsif': 695, 'impulsive': 696, 'boston': 697, 'danger': 698, 'intrigue': 699, 'intriguee': 700, 'cela': 701, 'ecoute': 702, 'motivee': 703, 'motive': 704, 'expert': 705, 'partie': 706, 'ses': 707, 'admirateurs': 708, 'leurs': 709, 'rends': 710, 'heureuse': 711, 'contente': 712, 'obese': 713, 'petite': 714, 'fatiguee': 715, 'observateur': 716, 'observatrice': 717, 'respectueux': 718, 'respectueuse': 719, 'chemin': 720, 'route': 721, 'desarme': 722, 'desarmee': 723, 'realiste': 724, 'eprouve': 725, 'ressentiment': 726, 'endurant': 727, 'endurante': 728, 'tenace': 729, 'non': 730, 'sensible': 731, 'surpris': 732, 'surprise': 733, 'survis': 734, 'terrifie': 735, 'terrifiee': 736, 'assure': 737, 'assuree': 738, 'vote': 739, 'tombe': 740, 'francaise': 741, 'jumelle': 742, 'active': 743, 'pleure': 744, 'beaute': 745, 'mannequin': 746, 'super': 747, 'asiatiques': 748, 'vie': 749, 'eveilles': 750, 'eveillees': 751, 'courageux': 752, 'courageuses': 753, 'yeux': 754, 'propres': 755, 'fous': 756, 'folles': 757, 'saouls': 758, 'saoules': 759, 'heureuses': 760, 'mentent': 761, 'petits': 762, 'petites': 763, 'espions': 764, 'espionnes': 765, 'formons': 766, 'groupe': 767, 'anxieux': 768, 'perplexes': 769, 'prudents': 770, 'prudentes': 771, 'certains': 772, 'certaines': 773, 'cousines': 774, 'fiances': 775, 'faisons': 776, 'amis': 777, 'amies': 778, 'aimons': 779, 'amoureux': 780, 'amoureuses': 781, 'veinards': 782, 'veinardes': 783, 'souffrons': 784, 'synchronises': 785, 'synchronisees': 786, 'ville': 787, 'jalouses': 788, 'maries': 789, 'detendus': 790, 'detendues': 791, 'serieuses': 792, 'choques': 793, 'choquees': 794, 'sinceres': 795, 'coulons': 796, 'couler': 797, 'bourres': 798, 'bourrees': 799, 'speciaux': 800, 'arret': 801, 'affames': 802, 'affamees': 803, 'restons': 804, 'gaves': 805, 'gavees': 806, 'sideres': 807, 'siderees': 808, 'touches': 809, 'touchees': 810, 'pieges': 811, 'piegees': 812, 'satisfaits': 813, 'satisfaites': 814, 'malchanceux': 815, 'malchanceuses': 816, 'inutiles': 817, 'attendre': 818, 'gagneurs': 819, 'gagner': 820, 'malin': 821, 'avez': 822, 'amour': 823, 'menteuse': 824, 'snob': 825, 'partiale': 826, 'partial': 827, 'ennuyez': 828, 'ennuies': 829, 'brillant': 830, 'brillante': 831, 'brillants': 832, 'brillantes': 833, 'maline': 834, 'malins': 835, 'malines': 836, 'ruse': 837, 'rusee': 838, 'ruses': 839, 'rusees': 840, 'astucieux': 841, 'astucieuse': 842, 'sinistre': 843, 'sinistres': 844, 'connus': 845, 'connues': 846, 'avide': 847, 'avides': 848, 'bougon': 849, 'bougonne': 850, 'grognon': 851, 'plaisantes': 852, 'plaisantez': 853, 'fric': 854, 'pleine': 855, 'drole': 856, 'jolie': 857, 'maigrichonnes': 858, 'maigrichons': 859, 'endormie': 860, 'endormis': 861, 'endormies': 862, 'injuste': 863, 'canadien': 864, 'genie': 865, 'ecrivain': 866, 'acteur': 867, 'faillite': 868, 'oncle': 869, 'ouvert': 870, 'sociable': 871, 'extraverti': 872, 'quelque': 873, 'joueur': 874, 'desormais': 875, 'planque': 876, 'auteur': 877, 'detenu': 878, 'hors': 879, 'loi': 880, 'harcele': 881, 'se': 882, 'trouve': 883, 'prison': 884, 'ami': 885, 'rend': 886, 'hongrois': 887, 'garcon': 888, 'touriste': 889, 'londres': 890, 'petrin': 891, 'endroit': 892, 'conge': 893, 'aujourd': 894, 'hui': 895, 'petit': 896, 'musicien': 897, 'musicienne': 898, 'quelqu': 899, 'vrai': 900, 'vendeur': 901, 'que': 902, 'crains': 903, 'contre': 904, 'maladroit': 905, 'vieil': 906, 'stupefait': 907, 'stupefaite': 908, 'utilise': 909, 'contagieux': 910, 'contagieuse': 911, 'mort': 912, 'deshydrate': 913, 'deshydratee': 914, 'peut': 915, 'compter': 916, 'aneanti': 917, 'aneantie': 918, 'bas': 919, 'entrainer': 920, 'vois': 921, 'loin': 922, 'fascine': 923, 'fascinee': 924, 'te': 925, 'kyoto': 926, 'retourne': 927, 'deviens': 928, 'aussi': 929, 'amuse': 930, 'analphabete': 931, 'voiture': 932, 'interesse': 933, 'interessee': 934, 'seulement': 935, 'simplement': 936, 'the': 937, 'mediter': 938, 'methodique': 939, 'baisse': 940, 'facilement': 941, 'bras': 942, 'abandonne': 943, 'amer': 944, 'amere': 945, 'grincheux': 946, 'grincheuse': 947, 'coupable': 948, 'blague': 949, 'raciste': 950, 'suffisamment': 951, 'vacances': 952, 'conges': 953, 'entre': 954, 'optimiste': 955, 'essence': 956, 'vraiment': 957, 'raisonnable': 958, 'reamenager': 959, 'quelle': 960, 'poisse': 961, 'toujours': 962, 'encore': 963, 'succes': 964, 'tueur': 965, 'deshabille': 966, 'devets': 967, 'chomage': 968, 'talent': 969, 'depourvu': 970, 'depourvue': 971, 'habitue': 972, 'accoutume': 973, 'habituee': 974, 'vegetarienne': 975, 'eveille': 976, 'eveillee': 977, 'infirmiere': 978, 'maladroite': 979, 'exprimer': 980, 'fille': 981, 'bombe': 982, 'canon': 983, 'ange': 984, 'enceinte': 985, 'attend': 986, 'evenement': 987, 'famille': 988, 'bruyante': 989, 'parle': 990, 'ennuient': 991, 'bebes': 992, 'ennuyeux': 993, 'ennuyeuses': 994, 'arrivent': 995, 'prets': 996, 'toutes': 997, 'couple': 998, 'completement': 999, 'freres': 1000, 'divorces': 1001, 'echapper': 1002, 'battre': 1003, 'reconnaissants': 1004, 'reconnaissantes': 1005, 'impuissants': 1006, 'impuissantes': 1007, 'ouverts': 1008, 'ouvertes': 1009, 'surs': 1010, 'sures': 1011, 'obeissants': 1012, 'obeissantes': 1013, 'partenaires': 1014, 'puissants': 1015, 'puissantes': 1016, 'ponctuels': 1017, 'ponctuelles': 1018, 'abandonnons': 1019, 'fiables': 1020, 'partons': 1021, 'pension': 1022, 'impitoyables': 1023, 'debout': 1024, 'mourons': 1025, 'tetus': 1026, 'tetues': 1027, 'etudiants': 1028, 'meilleurs': 1029, 'meilleures': 1030, 'derniers': 1031, 'dernieres': 1032, 'pareils': 1033, 'pareilles': 1034, 'cretins': 1035, 'attardes': 1036, 'mentaux': 1037, 'stupide': 1038, 'puritain': 1039, 'puritaine': 1040, 'incroyable': 1041, 'incroyables': 1042, 'marrer': 1043, 'genial': 1044, 'geniale': 1045, 'insensible': 1046, 'insaisissable': 1047, 'tatillons': 1048, 'tatillonnes': 1049, 'imprudent': 1050, 'imprudente': 1051, 'imprudents': 1052, 'imprudentes': 1053, 'invites': 1054, 'invitees': 1055, 'invite': 1056, 'invitee': 1057, 'marcher': 1058, 'aucune': 1059, 'aide': 1060, 'grosse': 1061, 'grosses': 1062, 'conviens': 1063, 'convenez': 1064, 'precis': 1065, 'precise': 1066, 'remontee': 1067, 'egoistes': 1068, 'mechants': 1069, 'mechantes': 1070, 'professionnel': 1071, 'prie': 1072, 'avec': 1073, 'plaisir': 1074, 'rien': 1075, 'gagnes': 1076, 'gagnez': 1077, 'emportes': 1078, 'emportez': 1079, 'reveur': 1080, 'peintre': 1081, 'medium': 1082, 'enseignant': 1083, 'instituteur': 1084, 'paye': 1085, 'ment': 1086, 'comedien': 1087, 'membre': 1088, 'fraternite': 1089, 'etudiante': 1090, 'bizuth': 1091, 'bleu': 1092, 'jardinier': 1093, 'venu': 1094, 'lambin': 1095, 'lourdaud': 1096, 'gaucher': 1097, 'devient': 1098, 'epoux': 1099, 'associe': 1100, 'compagnon': 1101, 'partenaire': 1102, 'photogenique': 1103, 'egypte': 1104, 'barre': 1105, 'barree': 1106, 'azeri': 1107, 'tele': 1108, 'emeche': 1109, 'emechee': 1110, 'etranger': 1111, 'femme': 1112, 'foyer': 1113, 'masochiste': 1114, 'oiseau': 1115, 'nuit': 1116, 'peux': 1117, 'courir': 1118, 'sais': 1119, 'skier': 1120, 'presque': 1121, 'quasiment': 1122, 'aventureuse': 1123, 'ingenieur': 1124, 'travail': 1125, 'supplie': 1126, 'capte': 1127, 'comprends': 1128, 'fete': 1129, 'arrose': 1130, 'lave': 1131, 'daltonien': 1132, 'aise': 1133, 'cooperer': 1134, 'craque': 1135, 'gene': 1136, 'abattu': 1137, 'abattue': 1138, 'bresil': 1139, 'originaire': 1140, 'france': 1141, 'turquie': 1142, 'zambie': 1143, 'commence': 1144, 'devenir': 1145, 'vieillis': 1146, 'applique': 1147, 'appliquee': 1148, 'brise': 1149, 'pour': 1150, 'vaincre': 1151, 'presse': 1152, 'pressee': 1153, 'derange': 1154, 'introverti': 1155, 'introvertie': 1156, 'myope': 1157, 'anglaise': 1158, 'enfant': 1159, 'escroc': 1160, 'ivrogne': 1161, 'robot': 1162, 'voleuse': 1163, 'alarme': 1164, 'dispute': 1165, 'nerveux': 1166, 'nerveuse': 1167, 'parfait': 1168, 'parfaite': 1169, 'malheureux': 1170, 'malheureuse': 1171, 'blaguer': 1172, 'munitions': 1173, 'persevere': 1174, 'plutot': 1175, 'assez': 1176, 'aller': 1177, 'partir': 1178, 'remplacable': 1179, 'ressources': 1180, 'marre': 1181, 'confus': 1182, 'spontanee': 1183, 'spontane': 1184, 'tel': 1185, 'compassion': 1186, 'capitaine': 1187, 'chirurgien': 1188, 'ras': 1189, 'bol': 1190, 'sincerement': 1191, 'ambition': 1192, 'convaincue': 1193, 'loup': 1194, 'modeste': 1195, 'regarder': 1196, 'television': 1197, 'amie': 1198, 'avocat': 1199, 'ta': 1200, 'canadienne': 1201, 'japonaise': 1202, 'coureuse': 1203, 'chanteuse': 1204, 'dactylographe': 1205, 'dactylo': 1206, 'gracieuse': 1207, 'assurance': 1208, 'deprimee': 1209, 'passe': 1210, 'baraka': 1211, 'acteurs': 1212, 'melons': 1213, 'animaux': 1214, 'disputer': 1215, 'cousins': 1216, 'medecins': 1217, 'nerveuses': 1218, 'partent': 1219, 'vont': 1220, 'dehors': 1221, 'similaires': 1222, 'semblables': 1223, 'sourient': 1224, 'speciales': 1225, 'restent': 1226, 'parlent': 1227, 'grasses': 1228, 'enseignants': 1229, 'enseignantes': 1230, 'regardons': 1231, 'canadiens': 1232, 'canadiennes': 1233, 'flexibles': 1234, 'ambitieuses': 1235, 'disponibles': 1236, 'deux': 1237, 'comediens': 1238, 'engages': 1239, 'engagees': 1240, 'devoues': 1241, 'devouees': 1242, 'deprimes': 1243, 'differents': 1244, 'differentes': 1245, 'reparer': 1246, 'flattes': 1247, 'jardiniers': 1248, 'gentilshommes': 1249, 'charge': 1250, 'dirigeons': 1251, 'ecoutons': 1252, 'nouveaux': 1253, 'venus': 1254, 'nouvelles': 1255, 'venues': 1256, 'imbeciles': 1257, 'chichis': 1258, 'rendons': 1259, 'contents': 1260, 'contentes': 1261, 'depasse': 1262, 'prisonniers': 1263, 'prisonnieres': 1264, 'realistes': 1265, 'demissionnons': 1266, 'endurants': 1267, 'endurantes': 1268, 'sensibles': 1269, 'separees': 1270, 'separes': 1271, 'surprises': 1272, 'survivons': 1273, 'survivants': 1274, 'survivantes': 1275, 'nos': 1276, 'scores': 1277, 'serres': 1278, 'proches': 1279, 'assures': 1280, 'assurees': 1281, 'apparentes': 1282, 'apparentees': 1283, 'heroine': 1284, 'vilaine': 1285, 'comme': 1286, 'mignonne': 1287, 'celui': 1288, 'elu': 1289, 'celle': 1290, 'elue': 1291, 'adorables': 1292, 'finis': 1293, 'finies': 1294, 'chiant': 1295, 'chiante': 1296, 'arrogant': 1297, 'arrogante': 1298, 'arrogants': 1299, 'arrogantes': 1300, 'rougis': 1301, 'negligent': 1302, 'negligente': 1303, 'charmant': 1304, 'charmante': 1305, 'charmantes': 1306, 'charmants': 1307, 'triches': 1308, 'trichez': 1309, 'embrouilles': 1310, 'creatifs': 1311, 'creatives': 1312, 'dement': 1313, 'deloyal': 1314, 'deloyale': 1315, 'deloyales': 1316, 'deloyaux': 1317, 'fideles': 1318, 'intrepides': 1319, 'pardonne': 1320, 'pardonnee': 1321, 'pardonnes': 1322, 'pardonnees': 1323, 'terre': 1324, 'hideuses': 1325, 'hideux': 1326, 'trompez': 1327, 'trompes': 1328, 'ennemi': 1329, 'morts': 1330, 'mortes': 1331, 'malades': 1332, 'pathetique': 1333, 'pathetiques': 1334, 'agite': 1335, 'agitee': 1336, 'autoritaire': 1337, 'difficiles': 1338, 'gentils': 1339, 'gentilles': 1340, 'temporises': 1341, 'temporisez': 1342, 'entete': 1343, 'entetee': 1344, 'talentueux': 1345, 'talentueuse': 1346, 'talentueuses': 1347, 'meilleur': 1348, 'meilleure': 1349, 'bruyant': 1350, 'bruyants': 1351, 'bruyantes': 1352, 'lente': 1353, 'lents': 1354, 'lentes': 1355, 'acrobate': 1356, 'lune': 1357, 'son': 1358, 'pyjama': 1359, 'soucis': 1360, 'problemes': 1361, 'ennuis': 1362, 'qu': 1363, 'frere': 1364, 'jamais': 1365, 'apprecie': 1366, 'tenancier': 1367, 'bar': 1368, 'niais': 1369, 'adore': 1370, 'chats': 1371, 'gentleman': 1372, 'historien': 1373, 'fumeur': 1374, 'deuxieme': 1375, 'annee': 1376, 'cote': 1377, 'grippe': 1378, 'meme': 1379, 'classe': 1380, 'coup': 1381, 'foudre': 1382, 'esprit': 1383, 'ces': 1384, 'pauvres': 1385, 'types': 1386, 'inconscient': 1387, 'observe': 1388, 'pere': 1389, 'volontaire': 1390, 'cuisine': 1391, 'moment': 1392, 'russie': 1393, 'frire': 1394, 'poisson': 1395, 'temps': 1396, 'payee': 1397, 'semaine': 1398, 'relativement': 1399, 'vingt': 1400, 'cinq': 1401, 'cousin': 1402, 'employe': 1403, 'banque': 1404, 'solitaire': 1405, 'gars': 1406, 'fondu': 1407, 'photo': 1408, 'nager': 1409, 'desoriente': 1410, 'desorientee': 1411, 'deja': 1412, 'mauvaise': 1413, 'humeur': 1414, 'ambidextre': 1415, 'plage': 1416, 'emplois': 1417, 'postes': 1418, 'changer': 1419, 'poste': 1420, 'tes': 1421, 'cotes': 1422, 'vos': 1423, 'paume': 1424, 'decu': 1425, 'dejeune': 1426, 'colle': 1427, 'flippe': 1428, 'amerique': 1429, 'croatie': 1430, 'angleterre': 1431, 'roumanie': 1432, 'coucher': 1433, 'instant': 1434, 'scolarise': 1435, 'scolarisee': 1436, 'garde': 1437, 'grenier': 1438, 'tue': 1439, 'ainsi': 1440, 'dire': 1441, 'different': 1442, 'mendiant': 1443, 'docteur': 1444, 'serieuse': 1445, 'frime': 1446, 'rever': 1447, 'extravertie': 1448, 'paranoiaque': 1449, 'idees': 1450, 'reagis': 1451, 'fier': 1452, 'glandes': 1453, 'essaye': 1454, 'benevolat': 1455, 'pianiste': 1456, 'sage': 1457, 'fachee': 1458, 'russes': 1459, 'disputent': 1460, 'artistes': 1461, 'chanteurs': 1462, 'faux': 1463, 'fausses': 1464, 'disparu': 1465, 'droles': 1466, 'temporiser': 1467, 'etudiantes': 1468, 'eleves': 1469, 'traitres': 1470, 'tantinet': 1471, 'celibataires': 1472, 'uniques': 1473, 'stupefaits': 1474, 'exploite': 1475, 'copains': 1476, 'reduisons': 1477, 'voilure': 1478, 'pigeons': 1479, 'retournons': 1480, 'arriere': 1481, 'descendons': 1482, 'vers': 1483, 'ouest': 1484, 'moitie': 1485, 'amusons': 1486, 'fac': 1487, 'controlons': 1488, 'situation': 1489, 'sauveteurs': 1490, 'acheter': 1491, 'fricotons': 1492, 'coupables': 1493, 'besoin': 1494, 'voix': 1495, 'connaissons': 1496, 'reussite': 1497, 'cernes': 1498, 'decoller': 1499, 'proprietaires': 1500, 'deshabillons': 1501, 'deshabiller': 1502, 'emploi': 1503, 'depourvus': 1504, 'depourvues': 1505, 'enfants': 1506, 'fabuleux': 1507, 'fabuleuse': 1508, 'splendide': 1509, 'impossible': 1510, 'incorrigible': 1511, 'responsable': 1512, 'responsables': 1513, 'arrives': 1514, 'tard': 1515, 'arrivez': 1516, 'traitre': 1517, 'traitresse': 1518, 'allez': 1519, 'comprendre': 1520, 'savez': 1521, 'beaux': 1522, 'belles': 1523, 'suffisant': 1524, 'suffisante': 1525, 'suffisants': 1526, 'suffisantes': 1527, 'courtois': 1528, 'courtoise': 1529, 'courtoises': 1530, 'epuises': 1531, 'epuisees': 1532, 'oublieux': 1533, 'oublieuse': 1534, 'chance': 1535, 'chanceuses': 1536, 'chanteur': 1537, 'mourant': 1538, 'viree': 1539, 'vires': 1540, 'virees': 1541, 'odieux': 1542, 'odieuse': 1543, 'odieuses': 1544, 'observation': 1545, 'pouvoir': 1546, 'tenaces': 1547, 'frissonnes': 1548, 'bavard': 1549, 'bavarde': 1550, 'bavards': 1551, 'bavardes': 1552, 'tendu': 1553, 'tendue': 1554, 'tendus': 1555, 'tendues': 1556, 'immoral': 1557, 'immorale': 1558, 'chouette': 1559, 'chouettes': 1560, 'ouverte': 1561, 'avise': 1562, 'avisee': 1563, 'sages': 1564, 'avises': 1565, 'avisees': 1566, 'merveilleux': 1567, 'merveilleuse': 1568, 'merveilleuses': 1569, 'mangeur': 1570, 'biologiste': 1571, 'brave': 1572, 'casse': 1573, 'cou': 1574, 'detective': 1575, 'dramaturge': 1576, 'monsieur': 1577, 'physicien': 1578, 'taiseux': 1579, 'scientifique': 1580, 'doit': 1581, 'avoir': 1582, 'quarantaine': 1583, 'bureau': 1584, 'tirer': 1585, 'cas': 1586, 'espoir': 1587, 'affaires': 1588, 'incompetent': 1589, 'influent': 1590, 'vivant': 1591, 'fache': 1592, 'instruit': 1593, 'irrealiste': 1594, 'regarde': 1595, 'tv': 1596, 'journaliste': 1597, 'mordu': 1598, 'cinema': 1599, 'parti': 1600, 'alle': 1601, 'cycle': 1602, 'endette': 1603, 'jusqu': 1604, 'georgie': 1605, 'mouise': 1606, 'vient': 1607, 'air': 1608, 'et': 1609, 'met': 1610, 'poches': 1611, 'fourre': 1612, 'fouilles': 1613, 'ramasse': 1614, 'argent': 1615, 'pelle': 1616, 'prend': 1617, 'oseille': 1618, 'dort': 1619, 'profondement': 1620, 'anges': 1621, 'confiant': 1622, 'etre': 1623, 'aime': 1624, 'rendre': 1625, 'pain': 1626, 'maths': 1627, 'debiteur': 1628, 'debitrice': 1629, 'personne': 1630, 'nouvel': 1631, 'nouvelle': 1632, 'eleve': 1633, 'vraie': 1634, 'loque': 1635, 'ennuie': 1636, 'agee': 1637, 'ecole': 1638, 'merci': 1639, 'conscient': 1640, 'consciente': 1641, 'terriblement': 1642, 'attention': 1643, 'montre': 1644, 'patience': 1645, 'concentrer': 1646, 'cours': 1647, 'concentration': 1648, 'devoir': 1649, 'penser': 1650, 'extremement': 1651, 'tete': 1652, 'tourne': 1653, 'abasourdi': 1654, 'bulgarie': 1655, 'colombie': 1656, 'rejouis': 1657, 'sauter': 1658, 'irremplacable': 1659, 'supposer': 1660, 'perds': 1661, 'poids': 1662, 'maigris': 1663, 'joueuse': 1664, 'monstre': 1665, 'pratique': 1666, 'divination': 1667, 'devin': 1668, 'telepathe': 1669, 'soldat': 1670, 'institutrice': 1671, 'indisponible': 1672, 'gobe': 1673, 'dangereux': 1674, 'impressionne': 1675, 'pieces': 1676, 'panique': 1677, 'persuade': 1678, 'persuadee': 1679, 'entraineur': 1680, 'bebe': 1681, 'servante': 1682, 'deborde': 1683, 'partout': 1684, 'sorte': 1685, 'sceptique': 1686, 'attends': 1687, 'prendre': 1688, 'bain': 1689, 'voisin': 1690, 'debutante': 1691, 'novice': 1692, 'agressive': 1693, 'asociale': 1694, 'niaise': 1695, 'coriace': 1696, 'mode': 1697, 'argument': 1698, 'hyperactive': 1699, 'massives': 1700, 'massifs': 1701, 'regardent': 1702, 'menteurs': 1703, 'menteuses': 1704, 'cannibales': 1705, 'dangereuses': 1706, 'onereux': 1707, 'onereuses': 1708, 'chics': 1709, 'intacts': 1710, 'intactes': 1711, 'australiens': 1712, 'australiennes': 1713, 'camarades': 1714, 'rire': 1715, 'mariees': 1716, 'laches': 1717, 'retraites': 1718, 'retraitees': 1719, 'fetons': 1720, 'cooperons': 1721, 'defenses': 1722, 'experience': 1723, 'disposons': 1724, 'nord': 1725, 'sud': 1726, 'occuper': 1727, 'charger': 1728, 'derangeons': 1729, 'journalistes': 1730, 'habilles': 1731, 'habillees': 1732, 'tueurs': 1733, 'tueuses': 1734, 'parfaits': 1735, 'parfaites': 1736, 'sourire': 1737, 'bienvenus': 1738, 'bienvenues': 1739, 'clous': 1740, 'biere': 1741, 'lait': 1742, 'vin': 1743, 'perseverons': 1744, 'retirons': 1745, 'pleins': 1746, 'prenons': 1747, 'controle': 1748, 'ascendant': 1749, 'rejouons': 1750, 'probleme': 1751, 'dignes': 1752, 'actrices': 1753, 'importants': 1754, 'importantes': 1755, 'importante': 1756, 'prisonnier': 1757, 'agressif': 1758, 'exprimes': 1759, 'exprimez': 1760, 'courageuse': 1761, 'degoutant': 1762, 'degoutante': 1763, 'degoutants': 1764, 'degoutantes': 1765, 'tues': 1766, 'tuez': 1767, 'surmene': 1768, 'surmenee': 1769, 'surmenees': 1770, 'surmenes': 1771, 'productif': 1772, 'productive': 1773, 'productifs': 1774, 'productives': 1775, 'remarquable': 1776, 'cerne': 1777, 'cernees': 1778, 'cernee': 1779, 'maitre': 1780, 'maitresse': 1781, 'doyen': 1782, 'doyenne': 1783, 'ainee': 1784, 'poli': 1785, 'polie': 1786, 'polis': 1787, 'polies': 1788, 'maigre': 1789, 'maigres': 1790, 'braves': 1791, 'vif': 1792, 'vive': 1793, 'vifs': 1794, 'vives': 1795, 'intelligente': 1796, 'craintif': 1797, 'craintive': 1798, 'craintifs': 1799, 'craintives': 1800, 'peureux': 1801, 'peureuse': 1802, 'peureuses': 1803, 'contraries': 1804, 'contrariees': 1805, 'conducteur': 1806, 'poissonnier': 1807, 'perdant': 1808, 'environ': 1809, 'pres': 1810, 'article': 1811, 'boire': 1812, 'dejeuner': 1813, 'camarade': 1814, 'collegue': 1815, 'radio': 1816, 'joue': 1817, 'golf': 1818, 'venir': 1819, 'borne': 1820, 'soigneux': 1821, 'erudit': 1822, 'jaloux': 1823, 'creationiste': 1824, 'marcheur': 1825, 'sale': 1826, 'critique': 1827, 'gastronomique': 1828, 'negre': 1829, 'gardien': 1830, 'but': 1831, 'methamphetamines': 1832, 'etrange': 1833, 'aristocrate': 1834, 'approche': 1835, 'rapproche': 1836, 'concret': 1837, 'cartes': 1838, 'douche': 1839, 'bougre': 1840, 'notres': 1841, 'unique': 1842, 'frole': 1843, 'cinquante': 1844, 'independant': 1845, 'bouc': 1846, 'emissaire': 1847, 'flexible': 1848, 'enseigner': 1849, 'musique': 1850, 'portugal': 1851, 'shizuoka': 1852, 'griller': 1853, 'difficulte': 1854, 'jardin': 1855, 'monde': 1856, 'voisine': 1857, 'apprends': 1858, 'vite': 1859, 'rouille': 1860, 'photographe': 1861, 'mais': 1862, 'chauves': 1863, 'souris': 1864, 'chiens': 1865, 'harceler': 1866, 'promu': 1867, 'promue': 1868, 'puni': 1869, 'punie': 1870, 'preuve': 1871, 'saigne': 1872, 'gravement': 1873, 'achete': 1874, 'chiot': 1875, 'claustrophobe': 1876, 'suite': 1877, 'juillet': 1878, 'compte': 1879, 'eau': 1880, 'dimanche': 1881, 'singapour': 1882, 'prends': 1883, 'remets': 1884, 'detendre': 1885, 'ski': 1886, 'ecouter': 1887, '?': 1888, 'baignoire': 1889, 'peine': 1890, 'commencer': 1891, 'tcheque': 1892, 'laisse': 1893, 'libere': 1894, 'special': 1895, 'particulier': 1896, 'criminel': 1897, 'criminelle': 1898, 'magicien': 1899, 'lubies': 1900, 'nie': 1901, 'invincible': 1902, 'surpoids': 1903, 'saoule': 1904, 'ennemie': 1905, 'incontrolable': 1906, 'demarrer': 1907, 'embarrasse': 1908, 'embarrassee': 1909, 'excusez': 1910, 'sous': 1911, 'choc': 1912, 'soudainement': 1913, 'soutiens': 1914, 'double': 1915, 'enthousiasme': 1916, 'usage': 1917, 'cette': 1918, 'tasse': 1919, 'utiliser': 1920, 'beaucoup': 1921, 'ecrire': 1922, 'bouquin': 1923, 'pietre': 1924, 'cuisiniere': 1925, 'aider': 1926, 'embrasser': 1927, 'pieds': 1928, 'dedans': 1929, 'inconsciente': 1930, 'elite': 1931, 'alcoolique': 1932, 'fruits': 1933, 'extenues': 1934, 'extenuees': 1935, 'bienveillants': 1936, 'bienveillantes': 1937, 'chretiens': 1938, 'illets': 1939, 'jetables': 1940, 'dessous': 1941, 'mots': 1942, 'furieuses': 1943, 'viennent': 1944, 'font': 1945, 'gens': 1946, 'infectes': 1947, 'infectees': 1948, 'memes': 1949, 'effort': 1950, 'bientot': 1951, 'ecrivains': 1952, 'conservateurs': 1953, 'contribuons': 1954, 'decues': 1955, 'entretien': 1956, 'penetrer': 1957, 'essayer': 1958, 'mi': 1959, 'miel': 1960, 'gardons': 1961, 'bibliotheque': 1962, 'battons': 1963, 'impliques': 1964, 'impliquees': 1965, 'soldats': 1966, 'stock': 1967, 'reagissons': 1968, 'horaire': 1969, 'serre': 1970, 'enfuyons': 1971, 'ralentir': 1972, 'attaques': 1973, 'attaquees': 1974, 'excites': 1975, 'excitees': 1976, 'portons': 1977, 'volontaires': 1978, 'insupportable': 1979, 'regardes': 1980, 'regardez': 1981, 'nounours': 1982, 'zozo': 1983, 'specimen': 1984, 'gamin': 1985, 'racistes': 1986, 'enerves': 1987, 'evites': 1988, 'evitez': 1989, 'prevenant': 1990, 'prevenante': 1991, 'cooperez': 1992, 'extravertis': 1993, 'extraverties': 1994, 'fascinante': 1995, 'fascinantes': 1996, 'fascinant': 1997, 'fascinants': 1998, 'branche': 1999, 'branchee': 2000, 'branches': 2001, 'branchees': 2002, 'princesse': 2003, 'contusionne': 2004, 'contusionnee': 2005, 'contusionnes': 2006, 'contusionnees': 2007, 'habille': 2008, 'habillee': 2009, 'aides': 2010, 'aidez': 2011, 'liste': 2012, 'ecoule': 2013, 'remplacer': 2014, 'indispensable': 2015, 'pitoyable': 2016, 'vivants': 2017, 'vivante': 2018, 'vivantes': 2019, 'inexperimente': 2020, 'sacre': 2021, 'quel': 2022, 'sacree': 2023, 'prof': 2024, 'touchez': 2025, 'rouge': 2026, 'devenez': 2027, 'astucieuses': 2028, 'ingenieux': 2029, 'ingenieuse': 2030, 'habile': 2031, 'habiles': 2032, 'ingenieuses': 2033, 'direct': 2034, 'directe': 2035, 'directes': 2036, 'solitaires': 2037, 'travailleur': 2038, 'taille': 2039, 'tendance': 2040, 'oublier': 2041, 'rugby': 2042, 'religieux': 2043, 'kilos': 2044, 'probablement': 2045, 'promenade': 2046, 'dit': 2047, 'mensonge': 2048, 'nettoie': 2049, 'chapeau': 2050, 'cardiologue': 2051, 'invetere': 2052, 'embrasse': 2053, 'tardivement': 2054, 'maturite': 2055, 'electron': 2056, 'scenariste': 2057, 'actif': 2058, 'inconditionnel': 2059, 'opera': 2060, 'comporte': 2061, 'etrangement': 2062, 'correctement': 2063, 'faut': 2064, 'auparavant': 2065, 'merde': 2066, 'cinquantaine': 2067, 'probable': 2068, 'vienne': 2069, 'electricien': 2070, 'nouilles': 2071, 'rejoindre': 2072, 'morphee': 2073, 'mere': 2074, 'eplucher': 2075, 'pommes': 2076, 'mediocre': 2077, 'tennis': 2078, 'livre': 2079, 'fois': 2080, 'entendre': 2081, 'debutant': 2082, 'dors': 2083, 'perfectionniste': 2084, 'social': 2085, 'travailleuse': 2086, 'sociale': 2087, 'etrangere': 2088, 'sortir': 2089, 'programme': 2090, 'lessive': 2091, 'paille': 2092, 'pomme': 2093, 'marier': 2094, 'voir': 2095, 'enchante': 2096, 'rencontrer': 2097, 'ayons': 2098, 'vu': 2099, 'voyage': 2100, 'sciences': 2101, 'chant': 2102, 'vetements': 2103, 'incroyablement': 2104, 'dette': 2105, 'envers': 2106, 'apprendre': 2107, 'basque': 2108, 'soir': 2109, 'vis': 2110, 'reve': 2111, 'progres': 2112, 'presente': 2113, 'excuses': 2114, 'blame': 2115, 'reviens': 2116, 'plains': 2117, 'accorde': 2118, 'decourage': 2119, 'decouragee': 2120, 'moindre': 2121, 'douleur': 2122, 'intimide': 2123, 'intimidee': 2124, 'quitte': 2125, 'serail': 2126, 'leur': 2127, 'bande': 2128, 'presentable': 2129, 'fiere': 2130, 'client': 2131, 'parfaitement': 2132, 'bout': 2133, 'souffle': 2134, 'legerement': 2135, 'oublie': 2136, 'inquiet': 2137, 'indecis': 2138, 'coince': 2139, 'boulot': 2140, 'leger': 2141, 'essaie': 2142, 'frustre': 2143, 'frustree': 2144, 'tour': 2145, 'ecris': 2146, 'roman': 2147, 'capable': 2148, 'moulin': 2149, 'parole': 2150, 'elevee': 2151, 'peau': 2152, 'noire': 2153, 'gateaux': 2154, 'nature': 2155, 'bienveillante': 2156, 'eux': 2157, 'blamer': 2158, 'mineure': 2159, 'nee': 2160, 'blonde': 2161, 'concierge': 2162, 'commere': 2163, 'ravissante': 2164, 'veritable': 2165, 'ete': 2166, 'empoisonnee': 2167, 'volonte': 2168, 'chretiennes': 2169, 'voleurs': 2170, 'voleuses': 2171, 'attendent': 2172, 'pretent': 2173, 'moches': 2174, 'nes': 2175, 'impressionnes': 2176, 'impressionnees': 2177, 'temoins': 2178, 'milieu': 2179, 'observes': 2180, 'fermons': 2181, 'consciencieuses': 2182, 'enfin': 2183, 'approchons': 2184, 'arrivons': 2185, 'commencons': 2186, 'fatiguer': 2187, 'chasse': 2188, 'comptons': 2189, 'abandonner': 2190, 'etrangers': 2191, 'demain': 2192, 'cafe': 2193, 'jouer': 2194, 'fiers': 2195, 'fieres': 2196, 'tentons': 2197, 'diable': 2198, 'inquiets': 2199, 'acariatre': 2200, 'incorrigibles': 2201, 'irresistible': 2202, 'saignes': 2203, 'saignez': 2204, 'tiree': 2205, 'tirees': 2206, 'tires': 2207, 'sec': 2208, 'bibine': 2209, 'maree': 2210, 'basse': 2211, 'sucre': 2212, 'dramatises': 2213, 'dramatisez': 2214, 'maniere': 2215, 'excessive': 2216, 'reagissez': 2217, 'empoisonnes': 2218, 'empoisonnez': 2219, 'impatients': 2220, 'impatientes': 2221, 'dragueurs': 2222, 'dragueuses': 2223, 'dragueuse': 2224, 'confiante': 2225, 'confiants': 2226, 'confiantes': 2227, 'curieuses': 2228, 'effrontee': 2229, 'effronte': 2230, 'effrontees': 2231, 'effrontes': 2232, 'serviable': 2233, 'serviables': 2234, 'elegante': 2235, 'elegant': 2236, 'elegantes': 2237, 'elegants': 2238, 'gaspillez': 2239, 'gaspilles': 2240, 'travailles': 2241, 'travaillez': 2242, 'orateur': 2243, 'nageur': 2244, 'bel': 2245, 'acerbe': 2246, 'foi': 2247, 'emmerdeur': 2248, 'longueur': 2249, 'inconnu': 2250, 'respire': 2251, 'soixante': 2252, 'cool': 2253, 'mesure': 2254, 'energie': 2255, 'foot': 2256, 'satisfaire': 2257, 'propre': 2258, 'pareil': 2259, 'sa': 2260, 'cookies': 2261, 'precieux': 2262, 'sauvage': 2263, 'trompe': 2264, 'gants': 2265, 'influence': 2266, 'informaticien': 2267, 'boutonneux': 2268, 'maniaque': 2269, 'celebre': 2270, 'boule': 2271, 'nerfs': 2272, 'nerveusement': 2273, 'use': 2274, 'parleur': 2275, 'baratineur': 2276, 'follement': 2277, 'epris': 2278, 'cancer': 2279, 'poumons': 2280, 'grave': 2281, 'loupe': 2282, 'coche': 2283, 'demi': 2284, 'bateau': 2285, 'offert': 2286, 'assistance': 2287, 'domicile': 2288, 'pitre': 2289, 'chaise': 2290, 'protecteur': 2291, 'ours': 2292, 'contraint': 2293, 'vets': 2294, 'prudemment': 2295, 'dessin': 2296, 'conte': 2297, 'histoire': 2298, 'peser': 2299, 'citoyen': 2300, 'citoyenne': 2301, 'windows': 2302, 'complet': 2303, 'blond': 2304, 'naturel': 2305, 'voler': 2306, 'projet': 2307, 'allergique': 2308, 'disposition': 2309, 'attiree': 2310, 'par': 2311, 'repris': 2312, 'business': 2313, 'appelle': 2314, 'verifie': 2315, 'possibilites': 2316, 'fermer': 2317, 'depends': 2318, 'vaisselle': 2319, 'appel': 2320, 'fil': 2321, 'confuse': 2322, 'stresse': 2323, 'stressee': 2324, 'repare': 2325, 'chose': 2326, 'engage': 2327, 'engagee': 2328, 'ait': 2329, 'aies': 2330, 'rencontre': 2331, 'soyez': 2332, 'sois': 2333, 'serai': 2334, 'universite': 2335, 'revenue': 2336, 'rentre': 2337, 'pratiquement': 2338, 'soirs': 2339, 'sauver': 2340, 'amoureuse': 2341, 'galere': 2342, 'autre': 2343, 'cherche': 2344, 'bonhomme': 2345, 'neige': 2346, 'truc': 2347, 'vegetarien': 2348, 'moins': 2349, 'demens': 2350, 'invente': 2351, 'epouser': 2352, 'enfuis': 2353, 'asseoir': 2354, 'rester': 2355, 'empeche': 2356, 'porter': 2357, 'serviteur': 2358, 'souvent': 2359, 'poursuites': 2360, 'engager': 2361, 'combattre': 2362, 'degourdi': 2363, 'degourdie': 2364, 'blesses': 2365, 'blessees': 2366, 'epouvantable': 2367, 'math': 2368, 'embrouille': 2369, 'embrouillee': 2370, 'utile': 2371, 'film': 2372, 'inquiete': 2373, 'lettre': 2374, 'fan': 2375, 'danseuse': 2376, 'patiner': 2377, 'sport': 2378, 'rang': 2379, 'hostile': 2380, 'vit': 2381, 'souper': 2382, 'diner': 2383, 'reves': 2384, 'copine': 2385, 'heure': 2386, 'saute': 2387, 'corde': 2388, 'ventre': 2389, 'ooita': 2390, 'livres': 2391, 'emotive': 2392, 'approchent': 2393, 'urs': 2394, 'courent': 2395, 'peuvent': 2396, 'chanter': 2397, 'capables': 2398, 'touristes': 2399, 'tenter': 2400, 'trouver': 2401, 'constituent': 2402, 'menace': 2403, 'regles': 2404, 'intimes': 2405, 'radins': 2406, 'envoient': 2407, 'onze': 2408, 'mangerons': 2409, 'heures': 2410, 'tonneau': 2411, 'aneantis': 2412, 'aneanties': 2413, 'vulnerables': 2414, 'sang': 2415, 'claustrophobes': 2416, 'rapprochons': 2417, 'devenons': 2418, 'rechauffons': 2419, 'entrons': 2420, 'courses': 2421, 'emplettes': 2422, 'combattrons': 2423, 'montons': 2424, 'eclate': 2425, 'subissons': 2426, 'rafale': 2427, 'vent': 2428, 'tabac': 2429, 'visite': 2430, 'recession': 2431, 'barbares': 2432, 'evacuer': 2433, 'interesses': 2434, 'interessees': 2435, 'terroristes': 2436, 'habitues': 2437, 'habituees': 2438, 'ennemis': 2439, 'ennemies': 2440, 'balles': 2441, 'protegeons': 2442, 'mineurs': 2443, 'mineures': 2444, 'dernier': 2445, 'japonaises': 2446, 'etat': 2447, 'arrestation': 2448, 'bienvenue': 2449, 'mangez': 2450, 'allemand': 2451, 'gare': 2452, 'file': 2453, 'gares': 2454, 'garees': 2455, 'garee': 2456, 'comptes': 2457, 'nombre': 2458, 'suspects': 2459, 'comptez': 2460, 'dirige': 2461, 'dirigez': 2462, 'ecoutez': 2463, 'ecoutes': 2464, 'premiere': 2465, 'ordonnes': 2466, 'ordonnees': 2467, 'opportuniste': 2468, 'opportunistes': 2469, 'laisses': 2470, 'dominer': 2471, 'emotions': 2472, 'laissez': 2473, 'foutez': 2474, 'grandir': 2475, 'imbecile': 2476, 'lunatiques': 2477, 'fantasque': 2478, 'fantasques': 2479, 'inoubliable': 2480, 'inoubliables': 2481, 'genereux': 2482, 'genereuse': 2483, 'genereuses': 2484, 'farceur': 2485, 'heroino': 2486, 'dependant': 2487, 'fossile': 2488, 'vision': 2489, 'tireur': 2490, 'gate': 2491, 'pourri': 2492, 'soupcon': 2493, 'craint': 2494, 'officier': 2495, 'plaire': 2496, 'chante': 2497, 'salle': 2498, 'toilettes': 2499, 'amateur': 2500, 'pensees': 2501, 'proche': 2502, 'intime': 2503, 'ordinaire': 2504, 'egard': 2505, 'etait': 2506, 'ligne': 2507, 'frimeur': 2508, 'reussir': 2509, 'incapable': 2510, 'laver': 2511, 'lunettes': 2512, 'notoire': 2513, 'serpents': 2514, 'allergie': 2515, 'oceanographe': 2516, 'absent': 2517, 'maquis': 2518, 'moque': 2519, 'apprend': 2520, 'chinois': 2521, 'forces': 2522, 'force': 2523, 'suspect': 2524, 'distant': 2525, 'parents': 2526, 'plie': 2527, 'robe': 2528, 'reconnaissant': 2529, 'recolter': 2530, 'ble': 2531, 'comparer': 2532, 'danseur': 2533, 'vertige': 2534, 'araignees': 2535, 'expedients': 2536, 'restaurant': 2537, 'immediatement': 2538, 'devoirs': 2539, 'examen': 2540, 'redoute': 2541, 'apprehende': 2542, 'sandwich': 2543, 'echoue': 2544, 'japon': 2545, 'ayez': 2546, 'passer': 2547, 'blesser': 2548, 'manquer': 2549, 'tant': 2550, 'presenter': 2551, 'franc': 2552, 'franche': 2553, 'entrainement': 2554, 'incroyant': 2555, 'droguee': 2556, 'toxico': 2557, 'millionnaire': 2558, 'absolument': 2559, 'entierement': 2560, 'arreter': 2561, 'bagarrer': 2562, 'etroit': 2563, 'etroite': 2564, 'athletique': 2565, 'chaussettes': 2566, 'pause': 2567, 'jeu': 2568, 'televise': 2569, 'console': 2570, 'mecs': 2571, 'rarement': 2572, 'autant': 2573, 'hauteur': 2574, 'veux': 2575, 'meler': 2576, 'submerge': 2577, 'echecs': 2578, 'songe': 2579, 'faute': 2580, 'tienne': 2581, 'bruit': 2582, 'attirez': 2583, 'nageuse': 2584, 'fumer': 2585, 'apparentee': 2586, 'coud': 2587, 'eu': 2588, 'conne': 2589, 'elegamment': 2590, 'sortis': 2591, 'magasins': 2592, 'sorties': 2593, 'terrifies': 2594, 'terrifiees': 2595, 'chercher': 2596, 'criminels': 2597, 'criminelles': 2598, 'chers': 2599, 'cheres': 2600, 'suivre': 2601, 'jouent': 2602, 'mijotent': 2603, 'conneries': 2604, 'preparent': 2605, 'correctes': 2606, 'serons': 2607, 'egares': 2608, 'egarees': 2609, 'occupons': 2610, 'marions': 2611, 'aboutissons': 2612, 'nulle': 2613, 'part': 2614, 'exercer': 2615, 'gonzesse': 2616, 'chic': 2617, 'filles': 2618, 'chantes': 2619, 'chantez': 2620, 'paranoiaques': 2621, 'travers': 2622, 'approches': 2623, 'approchez': 2624, 'remettre': 2625, 'amusant': 2626, 'amusante': 2627, 'amusantes': 2628, 'amusants': 2629, 'analysez': 2630, 'analyses': 2631, 'geniales': 2632, 'geniaux': 2633, 'pense': 2634, 'previsible': 2635, 'previsibles': 2636, 'entres': 2637, 'trentaine': 2638, 'entrez': 2639, 'efficace': 2640, 'efficaces': 2641, 'emotives': 2642, 'emotifs': 2643, 'emotif': 2644, 'observateurs': 2645, 'observatrices': 2646, 'sceptiques': 2647, 'pire': 2648, 'naissance': 2649, 'competent': 2650, 'charpentier': 2651, 'gentilhomme': 2652, 'voit': 2653, 'borgne': 2654, 'jazz': 2655, 'tache': 2656, 'peinture': 2657, 'natation': 2658, 'meurtre': 2659, 'parmi': 2660, 'velo': 2661, 'lourd': 2662, 'reflechir': 2663, 'subalterne': 2664, 'agit': 2665, 'accroche': 2666, 'medicaments': 2667, 'mer': 2668, 'course': 2669, 'origine': 2670, 'asiatique': 2671, 'taupe': 2672, 'jetons': 2673, 'espionner': 2674, 'appuie': 2675, 'canne': 2676, 'soit': 2677, 'recherche': 2678, 'sait': 2679, 'digne': 2680, 'promener': 2681, 'ecrit': 2682, 'journal': 2683, 'brosse': 2684, 'dents': 2685, 'prochaine': 2686, 'demenage': 2687, 'mois': 2688, 'prochain': 2689, 'seize': 2690, 'quelques': 2691, 'minutes': 2692, 'chauffeur': 2693, 'taxi': 2694, 'familier': 2695, 'noir': 2696, 'obscurite': 2697, 'gluten': 2698, 'autorise': 2699, 'corps': 2700, 'aeroport': 2701, 'faits': 2702, 'risques': 2703, 'retenu': 2704, 'otage': 2705, 'retenue': 2706, 'vrac': 2707, 'venue': 2708, 'veniez': 2709, 'viennes': 2710, 'australie': 2711, 'honore': 2712, 'terrible': 2713, 'horrible': 2714, 'gamins': 2715, 'assoiffe': 2716, 'club': 2717, 'hate': 2718, 'cle': 2719, 'allonge': 2720, 'herbe': 2721, 'allongee': 2722, 'professionnelle': 2723, 'maligne': 2724, 'leve': 2725, 'matin': 2726, 'repondre': 2727, 'conteste': 2728, 'drague': 2729, 'question': 2730, 'bete': 2731, 'organise': 2732, 'organisee': 2733, 'payes': 2734, 'quand': 2735, 'reellement': 2736, 'rapport': 2737, 'assiduite': 2738, 'consciencieusement': 2739, 'rappeler': 2740, 'ordinateur': 2741, 'marche': 2742, 'soleil': 2743, 'sujet': 2744, 'cuisiner': 2745, 'apte': 2746, 'fraude': 2747, 'vol': 2748, 'habituellement': 2749, 'habitude': 2750, 'tenir': 2751, 'assise': 2752, 'seduisante': 2753, 'sorciere': 2754, 'rale': 2755, 'arrete': 2756, 'raler': 2757, 'mouvement': 2758, 'hotel': 2759, 'monopoly': 2760, 'cousue': 2761, 'or': 2762, 'joyeux': 2763, 'joyeuses': 2764, 'baquet': 2765, 'trousses': 2766, 'rendez': 2767, 'midi': 2768, 'decus': 2769, 'accord': 2770, 'carburant': 2771, 'travaillons': 2772, 'ufs': 2773, 'pouvons': 2774, 'divorcer': 2775, 'enquetons': 2776, 'apprenons': 2777, 'partirons': 2778, 'accoster': 2779, 'etudions': 2780, 'fouteur': 2781, 'fauteur': 2782, 'trouble': 2783, 'entendez': 2784, 'choses': 2785, 'entends': 2786, 'coherent': 2787, 'usee': 2788, 'medisant': 2789, 'mary': 2790, 'genez': 2791, 'mettez': 2792, 'genes': 2793, 'mets': 2794, 'rougir': 2795, 'cooperes': 2796, 'rapides': 2797, 'veut': 2798, 'courant': 2799, 'embetante': 2800, 'embetants': 2801, 'embetantes': 2802, 'magnifique': 2803, 'splendides': 2804, 'thesauriseur': 2805, 'manigances': 2806, 'attirant': 2807, 'attirants': 2808, 'attirantes': 2809, 'perspicace': 2810, 'perspicaces': 2811, 'gaspiller': 2812, 'compositeur': 2813, 'sympathique': 2814, 'medecine': 2815, 'champion': 2816, 'dessiner': 2817, 'image': 2818, 'desire': 2819, 'ardemment': 2820, 'couramment': 2821, 'aventure': 2822, 'deteste': 2823, 'canape': 2824, 'etendu': 2825, 'parait': 2826, 'semble': 2827, 'bord': 2828, 'chimie': 2829, 'grossit': 2830, 'respect': 2831, 'decede': 2832, 'hume': 2833, 'soupe': 2834, 'cheval': 2835, 'voyager': 2836, 'seduisant': 2837, 'etasunien': 2838, 'chinoise': 2839, 'tricheur': 2840, 'demande': 2841, 'hero': 2842, 'reussira': 2843, 'fusil': 2844, 'carabine': 2845, 'sort': 2846, 'moral': 2847, 'virer': 2848, 'adorer': 2849, 'calcul': 2850, 'dote': 2851, 'intelligence': 2852, 'desesperement': 2853, 'rumine': 2854, 'cadet': 2855, 'piste': 2856, 'danse': 2857, 'peindre': 2858, 'comprehensif': 2859, 'manteau': 2860, 'magazine': 2861, 'grimper': 2862, 'plait': 2863, 'connais': 2864, 'pleuve': 2865, 'decois': 2866, 'decevez': 2867, 'corvees': 2868, 'degouline': 2869, 'sueur': 2870, 'emotionnellement': 2871, 'vide': 2872, 'videe': 2873, 'recommencer': 2874, 'police': 2875, 'proteger': 2876, 'quoi': 2877, 'crois': 2878, 'pris': 2879, 'vertiges': 2880, 'adorent': 2881, 'partisan': 2882, 'prone': 2883, 'appartiens': 2884, 'pecheur': 2885, 'noms': 2886, 'excelle': 2887, 'suggestions': 2888, 'propositions': 2889, 'connaissance': 2890, 'combat': 2891, 'decue': 2892, 'nom': 2893, 'serieusement': 2894, 'semblant': 2895, 'somnolent': 2896, 'bus': 2897, 'dispose': 2898, 'rejouit': 2899, 'donner': 2900, 'abeille': 2901, 'vetue': 2902, 'blanc': 2903, 'epouse': 2904, 'verte': 2905, 'massacrante': 2906, 'tricote': 2907, 'echarpe': 2908, 'broche': 2909, 'championne': 2910, 'football': 2911, 'rechauffer': 2912, 'cles': 2913, 'chouchoute': 2914, 'inapte': 2915, 'ramassent': 2916, 'noisettes': 2917, 'salade': 2918, 'direction': 2919, 'rendent': 2920, 'cherchent': 2921, 'revenir': 2922, 'trouvent': 2923, 'autosuffisants': 2924, 'autosuffisantes': 2925, 'quatre': 2926, 'dejeunons': 2927, 'espagnol': 2928, 'lundi': 2929, 'convaincus': 2930, 'convaincues': 2931, 'desesperes': 2932, 'desesperees': 2933, 'parvenir': 2934, 'parlons': 2935, 'aveuglee': 2936, 'aveuglees': 2937, 'aveugles': 2938, 'rentrer': 2939, 'lieu': 2940, 'devez': 2941, 'dois': 2942, 'obsession': 2943, 'hypocrites': 2944, 'bloques': 2945, 'bloquez': 2946, 'conduisez': 2947, 'caches': 2948, 'cachez': 2949, 'imagines': 2950, 'imaginez': 2951, 'faciles': 2952, 'reussit': 2953, 'rates': 2954, 'ratez': 2955, 'bienvenu': 2956, 'effrayer': 2957, 'effraies': 2958, 'trois': 2959, 'ignorant': 2960, 'ignorante': 2961, 'ignorants': 2962, 'ignorantes': 2963, 'propriete': 2964, 'privee': 2965, 'pleines': 2966, 'caractere': 2967, 'typique': 2968, 'plaint': 2969, 'frais': 2970, 'emoulu': 2971, 'gymnastique': 2972, 'ouvrir': 2973, 'fenetre': 2974, 'tableau': 2975, 'sorcier': 2976, 'personnage': 2977, 'constamment': 2978, 'insatisfait': 2979, 'sublimement': 2980, 'eglise': 2981, 'sent': 2982, 'tassee': 2983, 'sera': 2984, 'choisi': 2985, 'frappe': 2986, 'chat': 2987, 'chatte': 2988, 'quitter': 2989, 'cet': 2990, 'interet': 2991, 'entraine': 2992, 'romantique': 2993, 'jeux': 2994, 'video': 2995, 'honnetete': 2996, 'desireux': 2997, 'echouer': 2998, 'enchantee': 2999, 'nourris': 3000, 'revoir': 3001, 'papa': 3002, 'raccrocher': 3003, 'pieuter': 3004, 'regretter': 3005, 'taire': 3006, 'songer': 3007, 'baigner': 3008, 'char': 3009, 'station': 3010, 'soin': 3011, 'portefeuille': 3012, 'realise': 3013, 'documentaire': 3014, 'locuteur': 3015, 'natif': 3016, 'violent': 3017, 'violente': 3018, 'demander': 3019, 'fantomes': 3020, 'enfreins': 3021, 'nettoyer': 3022, 'coin': 3023, 'hasard': 3024, 'parie': 3025, 'impliquer': 3026, 'entrerai': 3027, 'competition': 3028, 'vendrai': 3029, 'inspiree': 3030, 'excessif': 3031, 'vends': 3032, 'signe': 3033, 'aimer': 3034, 'claires': 3035, 'repentir': 3036, 'disposee': 3037, 'pardon': 3038, 'poser': 3039, 'apprecier': 3040, 'etonne': 3041, 'etonnee': 3042, 'telephone': 3043, 'bu': 3044, 'economiser': 3045, 'vaux': 3046, 'affreusement': 3047, 'cheveux': 3048, 'conseils': 3049, 'fauchee': 3050, 'decorative': 3051, 'determinee': 3052, 'tomber': 3053, 'raide': 3054, 'machine': 3055, 'enseigne': 3056, 'ombre': 3057, 'paupiere': 3058, 'hauts': 3059, 'mettent': 3060, 'paquet': 3061, 'compatibles': 3062, 'suivent': 3063, 'chanson': 3064, 'terrifiez': 3065, 'magasin': 3066, 'boutique': 3067, 'demenageons': 3068, 'jeans': 3069, 'rupture': 3070, 'commandement': 3071, 'inquietons': 3072, 'bercons': 3073, 'illusions': 3074, 'leurrons': 3075, 'presses': 3076, 'gaz': 3077, 'fierte': 3078, 'joie': 3079, 'indelicats': 3080, 'indelicates': 3081, 'indelicat': 3082, 'indelicate': 3083, 'individu': 3084, 'execrable': 3085, 'formidable': 3086, 'tarabuster': 3087, 'desobeis': 3088, 'ordres': 3089, 'desobeissez': 3090, 'pouvez': 3091, 'passez': 3092, 'saisis': 3093, 'saisissez': 3094, 'atmosphere': 3095, 'gachez': 3096, 'gaches': 3097, 'deformes': 3098, 'paroles': 3099, 'deformez': 3100, 'societe': 3101, 'quarante': 3102, 'cocaine': 3103, 'nuages': 3104, 'revasse': 3105, 'ecologiste': 3106, 'enseignement': 3107, 'tend': 3108, 'mettre': 3109, 'voisins': 3110, 'chambre': 3111, 'doutes': 3112, 'cause': 3113, 'surmenage': 3114, 'amical': 3115, 'lentement': 3116, 'qualite': 3117, 'accepte': 3118, 'causer': 3119, 'placard': 3120, 'penderie': 3121, 'enfreint': 3122, 'candidat': 3123, 'congres': 3124, 'lecture': 3125, 'agis': 3126, 'quatorze': 3127, 'habiller': 3128, 'pends': 3129, 'chemises': 3130, 'sienne': 3131, 'mienne': 3132, 'sien': 3133, 'habite': 3134, 'present': 3135, 'chateau': 3136, 'deranger': 3137, 'emploie': 3138, 'jours': 3139, 'ci': 3140, 'arroser': 3141, 'fleurs': 3142, 'inconditionnelle': 3143, 'lyceen': 3144, 'puisse': 3145, 'tremblements': 3146, 'pression': 3147, 'penses': 3148, 'pensez': 3149, 'fin': 3150, 'haricots': 3151, 'joins': 3152, 'fichiers': 3153, 'detester': 3154, 'ramene': 3155, 'pizza': 3156, 'demissionner': 3157, 'raccourcis': 3158, 'choix': 3159, 'decision': 3160, 'realite': 3161, 'rassemble': 3162, 'informations': 3163, 'impression': 3164, 'pompe': 3165, 'pu': 3166, 'contenter': 3167, 'preniez': 3168, 'conscience': 3169, 'prennes': 3170, 'portiez': 3171, 'portes': 3172, 'verre': 3173, 'feu': 3174, 'confectionner': 3175, 'bucher': 3176, 'moyens': 3177, 'hopital': 3178, 'pousser': 3179, 'barbe': 3180, 'retourner': 3181, 'obeir': 3182, 'pull': 3183, 'over': 3184, 'chandail': 3185, 'piles': 3186, 'appareil': 3187, 'impatience': 3188, 'specialise': 3189, 'sociologie': 3190, 'appeler': 3191, 'ceci': 3192, 'evanouir': 3193, 'toucher': 3194, 'autres': 3195, 'camp': 3196, 'prevois': 3197, 'suppose': 3198, 'supposee': 3199, 'repeter': 3200, 'chaleur': 3201, 'general': 3202, 'etais': 3203, 'reveillee': 3204, 'soulage': 3205, 'releve': 3206, 'hurle': 3207, 'crie': 3208, 'propos': 3209, 'hier': 3210, 'perte': 3211, 'art': 3212, 'dramatique': 3213, 'kabuki': 3214, 'approuverait': 3215, 'nul': 3216, 'langues': 3217, 'tente': 3218, 'conductrice': 3219, 'lamentable': 3220, 'loyer': 3221, 'enrhumee': 3222, 'personnes': 3223, 'agees': 3224, 'piano': 3225, 'banale': 3226, 'bleue': 3227, 'lisent': 3228, 'inquietent': 3229, 'paix': 3230, 'pendre': 3231, 'consequence': 3232, 'vivons': 3233, 'dos': 3234, 'mur': 3235, 'estimes': 3236, 'espion': 3237, 'espionne': 3238, 'allemands': 3239, 'plaignez': 3240, 'dites': 3241, 'adolescent': 3242, 'adolescente': 3243, 'malignes': 3244, 'rationnels': 3245, 'rationnelles': 3246, 'totalement': 3247, 'pente': 3248, 'racontes': 3249, 'mensonges': 3250, 'raffine': 3251, 'raffinee': 3252, 'raffines': 3253, 'raffinees': 3254, 'comprehensive': 3255, 'comprehensifs': 3256, 'comprehensives': 3257, 'mari': 3258, 'noble': 3259, 'harvard': 3260, 'absorbe': 3261, 'six': 3262, 'haut': 3263, 'trahison': 3264, 'matiere': 3265, 'baseball': 3266, 'chine': 3267, 'concert': 3268, 'devant': 3269, 'handicape': 3270, 'mental': 3271, 'avant': 3272, 'sejourne': 3273, 'assis': 3274, 'tailleur': 3275, 'tient': 3276, 'colline': 3277, 'agronomie': 3278, 'table': 3279, 'suspecte': 3280, 'nage': 3281, 'piscine': 3282, 'merite': 3283, 'louanges': 3284, 'batiment': 3285, 'lois': 3286, 'multiples': 3287, 'talents': 3288, 'malbouffe': 3289, 'bandes': 3290, 'dessinees': 3291, 'viendra': 3292, 'decidement': 3293, 'creuse': 3294, 'beuverie': 3295, 'faculte': 3296, 'doue': 3297, 'parc': 3298, 'longue': 3299, 'chaque': 3300, 'descends': 3301, 'escalier': 3302, 'simple': 3303, 'ceinture': 3304, 'karate': 3305, 'clochard': 3306, 'enrhume': 3307, 'sauvages': 3308, 'sein': 3309, 'donne': 3310, 'salaire': 3311, 'lance': 3312, 'signal': 3313, 'detresse': 3314, 'aucun': 3315, 'doute': 3316, 'certainement': 3317, 'possible': 3318, 'envie': 3319, 'boisson': 3320, 'fraiche': 3321, 'idee': 3322, 'demenagement': 3323, 'puissiez': 3324, 'puisses': 3325, 'sieste': 3326, 'piquer': 3327, 'somme': 3328, 'repenser': 3329, 'doucher': 3330, 'constater': 3331, 'haute': 3332, 'survivre': 3333, 'maman': 3334, 'disparaitre': 3335, 'signer': 3336, 'simulation': 3337, 'fetes': 3338, 'garder': 3339, 'refuse': 3340, 'vendre': 3341, 'croire': 3342, 'risque': 3343, 'decore': 3344, 'uf': 3345, 'paques': 3346, 'rechigne': 3347, 'epargne': 3348, 'malentendu': 3349, 'interrompre': 3350, 'embouteillage': 3351, 'moyen': 3352, 'partira': 3353, 'construit': 3354, 'mcdonald': 3355, 'apre': 3356, 'desireuse': 3357, 'preparer': 3358, 'sortie': 3359, 'editeur': 3360, 'aimee': 3361, 'tombee': 3362, 'banc': 3363, 'agacer': 3364, 'ample': 3365, 'nettoient': 3366, 'laboratoire': 3367, 'etasuniens': 3368, 'etasuniennes': 3369, 'appartenons': 3370, 'billets': 3371, 'refaire': 3372, 'desastre': 3373, 'destines': 3374, 'censes': 3375, 'jeter': 3376, 'phase': 3377, 'plaindre': 3378, 'leurrez': 3379, 'leurres': 3380, 'avion': 3381, 'coco': 3382, 'drille': 3383, 'comportes': 3384, 'comportez': 3385, 'interessante': 3386, 'souffrez': 3387, 'souffres': 3388, 'autorisee': 3389, 'dormez': 3390, 'stupides': 3391, 'epreuve': 3392, 'objet': 3393, 'enquete': 3394, 'soucieux': 3395, 'soucieuse': 3396, 'soucieuses': 3397, 'inquietes': 3398, 'mathematicien': 3399, 'romancier': 3400, 'prometteur': 3401, 'soigneusement': 3402, 'vetu': 3403, 'autorite': 3404, 'mains': 3405, 'couilles': 3406, 'photos': 3407, 'debut': 3408, 'crime': 3409, 'compagnie': 3410, 'respecte': 3411, 'torrefie': 3412, 'feves': 3413, 'scene': 3414, 'fringant': 3415, 'rhume': 3416, 'marketing': 3417, 'pigiste': 3418, 'portable': 3419, 'joindre': 3420, 'cercle': 3421, 'rude': 3422, 'encoignures': 3423, 'fume': 3424, 'tripotee': 3425, 'tripote': 3426, 'partirai': 3427, 'termes': 3428, 'tien': 3429, 'mien': 3430, 'conseiller': 3431, 'gestion': 3432, 'faveur': 3433, 'suggestion': 3434, 'cesse': 3435, 'surprendre': 3436, 'actrice': 3437, 'andouille': 3438, 'aurai': 3439, 'mariage': 3440, 'abattre': 3441, 'jour': 3442, 'quotidiennement': 3443, 'gerant': 3444, 'autoriser': 3445, 'citer': 3446, 'livrer': 3447, 'negocier': 3448, 'suggere': 3449, 'ouvre': 3450, 'cadeaux': 3451, 'economise': 3452, 'recriminations': 3453, 'doives': 3454, 'elimine': 3455, 'antipathique': 3456, 'persuader': 3457, 'promene': 3458, 'effondre': 3459, 'regrette': 3460, 'soignee': 3461, 'excellente': 3462, 'quadra': 3463, 'planifie': 3464, 'bonheur': 3465, 'epluche': 3466, 'attitree': 3467, 'fondue': 3468, 'tricot': 3469, 'passionnee': 3470, 'lourde': 3471, 'accomplie': 3472, 'professeurs': 3473, 'agissent': 3474, 'amusent': 3475, 'employes': 3476, 'partiel': 3477, 'employees': 3478, 'dollars': 3479, 'chacun': 3480, 'chacune': 3481, 'lavent': 3482, 'susceptibles': 3483, 'commettre': 3484, 'erreurs': 3485, 'propension': 3486, 'changeons': 3487, 'attendons': 3488, 'hiver': 3489, 'doux': 3490, 'manipules': 3491, 'manipulees': 3492, 'joueurs': 3493, 'joueuses': 3494, 'continuer': 3495, 'officiellement': 3496, 'drap': 3497, 'cachet': 3498, 'aspirine': 3499, 'decollage': 3500, 'confirme': 3501, 'redevable': 3502, 'reclame': 3503, 'commets': 3504, 'commettez': 3505, 'interessant': 3506, 'interessants': 3507, 'interessantes': 3508, 'clairement': 3509, 'negociateur': 3510, 'commences': 3511, 'commencez': 3512, 'recherchee': 3513, 'metier': 3514, 'profession': 3515, 'experimente': 3516, 'echec': 3517, 'match': 3518, 'president': 3519, 'attache': 3520, 'gloire': 3521, 'elections': 3522, 'municipales': 3523, 'chances': 3524, 'remporter': 3525, 'remporte': 3526, 'progresser': 3527, 'aupres': 3528, 'test': 3529, 'reunion': 3530, 'fonds': 3531, 'frileux': 3532, 'pionnier': 3533, 'appelons': 3534, 'niveau': 3535, 'international': 3536, 'defauts': 3537, 'mondanites': 3538, 'audace': 3539, 'conduite': 3540, 'australienne': 3541, 'lie': 3542, 'indiffere': 3543, 'indifferent': 3544, 'concerne': 3545, 'camion': 3546, 'lecteur': 3547, 'offenses': 3548, 'offensees': 3549, 'perde': 3550, 'rumeur': 3551, 'averee': 3552, 'puissions': 3553, 'requiers': 3554, 'disposez': 3555, 'plan': 3556, 'disposes': 3557, 'audition': 3558, 'role': 3559, 'possibilite': 3560, 'sentir': 3561, 'curiosite': 3562, 'aiguiser': 3563, 'deconne': 3564, 'chaussures': 3565, 'pale': 3566, 'malgre': 3567, 'lignes': 3568, 'directrices': 3569, 'bouquins': 3570, 'voulez': 3571, 'comprenne': 3572, 'compreniez': 3573, 'comprennes': 3574, 'finalement': 3575, 'rencontree': 3576, 'rencontrees': 3577, 'rencontres': 3578, 'souleve': 3579, 'mentionne': 3580, 'voies': 3581, 'voyiez': 3582, 'chemise': 3583, 'dechiffrer': 3584, 'resoudre': 3585, 'volerai': 3586, 'laisser': 3587, 'epargner': 3588, 'possede': 3589, 'traverse': 3590, 'cellulaire': 3591, 'mobile': 3592, 'renseigne': 3593, 'acquerir': 3594, 'donnerai': 3595, 'patinerai': 3596, 'particulierement': 3597, 'rue': 3598, 'siege': 3599, 'supporte': 3600, 'rompu': 3601, 'promesse': 3602, 'derangee': 3603, 'deranges': 3604, 'derangees': 3605, 'intimides': 3606, 'intimidez': 3607, 'avait': 3608, 'raisons': 3609, 'reussiras': 3610, 'secrets': 3611, 'queue': 3612, 'plaintes': 3613, 'allemagne': 3614, 'lever': 3615, 'cuillere': 3616, 'avenir': 3617, 'jules': 3618, 'dame': 3619, 'autodidacte': 3620, 'absorbee': 3621, 'etude': 3622, 'amicale': 3623, 'tonnerre': 3624, 'imiter': 3625, 'personnel': 3626, 'douee': 3627, 'isolee': 3628, 'vrais': 3629, 'militent': 3630, 'violences': 3631, 'trainent': 3632, 'torturer': 3633, 'essuyer': 3634, 'tempete': 3635, 'degats': 3636, 'agressifs': 3637, 'ratons': 3638, 'manquons': 3639, 'critiques': 3640, 'critiquez': 3641, 'hallucines': 3642, 'hallucinez': 3643, 'deprimees': 3644, 'tare': 3645, 'ridiculises': 3646, 'paraitre': 3647, 'diplomate': 3648, 'exactement': 3649, 'irreprochable': 3650, 'pantalon': 3651, 'aidiez': 3652, 'dentiste': 3653, 'domaine': 3654, 'guitare': 3655, 'ideal': 3656, 'attitude': 3657, 'quiconque': 3658, 'sentiments': 3659, 'humains': 3660, 'ordinateurs': 3661, 'arracheur': 3662, 'outrageusement': 3663, 'annees': 3664, 'collection': 3665, 'portrait': 3666, 'crache': 3667, 'craindre': 3668, 'realiser': 3669, 'discours': 3670, 'telles': 3671, 'situations': 3672, 'impresario': 3673, 'rare': 3674, 'change': 3675, 'avis': 3676, 'attire': 3677, 'femmes': 3678, 'negresses': 3679, 'noires': 3680, 'manipulateur': 3681, 'traverser': 3682, 'riviere': 3683, 'tenue': 3684, 'negligee': 3685, 'resultat': 3686, 'excellent': 3687, 'essouffle': 3688, 'sida': 3689, 'assistant': 3690, 'fautes': 3691, 'verrai': 3692, 'respectable': 3693, 'difficultes': 3694, 'construire': 3695, 'occasion': 3696, 'rende': 3697, 'aimiez': 3698, 'aimes': 3699, 'hanovre': 3700, 'irai': 3701, 'parce': 3702, 'requerir': 3703, 'compare': 3704, 'vetement': 3705, 'compris': 3706, 'effraye': 3707, 'effrayee': 3708, 'effrayes': 3709, 'effrayees': 3710, 'decevoir': 3711, 'plans': 3712, 'arranger': 3713, 'janvier': 3714, 'second': 3715, 'survecu': 3716, 'reflexions': 3717, 'octobre': 3718, 'aboient': 3719, 'rose': 3720, 'devouee': 3721, 'vaut': 3722, 'paralysee': 3723, 'jambes': 3724, 'appreciee': 3725, 'ni': 3726, 'peint': 3727, 'etaient': 3728, 'habituels': 3729, 'attraper': 3730, 'forment': 3731, 'panier': 3732, 'marchent': 3733, 'nus': 3734, 'cherchons': 3735, 'facon': 3736, 'rigoler': 3737, 'amuser': 3738, 'basket': 3739, 'passons': 3740, 'rajeunit': 3741, 'rajeunissons': 3742, 'regrettons': 3743, 'corriger': 3744, 'bug': 3745, 'papillon': 3746, 'parfois': 3747, 'pueril': 3748, 'puerile': 3749, 'puerils': 3750, 'pueriles': 3751, 'plats': 3752, 'nourriture': 3753, 'vises': 3754, 'visez': 3755, 'preches': 3756, 'prechez': 3757, 'cense': 3758, 'reposer': 3759, 'entrainee': 3760, 'formee': 3761, 'aie': 3762, 'gai': 3763, 'attentionnee': 3764, 'acte': 3765, 'directeur': 3766, 'questions': 3767, 'pretextes': 3768, 'capacites': 3769, 'profite': 3770, 'ecolier': 3771, 'confronte': 3772, 'nombreuses': 3773, 'quittera': 3774, 'chicago': 3775, 'celebrite': 3776, 'crises': 3777, 'aient': 3778, 'tromper': 3779, 'journee': 3780, 'renommee': 3781, 'obsede': 3782, 'proprete': 3783, 'europe': 3784, 'proposition': 3785, 'langue': 3786, 'representant': 3787, 'commerce': 3788, 'flattee': 3789, 'flatte': 3790, 'insiste': 3791, 'perdions': 3792, 'apercevoir': 3793, 'motif': 3794, 'distinguer': 3795, 'schema': 3796, 'traite': 3797, 'chocolat': 3798, 'droit': 3799, 'opinion': 3800, 'nombreux': 3801, 'automne': 3802, 'ambulance': 3803, 'tuer': 3804, 'manquera': 3805, 'secret': 3806, 'conter': 3807, 'politique': 3808, 'soucie': 3809, 'veste': 3810, 'new': 3811, 'york': 3812, 'times': 3813, 'linux': 3814, 'ressens': 3815, 'hostilite': 3816, 'embarrasses': 3817, 'embarrassees': 3818, 'blessent': 3819, 'monnaie': 3820, 'commande': 3821, 'ira': 3822, 'passera': 3823, 'surgir': 3824, 'surement': 3825, 'benjamin': 3826, 'flemme': 3827, 'triathlon': 3828, 'entreprise': 3829, 'repasse': 3830, 'mouchoirs': 3831, 'visiter': 3832, 'commun': 3833, 'conception': 3834, 'cynique': 3835, 'bague': 3836, 'prix': 3837, 'convient': 3838, 'depend': 3839, 'examens': 3840, 'pacifiques': 3841, 'innocents': 3842, 'profs': 3843, 'loyaux': 3844, 'menent': 3845, 'tiennent': 3846, 'gardent': 3847, 'souffrent': 3848, 'paludisme': 3849, 'face': 3850, 'crise': 3851, 'case': 3852, 'depart': 3853, 'passerons': 3854, 'manquerons': 3855, 'thanksgiving': 3856, 'planifions': 3857, 'abuses': 3858, 'abusez': 3859, 'piece': 3860, 'adorerez': 3861, 'bousiller': 3862, 'rajeunis': 3863, 'suffisament': 3864, 'echauffer': 3865, 'restes': 3866, 'restez': 3867, 'emballe': 3868, 'emballee': 3869, 'estime': 3870, 'comite': 3871, 'imaginatif': 3872, 'imagination': 3873, 'maladie': 3874, 'connait': 3875, 'maire': 3876, 'compliments': 3877, 'ameliore': 3878, 'expliquer': 3879, 'exigences': 3880, 'parent': 3881, 'alliance': 3882, 'impopulaire': 3883, 'quelconque': 3884, 'montagne': 3885, 'fronde': 3886, 'depuis': 3887, 'expulse': 3888, 'condition': 3889, 'physique': 3890, 'vecu': 3891, 'entiere': 3892, 'public': 3893, 'coutume': 3894, 'innocence': 3895, 'linge': 3896, 'pic': 3897, 'nic': 3898, 'veuillez': 3899, 'excuser': 3900, 'davantage': 3901, 'eventuellement': 3902, 'comprise': 3903, 'brulures': 3904, 'suivant': 3905, 'lecon': 3906, 'commissariat': 3907, 'essentiel': 3908, 'canada': 3909, 'correspondant': 3910, 'louer': 3911, 'reponse': 3912, 'evidemment': 3913, 'dirai': 3914, 'defi': 3915, 'retrousser': 3916, 'manches': 3917, 'eponge': 3918, 'espace': 3919, 'vieillesse': 3920, 'liquidites': 3921, 'alors': 3922, 'tardive': 3923, 'serait': 3924, 'engueule': 3925, 'achat': 3926, 'revienne': 3927, 'experte': 3928, 'mathematiques': 3929, 'manche': 3930, 'balai': 3931, 'chantage': 3932, 'exerce': 3933, 'vaguement': 3934, 'lointaine': 3935, 'juin': 3936, 'materialiste': 3937, 'superficielle': 3938, 'admet': 3939, 'broadway': 3940, 'avenue': 3941, 'discutent': 3942, 'etats': 3943, 'unis': 3944, 'jalousent': 3945, 'quittent': 3946, 'veulent': 3947, 'quittons': 3948, 'concurrents': 3949, 'concurrentes': 3950, 'soucions': 3951, 'appretons': 3952, 'justement': 3953, 'savoir': 3954, 'sied': 3955, 'superbement': 3956, 'citadine': 3957, 'evidence': 3958, 'connaisse': 3959, 'ceremonies': 3960, 'puissance': 3961, 'deguise': 3962, 'mouton': 3963, 'tradition': 3964, 'perd': 3965, 'parapluie': 3966, 'connaitre': 3967, 'separe': 3968, 'departement': 3969, 'radin': 3970, 'inde': 3971, 'pleurnichard': 3972, 'ramollo': 3973, 'attente': 3974, 'vehicule': 3975, 'comportement': 3976, 'bijouterie': 3977, 'monotone': 3978, 'habilete': 3979, 'responsabilites': 3980, 'humide': 3981, 'couper': 3982, 'arbre': 3983, 'reecrire': 3984, 'envoyer': 3985, 'joli': 3986, 'visage': 3987, 'impressionner': 3988, 'performance': 3989, 'representation': 3990, 'prestation': 3991, 'hamburgers': 3992, 'rate': 3993, 'anniversaire': 3994, 'ennuyer': 3995, 'reconnais': 3996, 'reproduira': 3997, 'decalage': 3998, 'numero': 3999, 'longtemps': 4000, 'accepter': 4001, 'offre': 4002, 'familiere': 4003, 'chansons': 4004, 'romanciere': 4005, 'nourrit': 4006, 'chien': 4007, 'ressemble': 4008, 'violoniste': 4009, 'renom': 4010, 'comment': 4011, 'promis': 4012, 'allait': 4013, 'collegues': 4014, 'ceux': 4015, 'celles': 4016, 'disent': 4017, 'smic': 4018, 'distribuent': 4019, 'echantillons': 4020, 'gratuits': 4021, 'choisissons': 4022, 'aurons': 4023, 'gachons': 4024, 'stationner': 4025, 'autorises': 4026, 'censees': 4027, 'censee': 4028, 'soutenez': 4029, 'pretez': 4030, 'interrompez': 4031, 'devrais': 4032, 'bouche': 4033, 'archeologie': 4034, 'preparatifs': 4035, 'entier': 4036, 'prompt': 4037, 'inquietudes': 4038, 'violon': 4039, 'rugueux': 4040, 'reveche': 4041, 'liquide': 4042, 'lancer': 4043, 'couteaux': 4044, 'remarquer': 4045, 'decide': 4046, 'troupe': 4047, 'attaque': 4048, 'cardiaque': 4049, 'experiences': 4050, 'malheureuses': 4051, 'traine': 4052, 'coton': 4053, 'determine': 4054, 'reussi': 4055, 'noel': 4056, 'oreillons': 4057, 'depenser': 4058, 'izu': 4059, 'pendant': 4060, 'week': 4061, 'end': 4062, 'manifestation': 4063, 'pourrait': 4064, 'genee': 4065, 'apparemment': 4066, 'alentours': 4067, 'blanche': 4068, 'lettres': 4069, 'autour': 4070, 'semestre': 4071, 'journaux': 4072, 'epandent': 4073, 'arbres': 4074, 'fruitiers': 4075, 'vivent': 4076, 'fantaisie': 4077, 'planete': 4078, 'hawai': 4079, 'interruption': 4080, 'supposes': 4081, 'craignons': 4082, 'demandons': 4083, 'budget': 4084, 'limite': 4085, 'embrouillez': 4086, 'responsabilite': 4087, 'liberee': 4088, 'liberees': 4089, 'liberes': 4090, 'humanite': 4091, 'religieuses': 4092, 'religieuse': 4093, 'reporter': 4094, 'time': 4095, 'severe': 4096, 'considere': 4097, 'accident': 4098, 'quelquefois': 4099, 'horriblement': 4100, 'deambule': 4101, 'transe': 4102, 'hyogo': 4103, 'veiller': 4104, 'commette': 4105, 'egariez': 4106, 'perdiez': 4107, 'perdes': 4108, 'resolu': 4109, 'actuel': 4110, 'jouerai': 4111, 'semaines': 4112, 'labeur': 4113, 'baille': 4114, 'rudiments': 4115, 'ceramique': 4116, 'orientale': 4117, 'poetes': 4118, 'classer': 4119, 'sommeille': 4120, 'bequilles': 4121, 'inquieter': 4122, 'ignoriez': 4123, 'ignorais': 4124, 'recuperer': 4125, 'retomber': 4126, 'relation': 4127, 'independante': 4128, 'roses': 4129, 'conscients': 4130, 'voient': 4131, 'confrontes': 4132, 'financieres': 4133, 'bronzent': 4134, 'jouons': 4135, 'derangement': 4136, 'voyageons': 4137, 'ou': 4138, 'pensais': 4139, 'voie': 4140, 'retablissement': 4141, 'millionieme': 4142, 'resultats': 4143, 'anticipez': 4144, 'pareille': 4145, 'amnesie': 4146, 'maitrise': 4147, 'technique': 4148, 'bagarre': 4149, 'fomenter': 4150, 'troubles': 4151, 'propheties': 4152, 'mayas': 4153, 'parte': 4154, 'oxford': 4155, 'invitation': 4156, 'etrangeres': 4157, 'impatiemment': 4158, 'protection': 4159, 'pleinement': 4160, 'hemorragie': 4161, 'interne': 4162, 'coree': 4163, 'signaler': 4164, 'mille': 4165, 'prendrais': 4166, 'finit': 4167, 'identite': 4168, 'decisions': 4169, 'accoutumee': 4170, 'personnelles': 4171, 'gravir': 4172, 'intention': 4173, 'trouves': 4174, 'reproches': 4175, 'compares': 4176, 'choux': 4177, 'carottes': 4178, 'plonge': 4179, 'latin': 4180, 'humanites': 4181, 'culture': 4182, 'rendra': 4183, 'tremble': 4184, 'serez': 4185, 'ajouterai': 4186, 'finale': 4187, 'ecarte': 4188, 'relations': 4189, 'prevu': 4190, 'vendu': 4191, 'devalises': 4192, 'farouchement': 4193, 'oppose': 4194, 'compromis': 4195, 'economie': 4196, 'dotee': 4197, 'inconduite': 4198, 'collier': 4199, 'mercredi': 4200, 'materiel': 4201, 'soutien': 4202, 'devis': 4203, 'multitude': 4204, 'foule': 4205, 'tas': 4206, 'quantite': 4207, 'influences': 4208, 'environnement': 4209, 'soumis': 4210, 'fouiller': 4211, 'totalite': 4212, 'reduire': 4213, 'depenses': 4214, 'reprocher': 4215, 'amusez': 4216, 'amuses': 4217, 'leeds': 4218, 'evaluation': 4219, 'antiquites': 4220, 'projette': 4221, 'cale': 4222, 'litterature': 4223, 'biologie': 4224, 'pointure': 4225, 'sommite': 4226, 'impressionnable': 4227, 'inconfortables': 4228, 'histoires': 4229, 'car': 4230, 'agi': 4231, 'stupidement': 4232, 'disputes': 4233, 'commencent': 4234, 'derniere': 4235, 'bjork': 4236, 'grandissent': 4237, 'etudes': 4238, 'sociales': 4239, 'interessent': 4240, 'quete': 4241, 'astronomie': 4242, 'souhaitons': 4243, 'pechons': 4244, 'oceans': 4245, 'conseil': 4246, 'paroissial': 4247, 'redire': 4248, 'normalement': 4249, 'prevoit': 4250, 'developper': 4251, 'vente': 4252, 'financierement': 4253, 'suedois': 4254, 'gentillesse': 4255, 'orchestre': 4256, 'oreille': 4257, 'gauche': 4258, 'travaillent': 4259, 'animalerie': 4260, 'etudient': 4261, 'webdesign': 4262, 'suspicieux': 4263, 'suspicieuse': 4264, 'suspicieuses': 4265, 'espere': 4266, 'rodomontades': 4267, 'tubes': 4268, 'populaires': 4269, 'mesurons': 4270, 'profondeur': 4271, 'acheve': 4272, 'main': 4273, 'paysage': 4274, 'tirez': 4275, 'avantage': 4276, 'faiblesse': 4277, 'ambassade': 4278, 'irritant': 4279, 'prochaines': 4280, 'recupere': 4281, 'moto': 4282, 'trafiquee': 4283, 'calvitie': 4284, 'naissante': 4285, 'parasol': 4286, 'classique': 4287, 'expriment': 4288, 'enlacant': 4289, 'encourage': 4290, 'moisson': 4291, 'annonce': 4292, 'rejouissons': 4293, 'presence': 4294, 'hospitalite': 4295, 'quoique': 4296, 'fasses': 4297, 'desaccord': 4298, 'nobles': 4299, 'sculptent': 4300, 'statue': 4301, 'marbre': 4302, 'dont': 4303, 'devons': 4304, 'emmenent': 4305, 'urgences': 4306, 'rales': 4307, 'souvenir': 4308, 'mele': 4309, 'conversation': 4310, 'insatisfaction': 4311, 'romps': 4312, 'nana': 4313, 'organisation': 4314, 'institution': 4315, 'disposees': 4316, 'reconnue': 4317, 'irresponsable': 4318, 'cloturer': 4319, 'recevoir': 4320, 'tarde': 4321, 'discuterons': 4322, 'jouant': 4323, 'videos': 4324, 'narita': 4325, 'hawaii': 4326, 'bataille': 4327, 'croyances': 4328, 'interprete': 4329, 'internationale': 4330, 'comporter': 4331, 'inventer': 4332, 'publication': 4333, 'ouvrage': 4334, 'receptive': 4335, 'hypnotique': 4336, 'jackson': 4337, 'entreprend': 4338, 'compiler': 4339, 'collectent': 4340, 'dons': 4341, 'candidats': 4342, 'presidentielles': 4343, 'americaines': 4344}), ('word2count', {'j': 414, 'ai': 340, 'ans': 55, '.': 10262, 'je': 3654, 'vais': 245, 'bien': 104, 'ca': 104, 'va': 51, 'suis': 2544, 'gras': 6, 'gros': 15, 'en': 847, 'forme': 18, 'touche': 3, '!': 197, 'touchee': 2, 'malade': 27, 'triste': 14, 'timide': 18, 'mouille': 2, 'mouillee': 1, 'il': 1309, 'est': 1838, 'revenu': 2, 'me': 273, 'revoila': 1, 'chauve': 3, 'occupe': 55, 'occupee': 36, 'calme': 4, 'froid': 13, 'fini': 52, 'tout': 150, 'libre': 26, 'disponible': 7, 'repu': 1, 'rassasie': 3, 'content': 60, 'chez': 51, 'moi': 205, 'retard': 46, 'paresseux': 12, 'faineant': 4, 'paresseuse': 5, 'faineante': 3, 'porte': 35, 'securite': 35, 'certain': 30, 'sur': 140, 'sure': 35, 'grande': 36, 'mince': 5, 'ordonne': 4, 'ordonnee': 3, 'laid': 3, 'laide': 2, 'faible': 8, 'vieux': 67, 'dj': 2, 'bon': 102, 'riche': 22, 'ici': 167, 'flic': 2, 'un': 746, 'homme': 57, 'seule': 31, 'seul': 38, 'arme': 4, 'armee': 3, 'reveille': 2, 'aveugle': 5, 'fauche': 2, 'fou': 29, 'folle': 7, 'gueri': 1, 'guerie': 1, 'saoul': 9, 'soul': 3, 'ivre': 10, 'meurs': 6, 'avance': 11, 'premier': 11, 'difficile': 14, 'tatillon': 3, 'tatillonne': 3, 'pars': 17, 'maintenant': 72, 'tire': 7, 'y': 105, 'loyal': 1, 'loyale': 1, 'veinard': 5, 'veinarde': 4, 'du': 165, 'pot': 2, 'chanceux': 11, 'chanceuse': 7, 'train': 181, 'de': 1486, 'mentir': 7, 'tranquille': 4, 'prete': 22, 'pret': 48, 'raison': 51, 'sobre': 1, 'excuse': 2, 'desole': 105, 'desolee': 71, 'coincee': 3, 'fatigue': 79, 'dur': 20, 'dure': 10, 'a': 847, 'cuire': 4, 'toi': 160, 'vous': 1815, 'elle': 602, 'chaude': 3, 'tres': 517, 'attirante': 10, 'nous': 1199, 'avons': 71, 'chaud': 4, 'sommes': 711, 'tristes': 1, 'timides': 3, 'faire': 92, 'gentil': 19, 'pauvre': 13, 'suisse': 1, 'helvete': 1, 'ruine': 3, 'intelligent': 28, 'humain': 1, 'creve': 9, 'francais': 30, 'coreen': 3, 'heros': 8, 'menteur': 23, 'cuis': 2, 'mieux': 28, 'paie': 4, 'c': 474, 'qui': 67, 'grassouillet': 1, 'grassouillette': 1, 'mange': 9, 'connu': 10, 'connue': 7, 'plus': 307, 'rapide': 10, 'flasque': 1, 'cupide': 2, 'gourmand': 1, 'gourmande': 1, 'cache': 5, 'honnete': 11, 'humble': 2, 'faim': 49, 'immunise': 1, 'immunisee': 1, 'au': 108, 'lit': 11, 'alite': 2, 'alitee': 1, 'rigole': 3, 'sens': 31, 'perdre': 17, 'demenager': 3, 'normal': 9, 'normale': 6, 'payer': 3, 'repose': 1, 'reposee': 1, 'ruinee': 1, 'remue': 1, 'remuee': 1, 'celibataire': 14, 'maigrichon': 6, 'maigrichonne': 6, 'sommeil': 17, 'sournois': 4, 'sournoise': 3, 'strict': 2, 'stricte': 2, 'fort': 180, 'forte': 12, 'trente': 8, 'affaiblie': 1, 'vieille': 26, 'gentille': 22, 'des': 280, 'hommes': 3, 'retour': 9, 'occupes': 13, 'occupees': 9, 'termine': 30, 'quittes': 2, 'allons': 70, 'la': 539, 'perdus': 2, 'perdues': 2, 'riches': 10, 'on': 68, 'foutu': 1, 'foutus': 1, 'faibles': 5, 'tu': 1171, 'es': 914, 'vilain': 3, 'grand': 72, 'etes': 1162, 'grands': 11, 'grandes': 9, 't': 139, 'marrante': 6, 'marrant': 7, 'vieilles': 6, 'huit': 8, 'hai': 1, 'mechant': 8, 'jeune': 56, 'beau': 18, 'mec': 9, 'gosse': 1, 'type': 15, 'binoclard': 2, 'flemmard': 1, 'endormi': 8, 'arrive': 9, 'd': 341, 'arriver': 6, 'pleurer': 3, 'simule': 1, 'blinde': 1, 'pete': 2, 'thune': 2, 'plein': 22, 'aux': 47, 'as': 58, 'mon': 185, 'age': 33, 'n': 773, 'pas': 1606, 'lui': 82, 'l': 329, 'interieur': 6, 'cuisinier': 6, 'moine': 1, 'plaisante': 6, 'egalement': 18, 'dix': 12, 'sept': 2, 'finlandais': 2, 'finlandaise': 1, 'italien': 5, 'boulanger': 1, 'boulangere': 1, 'fait': 75, 'honte': 23, 'maison': 41, 'dans': 128, 'perplexe': 7, 'beni': 1, 'benie': 1, 'prudent': 8, 'prudente': 4, 'les': 146, 'foies': 3, 'chocottes': 1, 'curieux': 12, 'curieuse': 10, 'danser': 11, 'regime': 7, 'conduire': 12, 'conduis': 2, 'fiance': 4, 'fiancee': 3, 'excite': 3, 'excitee': 2, 'fais': 102, 'diete': 3, 'meticuleux': 1, 'meticuleuse': 1, 'affole': 1, 'affolee': 1, 'furieux': 4, 'bonne': 65, 'sante': 10, 'fredonne': 1, 'jalouse': 6, 'frousse': 3, 'marie': 26, 'mariee': 22, 'ne': 1025, 'une': 366, 'idiote': 11, 'service': 12, 'patiente': 5, 'patient': 6, 'populaire': 4, 'remonte': 2, 'voyant': 3, 'voyante': 2, 'lis': 4, 'detendu': 1, 'detendue': 1, 'retraite': 4, 'retraitee': 1, 'pensionne': 2, 'pensionnee': 2, 'egoiste': 9, 'serieux': 12, 'choque': 4, 'choquee': 4, 'sincere': 1, 'bourre': 7, 'bourree': 3, 'tellement': 82, 'estomac': 2, 'talons': 2, 'dalle': 2, 'crocs': 2, 'reste': 7, 'gave': 1, 'gavee': 1, 'sidere': 3, 'sideree': 1, 'discuter': 7, 'taquine': 2, 'soif': 16, 'trop': 185, 'mecontent': 2, 'mecontente': 1, 'schcoumoune': 1, 'fortune': 1, 'fortunee': 1, 'gagne': 6, 'emporte': 1, 'travailler': 22, 'souci': 9, 'charme': 2, 'morte': 6, 'enfoiree': 1, 'renard': 2, 'ils': 325, 'sont': 438, 'mauvais': 22, 'elles': 223, 'mauvaises': 5, 'egalite': 1, 'seuls': 19, 'seules': 18, 'colere': 41, 'armes': 3, 'armees': 3, 'ennuyons': 3, 's': 56, 'emmerde': 1, 'fauches': 3, 'fauchees': 2, 'mourir': 30, 'heureux': 98, 'pretes': 14, 'sauves': 2, 'sauvees': 1, 'intelligents': 4, 'intelligentes': 4, 'desoles': 4, 'desolees': 3, 'coinces': 1, 'coincees': 1, 'fatigues': 8, 'fatiguees': 6, 'jumeaux': 2, 'jumelles': 1, 'sympa': 12, 'decontracte': 1, 'juste': 73, 'justes': 1, 'vas': 25, 'libres': 9, 'bons': 17, 'bonnes': 14, 'paresseuses': 1, 'perdu': 10, 'perdue': 1, 'sympas': 1, 'dingue': 7, 'dingues': 7, 'givre': 2, 'givree': 2, 'givres': 1, 'givrees': 1, 'grossier': 6, 'grossiers': 3, 'grossiere': 7, 'grossieres': 3, 'sauf': 6, 'saufs': 1, 'sauve': 2, 'minces': 1, 'poete': 5, 'excentrique': 1, 'manger': 18, 'heroique': 1, 'anglais': 32, 'bigot': 1, 'sectaire': 1, 'fanatique': 1, 'illumine': 1, 'souffre': 15, 'actuellement': 20, 'exterieur': 5, 'si': 173, 'mignon': 11, 'couard': 1, 'lache': 7, 'medecin': 20, 'toubib': 4, 'fermier': 1, 'agriculteur': 2, 'travaille': 23, 'ma': 81, 'ferme': 5, 'puriste': 1, 'drogue': 3, 'accro': 7, 'assuetude': 3, 'ouie': 3, 'adulte': 5, 'agent': 1, 'saigner': 1, 'melange': 1, 'pinceaux': 1, 'creatif': 3, 'creative': 3, 'cultive': 2, 'cultivee': 1, 'divorce': 4, 'divorcee': 2, 'noyer': 2, 'fidele': 4, 'affame': 3, 'intrepide': 3, 'bats': 1, 'gele': 2, 'cloue': 2, 'clouee': 1, 'credule': 1, 'le': 447, 'mal': 40, 'pays': 6, 'gueule': 1, 'bois': 4, 'paris': 4, 'innocent': 5, 'innocente': 2, 'ingenu': 2, 'ingenue': 2, 'implique': 7, 'impliquee': 1, 'm': 137, 'sors': 5, 'nouveau': 30, 'rebelle': 1, 'saint': 6, 'sainte': 4, 'sourd': 2, 'sourde': 3, 'abruti': 1, 'abrutie': 1, 'blesse': 7, 'blessee': 5, 'mechante': 3, 'certaine': 13, 'offense': 6, 'offensee': 6, 'indigne': 2, 'indignee': 1, 'puissant': 6, 'puissante': 4, 'preparee': 1, 'prepare': 8, 'ponctuel': 3, 'ponctuelle': 2, 'rationnel': 3, 'rationnelle': 3, 'amende': 1, 'amendee': 1, 'fiable': 8, 'tiens': 3, 'place': 3, 'impitoyable': 3, 'dormir': 7, 'las': 2, 'parler': 22, 'fringale': 1, 'tetu': 1, 'tetue': 1, 'obstine': 1, 'obstinee': 5, 'patron': 11, 'patronne': 4, 'reflechis': 3, 'minutieux': 2, 'minutieuse': 1, 'consciencieux': 4, 'consciencieuse': 3, 'ravi': 18, 'ravie': 13, 'chatouilleux': 1, 'chatouilleuse': 1, 'affaire': 19, 'affairee': 4, 'dis': 12, 'verite': 9, 'impartial': 1, 'impartiale': 1, 'dessus': 13, 'epuise': 5, 'chancarde': 1, 'tranchante': 1, 'affutee': 1, 'tort': 25, 'ce': 300, 'garcons': 2, 'froids': 1, 'froides': 1, 'flics': 6, 'mignons': 3, 'mignonnes': 2, 'decedes': 2, 'decedees': 2, 'ont': 30, 'partis': 2, 'parties': 2, 'miens': 5, 'miennes': 4, 'arabes': 1, 'equipe': 16, 'adultes': 1, 'tous': 150, 'guerre': 5, 'notre': 39, 'point': 18, 'vue': 3, 'biaise': 1, 'prejuges': 5, 'achetons': 2, 'fermes': 3, 'venons': 1, 'sortons': 9, 'ensemble': 20, 'condamnes': 2, 'cachons': 1, 'plaisantons': 3, 'perdons': 4, 'bouger': 2, 'normaux': 3, 'normales': 3, 'creves': 1, 'crevees': 2, 'ruines': 1, 'ruinees': 1, 'remues': 1, 'remuees': 1, 'sournoises': 2, 'forts': 5, 'fortes': 4, 'essayons': 2, 'joues': 1, 'chef': 23, 'cruelle': 2, 'cruel': 4, 'cruelles': 1, 'cruels': 1, 'viens': 26, 'tot': 18, 'matinal': 5, 'matinale': 4, 'vire': 7, 'licencie': 3, 'passes': 2, 'marrants': 3, 'marrantes': 3, 'manieres': 4, 'faites': 26, 'malpoli': 2, 'mens': 4, 'mentez': 5, 'lunatique': 3, 'naif': 7, 'naive': 6, 'naifs': 1, 'naives': 1, 'idiot': 23, 'idiots': 6, 'idiotes': 3, 'plante': 9, 'plantee': 2, 'plantes': 1, 'plantees': 1, 'durs': 2, 'dures': 2, 'contrariee': 10, 'contrarie': 10, 'bizarre': 4, 'bizarres': 1, 'erreur': 14, 'jeunes': 13, 'britannique': 1, 'voleur': 2, 'genre': 23, 'sorti': 4, 'lire': 17, 'court': 30, 'patin': 1, 'patine': 1, 'rouspeteur': 1, 'jesuite': 1, 'aine': 6, 'ancien': 2, 'magnat': 1, 'adorable': 12, 'derriere': 25, 'apres': 43, 'mes': 80, 'fesses': 1, 'poursuit': 2, 'embetant': 3, 'tokyo': 5, 'peu': 70, 'manque': 9, 'confiance': 14, 'sans': 26, 'pitie': 3, 'etudie': 17, 'etudier': 8, 'lent': 3, 'ton': 75, 'fils': 19, 'votre': 111, 'americain': 9, 'americaine': 5, 'japonais': 14, 'musulman': 2, 'musulmane': 1, 'coureur': 3, 'diabetique': 2, 'etudiant': 31, 'professeur': 34, 'enseignante': 7, 'adapte': 1, 'peur': 107, 'toute': 26, 'ambitieuse': 3, 'ambitieux': 5, 'artiste': 14, 'orphelin': 1, 'attentive': 2, 'attentif': 1, 'belle': 33, 'preoccupe': 7, 'preoccupee': 3, 'voila': 2, 'satisfait': 22, 'satisfaite': 10, 'convaincu': 16, 'deprime': 7, 'desespere': 8, 'desesperee': 5, 'differente': 5, 'degoute': 3, 'degoutee': 1, 'facile': 6, 'vivre': 10, 'epuisee': 6, 'vanne': 3, 'vannee': 2, 'fourbu': 3, 'crevee': 1, 'distrait': 3, 'distraite': 2, 'etourdi': 2, 'etourdie': 2, 'tom': 112, 'ur': 17, 'impatient': 22, 'impatiente': 10, 'important': 4, 'impressionnee': 13, 'impulsif': 1, 'impulsive': 1, 'boston': 9, 'danger': 26, 'intrigue': 2, 'intriguee': 1, 'cela': 41, 'ecoute': 5, 'motivee': 1, 'motive': 3, 'expert': 7, 'partie': 36, 'ses': 42, 'admirateurs': 2, 'leurs': 6, 'rends': 11, 'heureuse': 46, 'contente': 28, 'obese': 1, 'petite': 11, 'fatiguee': 26, 'observateur': 3, 'observatrice': 3, 'respectueux': 2, 'respectueuse': 1, 'chemin': 13, 'route': 4, 'desarme': 1, 'desarmee': 1, 'realiste': 1, 'eprouve': 3, 'ressentiment': 1, 'endurant': 3, 'endurante': 3, 'tenace': 3, 'non': 33, 'sensible': 10, 'surpris': 15, 'surprise': 9, 'survis': 1, 'terrifie': 1, 'terrifiee': 1, 'assure': 1, 'assuree': 2, 'vote': 1, 'tombe': 4, 'francaise': 4, 'jumelle': 2, 'active': 1, 'pleure': 2, 'beaute': 6, 'mannequin': 5, 'super': 4, 'asiatiques': 4, 'vie': 19, 'eveilles': 1, 'eveillees': 1, 'courageux': 12, 'courageuses': 4, 'yeux': 6, 'propres': 5, 'fous': 10, 'folles': 6, 'saouls': 2, 'saoules': 2, 'heureuses': 7, 'mentent': 4, 'petits': 2, 'petites': 2, 'espions': 1, 'espionnes': 1, 'formons': 2, 'groupe': 5, 'anxieux': 2, 'perplexes': 2, 'prudents': 2, 'prudentes': 2, 'certains': 3, 'certaines': 3, 'cousines': 2, 'fiances': 1, 'faisons': 24, 'amis': 36, 'amies': 14, 'aimons': 1, 'amoureux': 12, 'amoureuses': 1, 'veinards': 2, 'veinardes': 2, 'souffrons': 1, 'synchronises': 1, 'synchronisees': 1, 'ville': 17, 'jalouses': 3, 'maries': 10, 'detendus': 1, 'detendues': 1, 'serieuses': 4, 'choques': 1, 'choquees': 1, 'sinceres': 1, 'coulons': 1, 'couler': 1, 'bourres': 4, 'bourrees': 3, 'speciaux': 2, 'arret': 2, 'affames': 1, 'affamees': 1, 'restons': 3, 'gaves': 1, 'gavees': 1, 'sideres': 1, 'siderees': 1, 'touches': 2, 'touchees': 1, 'pieges': 2, 'piegees': 2, 'satisfaits': 8, 'satisfaites': 6, 'malchanceux': 1, 'malchanceuses': 1, 'inutiles': 4, 'attendre': 10, 'gagneurs': 1, 'gagner': 11, 'malin': 12, 'avez': 42, 'amour': 13, 'menteuse': 13, 'snob': 2, 'partiale': 1, 'partial': 1, 'ennuyez': 2, 'ennuies': 2, 'brillant': 3, 'brillante': 2, 'brillants': 1, 'brillantes': 1, 'maline': 4, 'malins': 3, 'malines': 1, 'ruse': 4, 'rusee': 2, 'ruses': 1, 'rusees': 1, 'astucieux': 8, 'astucieuse': 8, 'sinistre': 2, 'sinistres': 1, 'connus': 1, 'connues': 1, 'avide': 5, 'avides': 2, 'bougon': 2, 'bougonne': 2, 'grognon': 2, 'plaisantes': 3, 'plaisantez': 3, 'fric': 3, 'pleine': 9, 'drole': 15, 'jolie': 10, 'maigrichonnes': 2, 'maigrichons': 2, 'endormie': 4, 'endormis': 2, 'endormies': 2, 'injuste': 2, 'canadien': 3, 'genie': 5, 'ecrivain': 9, 'acteur': 2, 'faillite': 1, 'oncle': 5, 'ouvert': 11, 'sociable': 3, 'extraverti': 5, 'quelque': 31, 'joueur': 11, 'desormais': 30, 'planque': 2, 'auteur': 4, 'detenu': 1, 'hors': 8, 'loi': 4, 'harcele': 1, 'se': 74, 'trouve': 18, 'prison': 4, 'ami': 61, 'rend': 3, 'hongrois': 1, 'garcon': 22, 'touriste': 3, 'londres': 1, 'petrin': 7, 'endroit': 5, 'conge': 8, 'aujourd': 44, 'hui': 44, 'petit': 25, 'musicien': 6, 'musicienne': 1, 'quelqu': 10, 'vrai': 17, 'vendeur': 3, 'que': 454, 'crains': 44, 'contre': 11, 'maladroit': 2, 'vieil': 4, 'stupefait': 1, 'stupefaite': 1, 'utilise': 2, 'contagieux': 1, 'contagieuse': 1, 'mort': 23, 'deshydrate': 1, 'deshydratee': 1, 'peut': 7, 'compter': 3, 'aneanti': 1, 'aneantie': 1, 'bas': 3, 'entrainer': 1, 'vois': 5, 'loin': 15, 'fascine': 2, 'fascinee': 2, 'te': 138, 'kyoto': 2, 'retourne': 6, 'deviens': 8, 'aussi': 88, 'amuse': 7, 'analphabete': 1, 'voiture': 31, 'interesse': 23, 'interessee': 8, 'seulement': 9, 'simplement': 18, 'the': 2, 'mediter': 2, 'methodique': 2, 'baisse': 1, 'facilement': 10, 'bras': 3, 'abandonne': 3, 'amer': 1, 'amere': 2, 'grincheux': 1, 'grincheuse': 1, 'coupable': 6, 'blague': 3, 'raciste': 1, 'suffisamment': 9, 'vacances': 13, 'conges': 3, 'entre': 6, 'optimiste': 3, 'essence': 1, 'vraiment': 144, 'raisonnable': 3, 'reamenager': 1, 'quelle': 7, 'poisse': 1, 'toujours': 161, 'encore': 121, 'succes': 18, 'tueur': 1, 'deshabille': 3, 'devets': 2, 'chomage': 2, 'talent': 16, 'depourvu': 7, 'depourvue': 6, 'habitue': 27, 'accoutume': 4, 'habituee': 12, 'vegetarienne': 3, 'eveille': 2, 'eveillee': 1, 'infirmiere': 3, 'maladroite': 1, 'exprimer': 4, 'fille': 59, 'bombe': 1, 'canon': 2, 'ange': 1, 'enceinte': 2, 'attend': 20, 'evenement': 1, 'famille': 19, 'bruyante': 3, 'parle': 24, 'ennuient': 2, 'bebes': 1, 'ennuyeux': 1, 'ennuyeuses': 1, 'arrivent': 2, 'prets': 10, 'toutes': 102, 'couple': 1, 'completement': 36, 'freres': 9, 'divorces': 1, 'echapper': 1, 'battre': 8, 'reconnaissants': 3, 'reconnaissantes': 2, 'impuissants': 2, 'impuissantes': 2, 'ouverts': 3, 'ouvertes': 2, 'surs': 8, 'sures': 8, 'obeissants': 1, 'obeissantes': 1, 'partenaires': 5, 'puissants': 2, 'puissantes': 2, 'ponctuels': 1, 'ponctuelles': 1, 'abandonnons': 2, 'fiables': 3, 'partons': 8, 'pension': 4, 'impitoyables': 1, 'debout': 5, 'mourons': 1, 'tetus': 1, 'tetues': 1, 'etudiants': 15, 'meilleurs': 6, 'meilleures': 2, 'derniers': 4, 'dernieres': 2, 'pareils': 2, 'pareilles': 2, 'cretins': 1, 'attardes': 1, 'mentaux': 1, 'stupide': 9, 'puritain': 2, 'puritaine': 2, 'incroyable': 6, 'incroyables': 5, 'marrer': 2, 'genial': 5, 'geniale': 5, 'insensible': 2, 'insaisissable': 2, 'tatillons': 1, 'tatillonnes': 1, 'imprudent': 2, 'imprudente': 2, 'imprudents': 1, 'imprudentes': 1, 'invites': 8, 'invitees': 7, 'invite': 13, 'invitee': 9, 'marcher': 11, 'aucune': 4, 'aide': 25, 'grosse': 4, 'grosses': 4, 'conviens': 1, 'convenez': 2, 'precis': 2, 'precise': 1, 'remontee': 1, 'egoistes': 2, 'mechants': 1, 'mechantes': 1, 'professionnel': 4, 'prie': 2, 'avec': 125, 'plaisir': 2, 'rien': 32, 'gagnes': 2, 'gagnez': 2, 'emportes': 1, 'emportez': 1, 'reveur': 2, 'peintre': 5, 'medium': 1, 'enseignant': 19, 'instituteur': 11, 'paye': 4, 'ment': 4, 'comedien': 1, 'membre': 7, 'fraternite': 1, 'etudiante': 8, 'bizuth': 1, 'bleu': 5, 'jardinier': 1, 'venu': 6, 'lambin': 1, 'lourdaud': 1, 'gaucher': 3, 'devient': 4, 'epoux': 3, 'associe': 1, 'compagnon': 2, 'partenaire': 3, 'photogenique': 4, 'egypte': 1, 'barre': 1, 'barree': 1, 'azeri': 1, 'tele': 8, 'emeche': 2, 'emechee': 1, 'etranger': 14, 'femme': 31, 'foyer': 2, 'masochiste': 2, 'oiseau': 2, 'nuit': 13, 'peux': 18, 'courir': 3, 'sais': 7, 'skier': 2, 'presque': 34, 'quasiment': 4, 'aventureuse': 1, 'ingenieur': 2, 'travail': 52, 'supplie': 2, 'capte': 1, 'comprends': 6, 'fete': 3, 'arrose': 1, 'lave': 5, 'daltonien': 1, 'aise': 6, 'cooperer': 1, 'craque': 1, 'gene': 3, 'abattu': 1, 'abattue': 1, 'bresil': 3, 'originaire': 2, 'france': 4, 'turquie': 2, 'zambie': 1, 'commence': 30, 'devenir': 7, 'vieillis': 1, 'applique': 2, 'appliquee': 1, 'brise': 1, 'pour': 333, 'vaincre': 1, 'presse': 3, 'pressee': 1, 'derange': 19, 'introverti': 3, 'introvertie': 1, 'myope': 2, 'anglaise': 2, 'enfant': 44, 'escroc': 1, 'ivrogne': 2, 'robot': 1, 'voleuse': 2, 'alarme': 1, 'dispute': 1, 'nerveux': 9, 'nerveuse': 2, 'parfait': 8, 'parfaite': 1, 'malheureux': 3, 'malheureuse': 2, 'blaguer': 3, 'munitions': 5, 'persevere': 1, 'plutot': 33, 'assez': 87, 'aller': 41, 'partir': 36, 'remplacable': 3, 'ressources': 14, 'marre': 29, 'confus': 4, 'spontanee': 1, 'spontane': 1, 'tel': 6, 'compassion': 1, 'capitaine': 4, 'chirurgien': 1, 'ras': 2, 'bol': 3, 'sincerement': 2, 'ambition': 9, 'convaincue': 9, 'loup': 4, 'modeste': 1, 'regarder': 15, 'television': 7, 'amie': 40, 'avocat': 8, 'ta': 25, 'canadienne': 2, 'japonaise': 6, 'coureuse': 1, 'chanteuse': 9, 'dactylographe': 1, 'dactylo': 1, 'gracieuse': 1, 'assurance': 1, 'deprimee': 3, 'passe': 7, 'baraka': 2, 'acteurs': 1, 'melons': 1, 'animaux': 4, 'disputer': 8, 'cousins': 1, 'medecins': 4, 'nerveuses': 2, 'partent': 1, 'vont': 25, 'dehors': 6, 'similaires': 2, 'semblables': 8, 'sourient': 3, 'speciales': 1, 'restent': 2, 'parlent': 7, 'grasses': 1, 'enseignants': 3, 'enseignantes': 3, 'regardons': 2, 'canadiens': 1, 'canadiennes': 1, 'flexibles': 2, 'ambitieuses': 2, 'disponibles': 1, 'deux': 69, 'comediens': 1, 'engages': 3, 'engagees': 2, 'devoues': 1, 'devouees': 1, 'deprimes': 2, 'differents': 6, 'differentes': 6, 'reparer': 3, 'flattes': 1, 'jardiniers': 1, 'gentilshommes': 1, 'charge': 1, 'dirigeons': 10, 'ecoutons': 1, 'nouveaux': 4, 'venus': 2, 'nouvelles': 13, 'venues': 1, 'imbeciles': 1, 'chichis': 2, 'rendons': 5, 'contents': 8, 'contentes': 5, 'depasse': 2, 'prisonniers': 4, 'prisonnieres': 3, 'realistes': 1, 'demissionnons': 1, 'endurants': 2, 'endurantes': 2, 'sensibles': 1, 'separees': 1, 'separes': 1, 'surprises': 4, 'survivons': 1, 'survivants': 1, 'survivantes': 1, 'nos': 9, 'scores': 2, 'serres': 3, 'proches': 8, 'assures': 1, 'assurees': 1, 'apparentes': 4, 'apparentees': 3, 'heroine': 6, 'vilaine': 2, 'comme': 63, 'mignonne': 11, 'celui': 21, 'elu': 6, 'celle': 16, 'elue': 5, 'adorables': 1, 'finis': 2, 'finies': 1, 'chiant': 2, 'chiante': 1, 'arrogant': 2, 'arrogante': 2, 'arrogants': 1, 'arrogantes': 1, 'rougis': 3, 'negligent': 2, 'negligente': 1, 'charmant': 3, 'charmante': 3, 'charmantes': 1, 'charmants': 1, 'triches': 1, 'trichez': 1, 'embrouilles': 2, 'creatifs': 1, 'creatives': 1, 'dement': 1, 'deloyal': 2, 'deloyale': 2, 'deloyales': 1, 'deloyaux': 1, 'fideles': 1, 'intrepides': 1, 'pardonne': 2, 'pardonnee': 2, 'pardonnes': 1, 'pardonnees': 1, 'terre': 6, 'hideuses': 1, 'hideux': 1, 'trompez': 2, 'trompes': 3, 'ennemi': 7, 'morts': 7, 'mortes': 6, 'malades': 3, 'pathetique': 3, 'pathetiques': 1, 'agite': 1, 'agitee': 1, 'autoritaire': 3, 'difficiles': 2, 'gentils': 5, 'gentilles': 4, 'temporises': 1, 'temporisez': 1, 'entete': 1, 'entetee': 1, 'talentueux': 13, 'talentueuse': 8, 'talentueuses': 4, 'meilleur': 25, 'meilleure': 5, 'bruyant': 2, 'bruyants': 1, 'bruyantes': 1, 'lente': 2, 'lents': 1, 'lentes': 1, 'acrobate': 1, 'lune': 3, 'son': 91, 'pyjama': 2, 'soucis': 2, 'problemes': 15, 'ennuis': 9, 'qu': 118, 'frere': 20, 'jamais': 20, 'apprecie': 9, 'tenancier': 2, 'bar': 2, 'niais': 1, 'adore': 14, 'chats': 9, 'gentleman': 9, 'historien': 1, 'fumeur': 2, 'deuxieme': 2, 'annee': 6, 'cote': 15, 'grippe': 1, 'meme': 49, 'classe': 15, 'coup': 6, 'foudre': 1, 'esprit': 11, 'ces': 23, 'pauvres': 3, 'types': 4, 'inconscient': 1, 'observe': 4, 'pere': 44, 'volontaire': 2, 'cuisine': 9, 'moment': 21, 'russie': 1, 'frire': 1, 'poisson': 7, 'temps': 56, 'payee': 3, 'semaine': 13, 'relativement': 1, 'vingt': 3, 'cinq': 9, 'cousin': 3, 'employe': 10, 'banque': 5, 'solitaire': 6, 'gars': 10, 'fondu': 3, 'photo': 3, 'nager': 19, 'desoriente': 2, 'desorientee': 1, 'deja': 22, 'mauvaise': 13, 'humeur': 12, 'ambidextre': 1, 'plage': 4, 'emplois': 2, 'postes': 1, 'changer': 3, 'poste': 8, 'tes': 14, 'cotes': 2, 'vos': 15, 'paume': 1, 'decu': 10, 'dejeune': 2, 'colle': 1, 'flippe': 1, 'amerique': 4, 'croatie': 1, 'angleterre': 2, 'roumanie': 1, 'coucher': 2, 'instant': 9, 'scolarise': 1, 'scolarisee': 1, 'garde': 5, 'grenier': 1, 'tue': 2, 'ainsi': 14, 'dire': 18, 'different': 3, 'mendiant': 1, 'docteur': 5, 'serieuse': 4, 'frime': 1, 'rever': 3, 'extravertie': 3, 'paranoiaque': 6, 'idees': 11, 'reagis': 2, 'fier': 37, 'glandes': 1, 'essaye': 8, 'benevolat': 2, 'pianiste': 1, 'sage': 10, 'fachee': 4, 'russes': 2, 'disputent': 1, 'artistes': 2, 'chanteurs': 1, 'faux': 4, 'fausses': 1, 'disparu': 2, 'droles': 3, 'temporiser': 2, 'etudiantes': 7, 'eleves': 5, 'traitres': 1, 'tantinet': 3, 'celibataires': 4, 'uniques': 1, 'stupefaits': 1, 'exploite': 1, 'copains': 1, 'reduisons': 1, 'voilure': 1, 'pigeons': 1, 'retournons': 3, 'arriere': 2, 'descendons': 1, 'vers': 6, 'ouest': 3, 'moitie': 6, 'amusons': 2, 'fac': 6, 'controlons': 1, 'situation': 6, 'sauveteurs': 1, 'acheter': 9, 'fricotons': 1, 'coupables': 3, 'besoin': 12, 'voix': 4, 'connaissons': 1, 'reussite': 3, 'cernes': 2, 'decoller': 1, 'proprietaires': 4, 'deshabillons': 1, 'deshabiller': 1, 'emploi': 11, 'depourvus': 4, 'depourvues': 3, 'enfants': 25, 'fabuleux': 1, 'fabuleuse': 1, 'splendide': 2, 'impossible': 6, 'incorrigible': 4, 'responsable': 17, 'responsables': 8, 'arrives': 1, 'tard': 8, 'arrivez': 1, 'traitre': 3, 'traitresse': 2, 'allez': 23, 'comprendre': 13, 'savez': 1, 'beaux': 3, 'belles': 3, 'suffisant': 2, 'suffisante': 2, 'suffisants': 1, 'suffisantes': 1, 'courtois': 2, 'courtoise': 2, 'courtoises': 2, 'epuises': 1, 'epuisees': 1, 'oublieux': 2, 'oublieuse': 1, 'chance': 13, 'chanceuses': 2, 'chanteur': 7, 'mourant': 1, 'viree': 2, 'vires': 1, 'virees': 1, 'odieux': 2, 'odieuse': 2, 'odieuses': 1, 'observation': 1, 'pouvoir': 10, 'tenaces': 1, 'frissonnes': 1, 'bavard': 2, 'bavarde': 2, 'bavards': 1, 'bavardes': 1, 'tendu': 2, 'tendue': 2, 'tendus': 1, 'tendues': 1, 'immoral': 1, 'immorale': 1, 'chouette': 10, 'chouettes': 1, 'ouverte': 3, 'avise': 5, 'avisee': 5, 'sages': 4, 'avises': 2, 'avisees': 2, 'merveilleux': 4, 'merveilleuse': 6, 'merveilleuses': 1, 'mangeur': 1, 'biologiste': 1, 'brave': 7, 'casse': 4, 'cou': 5, 'detective': 1, 'dramaturge': 1, 'monsieur': 5, 'physicien': 2, 'taiseux': 1, 'scientifique': 6, 'doit': 1, 'avoir': 124, 'quarantaine': 1, 'bureau': 10, 'tirer': 1, 'cas': 4, 'espoir': 6, 'affaires': 12, 'incompetent': 1, 'influent': 2, 'vivant': 5, 'fache': 1, 'instruit': 1, 'irrealiste': 1, 'regarde': 11, 'tv': 1, 'journaliste': 4, 'mordu': 1, 'cinema': 5, 'parti': 8, 'alle': 1, 'cycle': 1, 'endette': 1, 'jusqu': 6, 'georgie': 2, 'mouise': 3, 'vient': 5, 'air': 7, 'et': 78, 'met': 1, 'poches': 1, 'fourre': 1, 'fouilles': 1, 'ramasse': 1, 'argent': 28, 'pelle': 1, 'prend': 3, 'oseille': 1, 'dort': 3, 'profondement': 3, 'anges': 1, 'confiant': 6, 'etre': 92, 'aime': 24, 'rendre': 8, 'pain': 3, 'maths': 3, 'debiteur': 3, 'debitrice': 1, 'personne': 37, 'nouvel': 6, 'nouvelle': 16, 'eleve': 6, 'vraie': 7, 'loque': 4, 'ennuie': 8, 'agee': 9, 'ecole': 14, 'merci': 5, 'conscient': 11, 'consciente': 5, 'terriblement': 5, 'attention': 8, 'montre': 5, 'patience': 7, 'concentrer': 3, 'cours': 3, 'concentration': 1, 'devoir': 8, 'penser': 4, 'extremement': 8, 'tete': 12, 'tourne': 5, 'abasourdi': 1, 'bulgarie': 1, 'colombie': 1, 'rejouis': 52, 'sauter': 1, 'irremplacable': 1, 'supposer': 1, 'perds': 5, 'poids': 9, 'maigris': 1, 'joueuse': 1, 'monstre': 1, 'pratique': 4, 'divination': 1, 'devin': 1, 'telepathe': 1, 'soldat': 1, 'institutrice': 7, 'indisponible': 2, 'gobe': 6, 'dangereux': 4, 'impressionne': 12, 'pieces': 1, 'panique': 2, 'persuade': 1, 'persuadee': 1, 'entraineur': 1, 'bebe': 10, 'servante': 3, 'deborde': 1, 'partout': 1, 'sorte': 10, 'sceptique': 8, 'attends': 33, 'prendre': 16, 'bain': 3, 'voisin': 3, 'debutante': 1, 'novice': 1, 'agressive': 3, 'asociale': 1, 'niaise': 1, 'coriace': 1, 'mode': 2, 'argument': 1, 'hyperactive': 1, 'massives': 1, 'massifs': 1, 'regardent': 3, 'menteurs': 3, 'menteuses': 3, 'cannibales': 1, 'dangereuses': 1, 'onereux': 1, 'onereuses': 2, 'chics': 1, 'intacts': 1, 'intactes': 1, 'australiens': 2, 'australiennes': 2, 'camarades': 2, 'rire': 5, 'mariees': 5, 'laches': 4, 'retraites': 1, 'retraitees': 1, 'fetons': 1, 'cooperons': 1, 'defenses': 2, 'experience': 5, 'disposons': 1, 'nord': 2, 'sud': 2, 'occuper': 1, 'charger': 1, 'derangeons': 1, 'journalistes': 1, 'habilles': 2, 'habillees': 2, 'tueurs': 1, 'tueuses': 1, 'parfaits': 1, 'parfaites': 1, 'sourire': 2, 'bienvenus': 3, 'bienvenues': 3, 'clous': 1, 'biere': 5, 'lait': 1, 'vin': 2, 'perseverons': 1, 'retirons': 2, 'pleins': 3, 'prenons': 4, 'controle': 5, 'ascendant': 1, 'rejouons': 1, 'probleme': 16, 'dignes': 1, 'actrices': 1, 'importants': 1, 'importantes': 1, 'importante': 2, 'prisonnier': 3, 'agressif': 1, 'exprimes': 1, 'exprimez': 1, 'courageuse': 6, 'degoutant': 2, 'degoutante': 2, 'degoutants': 1, 'degoutantes': 1, 'tues': 1, 'tuez': 1, 'surmene': 3, 'surmenee': 2, 'surmenees': 1, 'surmenes': 1, 'productif': 3, 'productive': 3, 'productifs': 1, 'productives': 1, 'remarquable': 1, 'cerne': 2, 'cernees': 1, 'cernee': 2, 'maitre': 7, 'maitresse': 4, 'doyen': 4, 'doyenne': 4, 'ainee': 5, 'poli': 2, 'polie': 2, 'polis': 1, 'polies': 1, 'maigre': 4, 'maigres': 1, 'braves': 2, 'vif': 5, 'vive': 4, 'vifs': 1, 'vives': 1, 'intelligente': 17, 'craintif': 4, 'craintive': 4, 'craintifs': 2, 'craintives': 2, 'peureux': 2, 'peureuse': 2, 'peureuses': 1, 'contraries': 3, 'contrariees': 3, 'conducteur': 4, 'poissonnier': 1, 'perdant': 1, 'environ': 6, 'pres': 8, 'article': 1, 'boire': 11, 'dejeuner': 9, 'camarade': 4, 'collegue': 2, 'radio': 3, 'joue': 18, 'golf': 2, 'venir': 12, 'borne': 1, 'soigneux': 1, 'erudit': 2, 'jaloux': 7, 'creationiste': 1, 'marcheur': 1, 'sale': 5, 'critique': 11, 'gastronomique': 1, 'negre': 1, 'gardien': 1, 'but': 1, 'methamphetamines': 1, 'etrange': 4, 'aristocrate': 2, 'approche': 1, 'rapproche': 1, 'concret': 1, 'cartes': 2, 'douche': 6, 'bougre': 1, 'notres': 7, 'unique': 9, 'frole': 1, 'cinquante': 1, 'independant': 6, 'bouc': 5, 'emissaire': 5, 'flexible': 3, 'enseigner': 5, 'musique': 16, 'portugal': 1, 'shizuoka': 1, 'griller': 1, 'difficulte': 4, 'jardin': 4, 'monde': 24, 'voisine': 2, 'apprends': 11, 'vite': 14, 'rouille': 3, 'photographe': 3, 'mais': 29, 'chauves': 1, 'souris': 1, 'chiens': 11, 'harceler': 1, 'promu': 2, 'promue': 2, 'puni': 1, 'punie': 1, 'preuve': 1, 'saigne': 1, 'gravement': 1, 'achete': 3, 'chiot': 2, 'claustrophobe': 1, 'suite': 4, 'juillet': 1, 'compte': 14, 'eau': 7, 'dimanche': 9, 'singapour': 1, 'prends': 16, 'remets': 5, 'detendre': 1, 'ski': 4, 'ecouter': 10, '?': 145, 'baignoire': 1, 'peine': 2, 'commencer': 7, 'tcheque': 1, 'laisse': 5, 'libere': 4, 'special': 3, 'particulier': 1, 'criminel': 1, 'criminelle': 1, 'magicien': 1, 'lubies': 1, 'nie': 1, 'invincible': 1, 'surpoids': 1, 'saoule': 1, 'ennemie': 4, 'incontrolable': 1, 'demarrer': 1, 'embarrasse': 6, 'embarrassee': 5, 'excusez': 2, 'sous': 15, 'choc': 3, 'soudainement': 1, 'soutiens': 2, 'double': 7, 'enthousiasme': 2, 'usage': 2, 'cette': 50, 'tasse': 3, 'utiliser': 3, 'beaucoup': 42, 'ecrire': 6, 'bouquin': 1, 'pietre': 2, 'cuisiniere': 4, 'aider': 40, 'embrasser': 1, 'pieds': 8, 'dedans': 13, 'inconsciente': 1, 'elite': 2, 'alcoolique': 3, 'fruits': 3, 'extenues': 1, 'extenuees': 1, 'bienveillants': 1, 'bienveillantes': 1, 'chretiens': 3, 'illets': 1, 'jetables': 2, 'dessous': 2, 'mots': 5, 'furieuses': 2, 'viennent': 6, 'font': 10, 'gens': 8, 'infectes': 1, 'infectees': 1, 'memes': 6, 'effort': 1, 'bientot': 8, 'ecrivains': 1, 'conservateurs': 1, 'contribuons': 1, 'decues': 2, 'entretien': 1, 'penetrer': 4, 'essayer': 6, 'mi': 2, 'miel': 1, 'gardons': 1, 'bibliotheque': 6, 'battons': 1, 'impliques': 2, 'impliquees': 2, 'soldats': 1, 'stock': 2, 'reagissons': 1, 'horaire': 2, 'serre': 2, 'enfuyons': 1, 'ralentir': 1, 'attaques': 2, 'attaquees': 2, 'excites': 2, 'excitees': 1, 'portons': 3, 'volontaires': 1, 'insupportable': 1, 'regardes': 4, 'regardez': 3, 'nounours': 1, 'zozo': 1, 'specimen': 1, 'gamin': 2, 'racistes': 2, 'enerves': 1, 'evites': 1, 'evitez': 1, 'prevenant': 2, 'prevenante': 1, 'cooperez': 2, 'extravertis': 1, 'extraverties': 1, 'fascinante': 2, 'fascinantes': 1, 'fascinant': 2, 'fascinants': 1, 'branche': 3, 'branchee': 2, 'branches': 1, 'branchees': 1, 'princesse': 1, 'contusionne': 2, 'contusionnee': 2, 'contusionnes': 1, 'contusionnees': 1, 'habille': 2, 'habillee': 6, 'aides': 5, 'aidez': 4, 'liste': 1, 'ecoule': 3, 'remplacer': 1, 'indispensable': 1, 'pitoyable': 1, 'vivants': 2, 'vivante': 2, 'vivantes': 2, 'inexperimente': 1, 'sacre': 5, 'quel': 6, 'sacree': 2, 'prof': 6, 'touchez': 1, 'rouge': 3, 'devenez': 1, 'astucieuses': 2, 'ingenieux': 4, 'ingenieuse': 4, 'habile': 7, 'habiles': 2, 'ingenieuses': 2, 'direct': 2, 'directe': 2, 'directes': 1, 'solitaires': 2, 'travailleur': 5, 'taille': 4, 'tendance': 3, 'oublier': 1, 'rugby': 1, 'religieux': 3, 'kilos': 1, 'probablement': 20, 'promenade': 2, 'dit': 5, 'mensonge': 2, 'nettoie': 4, 'chapeau': 7, 'cardiologue': 2, 'invetere': 2, 'embrasse': 2, 'tardivement': 1, 'maturite': 1, 'electron': 1, 'scenariste': 1, 'actif': 1, 'inconditionnel': 2, 'opera': 4, 'comporte': 1, 'etrangement': 1, 'correctement': 5, 'faut': 7, 'auparavant': 6, 'merde': 4, 'cinquantaine': 2, 'probable': 10, 'vienne': 5, 'electricien': 2, 'nouilles': 1, 'rejoindre': 3, 'morphee': 1, 'mere': 20, 'eplucher': 1, 'pommes': 6, 'mediocre': 2, 'tennis': 19, 'livre': 14, 'fois': 25, 'entendre': 19, 'debutant': 4, 'dors': 4, 'perfectionniste': 2, 'social': 1, 'travailleuse': 1, 'sociale': 1, 'etrangere': 3, 'sortir': 9, 'programme': 2, 'lessive': 1, 'paille': 1, 'pomme': 3, 'marier': 5, 'voir': 63, 'enchante': 7, 'rencontrer': 16, 'ayons': 3, 'vu': 2, 'voyage': 12, 'sciences': 3, 'chant': 1, 'vetements': 4, 'incroyablement': 13, 'dette': 3, 'envers': 8, 'apprendre': 14, 'basque': 1, 'soir': 29, 'vis': 5, 'reve': 1, 'progres': 6, 'presente': 2, 'excuses': 9, 'blame': 1, 'reviens': 3, 'plains': 3, 'accorde': 1, 'decourage': 1, 'decouragee': 1, 'moindre': 5, 'douleur': 1, 'intimide': 2, 'intimidee': 2, 'quitte': 6, 'serail': 2, 'leur': 22, 'bande': 2, 'presentable': 1, 'fiere': 23, 'client': 4, 'parfaitement': 14, 'bout': 5, 'souffle': 1, 'legerement': 1, 'oublie': 6, 'inquiet': 13, 'indecis': 1, 'coince': 2, 'boulot': 6, 'leger': 1, 'essaie': 14, 'frustre': 1, 'frustree': 1, 'tour': 5, 'ecris': 6, 'roman': 7, 'capable': 11, 'moulin': 1, 'parole': 7, 'elevee': 1, 'peau': 1, 'noire': 2, 'gateaux': 1, 'nature': 6, 'bienveillante': 1, 'eux': 9, 'blamer': 1, 'mineure': 3, 'nee': 2, 'blonde': 2, 'concierge': 1, 'commere': 4, 'ravissante': 1, 'veritable': 8, 'ete': 11, 'empoisonnee': 1, 'volonte': 3, 'chretiennes': 2, 'voleurs': 1, 'voleuses': 1, 'attendent': 9, 'pretent': 1, 'moches': 2, 'nes': 1, 'impressionnes': 3, 'impressionnees': 3, 'temoins': 3, 'milieu': 2, 'observes': 1, 'fermons': 1, 'consciencieuses': 2, 'enfin': 5, 'approchons': 4, 'arrivons': 1, 'commencons': 1, 'fatiguer': 2, 'chasse': 1, 'comptons': 3, 'abandonner': 3, 'etrangers': 2, 'demain': 40, 'cafe': 4, 'jouer': 18, 'fiers': 4, 'fieres': 3, 'tentons': 3, 'diable': 1, 'inquiets': 5, 'acariatre': 2, 'incorrigibles': 1, 'irresistible': 1, 'saignes': 1, 'saignez': 1, 'tiree': 2, 'tirees': 1, 'tires': 2, 'sec': 2, 'bibine': 1, 'maree': 1, 'basse': 1, 'sucre': 3, 'dramatises': 1, 'dramatisez': 1, 'maniere': 4, 'excessive': 2, 'reagissez': 1, 'empoisonnes': 1, 'empoisonnez': 1, 'impatients': 3, 'impatientes': 1, 'dragueurs': 2, 'dragueuses': 1, 'dragueuse': 1, 'confiante': 3, 'confiants': 2, 'confiantes': 1, 'curieuses': 2, 'effrontee': 4, 'effronte': 4, 'effrontees': 2, 'effrontes': 2, 'serviable': 4, 'serviables': 2, 'elegante': 10, 'elegant': 10, 'elegantes': 4, 'elegants': 4, 'gaspillez': 5, 'gaspilles': 5, 'travailles': 1, 'travaillez': 1, 'orateur': 1, 'nageur': 2, 'bel': 1, 'acerbe': 1, 'foi': 1, 'emmerdeur': 1, 'longueur': 1, 'inconnu': 2, 'respire': 1, 'soixante': 1, 'cool': 2, 'mesure': 1, 'energie': 3, 'foot': 3, 'satisfaire': 1, 'propre': 10, 'pareil': 1, 'sa': 56, 'cookies': 1, 'precieux': 3, 'sauvage': 1, 'trompe': 3, 'gants': 1, 'influence': 1, 'informaticien': 1, 'boutonneux': 1, 'maniaque': 2, 'celebre': 5, 'boule': 1, 'nerfs': 1, 'nerveusement': 5, 'use': 3, 'parleur': 1, 'baratineur': 1, 'follement': 2, 'epris': 1, 'cancer': 1, 'poumons': 1, 'grave': 6, 'loupe': 2, 'coche': 2, 'demi': 3, 'bateau': 9, 'offert': 1, 'assistance': 1, 'domicile': 1, 'pitre': 1, 'chaise': 5, 'protecteur': 1, 'ours': 2, 'contraint': 1, 'vets': 1, 'prudemment': 1, 'dessin': 1, 'conte': 1, 'histoire': 6, 'peser': 1, 'citoyen': 4, 'citoyenne': 2, 'windows': 1, 'complet': 2, 'blond': 1, 'naturel': 2, 'voler': 1, 'projet': 4, 'allergique': 7, 'disposition': 2, 'attiree': 3, 'par': 79, 'repris': 1, 'business': 1, 'appelle': 8, 'verifie': 2, 'possibilites': 2, 'fermer': 2, 'depends': 1, 'vaisselle': 1, 'appel': 2, 'fil': 1, 'confuse': 2, 'stresse': 2, 'stressee': 1, 'repare': 3, 'chose': 29, 'engage': 3, 'engagee': 1, 'ait': 3, 'aies': 15, 'rencontre': 8, 'soyez': 14, 'sois': 15, 'serai': 2, 'universite': 15, 'revenue': 1, 'rentre': 1, 'pratiquement': 3, 'soirs': 1, 'sauver': 3, 'amoureuse': 3, 'galere': 1, 'autre': 6, 'cherche': 30, 'bonhomme': 1, 'neige': 2, 'truc': 1, 'vegetarien': 1, 'moins': 8, 'demens': 1, 'invente': 2, 'epouser': 3, 'enfuis': 1, 'asseoir': 2, 'rester': 2, 'empeche': 2, 'porter': 4, 'serviteur': 1, 'souvent': 14, 'poursuites': 2, 'engager': 1, 'combattre': 1, 'degourdi': 2, 'degourdie': 2, 'blesses': 2, 'blessees': 2, 'epouvantable': 2, 'math': 1, 'embrouille': 2, 'embrouillee': 2, 'utile': 1, 'film': 3, 'inquiete': 16, 'lettre': 11, 'fan': 2, 'danseuse': 2, 'patiner': 1, 'sport': 2, 'rang': 1, 'hostile': 2, 'vit': 3, 'souper': 1, 'diner': 6, 'reves': 3, 'copine': 6, 'heure': 2, 'saute': 1, 'corde': 1, 'ventre': 1, 'ooita': 1, 'livres': 3, 'emotive': 5, 'approchent': 2, 'urs': 1, 'courent': 3, 'peuvent': 1, 'chanter': 8, 'capables': 2, 'touristes': 2, 'tenter': 2, 'trouver': 11, 'constituent': 2, 'menace': 2, 'regles': 2, 'intimes': 2, 'radins': 1, 'envoient': 1, 'onze': 1, 'mangerons': 1, 'heures': 5, 'tonneau': 1, 'aneantis': 1, 'aneanties': 1, 'vulnerables': 3, 'sang': 2, 'claustrophobes': 1, 'rapprochons': 1, 'devenons': 1, 'rechauffons': 1, 'entrons': 1, 'courses': 7, 'emplettes': 4, 'combattrons': 1, 'montons': 1, 'eclate': 1, 'subissons': 2, 'rafale': 1, 'vent': 1, 'tabac': 1, 'visite': 3, 'recession': 1, 'barbares': 1, 'evacuer': 1, 'interesses': 3, 'interessees': 2, 'terroristes': 1, 'habitues': 2, 'habituees': 2, 'ennemis': 2, 'ennemies': 2, 'balles': 1, 'protegeons': 1, 'mineurs': 1, 'mineures': 1, 'dernier': 5, 'japonaises': 1, 'etat': 2, 'arrestation': 1, 'bienvenue': 6, 'mangez': 1, 'allemand': 5, 'gare': 5, 'file': 8, 'gares': 1, 'garees': 1, 'garee': 2, 'comptes': 1, 'nombre': 2, 'suspects': 2, 'comptez': 1, 'dirige': 1, 'dirigez': 1, 'ecoutez': 2, 'ecoutes': 2, 'premiere': 2, 'ordonnes': 1, 'ordonnees': 1, 'opportuniste': 4, 'opportunistes': 1, 'laisses': 1, 'dominer': 2, 'emotions': 2, 'laissez': 1, 'foutez': 1, 'grandir': 2, 'imbecile': 2, 'lunatiques': 1, 'fantasque': 2, 'fantasques': 1, 'inoubliable': 2, 'inoubliables': 1, 'genereux': 6, 'genereuse': 5, 'genereuses': 2, 'farceur': 1, 'heroino': 2, 'dependant': 5, 'fossile': 1, 'vision': 1, 'tireur': 1, 'gate': 2, 'pourri': 1, 'soupcon': 1, 'craint': 7, 'officier': 1, 'plaire': 1, 'chante': 5, 'salle': 7, 'toilettes': 1, 'amateur': 1, 'pensees': 3, 'proche': 2, 'intime': 1, 'ordinaire': 6, 'egard': 1, 'etait': 6, 'ligne': 1, 'frimeur': 1, 'reussir': 10, 'incapable': 2, 'laver': 2, 'lunettes': 3, 'notoire': 1, 'serpents': 7, 'allergie': 1, 'oceanographe': 1, 'absent': 6, 'maquis': 1, 'moque': 2, 'apprend': 6, 'chinois': 5, 'forces': 1, 'force': 3, 'suspect': 2, 'distant': 1, 'parents': 10, 'plie': 1, 'robe': 10, 'reconnaissant': 6, 'recolter': 1, 'ble': 1, 'comparer': 1, 'danseur': 3, 'vertige': 2, 'araignees': 2, 'expedients': 1, 'restaurant': 1, 'immediatement': 4, 'devoirs': 12, 'examen': 6, 'redoute': 1, 'apprehende': 1, 'sandwich': 2, 'echoue': 3, 'japon': 6, 'ayez': 12, 'passer': 1, 'blesser': 1, 'manquer': 11, 'tant': 8, 'presenter': 4, 'franc': 1, 'franche': 1, 'entrainement': 1, 'incroyant': 1, 'droguee': 1, 'toxico': 2, 'millionnaire': 5, 'absolument': 5, 'entierement': 9, 'arreter': 5, 'bagarrer': 1, 'etroit': 1, 'etroite': 1, 'athletique': 1, 'chaussettes': 1, 'pause': 3, 'jeu': 9, 'televise': 1, 'console': 1, 'mecs': 2, 'rarement': 2, 'autant': 2, 'hauteur': 3, 'veux': 9, 'meler': 2, 'submerge': 2, 'echecs': 6, 'songe': 7, 'faute': 2, 'tienne': 3, 'bruit': 1, 'attirez': 1, 'nageuse': 3, 'fumer': 8, 'apparentee': 4, 'coud': 1, 'eu': 2, 'conne': 1, 'elegamment': 1, 'sortis': 1, 'magasins': 2, 'sorties': 1, 'terrifies': 2, 'terrifiees': 1, 'chercher': 9, 'criminels': 2, 'criminelles': 1, 'chers': 1, 'cheres': 1, 'suivre': 7, 'jouent': 3, 'mijotent': 1, 'conneries': 1, 'preparent': 1, 'correctes': 1, 'serons': 1, 'egares': 2, 'egarees': 1, 'occupons': 2, 'marions': 1, 'aboutissons': 1, 'nulle': 10, 'part': 12, 'exercer': 1, 'gonzesse': 4, 'chic': 2, 'filles': 5, 'chantes': 1, 'chantez': 1, 'paranoiaques': 1, 'travers': 2, 'approches': 1, 'approchez': 1, 'remettre': 2, 'amusant': 2, 'amusante': 2, 'amusantes': 1, 'amusants': 1, 'analysez': 1, 'analyses': 1, 'geniales': 1, 'geniaux': 1, 'pense': 15, 'previsible': 2, 'previsibles': 1, 'entres': 1, 'trentaine': 3, 'entrez': 1, 'efficace': 4, 'efficaces': 2, 'emotives': 2, 'emotifs': 2, 'emotif': 4, 'observateurs': 1, 'observatrices': 1, 'sceptiques': 2, 'pire': 5, 'naissance': 2, 'competent': 4, 'charpentier': 1, 'gentilhomme': 2, 'voit': 2, 'borgne': 1, 'jazz': 3, 'tache': 4, 'peinture': 2, 'natation': 4, 'meurtre': 3, 'parmi': 3, 'velo': 3, 'lourd': 1, 'reflechir': 4, 'subalterne': 1, 'agit': 2, 'accroche': 1, 'medicaments': 2, 'mer': 2, 'course': 2, 'origine': 2, 'asiatique': 1, 'taupe': 1, 'jetons': 1, 'espionner': 1, 'appuie': 1, 'canne': 1, 'soit': 11, 'recherche': 10, 'sait': 6, 'digne': 2, 'promener': 1, 'ecrit': 5, 'journal': 2, 'brosse': 2, 'dents': 4, 'prochaine': 11, 'demenage': 1, 'mois': 8, 'prochain': 10, 'seize': 1, 'quelques': 12, 'minutes': 1, 'chauffeur': 1, 'taxi': 1, 'familier': 8, 'noir': 5, 'obscurite': 1, 'gluten': 1, 'autorise': 8, 'corps': 2, 'aeroport': 2, 'faits': 3, 'risques': 2, 'retenu': 1, 'otage': 2, 'retenue': 1, 'vrac': 1, 'venue': 6, 'veniez': 3, 'viennes': 2, 'australie': 2, 'honore': 1, 'terrible': 2, 'horrible': 5, 'gamins': 1, 'assoiffe': 1, 'club': 2, 'hate': 5, 'cle': 3, 'allonge': 2, 'herbe': 2, 'allongee': 1, 'professionnelle': 2, 'maligne': 8, 'leve': 1, 'matin': 6, 'repondre': 4, 'conteste': 1, 'drague': 2, 'question': 1, 'bete': 2, 'organise': 1, 'organisee': 1, 'payes': 2, 'quand': 4, 'reellement': 5, 'rapport': 2, 'assiduite': 1, 'consciencieusement': 1, 'rappeler': 1, 'ordinateur': 4, 'marche': 5, 'soleil': 1, 'sujet': 17, 'cuisiner': 3, 'apte': 3, 'fraude': 1, 'vol': 6, 'habituellement': 1, 'habitude': 8, 'tenir': 1, 'assise': 4, 'seduisante': 3, 'sorciere': 1, 'rale': 1, 'arrete': 1, 'raler': 1, 'mouvement': 2, 'hotel': 4, 'monopoly': 1, 'cousue': 1, 'or': 1, 'joyeux': 4, 'joyeuses': 2, 'baquet': 2, 'trousses': 4, 'rendez': 4, 'midi': 10, 'decus': 3, 'accord': 8, 'carburant': 1, 'travaillons': 10, 'ufs': 1, 'pouvons': 11, 'divorcer': 1, 'enquetons': 2, 'apprenons': 1, 'partirons': 2, 'accoster': 1, 'etudions': 2, 'fouteur': 1, 'fauteur': 1, 'trouble': 1, 'entendez': 1, 'choses': 12, 'entends': 2, 'coherent': 1, 'usee': 2, 'medisant': 1, 'mary': 8, 'genez': 1, 'mettez': 3, 'genes': 1, 'mets': 4, 'rougir': 2, 'cooperes': 1, 'rapides': 1, 'veut': 2, 'courant': 3, 'embetante': 3, 'embetants': 1, 'embetantes': 1, 'magnifique': 4, 'splendides': 1, 'thesauriseur': 1, 'manigances': 1, 'attirant': 7, 'attirants': 2, 'attirantes': 2, 'perspicace': 2, 'perspicaces': 1, 'gaspiller': 3, 'compositeur': 1, 'sympathique': 3, 'medecine': 1, 'champion': 4, 'dessiner': 2, 'image': 1, 'desire': 2, 'ardemment': 2, 'couramment': 4, 'aventure': 1, 'deteste': 1, 'canape': 2, 'etendu': 1, 'parait': 1, 'semble': 3, 'bord': 2, 'chimie': 1, 'grossit': 1, 'respect': 1, 'decede': 1, 'hume': 1, 'soupe': 1, 'cheval': 2, 'voyager': 13, 'seduisant': 1, 'etasunien': 1, 'chinoise': 1, 'tricheur': 1, 'demande': 15, 'hero': 1, 'reussira': 3, 'fusil': 1, 'carabine': 1, 'sort': 3, 'moral': 2, 'virer': 1, 'adorer': 4, 'calcul': 1, 'dote': 2, 'intelligence': 1, 'desesperement': 1, 'rumine': 1, 'cadet': 1, 'piste': 2, 'danse': 1, 'peindre': 3, 'comprehensif': 5, 'manteau': 2, 'magazine': 1, 'grimper': 1, 'plait': 5, 'connais': 6, 'pleuve': 3, 'decois': 3, 'decevez': 2, 'corvees': 1, 'degouline': 1, 'sueur': 1, 'emotionnellement': 2, 'vide': 1, 'videe': 1, 'recommencer': 1, 'police': 6, 'proteger': 8, 'quoi': 1, 'crois': 1, 'pris': 2, 'vertiges': 1, 'adorent': 4, 'partisan': 2, 'prone': 1, 'appartiens': 1, 'pecheur': 1, 'noms': 5, 'excelle': 2, 'suggestions': 1, 'propositions': 1, 'connaissance': 5, 'combat': 1, 'decue': 6, 'nom': 6, 'serieusement': 3, 'semblant': 3, 'somnolent': 1, 'bus': 2, 'dispose': 5, 'rejouit': 1, 'donner': 5, 'abeille': 2, 'vetue': 3, 'blanc': 5, 'epouse': 2, 'verte': 1, 'massacrante': 1, 'tricote': 3, 'echarpe': 1, 'broche': 1, 'championne': 1, 'football': 5, 'rechauffer': 1, 'cles': 4, 'chouchoute': 2, 'inapte': 1, 'ramassent': 1, 'noisettes': 1, 'salade': 1, 'direction': 7, 'rendent': 2, 'cherchent': 8, 'revenir': 2, 'trouvent': 6, 'autosuffisants': 1, 'autosuffisantes': 1, 'quatre': 1, 'dejeunons': 1, 'espagnol': 2, 'lundi': 4, 'convaincus': 5, 'convaincues': 5, 'desesperes': 1, 'desesperees': 1, 'parvenir': 2, 'parlons': 1, 'aveuglee': 2, 'aveuglees': 1, 'aveugles': 1, 'rentrer': 4, 'lieu': 1, 'devez': 6, 'dois': 7, 'obsession': 1, 'hypocrites': 1, 'bloques': 1, 'bloquez': 1, 'conduisez': 2, 'caches': 2, 'cachez': 1, 'imagines': 1, 'imaginez': 1, 'faciles': 1, 'reussit': 2, 'rates': 1, 'ratez': 1, 'bienvenu': 5, 'effrayer': 1, 'effraies': 1, 'trois': 13, 'ignorant': 2, 'ignorante': 2, 'ignorants': 1, 'ignorantes': 1, 'propriete': 2, 'privee': 3, 'pleines': 1, 'caractere': 1, 'typique': 2, 'plaint': 5, 'frais': 4, 'emoulu': 4, 'gymnastique': 1, 'ouvrir': 1, 'fenetre': 1, 'tableau': 2, 'sorcier': 1, 'personnage': 1, 'constamment': 3, 'insatisfait': 2, 'sublimement': 1, 'eglise': 2, 'sent': 1, 'tassee': 1, 'sera': 2, 'choisi': 1, 'frappe': 1, 'chat': 1, 'chatte': 1, 'quitter': 7, 'cet': 18, 'interet': 2, 'entraine': 10, 'romantique': 1, 'jeux': 5, 'video': 3, 'honnetete': 1, 'desireux': 3, 'echouer': 1, 'enchantee': 4, 'nourris': 2, 'revoir': 21, 'papa': 1, 'raccrocher': 1, 'pieuter': 1, 'regretter': 4, 'taire': 1, 'songer': 1, 'baigner': 1, 'char': 1, 'station': 1, 'soin': 2, 'portefeuille': 2, 'realise': 1, 'documentaire': 1, 'locuteur': 1, 'natif': 1, 'violent': 1, 'violente': 2, 'demander': 2, 'fantomes': 2, 'enfreins': 1, 'nettoyer': 3, 'coin': 4, 'hasard': 1, 'parie': 1, 'impliquer': 4, 'entrerai': 1, 'competition': 1, 'vendrai': 2, 'inspiree': 1, 'excessif': 1, 'vends': 3, 'signe': 1, 'aimer': 2, 'claires': 1, 'repentir': 2, 'disposee': 2, 'pardon': 1, 'poser': 2, 'apprecier': 2, 'etonne': 5, 'etonnee': 3, 'telephone': 9, 'bu': 1, 'economiser': 1, 'vaux': 1, 'affreusement': 1, 'cheveux': 2, 'conseils': 1, 'fauchee': 1, 'decorative': 1, 'determinee': 2, 'tomber': 2, 'raide': 2, 'machine': 1, 'enseigne': 4, 'ombre': 4, 'paupiere': 1, 'hauts': 1, 'mettent': 1, 'paquet': 1, 'compatibles': 2, 'suivent': 1, 'chanson': 3, 'terrifiez': 1, 'magasin': 2, 'boutique': 1, 'demenageons': 1, 'jeans': 1, 'rupture': 1, 'commandement': 1, 'inquietons': 1, 'bercons': 1, 'illusions': 1, 'leurrons': 1, 'presses': 1, 'gaz': 4, 'fierte': 1, 'joie': 1, 'indelicats': 1, 'indelicates': 1, 'indelicat': 2, 'indelicate': 2, 'individu': 3, 'execrable': 2, 'formidable': 2, 'tarabuster': 2, 'desobeis': 1, 'ordres': 3, 'desobeissez': 1, 'pouvez': 1, 'passez': 1, 'saisis': 1, 'saisissez': 1, 'atmosphere': 3, 'gachez': 1, 'gaches': 1, 'deformes': 1, 'paroles': 3, 'deformez': 1, 'societe': 4, 'quarante': 3, 'cocaine': 1, 'nuages': 1, 'revasse': 1, 'ecologiste': 1, 'enseignement': 1, 'tend': 1, 'mettre': 1, 'voisins': 5, 'chambre': 4, 'doutes': 2, 'cause': 6, 'surmenage': 1, 'amical': 2, 'lentement': 2, 'qualite': 1, 'accepte': 1, 'causer': 1, 'placard': 3, 'penderie': 2, 'enfreint': 1, 'candidat': 1, 'congres': 1, 'lecture': 1, 'agis': 3, 'quatorze': 1, 'habiller': 1, 'pends': 1, 'chemises': 1, 'sienne': 1, 'mienne': 5, 'sien': 1, 'habite': 3, 'present': 2, 'chateau': 1, 'deranger': 7, 'emploie': 2, 'jours': 12, 'ci': 1, 'arroser': 2, 'fleurs': 3, 'inconditionnelle': 1, 'lyceen': 3, 'puisse': 1, 'tremblements': 1, 'pression': 1, 'penses': 5, 'pensez': 4, 'fin': 1, 'haricots': 1, 'joins': 1, 'fichiers': 1, 'detester': 2, 'ramene': 2, 'pizza': 2, 'demissionner': 3, 'raccourcis': 1, 'choix': 3, 'decision': 1, 'realite': 4, 'rassemble': 3, 'informations': 1, 'impression': 1, 'pompe': 1, 'pu': 3, 'contenter': 3, 'preniez': 1, 'conscience': 2, 'prennes': 1, 'portiez': 2, 'portes': 4, 'verre': 1, 'feu': 1, 'confectionner': 1, 'bucher': 1, 'moyens': 1, 'hopital': 3, 'pousser': 1, 'barbe': 1, 'retourner': 1, 'obeir': 1, 'pull': 2, 'over': 1, 'chandail': 2, 'piles': 1, 'appareil': 1, 'impatience': 5, 'specialise': 1, 'sociologie': 1, 'appeler': 7, 'ceci': 11, 'evanouir': 1, 'toucher': 1, 'autres': 11, 'camp': 1, 'prevois': 3, 'suppose': 9, 'supposee': 2, 'repeter': 4, 'chaleur': 3, 'general': 1, 'etais': 1, 'reveillee': 1, 'soulage': 1, 'releve': 1, 'hurle': 5, 'crie': 4, 'propos': 9, 'hier': 5, 'perte': 3, 'art': 2, 'dramatique': 1, 'kabuki': 1, 'approuverait': 1, 'nul': 1, 'langues': 5, 'tente': 3, 'conductrice': 1, 'lamentable': 1, 'loyer': 1, 'enrhumee': 1, 'personnes': 2, 'agees': 1, 'piano': 4, 'banale': 1, 'bleue': 3, 'lisent': 3, 'inquietent': 2, 'paix': 3, 'pendre': 1, 'consequence': 1, 'vivons': 1, 'dos': 1, 'mur': 2, 'estimes': 1, 'espion': 1, 'espionne': 1, 'allemands': 2, 'plaignez': 2, 'dites': 3, 'adolescent': 3, 'adolescente': 2, 'malignes': 1, 'rationnels': 1, 'rationnelles': 1, 'totalement': 6, 'pente': 1, 'racontes': 1, 'mensonges': 2, 'raffine': 4, 'raffinee': 4, 'raffines': 2, 'raffinees': 2, 'comprehensive': 4, 'comprehensifs': 2, 'comprehensives': 2, 'mari': 8, 'noble': 1, 'harvard': 2, 'absorbe': 2, 'six': 4, 'haut': 3, 'trahison': 1, 'matiere': 2, 'baseball': 1, 'chine': 2, 'concert': 3, 'devant': 3, 'handicape': 1, 'mental': 1, 'avant': 1, 'sejourne': 1, 'assis': 7, 'tailleur': 1, 'tient': 2, 'colline': 1, 'agronomie': 1, 'table': 1, 'suspecte': 1, 'nage': 1, 'piscine': 4, 'merite': 1, 'louanges': 1, 'batiment': 2, 'lois': 2, 'multiples': 1, 'talents': 2, 'malbouffe': 1, 'bandes': 1, 'dessinees': 1, 'viendra': 4, 'decidement': 1, 'creuse': 3, 'beuverie': 1, 'faculte': 1, 'doue': 4, 'parc': 4, 'longue': 1, 'chaque': 3, 'descends': 2, 'escalier': 1, 'simple': 3, 'ceinture': 1, 'karate': 5, 'clochard': 1, 'enrhume': 1, 'sauvages': 1, 'sein': 2, 'donne': 11, 'salaire': 2, 'lance': 1, 'signal': 1, 'detresse': 1, 'aucun': 8, 'doute': 3, 'certainement': 8, 'possible': 2, 'envie': 5, 'boisson': 2, 'fraiche': 2, 'idee': 1, 'demenagement': 1, 'puissiez': 1, 'puisses': 1, 'sieste': 1, 'piquer': 1, 'somme': 1, 'repenser': 1, 'doucher': 1, 'constater': 1, 'haute': 1, 'survivre': 1, 'maman': 1, 'disparaitre': 1, 'signer': 1, 'simulation': 1, 'fetes': 4, 'garder': 2, 'refuse': 2, 'vendre': 2, 'croire': 6, 'risque': 2, 'decore': 1, 'uf': 1, 'paques': 1, 'rechigne': 1, 'epargne': 2, 'malentendu': 1, 'interrompre': 1, 'embouteillage': 2, 'moyen': 1, 'partira': 4, 'construit': 2, 'mcdonald': 1, 'apre': 2, 'desireuse': 3, 'preparer': 7, 'sortie': 2, 'editeur': 2, 'aimee': 2, 'tombee': 1, 'banc': 4, 'agacer': 1, 'ample': 1, 'nettoient': 1, 'laboratoire': 3, 'etasuniens': 1, 'etasuniennes': 1, 'appartenons': 2, 'billets': 1, 'refaire': 1, 'desastre': 1, 'destines': 1, 'censes': 4, 'jeter': 3, 'phase': 1, 'plaindre': 3, 'leurrez': 1, 'leurres': 1, 'avion': 3, 'coco': 2, 'drille': 2, 'comportes': 2, 'comportez': 1, 'interessante': 6, 'souffrez': 1, 'souffres': 1, 'autorisee': 3, 'dormez': 1, 'stupides': 1, 'epreuve': 2, 'objet': 2, 'enquete': 2, 'soucieux': 2, 'soucieuse': 2, 'soucieuses': 1, 'inquietes': 1, 'mathematicien': 1, 'romancier': 3, 'prometteur': 2, 'soigneusement': 3, 'vetu': 1, 'autorite': 5, 'mains': 3, 'couilles': 1, 'photos': 5, 'debut': 1, 'crime': 1, 'compagnie': 1, 'respecte': 3, 'torrefie': 1, 'feves': 1, 'scene': 1, 'fringant': 1, 'rhume': 2, 'marketing': 1, 'pigiste': 2, 'portable': 3, 'joindre': 1, 'cercle': 1, 'rude': 1, 'encoignures': 1, 'fume': 1, 'tripotee': 1, 'tripote': 1, 'partirai': 1, 'termes': 3, 'tien': 2, 'mien': 3, 'conseiller': 1, 'gestion': 1, 'faveur': 5, 'suggestion': 3, 'cesse': 2, 'surprendre': 1, 'actrice': 2, 'andouille': 1, 'aurai': 2, 'mariage': 1, 'abattre': 1, 'jour': 6, 'quotidiennement': 1, 'gerant': 5, 'autoriser': 1, 'citer': 1, 'livrer': 1, 'negocier': 2, 'suggere': 1, 'ouvre': 2, 'cadeaux': 1, 'economise': 3, 'recriminations': 2, 'doives': 1, 'elimine': 2, 'antipathique': 1, 'persuader': 2, 'promene': 2, 'effondre': 1, 'regrette': 3, 'soignee': 1, 'excellente': 2, 'quadra': 1, 'planifie': 1, 'bonheur': 1, 'epluche': 1, 'attitree': 1, 'fondue': 1, 'tricot': 2, 'passionnee': 1, 'lourde': 2, 'accomplie': 1, 'professeurs': 2, 'agissent': 2, 'amusent': 2, 'employes': 1, 'partiel': 2, 'employees': 1, 'dollars': 3, 'chacun': 2, 'chacune': 1, 'lavent': 1, 'susceptibles': 1, 'commettre': 6, 'erreurs': 8, 'propension': 1, 'changeons': 1, 'attendons': 6, 'hiver': 1, 'doux': 1, 'manipules': 1, 'manipulees': 1, 'joueurs': 1, 'joueuses': 1, 'continuer': 3, 'officiellement': 2, 'drap': 1, 'cachet': 1, 'aspirine': 1, 'decollage': 1, 'confirme': 1, 'redevable': 1, 'reclame': 1, 'commets': 2, 'commettez': 1, 'interessant': 2, 'interessants': 1, 'interessantes': 2, 'clairement': 2, 'negociateur': 1, 'commences': 2, 'commencez': 1, 'recherchee': 1, 'metier': 1, 'profession': 2, 'experimente': 2, 'echec': 2, 'match': 1, 'president': 2, 'attache': 2, 'gloire': 1, 'elections': 2, 'municipales': 1, 'chances': 4, 'remporter': 2, 'remporte': 2, 'progresser': 1, 'aupres': 2, 'test': 1, 'reunion': 2, 'fonds': 1, 'frileux': 1, 'pionnier': 3, 'appelons': 1, 'niveau': 1, 'international': 1, 'defauts': 4, 'mondanites': 1, 'audace': 1, 'conduite': 2, 'australienne': 1, 'lie': 1, 'indiffere': 1, 'indifferent': 1, 'concerne': 4, 'camion': 1, 'lecteur': 1, 'offenses': 1, 'offensees': 1, 'perde': 1, 'rumeur': 2, 'averee': 2, 'puissions': 2, 'requiers': 2, 'disposez': 1, 'plan': 3, 'disposes': 2, 'audition': 2, 'role': 1, 'possibilite': 3, 'sentir': 6, 'curiosite': 1, 'aiguiser': 1, 'deconne': 1, 'chaussures': 6, 'pale': 1, 'malgre': 2, 'lignes': 1, 'directrices': 1, 'bouquins': 1, 'voulez': 1, 'comprenne': 1, 'compreniez': 1, 'comprennes': 1, 'finalement': 6, 'rencontree': 2, 'rencontrees': 1, 'rencontres': 1, 'souleve': 8, 'mentionne': 2, 'voies': 1, 'voyiez': 1, 'chemise': 2, 'dechiffrer': 1, 'resoudre': 3, 'volerai': 1, 'laisser': 2, 'epargner': 1, 'possede': 1, 'traverse': 1, 'cellulaire': 2, 'mobile': 1, 'renseigne': 1, 'acquerir': 2, 'donnerai': 4, 'patinerai': 1, 'particulierement': 6, 'rue': 1, 'siege': 1, 'supporte': 1, 'rompu': 2, 'promesse': 2, 'derangee': 7, 'deranges': 4, 'derangees': 4, 'intimides': 1, 'intimidez': 1, 'avait': 2, 'raisons': 2, 'reussiras': 3, 'secrets': 1, 'queue': 2, 'plaintes': 5, 'allemagne': 1, 'lever': 3, 'cuillere': 1, 'avenir': 4, 'jules': 1, 'dame': 1, 'autodidacte': 1, 'absorbee': 1, 'etude': 1, 'amicale': 1, 'tonnerre': 1, 'imiter': 1, 'personnel': 1, 'douee': 2, 'isolee': 1, 'vrais': 1, 'militent': 1, 'violences': 1, 'trainent': 1, 'torturer': 2, 'essuyer': 1, 'tempete': 1, 'degats': 1, 'agressifs': 1, 'ratons': 1, 'manquons': 1, 'critiques': 1, 'critiquez': 1, 'hallucines': 1, 'hallucinez': 1, 'deprimees': 1, 'tare': 1, 'ridiculises': 1, 'paraitre': 1, 'diplomate': 2, 'exactement': 5, 'irreprochable': 1, 'pantalon': 1, 'aidiez': 2, 'dentiste': 2, 'domaine': 4, 'guitare': 1, 'ideal': 1, 'attitude': 3, 'quiconque': 1, 'sentiments': 1, 'humains': 1, 'ordinateurs': 1, 'arracheur': 1, 'outrageusement': 1, 'annees': 1, 'collection': 1, 'portrait': 3, 'crache': 3, 'craindre': 1, 'realiser': 1, 'discours': 1, 'telles': 1, 'situations': 1, 'impresario': 2, 'rare': 1, 'change': 1, 'avis': 1, 'attire': 4, 'femmes': 3, 'negresses': 1, 'noires': 1, 'manipulateur': 1, 'traverser': 1, 'riviere': 3, 'tenue': 1, 'negligee': 1, 'resultat': 8, 'excellent': 3, 'essouffle': 1, 'sida': 2, 'assistant': 2, 'fautes': 1, 'verrai': 1, 'respectable': 1, 'difficultes': 7, 'construire': 1, 'occasion': 1, 'rende': 10, 'aimiez': 1, 'aimes': 1, 'hanovre': 1, 'irai': 4, 'parce': 2, 'requerir': 2, 'compare': 2, 'vetement': 2, 'compris': 2, 'effraye': 7, 'effrayee': 4, 'effrayes': 2, 'effrayees': 2, 'decevoir': 2, 'plans': 2, 'arranger': 4, 'janvier': 1, 'second': 2, 'survecu': 3, 'reflexions': 1, 'octobre': 2, 'aboient': 1, 'rose': 1, 'devouee': 3, 'vaut': 2, 'paralysee': 1, 'jambes': 1, 'appreciee': 2, 'ni': 2, 'peint': 1, 'etaient': 1, 'habituels': 1, 'attraper': 2, 'forment': 2, 'panier': 2, 'marchent': 1, 'nus': 2, 'cherchons': 3, 'facon': 1, 'rigoler': 1, 'amuser': 2, 'basket': 1, 'passons': 1, 'rajeunit': 1, 'rajeunissons': 1, 'regrettons': 2, 'corriger': 1, 'bug': 1, 'papillon': 1, 'parfois': 6, 'pueril': 2, 'puerile': 2, 'puerils': 1, 'pueriles': 1, 'plats': 1, 'nourriture': 3, 'vises': 1, 'visez': 1, 'preches': 4, 'prechez': 4, 'cense': 8, 'reposer': 1, 'entrainee': 6, 'formee': 6, 'aie': 2, 'gai': 1, 'attentionnee': 1, 'acte': 1, 'directeur': 2, 'questions': 2, 'pretextes': 1, 'capacites': 1, 'profite': 2, 'ecolier': 1, 'confronte': 3, 'nombreuses': 3, 'quittera': 1, 'chicago': 2, 'celebrite': 1, 'crises': 1, 'aient': 1, 'tromper': 1, 'journee': 3, 'renommee': 2, 'obsede': 1, 'proprete': 1, 'europe': 2, 'proposition': 3, 'langue': 1, 'representant': 1, 'commerce': 2, 'flattee': 1, 'flatte': 2, 'insiste': 1, 'perdions': 1, 'apercevoir': 1, 'motif': 1, 'distinguer': 1, 'schema': 1, 'traite': 1, 'chocolat': 1, 'droit': 3, 'opinion': 7, 'nombreux': 4, 'automne': 1, 'ambulance': 1, 'tuer': 1, 'manquera': 1, 'secret': 7, 'conter': 2, 'politique': 1, 'soucie': 1, 'veste': 2, 'new': 3, 'york': 3, 'times': 1, 'linux': 1, 'ressens': 3, 'hostilite': 1, 'embarrasses': 2, 'embarrassees': 2, 'blessent': 1, 'monnaie': 1, 'commande': 2, 'ira': 4, 'passera': 1, 'surgir': 1, 'surement': 2, 'benjamin': 1, 'flemme': 1, 'triathlon': 1, 'entreprise': 3, 'repasse': 1, 'mouchoirs': 1, 'visiter': 1, 'commun': 1, 'conception': 1, 'cynique': 1, 'bague': 1, 'prix': 2, 'convient': 2, 'depend': 5, 'examens': 2, 'pacifiques': 1, 'innocents': 1, 'profs': 1, 'loyaux': 1, 'menent': 2, 'tiennent': 1, 'gardent': 1, 'souffrent': 1, 'paludisme': 1, 'face': 1, 'crise': 1, 'case': 1, 'depart': 1, 'passerons': 1, 'manquerons': 1, 'thanksgiving': 1, 'planifions': 1, 'abuses': 1, 'abusez': 1, 'piece': 3, 'adorerez': 1, 'bousiller': 2, 'rajeunis': 1, 'suffisament': 1, 'echauffer': 1, 'restes': 2, 'restez': 2, 'emballe': 2, 'emballee': 2, 'estime': 1, 'comite': 2, 'imaginatif': 1, 'imagination': 2, 'maladie': 5, 'connait': 2, 'maire': 1, 'compliments': 2, 'ameliore': 1, 'expliquer': 1, 'exigences': 1, 'parent': 1, 'alliance': 2, 'impopulaire': 1, 'quelconque': 1, 'montagne': 4, 'fronde': 1, 'depuis': 4, 'expulse': 1, 'condition': 3, 'physique': 3, 'vecu': 2, 'entiere': 1, 'public': 2, 'coutume': 1, 'innocence': 6, 'linge': 2, 'pic': 1, 'nic': 1, 'veuillez': 1, 'excuser': 1, 'davantage': 6, 'eventuellement': 1, 'comprise': 1, 'brulures': 1, 'suivant': 1, 'lecon': 2, 'commissariat': 1, 'essentiel': 1, 'canada': 1, 'correspondant': 1, 'louer': 1, 'reponse': 6, 'evidemment': 2, 'dirai': 1, 'defi': 1, 'retrousser': 1, 'manches': 1, 'eponge': 1, 'espace': 2, 'vieillesse': 1, 'liquidites': 1, 'alors': 1, 'tardive': 1, 'serait': 2, 'engueule': 1, 'achat': 1, 'revienne': 1, 'experte': 1, 'mathematiques': 3, 'manche': 1, 'balai': 1, 'chantage': 2, 'exerce': 1, 'vaguement': 1, 'lointaine': 1, 'juin': 1, 'materialiste': 1, 'superficielle': 1, 'admet': 1, 'broadway': 1, 'avenue': 1, 'discutent': 1, 'etats': 1, 'unis': 1, 'jalousent': 2, 'quittent': 1, 'veulent': 7, 'quittons': 1, 'concurrents': 2, 'concurrentes': 1, 'soucions': 1, 'appretons': 1, 'justement': 1, 'savoir': 3, 'sied': 1, 'superbement': 1, 'citadine': 2, 'evidence': 1, 'connaisse': 2, 'ceremonies': 1, 'puissance': 1, 'deguise': 1, 'mouton': 2, 'tradition': 1, 'perd': 1, 'parapluie': 1, 'connaitre': 5, 'separe': 1, 'departement': 2, 'radin': 1, 'inde': 1, 'pleurnichard': 1, 'ramollo': 1, 'attente': 2, 'vehicule': 1, 'comportement': 1, 'bijouterie': 1, 'monotone': 1, 'habilete': 1, 'responsabilites': 2, 'humide': 3, 'couper': 1, 'arbre': 7, 'reecrire': 1, 'envoyer': 1, 'joli': 1, 'visage': 1, 'impressionner': 1, 'performance': 4, 'representation': 4, 'prestation': 4, 'hamburgers': 1, 'rate': 2, 'anniversaire': 2, 'ennuyer': 4, 'reconnais': 4, 'reproduira': 2, 'decalage': 1, 'numero': 2, 'longtemps': 1, 'accepter': 3, 'offre': 1, 'familiere': 1, 'chansons': 2, 'romanciere': 1, 'nourrit': 1, 'chien': 1, 'ressemble': 1, 'violoniste': 2, 'renom': 1, 'comment': 1, 'promis': 1, 'allait': 1, 'collegues': 1, 'ceux': 3, 'celles': 3, 'disent': 2, 'smic': 1, 'distribuent': 1, 'echantillons': 1, 'gratuits': 1, 'choisissons': 1, 'aurons': 2, 'gachons': 1, 'stationner': 2, 'autorises': 1, 'censees': 3, 'censee': 6, 'soutenez': 1, 'pretez': 1, 'interrompez': 2, 'devrais': 1, 'bouche': 1, 'archeologie': 1, 'preparatifs': 2, 'entier': 1, 'prompt': 2, 'inquietudes': 1, 'violon': 1, 'rugueux': 1, 'reveche': 1, 'liquide': 1, 'lancer': 2, 'couteaux': 1, 'remarquer': 1, 'decide': 1, 'troupe': 1, 'attaque': 1, 'cardiaque': 1, 'experiences': 2, 'malheureuses': 1, 'traine': 1, 'coton': 1, 'determine': 1, 'reussi': 1, 'noel': 1, 'oreillons': 1, 'depenser': 1, 'izu': 1, 'pendant': 1, 'week': 2, 'end': 2, 'manifestation': 1, 'pourrait': 1, 'genee': 1, 'apparemment': 1, 'alentours': 2, 'blanche': 1, 'lettres': 1, 'autour': 3, 'semestre': 2, 'journaux': 1, 'epandent': 1, 'arbres': 1, 'fruitiers': 1, 'vivent': 1, 'fantaisie': 1, 'planete': 1, 'hawai': 1, 'interruption': 2, 'supposes': 1, 'craignons': 1, 'demandons': 1, 'budget': 3, 'limite': 1, 'embrouillez': 1, 'responsabilite': 6, 'liberee': 2, 'liberees': 1, 'liberes': 1, 'humanite': 2, 'religieuses': 2, 'religieuse': 2, 'reporter': 1, 'time': 1, 'severe': 1, 'considere': 2, 'accident': 3, 'quelquefois': 1, 'horriblement': 1, 'deambule': 1, 'transe': 1, 'hyogo': 1, 'veiller': 2, 'commette': 3, 'egariez': 1, 'perdiez': 1, 'perdes': 1, 'resolu': 1, 'actuel': 1, 'jouerai': 1, 'semaines': 1, 'labeur': 2, 'baille': 1, 'rudiments': 2, 'ceramique': 2, 'orientale': 2, 'poetes': 1, 'classer': 1, 'sommeille': 1, 'bequilles': 1, 'inquieter': 1, 'ignoriez': 2, 'ignorais': 2, 'recuperer': 1, 'retomber': 1, 'relation': 4, 'independante': 1, 'roses': 1, 'conscients': 1, 'voient': 1, 'confrontes': 7, 'financieres': 1, 'bronzent': 2, 'jouons': 1, 'derangement': 2, 'voyageons': 2, 'ou': 1, 'pensais': 1, 'voie': 1, 'retablissement': 2, 'millionieme': 1, 'resultats': 1, 'anticipez': 1, 'pareille': 1, 'amnesie': 1, 'maitrise': 1, 'technique': 1, 'bagarre': 1, 'fomenter': 1, 'troubles': 1, 'propheties': 1, 'mayas': 1, 'parte': 1, 'oxford': 1, 'invitation': 2, 'etrangeres': 1, 'impatiemment': 1, 'protection': 1, 'pleinement': 1, 'hemorragie': 1, 'interne': 1, 'coree': 1, 'signaler': 1, 'mille': 1, 'prendrais': 1, 'finit': 1, 'identite': 1, 'decisions': 3, 'accoutumee': 1, 'personnelles': 1, 'gravir': 2, 'intention': 1, 'trouves': 1, 'reproches': 1, 'compares': 1, 'choux': 1, 'carottes': 1, 'plonge': 1, 'latin': 1, 'humanites': 1, 'culture': 1, 'rendra': 1, 'tremble': 1, 'serez': 1, 'ajouterai': 1, 'finale': 1, 'ecarte': 1, 'relations': 1, 'prevu': 1, 'vendu': 2, 'devalises': 1, 'farouchement': 1, 'oppose': 1, 'compromis': 1, 'economie': 1, 'dotee': 1, 'inconduite': 1, 'collier': 1, 'mercredi': 1, 'materiel': 2, 'soutien': 1, 'devis': 1, 'multitude': 1, 'foule': 1, 'tas': 1, 'quantite': 1, 'influences': 1, 'environnement': 1, 'soumis': 1, 'fouiller': 1, 'totalite': 1, 'reduire': 1, 'depenses': 1, 'reprocher': 2, 'amusez': 2, 'amuses': 1, 'leeds': 1, 'evaluation': 1, 'antiquites': 1, 'projette': 1, 'cale': 1, 'litterature': 3, 'biologie': 2, 'pointure': 1, 'sommite': 1, 'impressionnable': 1, 'inconfortables': 1, 'histoires': 2, 'car': 1, 'agi': 1, 'stupidement': 1, 'disputes': 1, 'commencent': 1, 'derniere': 1, 'bjork': 1, 'grandissent': 1, 'etudes': 1, 'sociales': 1, 'interessent': 2, 'quete': 1, 'astronomie': 2, 'souhaitons': 1, 'pechons': 1, 'oceans': 1, 'conseil': 1, 'paroissial': 1, 'redire': 3, 'normalement': 1, 'prevoit': 1, 'developper': 1, 'vente': 1, 'financierement': 2, 'suedois': 1, 'gentillesse': 2, 'orchestre': 1, 'oreille': 1, 'gauche': 1, 'travaillent': 1, 'animalerie': 1, 'etudient': 1, 'webdesign': 1, 'suspicieux': 2, 'suspicieuse': 1, 'suspicieuses': 1, 'espere': 1, 'rodomontades': 1, 'tubes': 1, 'populaires': 1, 'mesurons': 1, 'profondeur': 1, 'acheve': 1, 'main': 1, 'paysage': 1, 'tirez': 1, 'avantage': 2, 'faiblesse': 2, 'ambassade': 1, 'irritant': 1, 'prochaines': 1, 'recupere': 1, 'moto': 1, 'trafiquee': 1, 'calvitie': 1, 'naissante': 1, 'parasol': 1, 'classique': 1, 'expriment': 1, 'enlacant': 1, 'encourage': 1, 'moisson': 1, 'annonce': 1, 'rejouissons': 3, 'presence': 1, 'hospitalite': 1, 'quoique': 1, 'fasses': 1, 'desaccord': 1, 'nobles': 1, 'sculptent': 1, 'statue': 1, 'marbre': 1, 'dont': 1, 'devons': 1, 'emmenent': 1, 'urgences': 1, 'rales': 1, 'souvenir': 1, 'mele': 1, 'conversation': 1, 'insatisfaction': 1, 'romps': 3, 'nana': 1, 'organisation': 1, 'institution': 1, 'disposees': 1, 'reconnue': 1, 'irresponsable': 2, 'cloturer': 1, 'recevoir': 2, 'tarde': 1, 'discuterons': 1, 'jouant': 1, 'videos': 1, 'narita': 1, 'hawaii': 1, 'bataille': 1, 'croyances': 1, 'interprete': 1, 'internationale': 1, 'comporter': 1, 'inventer': 1, 'publication': 1, 'ouvrage': 1, 'receptive': 1, 'hypnotique': 1, 'jackson': 1, 'entreprend': 1, 'compiler': 1, 'collectent': 1, 'dons': 1, 'candidats': 1, 'presidentielles': 1, 'americaines': 1}), ('index2word', {0: 'SOS', 1: 'EOS', 2: 'j', 3: 'ai', 4: 'ans', 5: '.', 6: 'je', 7: 'vais', 8: 'bien', 9: 'ca', 10: 'va', 11: 'suis', 12: 'gras', 13: 'gros', 14: 'en', 15: 'forme', 16: 'touche', 17: '!', 18: 'touchee', 19: 'malade', 20: 'triste', 21: 'timide', 22: 'mouille', 23: 'mouillee', 24: 'il', 25: 'est', 26: 'revenu', 27: 'me', 28: 'revoila', 29: 'chauve', 30: 'occupe', 31: 'occupee', 32: 'calme', 33: 'froid', 34: 'fini', 35: 'tout', 36: 'libre', 37: 'disponible', 38: 'repu', 39: 'rassasie', 40: 'content', 41: 'chez', 42: 'moi', 43: 'retard', 44: 'paresseux', 45: 'faineant', 46: 'paresseuse', 47: 'faineante', 48: 'porte', 49: 'securite', 50: 'certain', 51: 'sur', 52: 'sure', 53: 'grande', 54: 'mince', 55: 'ordonne', 56: 'ordonnee', 57: 'laid', 58: 'laide', 59: 'faible', 60: 'vieux', 61: 'dj', 62: 'bon', 63: 'riche', 64: 'ici', 65: 'flic', 66: 'un', 67: 'homme', 68: 'seule', 69: 'seul', 70: 'arme', 71: 'armee', 72: 'reveille', 73: 'aveugle', 74: 'fauche', 75: 'fou', 76: 'folle', 77: 'gueri', 78: 'guerie', 79: 'saoul', 80: 'soul', 81: 'ivre', 82: 'meurs', 83: 'avance', 84: 'premier', 85: 'difficile', 86: 'tatillon', 87: 'tatillonne', 88: 'pars', 89: 'maintenant', 90: 'tire', 91: 'y', 92: 'loyal', 93: 'loyale', 94: 'veinard', 95: 'veinarde', 96: 'du', 97: 'pot', 98: 'chanceux', 99: 'chanceuse', 100: 'train', 101: 'de', 102: 'mentir', 103: 'tranquille', 104: 'prete', 105: 'pret', 106: 'raison', 107: 'sobre', 108: 'excuse', 109: 'desole', 110: 'desolee', 111: 'coincee', 112: 'fatigue', 113: 'dur', 114: 'dure', 115: 'a', 116: 'cuire', 117: 'toi', 118: 'vous', 119: 'elle', 120: 'chaude', 121: 'tres', 122: 'attirante', 123: 'nous', 124: 'avons', 125: 'chaud', 126: 'sommes', 127: 'tristes', 128: 'timides', 129: 'faire', 130: 'gentil', 131: 'pauvre', 132: 'suisse', 133: 'helvete', 134: 'ruine', 135: 'intelligent', 136: 'humain', 137: 'creve', 138: 'francais', 139: 'coreen', 140: 'heros', 141: 'menteur', 142: 'cuis', 143: 'mieux', 144: 'paie', 145: 'c', 146: 'qui', 147: 'grassouillet', 148: 'grassouillette', 149: 'mange', 150: 'connu', 151: 'connue', 152: 'plus', 153: 'rapide', 154: 'flasque', 155: 'cupide', 156: 'gourmand', 157: 'gourmande', 158: 'cache', 159: 'honnete', 160: 'humble', 161: 'faim', 162: 'immunise', 163: 'immunisee', 164: 'au', 165: 'lit', 166: 'alite', 167: 'alitee', 168: 'rigole', 169: 'sens', 170: 'perdre', 171: 'demenager', 172: 'normal', 173: 'normale', 174: 'payer', 175: 'repose', 176: 'reposee', 177: 'ruinee', 178: 'remue', 179: 'remuee', 180: 'celibataire', 181: 'maigrichon', 182: 'maigrichonne', 183: 'sommeil', 184: 'sournois', 185: 'sournoise', 186: 'strict', 187: 'stricte', 188: 'fort', 189: 'forte', 190: 'trente', 191: 'affaiblie', 192: 'vieille', 193: 'gentille', 194: 'des', 195: 'hommes', 196: 'retour', 197: 'occupes', 198: 'occupees', 199: 'termine', 200: 'quittes', 201: 'allons', 202: 'la', 203: 'perdus', 204: 'perdues', 205: 'riches', 206: 'on', 207: 'foutu', 208: 'foutus', 209: 'faibles', 210: 'tu', 211: 'es', 212: 'vilain', 213: 'grand', 214: 'etes', 215: 'grands', 216: 'grandes', 217: 't', 218: 'marrante', 219: 'marrant', 220: 'vieilles', 221: 'huit', 222: 'hai', 223: 'mechant', 224: 'jeune', 225: 'beau', 226: 'mec', 227: 'gosse', 228: 'type', 229: 'binoclard', 230: 'flemmard', 231: 'endormi', 232: 'arrive', 233: 'd', 234: 'arriver', 235: 'pleurer', 236: 'simule', 237: 'blinde', 238: 'pete', 239: 'thune', 240: 'plein', 241: 'aux', 242: 'as', 243: 'mon', 244: 'age', 245: 'n', 246: 'pas', 247: 'lui', 248: 'l', 249: 'interieur', 250: 'cuisinier', 251: 'moine', 252: 'plaisante', 253: 'egalement', 254: 'dix', 255: 'sept', 256: 'finlandais', 257: 'finlandaise', 258: 'italien', 259: 'boulanger', 260: 'boulangere', 261: 'fait', 262: 'honte', 263: 'maison', 264: 'dans', 265: 'perplexe', 266: 'beni', 267: 'benie', 268: 'prudent', 269: 'prudente', 270: 'les', 271: 'foies', 272: 'chocottes', 273: 'curieux', 274: 'curieuse', 275: 'danser', 276: 'regime', 277: 'conduire', 278: 'conduis', 279: 'fiance', 280: 'fiancee', 281: 'excite', 282: 'excitee', 283: 'fais', 284: 'diete', 285: 'meticuleux', 286: 'meticuleuse', 287: 'affole', 288: 'affolee', 289: 'furieux', 290: 'bonne', 291: 'sante', 292: 'fredonne', 293: 'jalouse', 294: 'frousse', 295: 'marie', 296: 'mariee', 297: 'ne', 298: 'une', 299: 'idiote', 300: 'service', 301: 'patiente', 302: 'patient', 303: 'populaire', 304: 'remonte', 305: 'voyant', 306: 'voyante', 307: 'lis', 308: 'detendu', 309: 'detendue', 310: 'retraite', 311: 'retraitee', 312: 'pensionne', 313: 'pensionnee', 314: 'egoiste', 315: 'serieux', 316: 'choque', 317: 'choquee', 318: 'sincere', 319: 'bourre', 320: 'bourree', 321: 'tellement', 322: 'estomac', 323: 'talons', 324: 'dalle', 325: 'crocs', 326: 'reste', 327: 'gave', 328: 'gavee', 329: 'sidere', 330: 'sideree', 331: 'discuter', 332: 'taquine', 333: 'soif', 334: 'trop', 335: 'mecontent', 336: 'mecontente', 337: 'schcoumoune', 338: 'fortune', 339: 'fortunee', 340: 'gagne', 341: 'emporte', 342: 'travailler', 343: 'souci', 344: 'charme', 345: 'morte', 346: 'enfoiree', 347: 'renard', 348: 'ils', 349: 'sont', 350: 'mauvais', 351: 'elles', 352: 'mauvaises', 353: 'egalite', 354: 'seuls', 355: 'seules', 356: 'colere', 357: 'armes', 358: 'armees', 359: 'ennuyons', 360: 's', 361: 'emmerde', 362: 'fauches', 363: 'fauchees', 364: 'mourir', 365: 'heureux', 366: 'pretes', 367: 'sauves', 368: 'sauvees', 369: 'intelligents', 370: 'intelligentes', 371: 'desoles', 372: 'desolees', 373: 'coinces', 374: 'coincees', 375: 'fatigues', 376: 'fatiguees', 377: 'jumeaux', 378: 'jumelles', 379: 'sympa', 380: 'decontracte', 381: 'juste', 382: 'justes', 383: 'vas', 384: 'libres', 385: 'bons', 386: 'bonnes', 387: 'paresseuses', 388: 'perdu', 389: 'perdue', 390: 'sympas', 391: 'dingue', 392: 'dingues', 393: 'givre', 394: 'givree', 395: 'givres', 396: 'givrees', 397: 'grossier', 398: 'grossiers', 399: 'grossiere', 400: 'grossieres', 401: 'sauf', 402: 'saufs', 403: 'sauve', 404: 'minces', 405: 'poete', 406: 'excentrique', 407: 'manger', 408: 'heroique', 409: 'anglais', 410: 'bigot', 411: 'sectaire', 412: 'fanatique', 413: 'illumine', 414: 'souffre', 415: 'actuellement', 416: 'exterieur', 417: 'si', 418: 'mignon', 419: 'couard', 420: 'lache', 421: 'medecin', 422: 'toubib', 423: 'fermier', 424: 'agriculteur', 425: 'travaille', 426: 'ma', 427: 'ferme', 428: 'puriste', 429: 'drogue', 430: 'accro', 431: 'assuetude', 432: 'ouie', 433: 'adulte', 434: 'agent', 435: 'saigner', 436: 'melange', 437: 'pinceaux', 438: 'creatif', 439: 'creative', 440: 'cultive', 441: 'cultivee', 442: 'divorce', 443: 'divorcee', 444: 'noyer', 445: 'fidele', 446: 'affame', 447: 'intrepide', 448: 'bats', 449: 'gele', 450: 'cloue', 451: 'clouee', 452: 'credule', 453: 'le', 454: 'mal', 455: 'pays', 456: 'gueule', 457: 'bois', 458: 'paris', 459: 'innocent', 460: 'innocente', 461: 'ingenu', 462: 'ingenue', 463: 'implique', 464: 'impliquee', 465: 'm', 466: 'sors', 467: 'nouveau', 468: 'rebelle', 469: 'saint', 470: 'sainte', 471: 'sourd', 472: 'sourde', 473: 'abruti', 474: 'abrutie', 475: 'blesse', 476: 'blessee', 477: 'mechante', 478: 'certaine', 479: 'offense', 480: 'offensee', 481: 'indigne', 482: 'indignee', 483: 'puissant', 484: 'puissante', 485: 'preparee', 486: 'prepare', 487: 'ponctuel', 488: 'ponctuelle', 489: 'rationnel', 490: 'rationnelle', 491: 'amende', 492: 'amendee', 493: 'fiable', 494: 'tiens', 495: 'place', 496: 'impitoyable', 497: 'dormir', 498: 'las', 499: 'parler', 500: 'fringale', 501: 'tetu', 502: 'tetue', 503: 'obstine', 504: 'obstinee', 505: 'patron', 506: 'patronne', 507: 'reflechis', 508: 'minutieux', 509: 'minutieuse', 510: 'consciencieux', 511: 'consciencieuse', 512: 'ravi', 513: 'ravie', 514: 'chatouilleux', 515: 'chatouilleuse', 516: 'affaire', 517: 'affairee', 518: 'dis', 519: 'verite', 520: 'impartial', 521: 'impartiale', 522: 'dessus', 523: 'epuise', 524: 'chancarde', 525: 'tranchante', 526: 'affutee', 527: 'tort', 528: 'ce', 529: 'garcons', 530: 'froids', 531: 'froides', 532: 'flics', 533: 'mignons', 534: 'mignonnes', 535: 'decedes', 536: 'decedees', 537: 'ont', 538: 'partis', 539: 'parties', 540: 'miens', 541: 'miennes', 542: 'arabes', 543: 'equipe', 544: 'adultes', 545: 'tous', 546: 'guerre', 547: 'notre', 548: 'point', 549: 'vue', 550: 'biaise', 551: 'prejuges', 552: 'achetons', 553: 'fermes', 554: 'venons', 555: 'sortons', 556: 'ensemble', 557: 'condamnes', 558: 'cachons', 559: 'plaisantons', 560: 'perdons', 561: 'bouger', 562: 'normaux', 563: 'normales', 564: 'creves', 565: 'crevees', 566: 'ruines', 567: 'ruinees', 568: 'remues', 569: 'remuees', 570: 'sournoises', 571: 'forts', 572: 'fortes', 573: 'essayons', 574: 'joues', 575: 'chef', 576: 'cruelle', 577: 'cruel', 578: 'cruelles', 579: 'cruels', 580: 'viens', 581: 'tot', 582: 'matinal', 583: 'matinale', 584: 'vire', 585: 'licencie', 586: 'passes', 587: 'marrants', 588: 'marrantes', 589: 'manieres', 590: 'faites', 591: 'malpoli', 592: 'mens', 593: 'mentez', 594: 'lunatique', 595: 'naif', 596: 'naive', 597: 'naifs', 598: 'naives', 599: 'idiot', 600: 'idiots', 601: 'idiotes', 602: 'plante', 603: 'plantee', 604: 'plantes', 605: 'plantees', 606: 'durs', 607: 'dures', 608: 'contrariee', 609: 'contrarie', 610: 'bizarre', 611: 'bizarres', 612: 'erreur', 613: 'jeunes', 614: 'britannique', 615: 'voleur', 616: 'genre', 617: 'sorti', 618: 'lire', 619: 'court', 620: 'patin', 621: 'patine', 622: 'rouspeteur', 623: 'jesuite', 624: 'aine', 625: 'ancien', 626: 'magnat', 627: 'adorable', 628: 'derriere', 629: 'apres', 630: 'mes', 631: 'fesses', 632: 'poursuit', 633: 'embetant', 634: 'tokyo', 635: 'peu', 636: 'manque', 637: 'confiance', 638: 'sans', 639: 'pitie', 640: 'etudie', 641: 'etudier', 642: 'lent', 643: 'ton', 644: 'fils', 645: 'votre', 646: 'americain', 647: 'americaine', 648: 'japonais', 649: 'musulman', 650: 'musulmane', 651: 'coureur', 652: 'diabetique', 653: 'etudiant', 654: 'professeur', 655: 'enseignante', 656: 'adapte', 657: 'peur', 658: 'toute', 659: 'ambitieuse', 660: 'ambitieux', 661: 'artiste', 662: 'orphelin', 663: 'attentive', 664: 'attentif', 665: 'belle', 666: 'preoccupe', 667: 'preoccupee', 668: 'voila', 669: 'satisfait', 670: 'satisfaite', 671: 'convaincu', 672: 'deprime', 673: 'desespere', 674: 'desesperee', 675: 'differente', 676: 'degoute', 677: 'degoutee', 678: 'facile', 679: 'vivre', 680: 'epuisee', 681: 'vanne', 682: 'vannee', 683: 'fourbu', 684: 'crevee', 685: 'distrait', 686: 'distraite', 687: 'etourdi', 688: 'etourdie', 689: 'tom', 690: 'ur', 691: 'impatient', 692: 'impatiente', 693: 'important', 694: 'impressionnee', 695: 'impulsif', 696: 'impulsive', 697: 'boston', 698: 'danger', 699: 'intrigue', 700: 'intriguee', 701: 'cela', 702: 'ecoute', 703: 'motivee', 704: 'motive', 705: 'expert', 706: 'partie', 707: 'ses', 708: 'admirateurs', 709: 'leurs', 710: 'rends', 711: 'heureuse', 712: 'contente', 713: 'obese', 714: 'petite', 715: 'fatiguee', 716: 'observateur', 717: 'observatrice', 718: 'respectueux', 719: 'respectueuse', 720: 'chemin', 721: 'route', 722: 'desarme', 723: 'desarmee', 724: 'realiste', 725: 'eprouve', 726: 'ressentiment', 727: 'endurant', 728: 'endurante', 729: 'tenace', 730: 'non', 731: 'sensible', 732: 'surpris', 733: 'surprise', 734: 'survis', 735: 'terrifie', 736: 'terrifiee', 737: 'assure', 738: 'assuree', 739: 'vote', 740: 'tombe', 741: 'francaise', 742: 'jumelle', 743: 'active', 744: 'pleure', 745: 'beaute', 746: 'mannequin', 747: 'super', 748: 'asiatiques', 749: 'vie', 750: 'eveilles', 751: 'eveillees', 752: 'courageux', 753: 'courageuses', 754: 'yeux', 755: 'propres', 756: 'fous', 757: 'folles', 758: 'saouls', 759: 'saoules', 760: 'heureuses', 761: 'mentent', 762: 'petits', 763: 'petites', 764: 'espions', 765: 'espionnes', 766: 'formons', 767: 'groupe', 768: 'anxieux', 769: 'perplexes', 770: 'prudents', 771: 'prudentes', 772: 'certains', 773: 'certaines', 774: 'cousines', 775: 'fiances', 776: 'faisons', 777: 'amis', 778: 'amies', 779: 'aimons', 780: 'amoureux', 781: 'amoureuses', 782: 'veinards', 783: 'veinardes', 784: 'souffrons', 785: 'synchronises', 786: 'synchronisees', 787: 'ville', 788: 'jalouses', 789: 'maries', 790: 'detendus', 791: 'detendues', 792: 'serieuses', 793: 'choques', 794: 'choquees', 795: 'sinceres', 796: 'coulons', 797: 'couler', 798: 'bourres', 799: 'bourrees', 800: 'speciaux', 801: 'arret', 802: 'affames', 803: 'affamees', 804: 'restons', 805: 'gaves', 806: 'gavees', 807: 'sideres', 808: 'siderees', 809: 'touches', 810: 'touchees', 811: 'pieges', 812: 'piegees', 813: 'satisfaits', 814: 'satisfaites', 815: 'malchanceux', 816: 'malchanceuses', 817: 'inutiles', 818: 'attendre', 819: 'gagneurs', 820: 'gagner', 821: 'malin', 822: 'avez', 823: 'amour', 824: 'menteuse', 825: 'snob', 826: 'partiale', 827: 'partial', 828: 'ennuyez', 829: 'ennuies', 830: 'brillant', 831: 'brillante', 832: 'brillants', 833: 'brillantes', 834: 'maline', 835: 'malins', 836: 'malines', 837: 'ruse', 838: 'rusee', 839: 'ruses', 840: 'rusees', 841: 'astucieux', 842: 'astucieuse', 843: 'sinistre', 844: 'sinistres', 845: 'connus', 846: 'connues', 847: 'avide', 848: 'avides', 849: 'bougon', 850: 'bougonne', 851: 'grognon', 852: 'plaisantes', 853: 'plaisantez', 854: 'fric', 855: 'pleine', 856: 'drole', 857: 'jolie', 858: 'maigrichonnes', 859: 'maigrichons', 860: 'endormie', 861: 'endormis', 862: 'endormies', 863: 'injuste', 864: 'canadien', 865: 'genie', 866: 'ecrivain', 867: 'acteur', 868: 'faillite', 869: 'oncle', 870: 'ouvert', 871: 'sociable', 872: 'extraverti', 873: 'quelque', 874: 'joueur', 875: 'desormais', 876: 'planque', 877: 'auteur', 878: 'detenu', 879: 'hors', 880: 'loi', 881: 'harcele', 882: 'se', 883: 'trouve', 884: 'prison', 885: 'ami', 886: 'rend', 887: 'hongrois', 888: 'garcon', 889: 'touriste', 890: 'londres', 891: 'petrin', 892: 'endroit', 893: 'conge', 894: 'aujourd', 895: 'hui', 896: 'petit', 897: 'musicien', 898: 'musicienne', 899: 'quelqu', 900: 'vrai', 901: 'vendeur', 902: 'que', 903: 'crains', 904: 'contre', 905: 'maladroit', 906: 'vieil', 907: 'stupefait', 908: 'stupefaite', 909: 'utilise', 910: 'contagieux', 911: 'contagieuse', 912: 'mort', 913: 'deshydrate', 914: 'deshydratee', 915: 'peut', 916: 'compter', 917: 'aneanti', 918: 'aneantie', 919: 'bas', 920: 'entrainer', 921: 'vois', 922: 'loin', 923: 'fascine', 924: 'fascinee', 925: 'te', 926: 'kyoto', 927: 'retourne', 928: 'deviens', 929: 'aussi', 930: 'amuse', 931: 'analphabete', 932: 'voiture', 933: 'interesse', 934: 'interessee', 935: 'seulement', 936: 'simplement', 937: 'the', 938: 'mediter', 939: 'methodique', 940: 'baisse', 941: 'facilement', 942: 'bras', 943: 'abandonne', 944: 'amer', 945: 'amere', 946: 'grincheux', 947: 'grincheuse', 948: 'coupable', 949: 'blague', 950: 'raciste', 951: 'suffisamment', 952: 'vacances', 953: 'conges', 954: 'entre', 955: 'optimiste', 956: 'essence', 957: 'vraiment', 958: 'raisonnable', 959: 'reamenager', 960: 'quelle', 961: 'poisse', 962: 'toujours', 963: 'encore', 964: 'succes', 965: 'tueur', 966: 'deshabille', 967: 'devets', 968: 'chomage', 969: 'talent', 970: 'depourvu', 971: 'depourvue', 972: 'habitue', 973: 'accoutume', 974: 'habituee', 975: 'vegetarienne', 976: 'eveille', 977: 'eveillee', 978: 'infirmiere', 979: 'maladroite', 980: 'exprimer', 981: 'fille', 982: 'bombe', 983: 'canon', 984: 'ange', 985: 'enceinte', 986: 'attend', 987: 'evenement', 988: 'famille', 989: 'bruyante', 990: 'parle', 991: 'ennuient', 992: 'bebes', 993: 'ennuyeux', 994: 'ennuyeuses', 995: 'arrivent', 996: 'prets', 997: 'toutes', 998: 'couple', 999: 'completement', 1000: 'freres', 1001: 'divorces', 1002: 'echapper', 1003: 'battre', 1004: 'reconnaissants', 1005: 'reconnaissantes', 1006: 'impuissants', 1007: 'impuissantes', 1008: 'ouverts', 1009: 'ouvertes', 1010: 'surs', 1011: 'sures', 1012: 'obeissants', 1013: 'obeissantes', 1014: 'partenaires', 1015: 'puissants', 1016: 'puissantes', 1017: 'ponctuels', 1018: 'ponctuelles', 1019: 'abandonnons', 1020: 'fiables', 1021: 'partons', 1022: 'pension', 1023: 'impitoyables', 1024: 'debout', 1025: 'mourons', 1026: 'tetus', 1027: 'tetues', 1028: 'etudiants', 1029: 'meilleurs', 1030: 'meilleures', 1031: 'derniers', 1032: 'dernieres', 1033: 'pareils', 1034: 'pareilles', 1035: 'cretins', 1036: 'attardes', 1037: 'mentaux', 1038: 'stupide', 1039: 'puritain', 1040: 'puritaine', 1041: 'incroyable', 1042: 'incroyables', 1043: 'marrer', 1044: 'genial', 1045: 'geniale', 1046: 'insensible', 1047: 'insaisissable', 1048: 'tatillons', 1049: 'tatillonnes', 1050: 'imprudent', 1051: 'imprudente', 1052: 'imprudents', 1053: 'imprudentes', 1054: 'invites', 1055: 'invitees', 1056: 'invite', 1057: 'invitee', 1058: 'marcher', 1059: 'aucune', 1060: 'aide', 1061: 'grosse', 1062: 'grosses', 1063: 'conviens', 1064: 'convenez', 1065: 'precis', 1066: 'precise', 1067: 'remontee', 1068: 'egoistes', 1069: 'mechants', 1070: 'mechantes', 1071: 'professionnel', 1072: 'prie', 1073: 'avec', 1074: 'plaisir', 1075: 'rien', 1076: 'gagnes', 1077: 'gagnez', 1078: 'emportes', 1079: 'emportez', 1080: 'reveur', 1081: 'peintre', 1082: 'medium', 1083: 'enseignant', 1084: 'instituteur', 1085: 'paye', 1086: 'ment', 1087: 'comedien', 1088: 'membre', 1089: 'fraternite', 1090: 'etudiante', 1091: 'bizuth', 1092: 'bleu', 1093: 'jardinier', 1094: 'venu', 1095: 'lambin', 1096: 'lourdaud', 1097: 'gaucher', 1098: 'devient', 1099: 'epoux', 1100: 'associe', 1101: 'compagnon', 1102: 'partenaire', 1103: 'photogenique', 1104: 'egypte', 1105: 'barre', 1106: 'barree', 1107: 'azeri', 1108: 'tele', 1109: 'emeche', 1110: 'emechee', 1111: 'etranger', 1112: 'femme', 1113: 'foyer', 1114: 'masochiste', 1115: 'oiseau', 1116: 'nuit', 1117: 'peux', 1118: 'courir', 1119: 'sais', 1120: 'skier', 1121: 'presque', 1122: 'quasiment', 1123: 'aventureuse', 1124: 'ingenieur', 1125: 'travail', 1126: 'supplie', 1127: 'capte', 1128: 'comprends', 1129: 'fete', 1130: 'arrose', 1131: 'lave', 1132: 'daltonien', 1133: 'aise', 1134: 'cooperer', 1135: 'craque', 1136: 'gene', 1137: 'abattu', 1138: 'abattue', 1139: 'bresil', 1140: 'originaire', 1141: 'france', 1142: 'turquie', 1143: 'zambie', 1144: 'commence', 1145: 'devenir', 1146: 'vieillis', 1147: 'applique', 1148: 'appliquee', 1149: 'brise', 1150: 'pour', 1151: 'vaincre', 1152: 'presse', 1153: 'pressee', 1154: 'derange', 1155: 'introverti', 1156: 'introvertie', 1157: 'myope', 1158: 'anglaise', 1159: 'enfant', 1160: 'escroc', 1161: 'ivrogne', 1162: 'robot', 1163: 'voleuse', 1164: 'alarme', 1165: 'dispute', 1166: 'nerveux', 1167: 'nerveuse', 1168: 'parfait', 1169: 'parfaite', 1170: 'malheureux', 1171: 'malheureuse', 1172: 'blaguer', 1173: 'munitions', 1174: 'persevere', 1175: 'plutot', 1176: 'assez', 1177: 'aller', 1178: 'partir', 1179: 'remplacable', 1180: 'ressources', 1181: 'marre', 1182: 'confus', 1183: 'spontanee', 1184: 'spontane', 1185: 'tel', 1186: 'compassion', 1187: 'capitaine', 1188: 'chirurgien', 1189: 'ras', 1190: 'bol', 1191: 'sincerement', 1192: 'ambition', 1193: 'convaincue', 1194: 'loup', 1195: 'modeste', 1196: 'regarder', 1197: 'television', 1198: 'amie', 1199: 'avocat', 1200: 'ta', 1201: 'canadienne', 1202: 'japonaise', 1203: 'coureuse', 1204: 'chanteuse', 1205: 'dactylographe', 1206: 'dactylo', 1207: 'gracieuse', 1208: 'assurance', 1209: 'deprimee', 1210: 'passe', 1211: 'baraka', 1212: 'acteurs', 1213: 'melons', 1214: 'animaux', 1215: 'disputer', 1216: 'cousins', 1217: 'medecins', 1218: 'nerveuses', 1219: 'partent', 1220: 'vont', 1221: 'dehors', 1222: 'similaires', 1223: 'semblables', 1224: 'sourient', 1225: 'speciales', 1226: 'restent', 1227: 'parlent', 1228: 'grasses', 1229: 'enseignants', 1230: 'enseignantes', 1231: 'regardons', 1232: 'canadiens', 1233: 'canadiennes', 1234: 'flexibles', 1235: 'ambitieuses', 1236: 'disponibles', 1237: 'deux', 1238: 'comediens', 1239: 'engages', 1240: 'engagees', 1241: 'devoues', 1242: 'devouees', 1243: 'deprimes', 1244: 'differents', 1245: 'differentes', 1246: 'reparer', 1247: 'flattes', 1248: 'jardiniers', 1249: 'gentilshommes', 1250: 'charge', 1251: 'dirigeons', 1252: 'ecoutons', 1253: 'nouveaux', 1254: 'venus', 1255: 'nouvelles', 1256: 'venues', 1257: 'imbeciles', 1258: 'chichis', 1259: 'rendons', 1260: 'contents', 1261: 'contentes', 1262: 'depasse', 1263: 'prisonniers', 1264: 'prisonnieres', 1265: 'realistes', 1266: 'demissionnons', 1267: 'endurants', 1268: 'endurantes', 1269: 'sensibles', 1270: 'separees', 1271: 'separes', 1272: 'surprises', 1273: 'survivons', 1274: 'survivants', 1275: 'survivantes', 1276: 'nos', 1277: 'scores', 1278: 'serres', 1279: 'proches', 1280: 'assures', 1281: 'assurees', 1282: 'apparentes', 1283: 'apparentees', 1284: 'heroine', 1285: 'vilaine', 1286: 'comme', 1287: 'mignonne', 1288: 'celui', 1289: 'elu', 1290: 'celle', 1291: 'elue', 1292: 'adorables', 1293: 'finis', 1294: 'finies', 1295: 'chiant', 1296: 'chiante', 1297: 'arrogant', 1298: 'arrogante', 1299: 'arrogants', 1300: 'arrogantes', 1301: 'rougis', 1302: 'negligent', 1303: 'negligente', 1304: 'charmant', 1305: 'charmante', 1306: 'charmantes', 1307: 'charmants', 1308: 'triches', 1309: 'trichez', 1310: 'embrouilles', 1311: 'creatifs', 1312: 'creatives', 1313: 'dement', 1314: 'deloyal', 1315: 'deloyale', 1316: 'deloyales', 1317: 'deloyaux', 1318: 'fideles', 1319: 'intrepides', 1320: 'pardonne', 1321: 'pardonnee', 1322: 'pardonnes', 1323: 'pardonnees', 1324: 'terre', 1325: 'hideuses', 1326: 'hideux', 1327: 'trompez', 1328: 'trompes', 1329: 'ennemi', 1330: 'morts', 1331: 'mortes', 1332: 'malades', 1333: 'pathetique', 1334: 'pathetiques', 1335: 'agite', 1336: 'agitee', 1337: 'autoritaire', 1338: 'difficiles', 1339: 'gentils', 1340: 'gentilles', 1341: 'temporises', 1342: 'temporisez', 1343: 'entete', 1344: 'entetee', 1345: 'talentueux', 1346: 'talentueuse', 1347: 'talentueuses', 1348: 'meilleur', 1349: 'meilleure', 1350: 'bruyant', 1351: 'bruyants', 1352: 'bruyantes', 1353: 'lente', 1354: 'lents', 1355: 'lentes', 1356: 'acrobate', 1357: 'lune', 1358: 'son', 1359: 'pyjama', 1360: 'soucis', 1361: 'problemes', 1362: 'ennuis', 1363: 'qu', 1364: 'frere', 1365: 'jamais', 1366: 'apprecie', 1367: 'tenancier', 1368: 'bar', 1369: 'niais', 1370: 'adore', 1371: 'chats', 1372: 'gentleman', 1373: 'historien', 1374: 'fumeur', 1375: 'deuxieme', 1376: 'annee', 1377: 'cote', 1378: 'grippe', 1379: 'meme', 1380: 'classe', 1381: 'coup', 1382: 'foudre', 1383: 'esprit', 1384: 'ces', 1385: 'pauvres', 1386: 'types', 1387: 'inconscient', 1388: 'observe', 1389: 'pere', 1390: 'volontaire', 1391: 'cuisine', 1392: 'moment', 1393: 'russie', 1394: 'frire', 1395: 'poisson', 1396: 'temps', 1397: 'payee', 1398: 'semaine', 1399: 'relativement', 1400: 'vingt', 1401: 'cinq', 1402: 'cousin', 1403: 'employe', 1404: 'banque', 1405: 'solitaire', 1406: 'gars', 1407: 'fondu', 1408: 'photo', 1409: 'nager', 1410: 'desoriente', 1411: 'desorientee', 1412: 'deja', 1413: 'mauvaise', 1414: 'humeur', 1415: 'ambidextre', 1416: 'plage', 1417: 'emplois', 1418: 'postes', 1419: 'changer', 1420: 'poste', 1421: 'tes', 1422: 'cotes', 1423: 'vos', 1424: 'paume', 1425: 'decu', 1426: 'dejeune', 1427: 'colle', 1428: 'flippe', 1429: 'amerique', 1430: 'croatie', 1431: 'angleterre', 1432: 'roumanie', 1433: 'coucher', 1434: 'instant', 1435: 'scolarise', 1436: 'scolarisee', 1437: 'garde', 1438: 'grenier', 1439: 'tue', 1440: 'ainsi', 1441: 'dire', 1442: 'different', 1443: 'mendiant', 1444: 'docteur', 1445: 'serieuse', 1446: 'frime', 1447: 'rever', 1448: 'extravertie', 1449: 'paranoiaque', 1450: 'idees', 1451: 'reagis', 1452: 'fier', 1453: 'glandes', 1454: 'essaye', 1455: 'benevolat', 1456: 'pianiste', 1457: 'sage', 1458: 'fachee', 1459: 'russes', 1460: 'disputent', 1461: 'artistes', 1462: 'chanteurs', 1463: 'faux', 1464: 'fausses', 1465: 'disparu', 1466: 'droles', 1467: 'temporiser', 1468: 'etudiantes', 1469: 'eleves', 1470: 'traitres', 1471: 'tantinet', 1472: 'celibataires', 1473: 'uniques', 1474: 'stupefaits', 1475: 'exploite', 1476: 'copains', 1477: 'reduisons', 1478: 'voilure', 1479: 'pigeons', 1480: 'retournons', 1481: 'arriere', 1482: 'descendons', 1483: 'vers', 1484: 'ouest', 1485: 'moitie', 1486: 'amusons', 1487: 'fac', 1488: 'controlons', 1489: 'situation', 1490: 'sauveteurs', 1491: 'acheter', 1492: 'fricotons', 1493: 'coupables', 1494: 'besoin', 1495: 'voix', 1496: 'connaissons', 1497: 'reussite', 1498: 'cernes', 1499: 'decoller', 1500: 'proprietaires', 1501: 'deshabillons', 1502: 'deshabiller', 1503: 'emploi', 1504: 'depourvus', 1505: 'depourvues', 1506: 'enfants', 1507: 'fabuleux', 1508: 'fabuleuse', 1509: 'splendide', 1510: 'impossible', 1511: 'incorrigible', 1512: 'responsable', 1513: 'responsables', 1514: 'arrives', 1515: 'tard', 1516: 'arrivez', 1517: 'traitre', 1518: 'traitresse', 1519: 'allez', 1520: 'comprendre', 1521: 'savez', 1522: 'beaux', 1523: 'belles', 1524: 'suffisant', 1525: 'suffisante', 1526: 'suffisants', 1527: 'suffisantes', 1528: 'courtois', 1529: 'courtoise', 1530: 'courtoises', 1531: 'epuises', 1532: 'epuisees', 1533: 'oublieux', 1534: 'oublieuse', 1535: 'chance', 1536: 'chanceuses', 1537: 'chanteur', 1538: 'mourant', 1539: 'viree', 1540: 'vires', 1541: 'virees', 1542: 'odieux', 1543: 'odieuse', 1544: 'odieuses', 1545: 'observation', 1546: 'pouvoir', 1547: 'tenaces', 1548: 'frissonnes', 1549: 'bavard', 1550: 'bavarde', 1551: 'bavards', 1552: 'bavardes', 1553: 'tendu', 1554: 'tendue', 1555: 'tendus', 1556: 'tendues', 1557: 'immoral', 1558: 'immorale', 1559: 'chouette', 1560: 'chouettes', 1561: 'ouverte', 1562: 'avise', 1563: 'avisee', 1564: 'sages', 1565: 'avises', 1566: 'avisees', 1567: 'merveilleux', 1568: 'merveilleuse', 1569: 'merveilleuses', 1570: 'mangeur', 1571: 'biologiste', 1572: 'brave', 1573: 'casse', 1574: 'cou', 1575: 'detective', 1576: 'dramaturge', 1577: 'monsieur', 1578: 'physicien', 1579: 'taiseux', 1580: 'scientifique', 1581: 'doit', 1582: 'avoir', 1583: 'quarantaine', 1584: 'bureau', 1585: 'tirer', 1586: 'cas', 1587: 'espoir', 1588: 'affaires', 1589: 'incompetent', 1590: 'influent', 1591: 'vivant', 1592: 'fache', 1593: 'instruit', 1594: 'irrealiste', 1595: 'regarde', 1596: 'tv', 1597: 'journaliste', 1598: 'mordu', 1599: 'cinema', 1600: 'parti', 1601: 'alle', 1602: 'cycle', 1603: 'endette', 1604: 'jusqu', 1605: 'georgie', 1606: 'mouise', 1607: 'vient', 1608: 'air', 1609: 'et', 1610: 'met', 1611: 'poches', 1612: 'fourre', 1613: 'fouilles', 1614: 'ramasse', 1615: 'argent', 1616: 'pelle', 1617: 'prend', 1618: 'oseille', 1619: 'dort', 1620: 'profondement', 1621: 'anges', 1622: 'confiant', 1623: 'etre', 1624: 'aime', 1625: 'rendre', 1626: 'pain', 1627: 'maths', 1628: 'debiteur', 1629: 'debitrice', 1630: 'personne', 1631: 'nouvel', 1632: 'nouvelle', 1633: 'eleve', 1634: 'vraie', 1635: 'loque', 1636: 'ennuie', 1637: 'agee', 1638: 'ecole', 1639: 'merci', 1640: 'conscient', 1641: 'consciente', 1642: 'terriblement', 1643: 'attention', 1644: 'montre', 1645: 'patience', 1646: 'concentrer', 1647: 'cours', 1648: 'concentration', 1649: 'devoir', 1650: 'penser', 1651: 'extremement', 1652: 'tete', 1653: 'tourne', 1654: 'abasourdi', 1655: 'bulgarie', 1656: 'colombie', 1657: 'rejouis', 1658: 'sauter', 1659: 'irremplacable', 1660: 'supposer', 1661: 'perds', 1662: 'poids', 1663: 'maigris', 1664: 'joueuse', 1665: 'monstre', 1666: 'pratique', 1667: 'divination', 1668: 'devin', 1669: 'telepathe', 1670: 'soldat', 1671: 'institutrice', 1672: 'indisponible', 1673: 'gobe', 1674: 'dangereux', 1675: 'impressionne', 1676: 'pieces', 1677: 'panique', 1678: 'persuade', 1679: 'persuadee', 1680: 'entraineur', 1681: 'bebe', 1682: 'servante', 1683: 'deborde', 1684: 'partout', 1685: 'sorte', 1686: 'sceptique', 1687: 'attends', 1688: 'prendre', 1689: 'bain', 1690: 'voisin', 1691: 'debutante', 1692: 'novice', 1693: 'agressive', 1694: 'asociale', 1695: 'niaise', 1696: 'coriace', 1697: 'mode', 1698: 'argument', 1699: 'hyperactive', 1700: 'massives', 1701: 'massifs', 1702: 'regardent', 1703: 'menteurs', 1704: 'menteuses', 1705: 'cannibales', 1706: 'dangereuses', 1707: 'onereux', 1708: 'onereuses', 1709: 'chics', 1710: 'intacts', 1711: 'intactes', 1712: 'australiens', 1713: 'australiennes', 1714: 'camarades', 1715: 'rire', 1716: 'mariees', 1717: 'laches', 1718: 'retraites', 1719: 'retraitees', 1720: 'fetons', 1721: 'cooperons', 1722: 'defenses', 1723: 'experience', 1724: 'disposons', 1725: 'nord', 1726: 'sud', 1727: 'occuper', 1728: 'charger', 1729: 'derangeons', 1730: 'journalistes', 1731: 'habilles', 1732: 'habillees', 1733: 'tueurs', 1734: 'tueuses', 1735: 'parfaits', 1736: 'parfaites', 1737: 'sourire', 1738: 'bienvenus', 1739: 'bienvenues', 1740: 'clous', 1741: 'biere', 1742: 'lait', 1743: 'vin', 1744: 'perseverons', 1745: 'retirons', 1746: 'pleins', 1747: 'prenons', 1748: 'controle', 1749: 'ascendant', 1750: 'rejouons', 1751: 'probleme', 1752: 'dignes', 1753: 'actrices', 1754: 'importants', 1755: 'importantes', 1756: 'importante', 1757: 'prisonnier', 1758: 'agressif', 1759: 'exprimes', 1760: 'exprimez', 1761: 'courageuse', 1762: 'degoutant', 1763: 'degoutante', 1764: 'degoutants', 1765: 'degoutantes', 1766: 'tues', 1767: 'tuez', 1768: 'surmene', 1769: 'surmenee', 1770: 'surmenees', 1771: 'surmenes', 1772: 'productif', 1773: 'productive', 1774: 'productifs', 1775: 'productives', 1776: 'remarquable', 1777: 'cerne', 1778: 'cernees', 1779: 'cernee', 1780: 'maitre', 1781: 'maitresse', 1782: 'doyen', 1783: 'doyenne', 1784: 'ainee', 1785: 'poli', 1786: 'polie', 1787: 'polis', 1788: 'polies', 1789: 'maigre', 1790: 'maigres', 1791: 'braves', 1792: 'vif', 1793: 'vive', 1794: 'vifs', 1795: 'vives', 1796: 'intelligente', 1797: 'craintif', 1798: 'craintive', 1799: 'craintifs', 1800: 'craintives', 1801: 'peureux', 1802: 'peureuse', 1803: 'peureuses', 1804: 'contraries', 1805: 'contrariees', 1806: 'conducteur', 1807: 'poissonnier', 1808: 'perdant', 1809: 'environ', 1810: 'pres', 1811: 'article', 1812: 'boire', 1813: 'dejeuner', 1814: 'camarade', 1815: 'collegue', 1816: 'radio', 1817: 'joue', 1818: 'golf', 1819: 'venir', 1820: 'borne', 1821: 'soigneux', 1822: 'erudit', 1823: 'jaloux', 1824: 'creationiste', 1825: 'marcheur', 1826: 'sale', 1827: 'critique', 1828: 'gastronomique', 1829: 'negre', 1830: 'gardien', 1831: 'but', 1832: 'methamphetamines', 1833: 'etrange', 1834: 'aristocrate', 1835: 'approche', 1836: 'rapproche', 1837: 'concret', 1838: 'cartes', 1839: 'douche', 1840: 'bougre', 1841: 'notres', 1842: 'unique', 1843: 'frole', 1844: 'cinquante', 1845: 'independant', 1846: 'bouc', 1847: 'emissaire', 1848: 'flexible', 1849: 'enseigner', 1850: 'musique', 1851: 'portugal', 1852: 'shizuoka', 1853: 'griller', 1854: 'difficulte', 1855: 'jardin', 1856: 'monde', 1857: 'voisine', 1858: 'apprends', 1859: 'vite', 1860: 'rouille', 1861: 'photographe', 1862: 'mais', 1863: 'chauves', 1864: 'souris', 1865: 'chiens', 1866: 'harceler', 1867: 'promu', 1868: 'promue', 1869: 'puni', 1870: 'punie', 1871: 'preuve', 1872: 'saigne', 1873: 'gravement', 1874: 'achete', 1875: 'chiot', 1876: 'claustrophobe', 1877: 'suite', 1878: 'juillet', 1879: 'compte', 1880: 'eau', 1881: 'dimanche', 1882: 'singapour', 1883: 'prends', 1884: 'remets', 1885: 'detendre', 1886: 'ski', 1887: 'ecouter', 1888: '?', 1889: 'baignoire', 1890: 'peine', 1891: 'commencer', 1892: 'tcheque', 1893: 'laisse', 1894: 'libere', 1895: 'special', 1896: 'particulier', 1897: 'criminel', 1898: 'criminelle', 1899: 'magicien', 1900: 'lubies', 1901: 'nie', 1902: 'invincible', 1903: 'surpoids', 1904: 'saoule', 1905: 'ennemie', 1906: 'incontrolable', 1907: 'demarrer', 1908: 'embarrasse', 1909: 'embarrassee', 1910: 'excusez', 1911: 'sous', 1912: 'choc', 1913: 'soudainement', 1914: 'soutiens', 1915: 'double', 1916: 'enthousiasme', 1917: 'usage', 1918: 'cette', 1919: 'tasse', 1920: 'utiliser', 1921: 'beaucoup', 1922: 'ecrire', 1923: 'bouquin', 1924: 'pietre', 1925: 'cuisiniere', 1926: 'aider', 1927: 'embrasser', 1928: 'pieds', 1929: 'dedans', 1930: 'inconsciente', 1931: 'elite', 1932: 'alcoolique', 1933: 'fruits', 1934: 'extenues', 1935: 'extenuees', 1936: 'bienveillants', 1937: 'bienveillantes', 1938: 'chretiens', 1939: 'illets', 1940: 'jetables', 1941: 'dessous', 1942: 'mots', 1943: 'furieuses', 1944: 'viennent', 1945: 'font', 1946: 'gens', 1947: 'infectes', 1948: 'infectees', 1949: 'memes', 1950: 'effort', 1951: 'bientot', 1952: 'ecrivains', 1953: 'conservateurs', 1954: 'contribuons', 1955: 'decues', 1956: 'entretien', 1957: 'penetrer', 1958: 'essayer', 1959: 'mi', 1960: 'miel', 1961: 'gardons', 1962: 'bibliotheque', 1963: 'battons', 1964: 'impliques', 1965: 'impliquees', 1966: 'soldats', 1967: 'stock', 1968: 'reagissons', 1969: 'horaire', 1970: 'serre', 1971: 'enfuyons', 1972: 'ralentir', 1973: 'attaques', 1974: 'attaquees', 1975: 'excites', 1976: 'excitees', 1977: 'portons', 1978: 'volontaires', 1979: 'insupportable', 1980: 'regardes', 1981: 'regardez', 1982: 'nounours', 1983: 'zozo', 1984: 'specimen', 1985: 'gamin', 1986: 'racistes', 1987: 'enerves', 1988: 'evites', 1989: 'evitez', 1990: 'prevenant', 1991: 'prevenante', 1992: 'cooperez', 1993: 'extravertis', 1994: 'extraverties', 1995: 'fascinante', 1996: 'fascinantes', 1997: 'fascinant', 1998: 'fascinants', 1999: 'branche', 2000: 'branchee', 2001: 'branches', 2002: 'branchees', 2003: 'princesse', 2004: 'contusionne', 2005: 'contusionnee', 2006: 'contusionnes', 2007: 'contusionnees', 2008: 'habille', 2009: 'habillee', 2010: 'aides', 2011: 'aidez', 2012: 'liste', 2013: 'ecoule', 2014: 'remplacer', 2015: 'indispensable', 2016: 'pitoyable', 2017: 'vivants', 2018: 'vivante', 2019: 'vivantes', 2020: 'inexperimente', 2021: 'sacre', 2022: 'quel', 2023: 'sacree', 2024: 'prof', 2025: 'touchez', 2026: 'rouge', 2027: 'devenez', 2028: 'astucieuses', 2029: 'ingenieux', 2030: 'ingenieuse', 2031: 'habile', 2032: 'habiles', 2033: 'ingenieuses', 2034: 'direct', 2035: 'directe', 2036: 'directes', 2037: 'solitaires', 2038: 'travailleur', 2039: 'taille', 2040: 'tendance', 2041: 'oublier', 2042: 'rugby', 2043: 'religieux', 2044: 'kilos', 2045: 'probablement', 2046: 'promenade', 2047: 'dit', 2048: 'mensonge', 2049: 'nettoie', 2050: 'chapeau', 2051: 'cardiologue', 2052: 'invetere', 2053: 'embrasse', 2054: 'tardivement', 2055: 'maturite', 2056: 'electron', 2057: 'scenariste', 2058: 'actif', 2059: 'inconditionnel', 2060: 'opera', 2061: 'comporte', 2062: 'etrangement', 2063: 'correctement', 2064: 'faut', 2065: 'auparavant', 2066: 'merde', 2067: 'cinquantaine', 2068: 'probable', 2069: 'vienne', 2070: 'electricien', 2071: 'nouilles', 2072: 'rejoindre', 2073: 'morphee', 2074: 'mere', 2075: 'eplucher', 2076: 'pommes', 2077: 'mediocre', 2078: 'tennis', 2079: 'livre', 2080: 'fois', 2081: 'entendre', 2082: 'debutant', 2083: 'dors', 2084: 'perfectionniste', 2085: 'social', 2086: 'travailleuse', 2087: 'sociale', 2088: 'etrangere', 2089: 'sortir', 2090: 'programme', 2091: 'lessive', 2092: 'paille', 2093: 'pomme', 2094: 'marier', 2095: 'voir', 2096: 'enchante', 2097: 'rencontrer', 2098: 'ayons', 2099: 'vu', 2100: 'voyage', 2101: 'sciences', 2102: 'chant', 2103: 'vetements', 2104: 'incroyablement', 2105: 'dette', 2106: 'envers', 2107: 'apprendre', 2108: 'basque', 2109: 'soir', 2110: 'vis', 2111: 'reve', 2112: 'progres', 2113: 'presente', 2114: 'excuses', 2115: 'blame', 2116: 'reviens', 2117: 'plains', 2118: 'accorde', 2119: 'decourage', 2120: 'decouragee', 2121: 'moindre', 2122: 'douleur', 2123: 'intimide', 2124: 'intimidee', 2125: 'quitte', 2126: 'serail', 2127: 'leur', 2128: 'bande', 2129: 'presentable', 2130: 'fiere', 2131: 'client', 2132: 'parfaitement', 2133: 'bout', 2134: 'souffle', 2135: 'legerement', 2136: 'oublie', 2137: 'inquiet', 2138: 'indecis', 2139: 'coince', 2140: 'boulot', 2141: 'leger', 2142: 'essaie', 2143: 'frustre', 2144: 'frustree', 2145: 'tour', 2146: 'ecris', 2147: 'roman', 2148: 'capable', 2149: 'moulin', 2150: 'parole', 2151: 'elevee', 2152: 'peau', 2153: 'noire', 2154: 'gateaux', 2155: 'nature', 2156: 'bienveillante', 2157: 'eux', 2158: 'blamer', 2159: 'mineure', 2160: 'nee', 2161: 'blonde', 2162: 'concierge', 2163: 'commere', 2164: 'ravissante', 2165: 'veritable', 2166: 'ete', 2167: 'empoisonnee', 2168: 'volonte', 2169: 'chretiennes', 2170: 'voleurs', 2171: 'voleuses', 2172: 'attendent', 2173: 'pretent', 2174: 'moches', 2175: 'nes', 2176: 'impressionnes', 2177: 'impressionnees', 2178: 'temoins', 2179: 'milieu', 2180: 'observes', 2181: 'fermons', 2182: 'consciencieuses', 2183: 'enfin', 2184: 'approchons', 2185: 'arrivons', 2186: 'commencons', 2187: 'fatiguer', 2188: 'chasse', 2189: 'comptons', 2190: 'abandonner', 2191: 'etrangers', 2192: 'demain', 2193: 'cafe', 2194: 'jouer', 2195: 'fiers', 2196: 'fieres', 2197: 'tentons', 2198: 'diable', 2199: 'inquiets', 2200: 'acariatre', 2201: 'incorrigibles', 2202: 'irresistible', 2203: 'saignes', 2204: 'saignez', 2205: 'tiree', 2206: 'tirees', 2207: 'tires', 2208: 'sec', 2209: 'bibine', 2210: 'maree', 2211: 'basse', 2212: 'sucre', 2213: 'dramatises', 2214: 'dramatisez', 2215: 'maniere', 2216: 'excessive', 2217: 'reagissez', 2218: 'empoisonnes', 2219: 'empoisonnez', 2220: 'impatients', 2221: 'impatientes', 2222: 'dragueurs', 2223: 'dragueuses', 2224: 'dragueuse', 2225: 'confiante', 2226: 'confiants', 2227: 'confiantes', 2228: 'curieuses', 2229: 'effrontee', 2230: 'effronte', 2231: 'effrontees', 2232: 'effrontes', 2233: 'serviable', 2234: 'serviables', 2235: 'elegante', 2236: 'elegant', 2237: 'elegantes', 2238: 'elegants', 2239: 'gaspillez', 2240: 'gaspilles', 2241: 'travailles', 2242: 'travaillez', 2243: 'orateur', 2244: 'nageur', 2245: 'bel', 2246: 'acerbe', 2247: 'foi', 2248: 'emmerdeur', 2249: 'longueur', 2250: 'inconnu', 2251: 'respire', 2252: 'soixante', 2253: 'cool', 2254: 'mesure', 2255: 'energie', 2256: 'foot', 2257: 'satisfaire', 2258: 'propre', 2259: 'pareil', 2260: 'sa', 2261: 'cookies', 2262: 'precieux', 2263: 'sauvage', 2264: 'trompe', 2265: 'gants', 2266: 'influence', 2267: 'informaticien', 2268: 'boutonneux', 2269: 'maniaque', 2270: 'celebre', 2271: 'boule', 2272: 'nerfs', 2273: 'nerveusement', 2274: 'use', 2275: 'parleur', 2276: 'baratineur', 2277: 'follement', 2278: 'epris', 2279: 'cancer', 2280: 'poumons', 2281: 'grave', 2282: 'loupe', 2283: 'coche', 2284: 'demi', 2285: 'bateau', 2286: 'offert', 2287: 'assistance', 2288: 'domicile', 2289: 'pitre', 2290: 'chaise', 2291: 'protecteur', 2292: 'ours', 2293: 'contraint', 2294: 'vets', 2295: 'prudemment', 2296: 'dessin', 2297: 'conte', 2298: 'histoire', 2299: 'peser', 2300: 'citoyen', 2301: 'citoyenne', 2302: 'windows', 2303: 'complet', 2304: 'blond', 2305: 'naturel', 2306: 'voler', 2307: 'projet', 2308: 'allergique', 2309: 'disposition', 2310: 'attiree', 2311: 'par', 2312: 'repris', 2313: 'business', 2314: 'appelle', 2315: 'verifie', 2316: 'possibilites', 2317: 'fermer', 2318: 'depends', 2319: 'vaisselle', 2320: 'appel', 2321: 'fil', 2322: 'confuse', 2323: 'stresse', 2324: 'stressee', 2325: 'repare', 2326: 'chose', 2327: 'engage', 2328: 'engagee', 2329: 'ait', 2330: 'aies', 2331: 'rencontre', 2332: 'soyez', 2333: 'sois', 2334: 'serai', 2335: 'universite', 2336: 'revenue', 2337: 'rentre', 2338: 'pratiquement', 2339: 'soirs', 2340: 'sauver', 2341: 'amoureuse', 2342: 'galere', 2343: 'autre', 2344: 'cherche', 2345: 'bonhomme', 2346: 'neige', 2347: 'truc', 2348: 'vegetarien', 2349: 'moins', 2350: 'demens', 2351: 'invente', 2352: 'epouser', 2353: 'enfuis', 2354: 'asseoir', 2355: 'rester', 2356: 'empeche', 2357: 'porter', 2358: 'serviteur', 2359: 'souvent', 2360: 'poursuites', 2361: 'engager', 2362: 'combattre', 2363: 'degourdi', 2364: 'degourdie', 2365: 'blesses', 2366: 'blessees', 2367: 'epouvantable', 2368: 'math', 2369: 'embrouille', 2370: 'embrouillee', 2371: 'utile', 2372: 'film', 2373: 'inquiete', 2374: 'lettre', 2375: 'fan', 2376: 'danseuse', 2377: 'patiner', 2378: 'sport', 2379: 'rang', 2380: 'hostile', 2381: 'vit', 2382: 'souper', 2383: 'diner', 2384: 'reves', 2385: 'copine', 2386: 'heure', 2387: 'saute', 2388: 'corde', 2389: 'ventre', 2390: 'ooita', 2391: 'livres', 2392: 'emotive', 2393: 'approchent', 2394: 'urs', 2395: 'courent', 2396: 'peuvent', 2397: 'chanter', 2398: 'capables', 2399: 'touristes', 2400: 'tenter', 2401: 'trouver', 2402: 'constituent', 2403: 'menace', 2404: 'regles', 2405: 'intimes', 2406: 'radins', 2407: 'envoient', 2408: 'onze', 2409: 'mangerons', 2410: 'heures', 2411: 'tonneau', 2412: 'aneantis', 2413: 'aneanties', 2414: 'vulnerables', 2415: 'sang', 2416: 'claustrophobes', 2417: 'rapprochons', 2418: 'devenons', 2419: 'rechauffons', 2420: 'entrons', 2421: 'courses', 2422: 'emplettes', 2423: 'combattrons', 2424: 'montons', 2425: 'eclate', 2426: 'subissons', 2427: 'rafale', 2428: 'vent', 2429: 'tabac', 2430: 'visite', 2431: 'recession', 2432: 'barbares', 2433: 'evacuer', 2434: 'interesses', 2435: 'interessees', 2436: 'terroristes', 2437: 'habitues', 2438: 'habituees', 2439: 'ennemis', 2440: 'ennemies', 2441: 'balles', 2442: 'protegeons', 2443: 'mineurs', 2444: 'mineures', 2445: 'dernier', 2446: 'japonaises', 2447: 'etat', 2448: 'arrestation', 2449: 'bienvenue', 2450: 'mangez', 2451: 'allemand', 2452: 'gare', 2453: 'file', 2454: 'gares', 2455: 'garees', 2456: 'garee', 2457: 'comptes', 2458: 'nombre', 2459: 'suspects', 2460: 'comptez', 2461: 'dirige', 2462: 'dirigez', 2463: 'ecoutez', 2464: 'ecoutes', 2465: 'premiere', 2466: 'ordonnes', 2467: 'ordonnees', 2468: 'opportuniste', 2469: 'opportunistes', 2470: 'laisses', 2471: 'dominer', 2472: 'emotions', 2473: 'laissez', 2474: 'foutez', 2475: 'grandir', 2476: 'imbecile', 2477: 'lunatiques', 2478: 'fantasque', 2479: 'fantasques', 2480: 'inoubliable', 2481: 'inoubliables', 2482: 'genereux', 2483: 'genereuse', 2484: 'genereuses', 2485: 'farceur', 2486: 'heroino', 2487: 'dependant', 2488: 'fossile', 2489: 'vision', 2490: 'tireur', 2491: 'gate', 2492: 'pourri', 2493: 'soupcon', 2494: 'craint', 2495: 'officier', 2496: 'plaire', 2497: 'chante', 2498: 'salle', 2499: 'toilettes', 2500: 'amateur', 2501: 'pensees', 2502: 'proche', 2503: 'intime', 2504: 'ordinaire', 2505: 'egard', 2506: 'etait', 2507: 'ligne', 2508: 'frimeur', 2509: 'reussir', 2510: 'incapable', 2511: 'laver', 2512: 'lunettes', 2513: 'notoire', 2514: 'serpents', 2515: 'allergie', 2516: 'oceanographe', 2517: 'absent', 2518: 'maquis', 2519: 'moque', 2520: 'apprend', 2521: 'chinois', 2522: 'forces', 2523: 'force', 2524: 'suspect', 2525: 'distant', 2526: 'parents', 2527: 'plie', 2528: 'robe', 2529: 'reconnaissant', 2530: 'recolter', 2531: 'ble', 2532: 'comparer', 2533: 'danseur', 2534: 'vertige', 2535: 'araignees', 2536: 'expedients', 2537: 'restaurant', 2538: 'immediatement', 2539: 'devoirs', 2540: 'examen', 2541: 'redoute', 2542: 'apprehende', 2543: 'sandwich', 2544: 'echoue', 2545: 'japon', 2546: 'ayez', 2547: 'passer', 2548: 'blesser', 2549: 'manquer', 2550: 'tant', 2551: 'presenter', 2552: 'franc', 2553: 'franche', 2554: 'entrainement', 2555: 'incroyant', 2556: 'droguee', 2557: 'toxico', 2558: 'millionnaire', 2559: 'absolument', 2560: 'entierement', 2561: 'arreter', 2562: 'bagarrer', 2563: 'etroit', 2564: 'etroite', 2565: 'athletique', 2566: 'chaussettes', 2567: 'pause', 2568: 'jeu', 2569: 'televise', 2570: 'console', 2571: 'mecs', 2572: 'rarement', 2573: 'autant', 2574: 'hauteur', 2575: 'veux', 2576: 'meler', 2577: 'submerge', 2578: 'echecs', 2579: 'songe', 2580: 'faute', 2581: 'tienne', 2582: 'bruit', 2583: 'attirez', 2584: 'nageuse', 2585: 'fumer', 2586: 'apparentee', 2587: 'coud', 2588: 'eu', 2589: 'conne', 2590: 'elegamment', 2591: 'sortis', 2592: 'magasins', 2593: 'sorties', 2594: 'terrifies', 2595: 'terrifiees', 2596: 'chercher', 2597: 'criminels', 2598: 'criminelles', 2599: 'chers', 2600: 'cheres', 2601: 'suivre', 2602: 'jouent', 2603: 'mijotent', 2604: 'conneries', 2605: 'preparent', 2606: 'correctes', 2607: 'serons', 2608: 'egares', 2609: 'egarees', 2610: 'occupons', 2611: 'marions', 2612: 'aboutissons', 2613: 'nulle', 2614: 'part', 2615: 'exercer', 2616: 'gonzesse', 2617: 'chic', 2618: 'filles', 2619: 'chantes', 2620: 'chantez', 2621: 'paranoiaques', 2622: 'travers', 2623: 'approches', 2624: 'approchez', 2625: 'remettre', 2626: 'amusant', 2627: 'amusante', 2628: 'amusantes', 2629: 'amusants', 2630: 'analysez', 2631: 'analyses', 2632: 'geniales', 2633: 'geniaux', 2634: 'pense', 2635: 'previsible', 2636: 'previsibles', 2637: 'entres', 2638: 'trentaine', 2639: 'entrez', 2640: 'efficace', 2641: 'efficaces', 2642: 'emotives', 2643: 'emotifs', 2644: 'emotif', 2645: 'observateurs', 2646: 'observatrices', 2647: 'sceptiques', 2648: 'pire', 2649: 'naissance', 2650: 'competent', 2651: 'charpentier', 2652: 'gentilhomme', 2653: 'voit', 2654: 'borgne', 2655: 'jazz', 2656: 'tache', 2657: 'peinture', 2658: 'natation', 2659: 'meurtre', 2660: 'parmi', 2661: 'velo', 2662: 'lourd', 2663: 'reflechir', 2664: 'subalterne', 2665: 'agit', 2666: 'accroche', 2667: 'medicaments', 2668: 'mer', 2669: 'course', 2670: 'origine', 2671: 'asiatique', 2672: 'taupe', 2673: 'jetons', 2674: 'espionner', 2675: 'appuie', 2676: 'canne', 2677: 'soit', 2678: 'recherche', 2679: 'sait', 2680: 'digne', 2681: 'promener', 2682: 'ecrit', 2683: 'journal', 2684: 'brosse', 2685: 'dents', 2686: 'prochaine', 2687: 'demenage', 2688: 'mois', 2689: 'prochain', 2690: 'seize', 2691: 'quelques', 2692: 'minutes', 2693: 'chauffeur', 2694: 'taxi', 2695: 'familier', 2696: 'noir', 2697: 'obscurite', 2698: 'gluten', 2699: 'autorise', 2700: 'corps', 2701: 'aeroport', 2702: 'faits', 2703: 'risques', 2704: 'retenu', 2705: 'otage', 2706: 'retenue', 2707: 'vrac', 2708: 'venue', 2709: 'veniez', 2710: 'viennes', 2711: 'australie', 2712: 'honore', 2713: 'terrible', 2714: 'horrible', 2715: 'gamins', 2716: 'assoiffe', 2717: 'club', 2718: 'hate', 2719: 'cle', 2720: 'allonge', 2721: 'herbe', 2722: 'allongee', 2723: 'professionnelle', 2724: 'maligne', 2725: 'leve', 2726: 'matin', 2727: 'repondre', 2728: 'conteste', 2729: 'drague', 2730: 'question', 2731: 'bete', 2732: 'organise', 2733: 'organisee', 2734: 'payes', 2735: 'quand', 2736: 'reellement', 2737: 'rapport', 2738: 'assiduite', 2739: 'consciencieusement', 2740: 'rappeler', 2741: 'ordinateur', 2742: 'marche', 2743: 'soleil', 2744: 'sujet', 2745: 'cuisiner', 2746: 'apte', 2747: 'fraude', 2748: 'vol', 2749: 'habituellement', 2750: 'habitude', 2751: 'tenir', 2752: 'assise', 2753: 'seduisante', 2754: 'sorciere', 2755: 'rale', 2756: 'arrete', 2757: 'raler', 2758: 'mouvement', 2759: 'hotel', 2760: 'monopoly', 2761: 'cousue', 2762: 'or', 2763: 'joyeux', 2764: 'joyeuses', 2765: 'baquet', 2766: 'trousses', 2767: 'rendez', 2768: 'midi', 2769: 'decus', 2770: 'accord', 2771: 'carburant', 2772: 'travaillons', 2773: 'ufs', 2774: 'pouvons', 2775: 'divorcer', 2776: 'enquetons', 2777: 'apprenons', 2778: 'partirons', 2779: 'accoster', 2780: 'etudions', 2781: 'fouteur', 2782: 'fauteur', 2783: 'trouble', 2784: 'entendez', 2785: 'choses', 2786: 'entends', 2787: 'coherent', 2788: 'usee', 2789: 'medisant', 2790: 'mary', 2791: 'genez', 2792: 'mettez', 2793: 'genes', 2794: 'mets', 2795: 'rougir', 2796: 'cooperes', 2797: 'rapides', 2798: 'veut', 2799: 'courant', 2800: 'embetante', 2801: 'embetants', 2802: 'embetantes', 2803: 'magnifique', 2804: 'splendides', 2805: 'thesauriseur', 2806: 'manigances', 2807: 'attirant', 2808: 'attirants', 2809: 'attirantes', 2810: 'perspicace', 2811: 'perspicaces', 2812: 'gaspiller', 2813: 'compositeur', 2814: 'sympathique', 2815: 'medecine', 2816: 'champion', 2817: 'dessiner', 2818: 'image', 2819: 'desire', 2820: 'ardemment', 2821: 'couramment', 2822: 'aventure', 2823: 'deteste', 2824: 'canape', 2825: 'etendu', 2826: 'parait', 2827: 'semble', 2828: 'bord', 2829: 'chimie', 2830: 'grossit', 2831: 'respect', 2832: 'decede', 2833: 'hume', 2834: 'soupe', 2835: 'cheval', 2836: 'voyager', 2837: 'seduisant', 2838: 'etasunien', 2839: 'chinoise', 2840: 'tricheur', 2841: 'demande', 2842: 'hero', 2843: 'reussira', 2844: 'fusil', 2845: 'carabine', 2846: 'sort', 2847: 'moral', 2848: 'virer', 2849: 'adorer', 2850: 'calcul', 2851: 'dote', 2852: 'intelligence', 2853: 'desesperement', 2854: 'rumine', 2855: 'cadet', 2856: 'piste', 2857: 'danse', 2858: 'peindre', 2859: 'comprehensif', 2860: 'manteau', 2861: 'magazine', 2862: 'grimper', 2863: 'plait', 2864: 'connais', 2865: 'pleuve', 2866: 'decois', 2867: 'decevez', 2868: 'corvees', 2869: 'degouline', 2870: 'sueur', 2871: 'emotionnellement', 2872: 'vide', 2873: 'videe', 2874: 'recommencer', 2875: 'police', 2876: 'proteger', 2877: 'quoi', 2878: 'crois', 2879: 'pris', 2880: 'vertiges', 2881: 'adorent', 2882: 'partisan', 2883: 'prone', 2884: 'appartiens', 2885: 'pecheur', 2886: 'noms', 2887: 'excelle', 2888: 'suggestions', 2889: 'propositions', 2890: 'connaissance', 2891: 'combat', 2892: 'decue', 2893: 'nom', 2894: 'serieusement', 2895: 'semblant', 2896: 'somnolent', 2897: 'bus', 2898: 'dispose', 2899: 'rejouit', 2900: 'donner', 2901: 'abeille', 2902: 'vetue', 2903: 'blanc', 2904: 'epouse', 2905: 'verte', 2906: 'massacrante', 2907: 'tricote', 2908: 'echarpe', 2909: 'broche', 2910: 'championne', 2911: 'football', 2912: 'rechauffer', 2913: 'cles', 2914: 'chouchoute', 2915: 'inapte', 2916: 'ramassent', 2917: 'noisettes', 2918: 'salade', 2919: 'direction', 2920: 'rendent', 2921: 'cherchent', 2922: 'revenir', 2923: 'trouvent', 2924: 'autosuffisants', 2925: 'autosuffisantes', 2926: 'quatre', 2927: 'dejeunons', 2928: 'espagnol', 2929: 'lundi', 2930: 'convaincus', 2931: 'convaincues', 2932: 'desesperes', 2933: 'desesperees', 2934: 'parvenir', 2935: 'parlons', 2936: 'aveuglee', 2937: 'aveuglees', 2938: 'aveugles', 2939: 'rentrer', 2940: 'lieu', 2941: 'devez', 2942: 'dois', 2943: 'obsession', 2944: 'hypocrites', 2945: 'bloques', 2946: 'bloquez', 2947: 'conduisez', 2948: 'caches', 2949: 'cachez', 2950: 'imagines', 2951: 'imaginez', 2952: 'faciles', 2953: 'reussit', 2954: 'rates', 2955: 'ratez', 2956: 'bienvenu', 2957: 'effrayer', 2958: 'effraies', 2959: 'trois', 2960: 'ignorant', 2961: 'ignorante', 2962: 'ignorants', 2963: 'ignorantes', 2964: 'propriete', 2965: 'privee', 2966: 'pleines', 2967: 'caractere', 2968: 'typique', 2969: 'plaint', 2970: 'frais', 2971: 'emoulu', 2972: 'gymnastique', 2973: 'ouvrir', 2974: 'fenetre', 2975: 'tableau', 2976: 'sorcier', 2977: 'personnage', 2978: 'constamment', 2979: 'insatisfait', 2980: 'sublimement', 2981: 'eglise', 2982: 'sent', 2983: 'tassee', 2984: 'sera', 2985: 'choisi', 2986: 'frappe', 2987: 'chat', 2988: 'chatte', 2989: 'quitter', 2990: 'cet', 2991: 'interet', 2992: 'entraine', 2993: 'romantique', 2994: 'jeux', 2995: 'video', 2996: 'honnetete', 2997: 'desireux', 2998: 'echouer', 2999: 'enchantee', 3000: 'nourris', 3001: 'revoir', 3002: 'papa', 3003: 'raccrocher', 3004: 'pieuter', 3005: 'regretter', 3006: 'taire', 3007: 'songer', 3008: 'baigner', 3009: 'char', 3010: 'station', 3011: 'soin', 3012: 'portefeuille', 3013: 'realise', 3014: 'documentaire', 3015: 'locuteur', 3016: 'natif', 3017: 'violent', 3018: 'violente', 3019: 'demander', 3020: 'fantomes', 3021: 'enfreins', 3022: 'nettoyer', 3023: 'coin', 3024: 'hasard', 3025: 'parie', 3026: 'impliquer', 3027: 'entrerai', 3028: 'competition', 3029: 'vendrai', 3030: 'inspiree', 3031: 'excessif', 3032: 'vends', 3033: 'signe', 3034: 'aimer', 3035: 'claires', 3036: 'repentir', 3037: 'disposee', 3038: 'pardon', 3039: 'poser', 3040: 'apprecier', 3041: 'etonne', 3042: 'etonnee', 3043: 'telephone', 3044: 'bu', 3045: 'economiser', 3046: 'vaux', 3047: 'affreusement', 3048: 'cheveux', 3049: 'conseils', 3050: 'fauchee', 3051: 'decorative', 3052: 'determinee', 3053: 'tomber', 3054: 'raide', 3055: 'machine', 3056: 'enseigne', 3057: 'ombre', 3058: 'paupiere', 3059: 'hauts', 3060: 'mettent', 3061: 'paquet', 3062: 'compatibles', 3063: 'suivent', 3064: 'chanson', 3065: 'terrifiez', 3066: 'magasin', 3067: 'boutique', 3068: 'demenageons', 3069: 'jeans', 3070: 'rupture', 3071: 'commandement', 3072: 'inquietons', 3073: 'bercons', 3074: 'illusions', 3075: 'leurrons', 3076: 'presses', 3077: 'gaz', 3078: 'fierte', 3079: 'joie', 3080: 'indelicats', 3081: 'indelicates', 3082: 'indelicat', 3083: 'indelicate', 3084: 'individu', 3085: 'execrable', 3086: 'formidable', 3087: 'tarabuster', 3088: 'desobeis', 3089: 'ordres', 3090: 'desobeissez', 3091: 'pouvez', 3092: 'passez', 3093: 'saisis', 3094: 'saisissez', 3095: 'atmosphere', 3096: 'gachez', 3097: 'gaches', 3098: 'deformes', 3099: 'paroles', 3100: 'deformez', 3101: 'societe', 3102: 'quarante', 3103: 'cocaine', 3104: 'nuages', 3105: 'revasse', 3106: 'ecologiste', 3107: 'enseignement', 3108: 'tend', 3109: 'mettre', 3110: 'voisins', 3111: 'chambre', 3112: 'doutes', 3113: 'cause', 3114: 'surmenage', 3115: 'amical', 3116: 'lentement', 3117: 'qualite', 3118: 'accepte', 3119: 'causer', 3120: 'placard', 3121: 'penderie', 3122: 'enfreint', 3123: 'candidat', 3124: 'congres', 3125: 'lecture', 3126: 'agis', 3127: 'quatorze', 3128: 'habiller', 3129: 'pends', 3130: 'chemises', 3131: 'sienne', 3132: 'mienne', 3133: 'sien', 3134: 'habite', 3135: 'present', 3136: 'chateau', 3137: 'deranger', 3138: 'emploie', 3139: 'jours', 3140: 'ci', 3141: 'arroser', 3142: 'fleurs', 3143: 'inconditionnelle', 3144: 'lyceen', 3145: 'puisse', 3146: 'tremblements', 3147: 'pression', 3148: 'penses', 3149: 'pensez', 3150: 'fin', 3151: 'haricots', 3152: 'joins', 3153: 'fichiers', 3154: 'detester', 3155: 'ramene', 3156: 'pizza', 3157: 'demissionner', 3158: 'raccourcis', 3159: 'choix', 3160: 'decision', 3161: 'realite', 3162: 'rassemble', 3163: 'informations', 3164: 'impression', 3165: 'pompe', 3166: 'pu', 3167: 'contenter', 3168: 'preniez', 3169: 'conscience', 3170: 'prennes', 3171: 'portiez', 3172: 'portes', 3173: 'verre', 3174: 'feu', 3175: 'confectionner', 3176: 'bucher', 3177: 'moyens', 3178: 'hopital', 3179: 'pousser', 3180: 'barbe', 3181: 'retourner', 3182: 'obeir', 3183: 'pull', 3184: 'over', 3185: 'chandail', 3186: 'piles', 3187: 'appareil', 3188: 'impatience', 3189: 'specialise', 3190: 'sociologie', 3191: 'appeler', 3192: 'ceci', 3193: 'evanouir', 3194: 'toucher', 3195: 'autres', 3196: 'camp', 3197: 'prevois', 3198: 'suppose', 3199: 'supposee', 3200: 'repeter', 3201: 'chaleur', 3202: 'general', 3203: 'etais', 3204: 'reveillee', 3205: 'soulage', 3206: 'releve', 3207: 'hurle', 3208: 'crie', 3209: 'propos', 3210: 'hier', 3211: 'perte', 3212: 'art', 3213: 'dramatique', 3214: 'kabuki', 3215: 'approuverait', 3216: 'nul', 3217: 'langues', 3218: 'tente', 3219: 'conductrice', 3220: 'lamentable', 3221: 'loyer', 3222: 'enrhumee', 3223: 'personnes', 3224: 'agees', 3225: 'piano', 3226: 'banale', 3227: 'bleue', 3228: 'lisent', 3229: 'inquietent', 3230: 'paix', 3231: 'pendre', 3232: 'consequence', 3233: 'vivons', 3234: 'dos', 3235: 'mur', 3236: 'estimes', 3237: 'espion', 3238: 'espionne', 3239: 'allemands', 3240: 'plaignez', 3241: 'dites', 3242: 'adolescent', 3243: 'adolescente', 3244: 'malignes', 3245: 'rationnels', 3246: 'rationnelles', 3247: 'totalement', 3248: 'pente', 3249: 'racontes', 3250: 'mensonges', 3251: 'raffine', 3252: 'raffinee', 3253: 'raffines', 3254: 'raffinees', 3255: 'comprehensive', 3256: 'comprehensifs', 3257: 'comprehensives', 3258: 'mari', 3259: 'noble', 3260: 'harvard', 3261: 'absorbe', 3262: 'six', 3263: 'haut', 3264: 'trahison', 3265: 'matiere', 3266: 'baseball', 3267: 'chine', 3268: 'concert', 3269: 'devant', 3270: 'handicape', 3271: 'mental', 3272: 'avant', 3273: 'sejourne', 3274: 'assis', 3275: 'tailleur', 3276: 'tient', 3277: 'colline', 3278: 'agronomie', 3279: 'table', 3280: 'suspecte', 3281: 'nage', 3282: 'piscine', 3283: 'merite', 3284: 'louanges', 3285: 'batiment', 3286: 'lois', 3287: 'multiples', 3288: 'talents', 3289: 'malbouffe', 3290: 'bandes', 3291: 'dessinees', 3292: 'viendra', 3293: 'decidement', 3294: 'creuse', 3295: 'beuverie', 3296: 'faculte', 3297: 'doue', 3298: 'parc', 3299: 'longue', 3300: 'chaque', 3301: 'descends', 3302: 'escalier', 3303: 'simple', 3304: 'ceinture', 3305: 'karate', 3306: 'clochard', 3307: 'enrhume', 3308: 'sauvages', 3309: 'sein', 3310: 'donne', 3311: 'salaire', 3312: 'lance', 3313: 'signal', 3314: 'detresse', 3315: 'aucun', 3316: 'doute', 3317: 'certainement', 3318: 'possible', 3319: 'envie', 3320: 'boisson', 3321: 'fraiche', 3322: 'idee', 3323: 'demenagement', 3324: 'puissiez', 3325: 'puisses', 3326: 'sieste', 3327: 'piquer', 3328: 'somme', 3329: 'repenser', 3330: 'doucher', 3331: 'constater', 3332: 'haute', 3333: 'survivre', 3334: 'maman', 3335: 'disparaitre', 3336: 'signer', 3337: 'simulation', 3338: 'fetes', 3339: 'garder', 3340: 'refuse', 3341: 'vendre', 3342: 'croire', 3343: 'risque', 3344: 'decore', 3345: 'uf', 3346: 'paques', 3347: 'rechigne', 3348: 'epargne', 3349: 'malentendu', 3350: 'interrompre', 3351: 'embouteillage', 3352: 'moyen', 3353: 'partira', 3354: 'construit', 3355: 'mcdonald', 3356: 'apre', 3357: 'desireuse', 3358: 'preparer', 3359: 'sortie', 3360: 'editeur', 3361: 'aimee', 3362: 'tombee', 3363: 'banc', 3364: 'agacer', 3365: 'ample', 3366: 'nettoient', 3367: 'laboratoire', 3368: 'etasuniens', 3369: 'etasuniennes', 3370: 'appartenons', 3371: 'billets', 3372: 'refaire', 3373: 'desastre', 3374: 'destines', 3375: 'censes', 3376: 'jeter', 3377: 'phase', 3378: 'plaindre', 3379: 'leurrez', 3380: 'leurres', 3381: 'avion', 3382: 'coco', 3383: 'drille', 3384: 'comportes', 3385: 'comportez', 3386: 'interessante', 3387: 'souffrez', 3388: 'souffres', 3389: 'autorisee', 3390: 'dormez', 3391: 'stupides', 3392: 'epreuve', 3393: 'objet', 3394: 'enquete', 3395: 'soucieux', 3396: 'soucieuse', 3397: 'soucieuses', 3398: 'inquietes', 3399: 'mathematicien', 3400: 'romancier', 3401: 'prometteur', 3402: 'soigneusement', 3403: 'vetu', 3404: 'autorite', 3405: 'mains', 3406: 'couilles', 3407: 'photos', 3408: 'debut', 3409: 'crime', 3410: 'compagnie', 3411: 'respecte', 3412: 'torrefie', 3413: 'feves', 3414: 'scene', 3415: 'fringant', 3416: 'rhume', 3417: 'marketing', 3418: 'pigiste', 3419: 'portable', 3420: 'joindre', 3421: 'cercle', 3422: 'rude', 3423: 'encoignures', 3424: 'fume', 3425: 'tripotee', 3426: 'tripote', 3427: 'partirai', 3428: 'termes', 3429: 'tien', 3430: 'mien', 3431: 'conseiller', 3432: 'gestion', 3433: 'faveur', 3434: 'suggestion', 3435: 'cesse', 3436: 'surprendre', 3437: 'actrice', 3438: 'andouille', 3439: 'aurai', 3440: 'mariage', 3441: 'abattre', 3442: 'jour', 3443: 'quotidiennement', 3444: 'gerant', 3445: 'autoriser', 3446: 'citer', 3447: 'livrer', 3448: 'negocier', 3449: 'suggere', 3450: 'ouvre', 3451: 'cadeaux', 3452: 'economise', 3453: 'recriminations', 3454: 'doives', 3455: 'elimine', 3456: 'antipathique', 3457: 'persuader', 3458: 'promene', 3459: 'effondre', 3460: 'regrette', 3461: 'soignee', 3462: 'excellente', 3463: 'quadra', 3464: 'planifie', 3465: 'bonheur', 3466: 'epluche', 3467: 'attitree', 3468: 'fondue', 3469: 'tricot', 3470: 'passionnee', 3471: 'lourde', 3472: 'accomplie', 3473: 'professeurs', 3474: 'agissent', 3475: 'amusent', 3476: 'employes', 3477: 'partiel', 3478: 'employees', 3479: 'dollars', 3480: 'chacun', 3481: 'chacune', 3482: 'lavent', 3483: 'susceptibles', 3484: 'commettre', 3485: 'erreurs', 3486: 'propension', 3487: 'changeons', 3488: 'attendons', 3489: 'hiver', 3490: 'doux', 3491: 'manipules', 3492: 'manipulees', 3493: 'joueurs', 3494: 'joueuses', 3495: 'continuer', 3496: 'officiellement', 3497: 'drap', 3498: 'cachet', 3499: 'aspirine', 3500: 'decollage', 3501: 'confirme', 3502: 'redevable', 3503: 'reclame', 3504: 'commets', 3505: 'commettez', 3506: 'interessant', 3507: 'interessants', 3508: 'interessantes', 3509: 'clairement', 3510: 'negociateur', 3511: 'commences', 3512: 'commencez', 3513: 'recherchee', 3514: 'metier', 3515: 'profession', 3516: 'experimente', 3517: 'echec', 3518: 'match', 3519: 'president', 3520: 'attache', 3521: 'gloire', 3522: 'elections', 3523: 'municipales', 3524: 'chances', 3525: 'remporter', 3526: 'remporte', 3527: 'progresser', 3528: 'aupres', 3529: 'test', 3530: 'reunion', 3531: 'fonds', 3532: 'frileux', 3533: 'pionnier', 3534: 'appelons', 3535: 'niveau', 3536: 'international', 3537: 'defauts', 3538: 'mondanites', 3539: 'audace', 3540: 'conduite', 3541: 'australienne', 3542: 'lie', 3543: 'indiffere', 3544: 'indifferent', 3545: 'concerne', 3546: 'camion', 3547: 'lecteur', 3548: 'offenses', 3549: 'offensees', 3550: 'perde', 3551: 'rumeur', 3552: 'averee', 3553: 'puissions', 3554: 'requiers', 3555: 'disposez', 3556: 'plan', 3557: 'disposes', 3558: 'audition', 3559: 'role', 3560: 'possibilite', 3561: 'sentir', 3562: 'curiosite', 3563: 'aiguiser', 3564: 'deconne', 3565: 'chaussures', 3566: 'pale', 3567: 'malgre', 3568: 'lignes', 3569: 'directrices', 3570: 'bouquins', 3571: 'voulez', 3572: 'comprenne', 3573: 'compreniez', 3574: 'comprennes', 3575: 'finalement', 3576: 'rencontree', 3577: 'rencontrees', 3578: 'rencontres', 3579: 'souleve', 3580: 'mentionne', 3581: 'voies', 3582: 'voyiez', 3583: 'chemise', 3584: 'dechiffrer', 3585: 'resoudre', 3586: 'volerai', 3587: 'laisser', 3588: 'epargner', 3589: 'possede', 3590: 'traverse', 3591: 'cellulaire', 3592: 'mobile', 3593: 'renseigne', 3594: 'acquerir', 3595: 'donnerai', 3596: 'patinerai', 3597: 'particulierement', 3598: 'rue', 3599: 'siege', 3600: 'supporte', 3601: 'rompu', 3602: 'promesse', 3603: 'derangee', 3604: 'deranges', 3605: 'derangees', 3606: 'intimides', 3607: 'intimidez', 3608: 'avait', 3609: 'raisons', 3610: 'reussiras', 3611: 'secrets', 3612: 'queue', 3613: 'plaintes', 3614: 'allemagne', 3615: 'lever', 3616: 'cuillere', 3617: 'avenir', 3618: 'jules', 3619: 'dame', 3620: 'autodidacte', 3621: 'absorbee', 3622: 'etude', 3623: 'amicale', 3624: 'tonnerre', 3625: 'imiter', 3626: 'personnel', 3627: 'douee', 3628: 'isolee', 3629: 'vrais', 3630: 'militent', 3631: 'violences', 3632: 'trainent', 3633: 'torturer', 3634: 'essuyer', 3635: 'tempete', 3636: 'degats', 3637: 'agressifs', 3638: 'ratons', 3639: 'manquons', 3640: 'critiques', 3641: 'critiquez', 3642: 'hallucines', 3643: 'hallucinez', 3644: 'deprimees', 3645: 'tare', 3646: 'ridiculises', 3647: 'paraitre', 3648: 'diplomate', 3649: 'exactement', 3650: 'irreprochable', 3651: 'pantalon', 3652: 'aidiez', 3653: 'dentiste', 3654: 'domaine', 3655: 'guitare', 3656: 'ideal', 3657: 'attitude', 3658: 'quiconque', 3659: 'sentiments', 3660: 'humains', 3661: 'ordinateurs', 3662: 'arracheur', 3663: 'outrageusement', 3664: 'annees', 3665: 'collection', 3666: 'portrait', 3667: 'crache', 3668: 'craindre', 3669: 'realiser', 3670: 'discours', 3671: 'telles', 3672: 'situations', 3673: 'impresario', 3674: 'rare', 3675: 'change', 3676: 'avis', 3677: 'attire', 3678: 'femmes', 3679: 'negresses', 3680: 'noires', 3681: 'manipulateur', 3682: 'traverser', 3683: 'riviere', 3684: 'tenue', 3685: 'negligee', 3686: 'resultat', 3687: 'excellent', 3688: 'essouffle', 3689: 'sida', 3690: 'assistant', 3691: 'fautes', 3692: 'verrai', 3693: 'respectable', 3694: 'difficultes', 3695: 'construire', 3696: 'occasion', 3697: 'rende', 3698: 'aimiez', 3699: 'aimes', 3700: 'hanovre', 3701: 'irai', 3702: 'parce', 3703: 'requerir', 3704: 'compare', 3705: 'vetement', 3706: 'compris', 3707: 'effraye', 3708: 'effrayee', 3709: 'effrayes', 3710: 'effrayees', 3711: 'decevoir', 3712: 'plans', 3713: 'arranger', 3714: 'janvier', 3715: 'second', 3716: 'survecu', 3717: 'reflexions', 3718: 'octobre', 3719: 'aboient', 3720: 'rose', 3721: 'devouee', 3722: 'vaut', 3723: 'paralysee', 3724: 'jambes', 3725: 'appreciee', 3726: 'ni', 3727: 'peint', 3728: 'etaient', 3729: 'habituels', 3730: 'attraper', 3731: 'forment', 3732: 'panier', 3733: 'marchent', 3734: 'nus', 3735: 'cherchons', 3736: 'facon', 3737: 'rigoler', 3738: 'amuser', 3739: 'basket', 3740: 'passons', 3741: 'rajeunit', 3742: 'rajeunissons', 3743: 'regrettons', 3744: 'corriger', 3745: 'bug', 3746: 'papillon', 3747: 'parfois', 3748: 'pueril', 3749: 'puerile', 3750: 'puerils', 3751: 'pueriles', 3752: 'plats', 3753: 'nourriture', 3754: 'vises', 3755: 'visez', 3756: 'preches', 3757: 'prechez', 3758: 'cense', 3759: 'reposer', 3760: 'entrainee', 3761: 'formee', 3762: 'aie', 3763: 'gai', 3764: 'attentionnee', 3765: 'acte', 3766: 'directeur', 3767: 'questions', 3768: 'pretextes', 3769: 'capacites', 3770: 'profite', 3771: 'ecolier', 3772: 'confronte', 3773: 'nombreuses', 3774: 'quittera', 3775: 'chicago', 3776: 'celebrite', 3777: 'crises', 3778: 'aient', 3779: 'tromper', 3780: 'journee', 3781: 'renommee', 3782: 'obsede', 3783: 'proprete', 3784: 'europe', 3785: 'proposition', 3786: 'langue', 3787: 'representant', 3788: 'commerce', 3789: 'flattee', 3790: 'flatte', 3791: 'insiste', 3792: 'perdions', 3793: 'apercevoir', 3794: 'motif', 3795: 'distinguer', 3796: 'schema', 3797: 'traite', 3798: 'chocolat', 3799: 'droit', 3800: 'opinion', 3801: 'nombreux', 3802: 'automne', 3803: 'ambulance', 3804: 'tuer', 3805: 'manquera', 3806: 'secret', 3807: 'conter', 3808: 'politique', 3809: 'soucie', 3810: 'veste', 3811: 'new', 3812: 'york', 3813: 'times', 3814: 'linux', 3815: 'ressens', 3816: 'hostilite', 3817: 'embarrasses', 3818: 'embarrassees', 3819: 'blessent', 3820: 'monnaie', 3821: 'commande', 3822: 'ira', 3823: 'passera', 3824: 'surgir', 3825: 'surement', 3826: 'benjamin', 3827: 'flemme', 3828: 'triathlon', 3829: 'entreprise', 3830: 'repasse', 3831: 'mouchoirs', 3832: 'visiter', 3833: 'commun', 3834: 'conception', 3835: 'cynique', 3836: 'bague', 3837: 'prix', 3838: 'convient', 3839: 'depend', 3840: 'examens', 3841: 'pacifiques', 3842: 'innocents', 3843: 'profs', 3844: 'loyaux', 3845: 'menent', 3846: 'tiennent', 3847: 'gardent', 3848: 'souffrent', 3849: 'paludisme', 3850: 'face', 3851: 'crise', 3852: 'case', 3853: 'depart', 3854: 'passerons', 3855: 'manquerons', 3856: 'thanksgiving', 3857: 'planifions', 3858: 'abuses', 3859: 'abusez', 3860: 'piece', 3861: 'adorerez', 3862: 'bousiller', 3863: 'rajeunis', 3864: 'suffisament', 3865: 'echauffer', 3866: 'restes', 3867: 'restez', 3868: 'emballe', 3869: 'emballee', 3870: 'estime', 3871: 'comite', 3872: 'imaginatif', 3873: 'imagination', 3874: 'maladie', 3875: 'connait', 3876: 'maire', 3877: 'compliments', 3878: 'ameliore', 3879: 'expliquer', 3880: 'exigences', 3881: 'parent', 3882: 'alliance', 3883: 'impopulaire', 3884: 'quelconque', 3885: 'montagne', 3886: 'fronde', 3887: 'depuis', 3888: 'expulse', 3889: 'condition', 3890: 'physique', 3891: 'vecu', 3892: 'entiere', 3893: 'public', 3894: 'coutume', 3895: 'innocence', 3896: 'linge', 3897: 'pic', 3898: 'nic', 3899: 'veuillez', 3900: 'excuser', 3901: 'davantage', 3902: 'eventuellement', 3903: 'comprise', 3904: 'brulures', 3905: 'suivant', 3906: 'lecon', 3907: 'commissariat', 3908: 'essentiel', 3909: 'canada', 3910: 'correspondant', 3911: 'louer', 3912: 'reponse', 3913: 'evidemment', 3914: 'dirai', 3915: 'defi', 3916: 'retrousser', 3917: 'manches', 3918: 'eponge', 3919: 'espace', 3920: 'vieillesse', 3921: 'liquidites', 3922: 'alors', 3923: 'tardive', 3924: 'serait', 3925: 'engueule', 3926: 'achat', 3927: 'revienne', 3928: 'experte', 3929: 'mathematiques', 3930: 'manche', 3931: 'balai', 3932: 'chantage', 3933: 'exerce', 3934: 'vaguement', 3935: 'lointaine', 3936: 'juin', 3937: 'materialiste', 3938: 'superficielle', 3939: 'admet', 3940: 'broadway', 3941: 'avenue', 3942: 'discutent', 3943: 'etats', 3944: 'unis', 3945: 'jalousent', 3946: 'quittent', 3947: 'veulent', 3948: 'quittons', 3949: 'concurrents', 3950: 'concurrentes', 3951: 'soucions', 3952: 'appretons', 3953: 'justement', 3954: 'savoir', 3955: 'sied', 3956: 'superbement', 3957: 'citadine', 3958: 'evidence', 3959: 'connaisse', 3960: 'ceremonies', 3961: 'puissance', 3962: 'deguise', 3963: 'mouton', 3964: 'tradition', 3965: 'perd', 3966: 'parapluie', 3967: 'connaitre', 3968: 'separe', 3969: 'departement', 3970: 'radin', 3971: 'inde', 3972: 'pleurnichard', 3973: 'ramollo', 3974: 'attente', 3975: 'vehicule', 3976: 'comportement', 3977: 'bijouterie', 3978: 'monotone', 3979: 'habilete', 3980: 'responsabilites', 3981: 'humide', 3982: 'couper', 3983: 'arbre', 3984: 'reecrire', 3985: 'envoyer', 3986: 'joli', 3987: 'visage', 3988: 'impressionner', 3989: 'performance', 3990: 'representation', 3991: 'prestation', 3992: 'hamburgers', 3993: 'rate', 3994: 'anniversaire', 3995: 'ennuyer', 3996: 'reconnais', 3997: 'reproduira', 3998: 'decalage', 3999: 'numero', 4000: 'longtemps', 4001: 'accepter', 4002: 'offre', 4003: 'familiere', 4004: 'chansons', 4005: 'romanciere', 4006: 'nourrit', 4007: 'chien', 4008: 'ressemble', 4009: 'violoniste', 4010: 'renom', 4011: 'comment', 4012: 'promis', 4013: 'allait', 4014: 'collegues', 4015: 'ceux', 4016: 'celles', 4017: 'disent', 4018: 'smic', 4019: 'distribuent', 4020: 'echantillons', 4021: 'gratuits', 4022: 'choisissons', 4023: 'aurons', 4024: 'gachons', 4025: 'stationner', 4026: 'autorises', 4027: 'censees', 4028: 'censee', 4029: 'soutenez', 4030: 'pretez', 4031: 'interrompez', 4032: 'devrais', 4033: 'bouche', 4034: 'archeologie', 4035: 'preparatifs', 4036: 'entier', 4037: 'prompt', 4038: 'inquietudes', 4039: 'violon', 4040: 'rugueux', 4041: 'reveche', 4042: 'liquide', 4043: 'lancer', 4044: 'couteaux', 4045: 'remarquer', 4046: 'decide', 4047: 'troupe', 4048: 'attaque', 4049: 'cardiaque', 4050: 'experiences', 4051: 'malheureuses', 4052: 'traine', 4053: 'coton', 4054: 'determine', 4055: 'reussi', 4056: 'noel', 4057: 'oreillons', 4058: 'depenser', 4059: 'izu', 4060: 'pendant', 4061: 'week', 4062: 'end', 4063: 'manifestation', 4064: 'pourrait', 4065: 'genee', 4066: 'apparemment', 4067: 'alentours', 4068: 'blanche', 4069: 'lettres', 4070: 'autour', 4071: 'semestre', 4072: 'journaux', 4073: 'epandent', 4074: 'arbres', 4075: 'fruitiers', 4076: 'vivent', 4077: 'fantaisie', 4078: 'planete', 4079: 'hawai', 4080: 'interruption', 4081: 'supposes', 4082: 'craignons', 4083: 'demandons', 4084: 'budget', 4085: 'limite', 4086: 'embrouillez', 4087: 'responsabilite', 4088: 'liberee', 4089: 'liberees', 4090: 'liberes', 4091: 'humanite', 4092: 'religieuses', 4093: 'religieuse', 4094: 'reporter', 4095: 'time', 4096: 'severe', 4097: 'considere', 4098: 'accident', 4099: 'quelquefois', 4100: 'horriblement', 4101: 'deambule', 4102: 'transe', 4103: 'hyogo', 4104: 'veiller', 4105: 'commette', 4106: 'egariez', 4107: 'perdiez', 4108: 'perdes', 4109: 'resolu', 4110: 'actuel', 4111: 'jouerai', 4112: 'semaines', 4113: 'labeur', 4114: 'baille', 4115: 'rudiments', 4116: 'ceramique', 4117: 'orientale', 4118: 'poetes', 4119: 'classer', 4120: 'sommeille', 4121: 'bequilles', 4122: 'inquieter', 4123: 'ignoriez', 4124: 'ignorais', 4125: 'recuperer', 4126: 'retomber', 4127: 'relation', 4128: 'independante', 4129: 'roses', 4130: 'conscients', 4131: 'voient', 4132: 'confrontes', 4133: 'financieres', 4134: 'bronzent', 4135: 'jouons', 4136: 'derangement', 4137: 'voyageons', 4138: 'ou', 4139: 'pensais', 4140: 'voie', 4141: 'retablissement', 4142: 'millionieme', 4143: 'resultats', 4144: 'anticipez', 4145: 'pareille', 4146: 'amnesie', 4147: 'maitrise', 4148: 'technique', 4149: 'bagarre', 4150: 'fomenter', 4151: 'troubles', 4152: 'propheties', 4153: 'mayas', 4154: 'parte', 4155: 'oxford', 4156: 'invitation', 4157: 'etrangeres', 4158: 'impatiemment', 4159: 'protection', 4160: 'pleinement', 4161: 'hemorragie', 4162: 'interne', 4163: 'coree', 4164: 'signaler', 4165: 'mille', 4166: 'prendrais', 4167: 'finit', 4168: 'identite', 4169: 'decisions', 4170: 'accoutumee', 4171: 'personnelles', 4172: 'gravir', 4173: 'intention', 4174: 'trouves', 4175: 'reproches', 4176: 'compares', 4177: 'choux', 4178: 'carottes', 4179: 'plonge', 4180: 'latin', 4181: 'humanites', 4182: 'culture', 4183: 'rendra', 4184: 'tremble', 4185: 'serez', 4186: 'ajouterai', 4187: 'finale', 4188: 'ecarte', 4189: 'relations', 4190: 'prevu', 4191: 'vendu', 4192: 'devalises', 4193: 'farouchement', 4194: 'oppose', 4195: 'compromis', 4196: 'economie', 4197: 'dotee', 4198: 'inconduite', 4199: 'collier', 4200: 'mercredi', 4201: 'materiel', 4202: 'soutien', 4203: 'devis', 4204: 'multitude', 4205: 'foule', 4206: 'tas', 4207: 'quantite', 4208: 'influences', 4209: 'environnement', 4210: 'soumis', 4211: 'fouiller', 4212: 'totalite', 4213: 'reduire', 4214: 'depenses', 4215: 'reprocher', 4216: 'amusez', 4217: 'amuses', 4218: 'leeds', 4219: 'evaluation', 4220: 'antiquites', 4221: 'projette', 4222: 'cale', 4223: 'litterature', 4224: 'biologie', 4225: 'pointure', 4226: 'sommite', 4227: 'impressionnable', 4228: 'inconfortables', 4229: 'histoires', 4230: 'car', 4231: 'agi', 4232: 'stupidement', 4233: 'disputes', 4234: 'commencent', 4235: 'derniere', 4236: 'bjork', 4237: 'grandissent', 4238: 'etudes', 4239: 'sociales', 4240: 'interessent', 4241: 'quete', 4242: 'astronomie', 4243: 'souhaitons', 4244: 'pechons', 4245: 'oceans', 4246: 'conseil', 4247: 'paroissial', 4248: 'redire', 4249: 'normalement', 4250: 'prevoit', 4251: 'developper', 4252: 'vente', 4253: 'financierement', 4254: 'suedois', 4255: 'gentillesse', 4256: 'orchestre', 4257: 'oreille', 4258: 'gauche', 4259: 'travaillent', 4260: 'animalerie', 4261: 'etudient', 4262: 'webdesign', 4263: 'suspicieux', 4264: 'suspicieuse', 4265: 'suspicieuses', 4266: 'espere', 4267: 'rodomontades', 4268: 'tubes', 4269: 'populaires', 4270: 'mesurons', 4271: 'profondeur', 4272: 'acheve', 4273: 'main', 4274: 'paysage', 4275: 'tirez', 4276: 'avantage', 4277: 'faiblesse', 4278: 'ambassade', 4279: 'irritant', 4280: 'prochaines', 4281: 'recupere', 4282: 'moto', 4283: 'trafiquee', 4284: 'calvitie', 4285: 'naissante', 4286: 'parasol', 4287: 'classique', 4288: 'expriment', 4289: 'enlacant', 4290: 'encourage', 4291: 'moisson', 4292: 'annonce', 4293: 'rejouissons', 4294: 'presence', 4295: 'hospitalite', 4296: 'quoique', 4297: 'fasses', 4298: 'desaccord', 4299: 'nobles', 4300: 'sculptent', 4301: 'statue', 4302: 'marbre', 4303: 'dont', 4304: 'devons', 4305: 'emmenent', 4306: 'urgences', 4307: 'rales', 4308: 'souvenir', 4309: 'mele', 4310: 'conversation', 4311: 'insatisfaction', 4312: 'romps', 4313: 'nana', 4314: 'organisation', 4315: 'institution', 4316: 'disposees', 4317: 'reconnue', 4318: 'irresponsable', 4319: 'cloturer', 4320: 'recevoir', 4321: 'tarde', 4322: 'discuterons', 4323: 'jouant', 4324: 'videos', 4325: 'narita', 4326: 'hawaii', 4327: 'bataille', 4328: 'croyances', 4329: 'interprete', 4330: 'internationale', 4331: 'comporter', 4332: 'inventer', 4333: 'publication', 4334: 'ouvrage', 4335: 'receptive', 4336: 'hypnotique', 4337: 'jackson', 4338: 'entreprend', 4339: 'compiler', 4340: 'collectent', 4341: 'dons', 4342: 'candidats', 4343: 'presidentielles', 4344: 'americaines'}), ('n_words', 4345)])"
            ]
          },
          "metadata": {
            "tags": []
          },
          "execution_count": 7
        }
      ]
    },
    {
      "cell_type": "code",
      "metadata": {
        "colab": {
          "base_uri": "https://localhost:8080/"
        },
        "id": "wi-oeYO5hy2e",
        "outputId": "e7166f1e-154e-478c-e263-61441a1db942"
      },
      "source": [
        "# just at the end we have what we want, the total nunber of words\n",
        "input_lang.n_words"
      ],
      "execution_count": null,
      "outputs": [
        {
          "output_type": "execute_result",
          "data": {
            "text/plain": [
              "4345"
            ]
          },
          "metadata": {
            "tags": []
          },
          "execution_count": 8
        }
      ]
    },
    {
      "cell_type": "markdown",
      "metadata": {
        "id": "naFSS6NuiPW0"
      },
      "source": [
        "We want to create an embedding layer that has embedding value for each of the word we have in out input layer. So..."
      ]
    },
    {
      "cell_type": "code",
      "metadata": {
        "id": "HohMsxKyiIJu"
      },
      "source": [
        "input_size = input_lang.n_words\n",
        "\n",
        "hidden_size = 256\n",
        "\n",
        "embedding = nn.Embedding(input_size, hidden_size)\n",
        "lstm = nn.LSTM(hidden_size, hidden_size)"
      ],
      "execution_count": null,
      "outputs": []
    },
    {
      "cell_type": "code",
      "metadata": {
        "colab": {
          "base_uri": "https://localhost:8080/"
        },
        "id": "bETa5rpEfqKm",
        "outputId": "8f54efb8-7e69-42c7-d863-ceb6b9da33b0"
      },
      "source": [
        "device"
      ],
      "execution_count": null,
      "outputs": [
        {
          "output_type": "execute_result",
          "data": {
            "text/plain": [
              "device(type='cpu')"
            ]
          },
          "metadata": {
            "tags": []
          },
          "execution_count": 10
        }
      ]
    },
    {
      "cell_type": "markdown",
      "metadata": {
        "id": "L0aP-vCaiccS"
      },
      "source": [
        "Cool, now we need to feed data to our LSTM. \n",
        "But what do we feed out embedding layer? \n",
        "Let's figure it out by trail and error. We have input in the form of pairs already. Let's start from there"
      ]
    },
    {
      "cell_type": "code",
      "metadata": {
        "colab": {
          "base_uri": "https://localhost:8080/"
        },
        "id": "AI0AvyzwiV9k",
        "outputId": "853004f3-7407-4d10-9689-4c3d7678c73c"
      },
      "source": [
        "sample = random.choice(pairs)\n",
        "sample"
      ],
      "execution_count": null,
      "outputs": [
        {
          "output_type": "execute_result",
          "data": {
            "text/plain": [
              "['tu es un de ces dragueurs !', 'you re such a flirt .']"
            ]
          },
          "metadata": {
            "tags": []
          },
          "execution_count": 11
        }
      ]
    },
    {
      "cell_type": "code",
      "metadata": {
        "colab": {
          "base_uri": "https://localhost:8080/"
        },
        "id": "ii_VIdRSkJ5N",
        "outputId": "c4ea76a2-e89f-4e0e-8162-f153444f6f25"
      },
      "source": [
        "input_sentence = sample[0]\n",
        "target_sentence = sample[1]\n",
        "\n",
        "input_lang.word2index['elle']"
      ],
      "execution_count": null,
      "outputs": [
        {
          "output_type": "execute_result",
          "data": {
            "text/plain": [
              "119"
            ]
          },
          "metadata": {
            "tags": []
          },
          "execution_count": 14
        }
      ]
    },
    {
      "cell_type": "code",
      "metadata": {
        "colab": {
          "base_uri": "https://localhost:8080/",
          "height": 35
        },
        "id": "FAKWf4mf8m7w",
        "outputId": "174d899b-a799-47a3-fdac-89e3c1d2d60e"
      },
      "source": [
        "input_sentence"
      ],
      "execution_count": null,
      "outputs": [
        {
          "output_type": "execute_result",
          "data": {
            "application/vnd.google.colaboratory.intrinsic+json": {
              "type": "string"
            },
            "text/plain": [
              "'tu es un de ces dragueurs !'"
            ]
          },
          "metadata": {
            "tags": []
          },
          "execution_count": 15
        }
      ]
    },
    {
      "cell_type": "code",
      "metadata": {
        "colab": {
          "base_uri": "https://localhost:8080/",
          "height": 35
        },
        "id": "049kbRJ08T0e",
        "outputId": "46a85415-7279-4f9c-cd3e-bc701634a67c"
      },
      "source": [
        "target_sentence"
      ],
      "execution_count": null,
      "outputs": [
        {
          "output_type": "execute_result",
          "data": {
            "application/vnd.google.colaboratory.intrinsic+json": {
              "type": "string"
            },
            "text/plain": [
              "'you re such a flirt .'"
            ]
          },
          "metadata": {
            "tags": []
          },
          "execution_count": 16
        }
      ]
    },
    {
      "cell_type": "code",
      "metadata": {
        "colab": {
          "base_uri": "https://localhost:8080/"
        },
        "id": "E04uF6hNk2Co",
        "outputId": "09df5973-0451-44bf-cb86-fba5390612f3"
      },
      "source": [
        "for word in input_sentence.split(' '):\n",
        "  print(word)"
      ],
      "execution_count": null,
      "outputs": [
        {
          "output_type": "stream",
          "text": [
            "tu\n",
            "es\n",
            "un\n",
            "de\n",
            "ces\n",
            "dragueurs\n",
            "!\n"
          ],
          "name": "stdout"
        }
      ]
    },
    {
      "cell_type": "code",
      "metadata": {
        "colab": {
          "base_uri": "https://localhost:8080/"
        },
        "id": "L4cacPK7lRKr",
        "outputId": "723a58e9-d349-4c0f-f208-a41a683725e8"
      },
      "source": [
        "input_indices = [input_lang.word2index[word] for word in input_sentence.split(' ')]\n",
        "target_indices = [output_lang.word2index[word] for word in target_sentence.split(' ')]\n",
        "input_indices, target_indices"
      ],
      "execution_count": null,
      "outputs": [
        {
          "output_type": "execute_result",
          "data": {
            "text/plain": [
              "([210, 211, 66, 101, 1384, 2222, 17], [129, 78, 653, 42, 1276, 4])"
            ]
          },
          "metadata": {
            "tags": []
          },
          "execution_count": 19
        }
      ]
    },
    {
      "cell_type": "code",
      "metadata": {
        "colab": {
          "base_uri": "https://localhost:8080/"
        },
        "id": "6N4a6NDd8X6Y",
        "outputId": "57d980cf-0c59-4c33-f66a-9281b2504707"
      },
      "source": [
        "target_indices"
      ],
      "execution_count": null,
      "outputs": [
        {
          "output_type": "execute_result",
          "data": {
            "text/plain": [
              "[129, 78, 653, 42, 1276, 4]"
            ]
          },
          "metadata": {
            "tags": []
          },
          "execution_count": 20
        }
      ]
    },
    {
      "cell_type": "markdown",
      "metadata": {
        "id": "6WV48DsclZoT"
      },
      "source": [
        "\n",
        "\n",
        "Let's attach our EOS index to these lists! "
      ]
    },
    {
      "cell_type": "code",
      "metadata": {
        "colab": {
          "base_uri": "https://localhost:8080/"
        },
        "id": "50kgATkYlYbJ",
        "outputId": "7492625d-3dcb-4cd5-e36f-e104b46b0d94"
      },
      "source": [
        "input_indices.append(EOS_token)\n",
        "target_indices.append(EOS_token)\n",
        "input_indices, target_indices"
      ],
      "execution_count": null,
      "outputs": [
        {
          "output_type": "execute_result",
          "data": {
            "text/plain": [
              "([210, 211, 66, 101, 1384, 2222, 17, 1], [129, 78, 653, 42, 1276, 4, 1])"
            ]
          },
          "metadata": {
            "tags": []
          },
          "execution_count": 21
        }
      ]
    },
    {
      "cell_type": "markdown",
      "metadata": {
        "id": "GVJP9AqKl4Lv"
      },
      "source": [
        "Oh yes, these are still indeces (not words anymore), we first need to convert them to tensors. \n",
        "\n",
        "In the original code we wrote these 3 functions to take care of all the work we did till now. \n",
        "\n",
        "```\n",
        "def indexesFromSentence(lang, sentence):\n",
        "    return [lang.word2index[word] for word in sentence.split(' ')]\n",
        "\n",
        "\n",
        "def tensorFromSentence(lang, sentence):\n",
        "    indexes = indexesFromSentence(lang, sentence)\n",
        "    indexes.append(EOS_token)\n",
        "    return torch.tensor(indexes, dtype=torch.long, device=device).view(-1, 1)\n",
        "\n",
        "\n",
        "def tensorsFromPair(pair):\n",
        "    input_tensor = tensorFromSentence(input_lang, pair[0])\n",
        "    target_tensor = tensorFromSentence(output_lang, pair[1])\n",
        "    return (input_tensor, target_tensor)\n",
        "```"
      ]
    },
    {
      "cell_type": "code",
      "metadata": {
        "id": "mK9iLBvMl1f-"
      },
      "source": [
        "input_tensor = torch.tensor(input_indices, dtype=torch.long, device= device)\n",
        "output_tensor = torch.tensor(target_indices, dtype=torch.long, device= device)"
      ],
      "execution_count": null,
      "outputs": []
    },
    {
      "cell_type": "code",
      "metadata": {
        "colab": {
          "base_uri": "https://localhost:8080/"
        },
        "id": "x0lXv_8WmMww",
        "outputId": "336cc671-8aba-40c8-c05e-7aa4811607da"
      },
      "source": [
        "input_tensor.shape"
      ],
      "execution_count": null,
      "outputs": [
        {
          "output_type": "execute_result",
          "data": {
            "text/plain": [
              "torch.Size([8])"
            ]
          },
          "metadata": {
            "tags": []
          },
          "execution_count": 25
        }
      ]
    },
    {
      "cell_type": "code",
      "metadata": {
        "id": "QywWeUlrmQob"
      },
      "source": [
        "embedded_input = embedding(input_tensor)"
      ],
      "execution_count": null,
      "outputs": []
    },
    {
      "cell_type": "markdown",
      "metadata": {
        "id": "rfOufHL3mxfx"
      },
      "source": [
        "So we moved our tensor to CUDA, but layers to CPU. Let's check and fix that. "
      ]
    },
    {
      "cell_type": "code",
      "metadata": {
        "colab": {
          "base_uri": "https://localhost:8080/"
        },
        "id": "ungerI89mpWJ",
        "outputId": "d518ae3d-c9df-4249-d945-385852c461c5"
      },
      "source": [
        "input_tensor"
      ],
      "execution_count": null,
      "outputs": [
        {
          "output_type": "execute_result",
          "data": {
            "text/plain": [
              "tensor([ 210,  211,   66,  101, 1384, 2222,   17,    1])"
            ]
          },
          "metadata": {
            "tags": []
          },
          "execution_count": 27
        }
      ]
    },
    {
      "cell_type": "code",
      "metadata": {
        "id": "ZlV3nZjqm5RM"
      },
      "source": [
        "embedding = nn.Embedding(input_size, hidden_size).to(device)\n",
        "lstm = nn.LSTM(input_size=hidden_size, hidden_size=hidden_size, num_layers=1).to(device)\n",
        "#nn.LSTMCell(embedding_dim, self.hidden_dim)"
      ],
      "execution_count": null,
      "outputs": []
    },
    {
      "cell_type": "code",
      "metadata": {
        "colab": {
          "base_uri": "https://localhost:8080/"
        },
        "id": "z4bTJO7EhOwv",
        "outputId": "03c2fa9d-9dc0-4019-bbd3-f5ac45b87f32"
      },
      "source": [
        "lstm"
      ],
      "execution_count": null,
      "outputs": [
        {
          "output_type": "execute_result",
          "data": {
            "text/plain": [
              "LSTM(256, 256)"
            ]
          },
          "metadata": {
            "tags": []
          },
          "execution_count": 29
        }
      ]
    },
    {
      "cell_type": "code",
      "metadata": {
        "colab": {
          "base_uri": "https://localhost:8080/"
        },
        "id": "O-dq4Bkjm8i-",
        "outputId": "72ce751a-69c8-4cc3-bad9-f478b353d959"
      },
      "source": [
        "embedded_input = embedding(input_tensor[0]) #first word only\n",
        "embedded_input.shape"
      ],
      "execution_count": null,
      "outputs": [
        {
          "output_type": "execute_result",
          "data": {
            "text/plain": [
              "torch.Size([256])"
            ]
          },
          "metadata": {
            "tags": []
          },
          "execution_count": 30
        }
      ]
    },
    {
      "cell_type": "markdown",
      "metadata": {
        "id": "l_KIysqQoa1G"
      },
      "source": [
        "\n",
        "\n",
        "We are working with 1 sample, but we would be working for a batch. Let's fix that by converting our input_tensor into a fake batch"
      ]
    },
    {
      "cell_type": "code",
      "metadata": {
        "colab": {
          "base_uri": "https://localhost:8080/"
        },
        "id": "jEpGPwkCol4a",
        "outputId": "617c3705-7aa7-42ad-df5f-558be0e36e7d"
      },
      "source": [
        "input_tensor.shape, input_tensor.view(-1, 1).shape"
      ],
      "execution_count": null,
      "outputs": [
        {
          "output_type": "execute_result",
          "data": {
            "text/plain": [
              "(torch.Size([8]), torch.Size([8, 1]))"
            ]
          },
          "metadata": {
            "tags": []
          },
          "execution_count": 31
        }
      ]
    },
    {
      "cell_type": "code",
      "metadata": {
        "colab": {
          "base_uri": "https://localhost:8080/"
        },
        "id": "X-8Fp9P0m96R",
        "outputId": "a8b8cfd7-7888-4ef6-b12a-dc8a3f76807e"
      },
      "source": [
        "print(embedded_input.shape)\n",
        "embedded_input = embedding(input_tensor[0].view(-1, 1))\n",
        "print(embedded_input.shape)"
      ],
      "execution_count": null,
      "outputs": [
        {
          "output_type": "stream",
          "text": [
            "torch.Size([256])\n",
            "torch.Size([1, 1, 256])\n"
          ],
          "name": "stdout"
        }
      ]
    },
    {
      "cell_type": "markdown",
      "metadata": {
        "id": "lCiKbwiNnuoA"
      },
      "source": [
        "\n",
        "\n",
        "\n",
        "Let's quickly build our LSTM now...\n",
        "output, (hidden,cell_state) = lstm(embedded_input, WHAT WOULD COME HERE?)\n",
        "\n",
        "We need an empty state. So let's create that first"
      ]
    },
    {
      "cell_type": "code",
      "metadata": {
        "id": "8ySCcbuVnFGA"
      },
      "source": [
        "hidden = torch.zeros(1,1, 256, device=device)\n",
        "cell_state = torch.zeros(1,1, 256, device=device)\n",
        "\n",
        "# now this 1, 1 should be clear.. Look at the embedded input.. \n",
        "# those are 9 inputs cos we have 9 words in our sentence.. \n",
        "# hidden need to be a rank 3 tensor"
      ],
      "execution_count": null,
      "outputs": []
    },
    {
      "cell_type": "code",
      "metadata": {
        "colab": {
          "base_uri": "https://localhost:8080/"
        },
        "id": "P8KUvHsQhfHt",
        "outputId": "283230e5-d5a6-4f28-b929-7e1b2d754d59"
      },
      "source": [
        "hidden.shape"
      ],
      "execution_count": null,
      "outputs": [
        {
          "output_type": "execute_result",
          "data": {
            "text/plain": [
              "torch.Size([1, 1, 256])"
            ]
          },
          "metadata": {
            "tags": []
          },
          "execution_count": 35
        }
      ]
    },
    {
      "cell_type": "code",
      "metadata": {
        "id": "MbmQ4n1hnRw8"
      },
      "source": [
        "embedded_input = embedding(input_tensor[0].view(-1, 1))\n",
        "\n",
        "# for i in range(0,input_tensor.shape[0]):\n",
        "output, (hidden,cell_state) = lstm(embedded_input, (hidden,cell_state))"
      ],
      "execution_count": null,
      "outputs": []
    },
    {
      "cell_type": "code",
      "metadata": {
        "colab": {
          "base_uri": "https://localhost:8080/"
        },
        "id": "x_sfMPddyi26",
        "outputId": "de179e9c-e39c-40c0-fc09-b3b65a3130b8"
      },
      "source": [
        "hidden"
      ],
      "execution_count": null,
      "outputs": [
        {
          "output_type": "execute_result",
          "data": {
            "text/plain": [
              "tensor([[[-0.0090,  0.0585,  0.2581, -0.2039,  0.1050,  0.0438,  0.1437,\n",
              "          -0.1413, -0.0126, -0.1343, -0.1407, -0.1223,  0.0055,  0.0284,\n",
              "           0.1235,  0.1040,  0.0658, -0.0108, -0.1804,  0.1848, -0.1541,\n",
              "           0.1659, -0.1341,  0.1742,  0.0843,  0.0667, -0.0465,  0.0183,\n",
              "           0.0732,  0.1766, -0.0102, -0.0534,  0.0401, -0.0870, -0.0863,\n",
              "           0.2883,  0.1765,  0.0671, -0.1001, -0.0790, -0.1061,  0.0704,\n",
              "          -0.0821,  0.0120, -0.1344, -0.0764,  0.0512, -0.0202,  0.2340,\n",
              "          -0.1090, -0.2128,  0.1336, -0.0613,  0.1281,  0.0887,  0.2501,\n",
              "          -0.0129,  0.0539,  0.0299, -0.1930, -0.0414,  0.0954,  0.0594,\n",
              "           0.1375, -0.2118, -0.0687, -0.0622, -0.0313, -0.0432, -0.0241,\n",
              "           0.1252,  0.1366,  0.2641,  0.2551, -0.0894, -0.0205,  0.0205,\n",
              "           0.1381,  0.1360,  0.1272,  0.0051, -0.0658, -0.0689,  0.0614,\n",
              "          -0.1248,  0.0495,  0.1051, -0.0871,  0.1021, -0.1121,  0.1645,\n",
              "           0.0547, -0.2614, -0.0327, -0.1457, -0.0140, -0.0848, -0.0958,\n",
              "           0.2355, -0.0266,  0.0459, -0.0948,  0.1537,  0.2000, -0.0132,\n",
              "           0.0211,  0.0732, -0.0113,  0.0596,  0.0257, -0.1093,  0.0287,\n",
              "           0.0666,  0.0360, -0.1797,  0.2074, -0.0177,  0.0639, -0.1500,\n",
              "          -0.0242, -0.0040,  0.0419, -0.1441,  0.1148,  0.1487,  0.1426,\n",
              "           0.0784, -0.0663,  0.0718, -0.0602,  0.2196,  0.0709,  0.0421,\n",
              "          -0.1724, -0.2646,  0.2188,  0.0636, -0.0169, -0.1229,  0.1706,\n",
              "           0.0471,  0.0128,  0.0352, -0.0343, -0.1959,  0.2526,  0.1973,\n",
              "           0.1448,  0.1825, -0.1818, -0.0335,  0.0036,  0.1899, -0.0454,\n",
              "          -0.0768, -0.2685, -0.0310, -0.0157,  0.0370, -0.0553, -0.0025,\n",
              "          -0.0854,  0.0289, -0.1579, -0.0533,  0.0858,  0.2791,  0.1013,\n",
              "           0.0222,  0.0550,  0.0992, -0.0533,  0.0249, -0.1420, -0.0562,\n",
              "          -0.0869,  0.0610,  0.1834,  0.0626,  0.0155,  0.0458, -0.2059,\n",
              "           0.1103,  0.0761, -0.1617, -0.0905,  0.0422,  0.2926, -0.0929,\n",
              "           0.0733, -0.1916, -0.0698,  0.0766, -0.2443, -0.0352, -0.1260,\n",
              "           0.0934,  0.1295, -0.1100,  0.0973,  0.1283, -0.0418, -0.0270,\n",
              "           0.1368, -0.0678,  0.0561,  0.0725, -0.0495,  0.2278,  0.0502,\n",
              "           0.1812, -0.0455, -0.0642,  0.0674,  0.1325,  0.1007, -0.0950,\n",
              "           0.2020,  0.0334,  0.1267,  0.0766,  0.0890,  0.0952, -0.0217,\n",
              "          -0.0078, -0.0047,  0.1312,  0.2428,  0.1621,  0.0147, -0.1501,\n",
              "          -0.0038, -0.1249, -0.0277,  0.0003, -0.1808, -0.0498, -0.1228,\n",
              "          -0.1613,  0.1543,  0.0894,  0.1185, -0.0593,  0.0902,  0.0339,\n",
              "           0.1963,  0.0470,  0.0804, -0.0287,  0.0245, -0.0595, -0.1619,\n",
              "           0.1573,  0.0283, -0.2182,  0.0445]]], grad_fn=<StackBackward>)"
            ]
          },
          "metadata": {
            "tags": []
          },
          "execution_count": 37
        }
      ]
    },
    {
      "cell_type": "markdown",
      "metadata": {
        "id": "WNr4_nAMqR2U"
      },
      "source": [
        "WE have just cycled through our first word. Now we need to do it for the rest of the words. All we need finally is the list of ourputs. Let's create an empty tensor to store them. "
      ]
    },
    {
      "cell_type": "code",
      "metadata": {
        "colab": {
          "base_uri": "https://localhost:8080/"
        },
        "id": "q79ttxoXpt89",
        "outputId": "1a8f7b61-a361-43e6-f7d9-a499a285bc61"
      },
      "source": [
        "output.shape, output[0, 0].shape"
      ],
      "execution_count": null,
      "outputs": [
        {
          "output_type": "execute_result",
          "data": {
            "text/plain": [
              "(torch.Size([1, 1, 256]), torch.Size([256]))"
            ]
          },
          "metadata": {
            "tags": []
          },
          "execution_count": 38
        }
      ]
    },
    {
      "cell_type": "code",
      "metadata": {
        "colab": {
          "base_uri": "https://localhost:8080/"
        },
        "id": "y6mGYopRqemG",
        "outputId": "e590360e-afc3-4546-e96a-2843e2eb7dc5"
      },
      "source": [
        "encoder_outputs = torch.zeros(MAX_LENGTH, 256, device=device)\n",
        "encoder_outputs.shape"
      ],
      "execution_count": null,
      "outputs": [
        {
          "output_type": "execute_result",
          "data": {
            "text/plain": [
              "torch.Size([10, 256])"
            ]
          },
          "metadata": {
            "tags": []
          },
          "execution_count": 39
        }
      ]
    },
    {
      "cell_type": "code",
      "metadata": {
        "colab": {
          "base_uri": "https://localhost:8080/"
        },
        "id": "yLCa-ofarCO8",
        "outputId": "0dc1a8da-e1fd-469c-c4f6-83de8e896444"
      },
      "source": [
        "input_tensor.size(), input_tensor.size()[0]"
      ],
      "execution_count": null,
      "outputs": [
        {
          "output_type": "execute_result",
          "data": {
            "text/plain": [
              "(torch.Size([8]), 8)"
            ]
          },
          "metadata": {
            "tags": []
          },
          "execution_count": 40
        }
      ]
    },
    {
      "cell_type": "code",
      "metadata": {
        "id": "mwDXoovHrOi5",
        "colab": {
          "base_uri": "https://localhost:8080/"
        },
        "outputId": "2a5b4a2c-c65e-41ee-d635-0bdbd0a3770e"
      },
      "source": [
        "encoder_outputs = torch.zeros(MAX_LENGTH, 256, device=device)\n",
        "encoder_hidden = torch.zeros(1, 1, 256, device=device)\n",
        "encoder_cell_state = torch.zeros(1, 1, 256, device=device)\n",
        "\n",
        "for i in range(input_tensor.size()[0]):\n",
        "  embedded_input = embedding(input_tensor[i].view(-1, 1))\n",
        "  output, (encoder_hidden,encoder_cell_state) = lstm(embedded_input, (encoder_hidden,encoder_cell_state))\n",
        "  #encoder_outputs[i] += output[0,0]\n",
        "  if(i!=(input_tensor.size()[0])-1):\n",
        "    print(f'Printing encoder values after {i} word')\n",
        "    print(input_sentence.split(\" \")[i], input_tensor[i])\n",
        "    print(encoder_hidden[0,0])\n",
        "  encoder_outputs[i] += encoder_hidden[0,0]"
      ],
      "execution_count": null,
      "outputs": [
        {
          "output_type": "stream",
          "text": [
            "Printing encoder values after 0 word\n",
            "tu tensor(210)\n",
            "tensor([-4.5550e-02,  3.6343e-02,  2.1735e-01,  6.1336e-03,  4.1104e-01,\n",
            "         1.7859e-01,  7.2878e-02,  2.1786e-02,  1.6791e-01,  1.7623e-01,\n",
            "         6.5995e-02, -1.9980e-02, -4.4284e-02,  7.7091e-02, -2.2929e-01,\n",
            "         1.2835e-01,  3.1898e-02,  5.0700e-02,  5.4039e-02, -3.4020e-02,\n",
            "        -1.1980e-01,  8.7015e-02, -6.1777e-02, -1.3783e-01,  4.3493e-02,\n",
            "         1.4703e-01, -3.8862e-02,  5.3029e-02,  1.5306e-01,  4.5969e-02,\n",
            "        -1.0209e-01,  7.2528e-02, -5.7598e-02,  2.7862e-01, -6.7455e-02,\n",
            "         2.0120e-01, -4.0555e-02,  2.8564e-01, -1.2964e-01,  2.9948e-01,\n",
            "         5.5508e-02, -1.6607e-01,  1.8084e-01, -6.5003e-02, -1.4815e-01,\n",
            "        -2.2861e-01,  7.3803e-02,  3.1959e-01,  4.2142e-03, -1.0943e-01,\n",
            "         7.4164e-02, -1.6741e-02, -2.9323e-02,  8.5584e-02,  9.6427e-02,\n",
            "         2.9490e-03,  6.8361e-02,  3.8581e-01,  1.8376e-01,  7.0986e-02,\n",
            "         1.9817e-02, -7.3547e-02,  7.6909e-03,  2.5289e-01,  3.9373e-02,\n",
            "         6.4029e-03, -1.0580e-01,  3.8376e-02, -7.1646e-03, -6.1809e-02,\n",
            "        -3.9556e-02, -7.8130e-02, -1.5978e-02,  9.1905e-02,  1.8389e-01,\n",
            "         1.4495e-01,  1.8102e-02, -2.2832e-03, -3.1945e-02,  4.6050e-02,\n",
            "        -8.3099e-02,  1.2896e-01, -1.6612e-01, -6.2071e-02,  2.2987e-01,\n",
            "         1.4368e-01, -2.6463e-01, -8.7757e-02,  1.1489e-02,  2.2748e-01,\n",
            "        -7.8560e-02,  2.4420e-01, -6.4780e-02,  1.9220e-01, -1.3210e-01,\n",
            "        -4.5871e-02,  1.7359e-01,  1.4396e-01, -5.0010e-02, -4.3953e-02,\n",
            "         1.8460e-01,  2.0012e-01,  4.8604e-02,  8.0473e-02, -2.4133e-01,\n",
            "         1.6938e-01, -8.6429e-02,  3.9140e-02,  4.1140e-03,  1.9728e-02,\n",
            "         2.3965e-01, -6.4798e-02, -1.4972e-01, -2.4146e-03,  1.3258e-01,\n",
            "        -9.0630e-02, -7.6982e-02,  2.7569e-02, -6.0302e-02, -9.2752e-02,\n",
            "        -6.7637e-02,  5.4822e-02,  7.1342e-02, -1.1724e-01,  1.9810e-01,\n",
            "         1.6342e-01,  3.9255e-03,  1.4417e-01,  6.8232e-02, -3.9782e-04,\n",
            "         2.7377e-03,  5.2989e-02, -1.6899e-01,  1.3397e-02, -8.6651e-02,\n",
            "         2.6615e-02, -2.9260e-01, -1.4101e-01, -1.3260e-01, -6.4431e-02,\n",
            "         1.7189e-01, -1.1692e-01, -2.1919e-02,  8.7478e-02, -4.1092e-02,\n",
            "         2.9502e-02, -9.3406e-02,  1.4158e-01,  5.9435e-02, -7.8984e-02,\n",
            "        -1.1080e-01, -2.1109e-02, -1.9723e-02, -5.9937e-02,  6.2696e-02,\n",
            "         1.6161e-01, -1.5983e-02, -1.5857e-01, -3.0022e-02,  9.3446e-02,\n",
            "         9.3683e-02, -9.0624e-02, -3.8852e-02, -1.2665e-01,  5.1100e-03,\n",
            "         1.8683e-01,  1.0551e-01,  1.0410e-01, -3.4374e-02,  1.0904e-02,\n",
            "         1.2521e-01, -2.7240e-01,  1.6378e-01, -1.3324e-01,  1.2499e-01,\n",
            "        -6.0889e-03, -2.2781e-01, -5.6917e-02,  3.3253e-02, -1.3355e-01,\n",
            "         6.2654e-02, -1.1410e-01, -3.5744e-02,  1.4681e-01,  3.4580e-02,\n",
            "         5.9944e-02, -2.3191e-01, -1.0149e-01,  1.0845e-02,  9.3235e-02,\n",
            "         1.6712e-01,  6.0030e-03,  4.0038e-02, -2.6375e-02, -1.1213e-01,\n",
            "        -1.2320e-01,  2.7518e-01, -4.3797e-02, -1.2902e-01, -1.3087e-01,\n",
            "         7.0703e-02, -1.8479e-01,  1.1643e-01,  1.1850e-02,  1.1491e-01,\n",
            "         5.9425e-02, -8.8487e-02, -6.4084e-02,  1.7480e-01, -8.6130e-02,\n",
            "        -1.0692e-01,  8.9060e-03,  1.2396e-01,  2.2734e-01, -1.9609e-02,\n",
            "         3.1651e-02,  1.3759e-01,  5.4656e-02,  1.1877e-01, -1.8209e-01,\n",
            "         6.1366e-02,  7.7160e-02, -9.8139e-02,  1.2336e-01,  9.8094e-02,\n",
            "         2.5271e-01, -6.4339e-02, -4.8115e-02,  5.4401e-02, -1.6379e-02,\n",
            "        -5.9903e-03, -1.4229e-01,  9.1221e-02, -1.7678e-01, -8.6261e-02,\n",
            "         1.0985e-02,  2.1196e-03, -2.3570e-02,  2.0032e-01, -8.9222e-02,\n",
            "         1.2300e-01,  3.8109e-02, -1.2692e-01, -6.0773e-02, -3.3257e-02,\n",
            "         2.3193e-02,  8.3341e-02, -2.1538e-01,  1.0804e-01, -1.0219e-01,\n",
            "        -6.8011e-02,  1.1159e-02,  8.5875e-02, -1.4634e-01,  7.6053e-02,\n",
            "        -1.6579e-02], grad_fn=<SelectBackward>)\n",
            "Printing encoder values after 1 word\n",
            "es tensor(211)\n",
            "tensor([-3.7952e-02, -2.2896e-02,  8.1662e-02,  7.9614e-02,  2.0224e-01,\n",
            "         9.9395e-02, -6.6668e-02,  1.1139e-01,  1.0942e-01,  1.4610e-01,\n",
            "        -4.2476e-02, -5.4008e-02,  1.0198e-01,  2.7451e-01, -1.4656e-01,\n",
            "         2.3092e-01, -8.7166e-02, -9.0520e-02, -1.4752e-01,  4.1405e-02,\n",
            "        -1.4920e-01,  2.0291e-02, -1.8388e-01, -1.1189e-01,  2.3184e-01,\n",
            "        -2.8446e-02, -1.9408e-01, -2.0730e-02,  2.7755e-03,  1.8579e-01,\n",
            "        -9.8336e-02,  7.3695e-02, -2.1919e-02,  2.8950e-01, -2.5929e-01,\n",
            "        -6.8919e-02, -1.0868e-01,  2.9756e-01,  1.2012e-01,  1.5636e-02,\n",
            "         7.8531e-02,  2.1334e-01, -5.1263e-02, -2.0360e-01,  9.6355e-02,\n",
            "        -1.6681e-01,  8.8548e-02,  1.5402e-01,  1.1149e-01,  1.4172e-01,\n",
            "         9.1229e-03, -3.8928e-02, -2.5626e-02,  5.0063e-02, -9.7888e-03,\n",
            "         6.3287e-02, -9.4732e-02,  3.1390e-01,  4.5839e-02, -1.6632e-01,\n",
            "         1.0882e-01,  4.2834e-02,  8.5411e-02,  1.3021e-01,  1.0709e-01,\n",
            "         4.4607e-02, -5.2771e-02, -1.6977e-01, -1.2198e-01,  2.2062e-02,\n",
            "        -1.0955e-01, -1.6141e-01,  1.2550e-01,  2.8837e-01, -4.5576e-02,\n",
            "         9.2196e-02, -1.8343e-02,  1.0358e-02, -7.0948e-02,  1.6199e-01,\n",
            "        -1.6859e-01, -1.6330e-02,  1.2220e-02, -9.3740e-02,  2.8179e-01,\n",
            "        -3.6632e-03, -1.4165e-03, -1.1350e-01, -7.3898e-02,  1.8973e-01,\n",
            "        -6.9056e-03, -4.1266e-02,  2.1249e-02, -1.2309e-01,  1.9747e-01,\n",
            "         9.7343e-02,  1.3807e-01,  9.0483e-02, -3.0524e-02, -1.2438e-01,\n",
            "        -4.7502e-02, -1.3928e-01,  1.6020e-01, -7.1655e-03, -5.8576e-02,\n",
            "         1.2595e-01, -4.3287e-02,  8.1424e-02,  1.3131e-01,  2.0002e-02,\n",
            "        -8.6612e-02,  1.5540e-01, -2.1082e-01, -1.4793e-01,  1.3491e-01,\n",
            "        -1.6035e-03, -5.2926e-02,  7.9704e-02, -4.5336e-02,  1.6774e-01,\n",
            "         6.1710e-03,  6.8170e-02,  1.7510e-01,  1.8978e-01,  1.8092e-01,\n",
            "        -7.8416e-02,  1.3814e-01,  2.4251e-01, -2.5065e-01,  1.1661e-01,\n",
            "         5.1465e-02,  3.0381e-02,  4.8844e-02, -4.1393e-03, -3.3609e-02,\n",
            "        -8.9757e-02,  1.6811e-02, -1.8738e-01, -2.0484e-01, -3.6644e-01,\n",
            "         2.3714e-01, -6.8456e-02, -1.5115e-01, -2.9937e-02,  6.7124e-02,\n",
            "        -7.1214e-02,  8.9894e-02,  1.4016e-01, -1.5399e-01, -2.1374e-02,\n",
            "        -3.0500e-01, -1.5933e-01,  1.0306e-01,  7.8685e-02,  1.6118e-01,\n",
            "         2.8801e-01, -2.6546e-02, -1.1307e-01,  4.5907e-02, -1.4571e-01,\n",
            "         1.3890e-01, -1.4489e-01, -1.2999e-01, -3.4663e-01,  1.8726e-01,\n",
            "         1.1895e-01,  5.7336e-03,  1.3843e-01, -5.1709e-02,  8.9573e-02,\n",
            "        -2.3793e-02, -1.4366e-01,  1.8605e-03, -1.1522e-01,  4.7152e-02,\n",
            "         7.9836e-02, -1.7721e-01, -9.9811e-02, -1.1854e-01,  6.9687e-02,\n",
            "         1.3060e-01, -6.2636e-02,  9.1490e-02,  1.7114e-01, -1.1871e-01,\n",
            "        -3.1131e-04, -1.4185e-01, -4.4492e-02,  5.6337e-02, -7.1428e-02,\n",
            "         1.4031e-01, -3.4124e-01, -1.0682e-01, -1.0596e-01, -1.2496e-01,\n",
            "         8.6607e-02,  1.7013e-01,  3.3757e-02, -2.6449e-03, -2.1076e-02,\n",
            "         2.6436e-01, -1.6410e-01, -2.8576e-02,  5.7306e-02,  3.0252e-01,\n",
            "        -5.6195e-02, -2.0947e-01, -1.0856e-01,  7.5945e-02, -7.7005e-02,\n",
            "        -8.1562e-03,  1.0594e-01,  1.5596e-01, -3.7256e-02,  4.0559e-02,\n",
            "         1.0133e-01,  1.6743e-01,  1.6454e-01,  1.9147e-01, -2.3716e-01,\n",
            "         7.9657e-02, -4.4251e-02,  9.0715e-02,  2.8637e-01,  8.8426e-02,\n",
            "        -1.1159e-01,  3.9996e-02, -2.0863e-01,  1.2407e-01,  3.8458e-02,\n",
            "        -2.5030e-01,  6.6598e-02,  2.2088e-01, -2.4902e-02, -2.8693e-01,\n",
            "         1.3942e-01, -3.2782e-01,  3.7130e-02,  6.5836e-02, -6.0683e-02,\n",
            "        -5.4993e-02, -2.6070e-02, -2.8991e-01,  9.1171e-02, -2.1219e-01,\n",
            "         1.2751e-01,  3.4350e-01,  2.4133e-03,  9.4007e-03, -7.6491e-02,\n",
            "         1.1089e-01, -3.2000e-02, -2.3832e-01, -1.1212e-01, -8.6728e-03,\n",
            "         1.1633e-01], grad_fn=<SelectBackward>)\n",
            "Printing encoder values after 2 word\n",
            "un tensor(66)\n",
            "tensor([ 0.1050, -0.2458, -0.0256,  0.0968,  0.0725, -0.0384, -0.3191, -0.0397,\n",
            "        -0.1333, -0.0093, -0.0320,  0.0486, -0.1743,  0.0050, -0.0056,  0.2813,\n",
            "         0.0286, -0.0927,  0.0818, -0.1575, -0.0463,  0.1831,  0.2222, -0.1513,\n",
            "         0.0537, -0.2228, -0.3140,  0.0914, -0.2124,  0.1882, -0.1997,  0.0656,\n",
            "        -0.1015,  0.0987,  0.0567, -0.1265, -0.0036,  0.1800, -0.0337, -0.0777,\n",
            "         0.0228,  0.0476,  0.0155, -0.0743, -0.2770, -0.2080,  0.0994,  0.1486,\n",
            "         0.1974,  0.0714, -0.1004,  0.0766, -0.1099, -0.0833, -0.0709,  0.0867,\n",
            "        -0.0239,  0.1025, -0.1271, -0.0727,  0.4446, -0.0912, -0.1443, -0.0132,\n",
            "        -0.2146,  0.1242, -0.0061, -0.1889, -0.0678, -0.0301, -0.1624, -0.2087,\n",
            "        -0.0064,  0.1490,  0.0381,  0.0970,  0.0397, -0.0017, -0.1566,  0.0114,\n",
            "        -0.1503, -0.0036, -0.0970, -0.0313,  0.0307,  0.2035,  0.0810, -0.0478,\n",
            "         0.0141,  0.1722,  0.0679, -0.2806,  0.1408, -0.0069,  0.1336, -0.0335,\n",
            "         0.0851, -0.0357, -0.1557,  0.0296,  0.0926, -0.0247,  0.2714, -0.1080,\n",
            "        -0.0017,  0.3048, -0.0740, -0.1596,  0.2145,  0.1361, -0.0147, -0.0249,\n",
            "         0.0448, -0.0281,  0.0566, -0.0151, -0.1053, -0.0353,  0.0554, -0.0221,\n",
            "         0.2051, -0.0886, -0.0333,  0.1078,  0.1362, -0.1822,  0.2030,  0.1176,\n",
            "        -0.0455,  0.0300, -0.0779,  0.1976, -0.0723, -0.0581,  0.1188, -0.0702,\n",
            "         0.3989, -0.0325, -0.1396, -0.0917,  0.2144, -0.0359, -0.1567,  0.0408,\n",
            "         0.2636, -0.1077,  0.1533,  0.1035,  0.0076,  0.1308, -0.0623, -0.0763,\n",
            "         0.1927,  0.1608, -0.0104,  0.0780, -0.0150,  0.0144,  0.1991,  0.1957,\n",
            "         0.0892, -0.1745,  0.0267, -0.1035,  0.1096,  0.1405, -0.0463,  0.0776,\n",
            "         0.1334,  0.1728, -0.2673, -0.3585,  0.2276,  0.2258,  0.0181,  0.1260,\n",
            "        -0.1637,  0.0375, -0.0406, -0.1368,  0.2956, -0.1904,  0.1234,  0.0084,\n",
            "         0.0207,  0.1153, -0.1155, -0.0684, -0.0491, -0.0325,  0.0349, -0.1299,\n",
            "        -0.1723, -0.0610,  0.0100, -0.0700,  0.1986, -0.0263,  0.1232,  0.1393,\n",
            "         0.2653, -0.0509, -0.1330,  0.1327,  0.2758, -0.0415, -0.0386,  0.0078,\n",
            "         0.2363,  0.0772,  0.0080,  0.2468, -0.1268, -0.0402, -0.0424, -0.3327,\n",
            "         0.0198,  0.0900, -0.0543, -0.0157, -0.0431,  0.0807,  0.0843,  0.1238,\n",
            "         0.1810,  0.1532, -0.0507,  0.0281,  0.0226,  0.1767, -0.0803,  0.1037,\n",
            "         0.2055, -0.2478,  0.0290,  0.3176, -0.2180,  0.1630, -0.2465,  0.2452,\n",
            "         0.0015, -0.0610, -0.0040,  0.1337, -0.0120, -0.0456,  0.1318, -0.0981,\n",
            "        -0.1267, -0.0257, -0.0069, -0.0851, -0.2110, -0.0406, -0.1363,  0.0749],\n",
            "       grad_fn=<SelectBackward>)\n",
            "Printing encoder values after 3 word\n",
            "de tensor(101)\n",
            "tensor([ 1.4608e-01, -7.5777e-02, -4.9916e-02, -6.5016e-02,  2.3505e-01,\n",
            "        -3.4390e-02, -2.0639e-01,  1.2166e-01, -1.2630e-01,  1.0356e-01,\n",
            "        -6.7092e-03,  7.0502e-02,  8.3614e-02, -6.7937e-02, -8.0153e-02,\n",
            "         8.9340e-02,  8.2796e-02,  4.7943e-02, -3.5755e-02, -1.9757e-01,\n",
            "        -2.8458e-02, -2.3801e-01,  1.5468e-01, -2.0947e-01, -1.1366e-01,\n",
            "        -3.3305e-01, -8.0399e-03,  2.9730e-01, -1.7331e-01, -5.6815e-03,\n",
            "         2.4108e-01,  2.1017e-01, -1.8638e-01, -3.7704e-02,  1.5263e-01,\n",
            "        -1.9372e-01,  3.8352e-02,  8.1661e-02, -2.3485e-01,  4.0711e-03,\n",
            "         6.5624e-02, -6.5769e-02,  3.5399e-02, -3.2309e-02,  5.6712e-02,\n",
            "        -3.8032e-01, -3.1833e-02,  1.5068e-01,  1.5926e-01, -5.8713e-02,\n",
            "        -9.5201e-03,  4.2429e-02,  9.0333e-02, -3.2903e-03,  1.2002e-01,\n",
            "         4.0967e-02,  1.3723e-01, -1.4404e-01, -4.2639e-02, -2.0821e-01,\n",
            "         4.9968e-01, -6.2377e-02,  8.0744e-02, -1.7968e-01, -2.4008e-01,\n",
            "        -1.0512e-01,  2.1882e-01,  2.1812e-02,  1.2311e-01, -1.3817e-01,\n",
            "        -3.2935e-02, -1.1726e-01, -7.8097e-02,  1.3740e-01, -2.0688e-01,\n",
            "        -5.1487e-03, -5.4352e-02, -1.4071e-02, -1.3096e-01, -9.3295e-02,\n",
            "         1.2934e-01, -1.4669e-01, -7.8876e-02, -8.8415e-02, -7.5883e-02,\n",
            "         1.8127e-01, -9.1678e-02,  1.8035e-01,  4.7222e-02, -2.4622e-02,\n",
            "         2.4945e-01, -1.4744e-01, -1.3525e-02,  1.1296e-01,  7.6375e-02,\n",
            "        -8.6486e-02,  3.5152e-02, -6.4168e-02,  4.0464e-02, -1.3731e-01,\n",
            "         3.7924e-02,  5.7925e-02,  1.0919e-02, -4.9653e-02, -2.1934e-04,\n",
            "        -5.0724e-02, -2.1536e-01, -9.9444e-02,  2.7668e-01, -5.3949e-02,\n",
            "         1.0082e-01, -2.6291e-01,  6.8361e-03, -5.3392e-02, -3.1863e-03,\n",
            "         9.4837e-02, -2.4829e-01,  9.6440e-02,  9.6174e-02, -1.5284e-01,\n",
            "         1.3548e-01, -9.2392e-03,  2.3172e-01, -3.8798e-02,  2.3845e-02,\n",
            "        -9.2021e-02,  2.8692e-01,  2.8591e-01,  4.0575e-02,  1.5132e-01,\n",
            "        -1.9724e-02,  1.3623e-01, -2.9164e-02,  5.3871e-03,  2.8523e-01,\n",
            "        -5.9757e-02,  2.8003e-03, -9.2613e-02,  2.3149e-02,  1.6159e-01,\n",
            "         6.5961e-02, -3.3799e-02, -5.2585e-02,  1.2225e-01,  1.0795e-01,\n",
            "        -7.0707e-02,  1.1382e-01,  1.3985e-01, -2.9957e-02, -6.9176e-02,\n",
            "        -1.0051e-01,  1.4417e-01, -8.1646e-02,  1.3859e-01,  1.3269e-01,\n",
            "         7.0107e-03, -2.3449e-02,  1.6462e-01, -7.0806e-02,  1.1121e-02,\n",
            "         4.7255e-02, -1.9854e-01, -3.1615e-02, -4.6905e-02,  4.9545e-03,\n",
            "        -5.5452e-03,  1.4200e-01,  1.7592e-01,  9.5571e-02,  1.2354e-01,\n",
            "        -1.2797e-01, -1.9192e-01,  1.3256e-01,  2.5143e-01,  5.9227e-02,\n",
            "         7.3731e-02,  5.7298e-02, -1.5035e-01,  1.7109e-01, -2.4874e-01,\n",
            "         8.6684e-02,  1.3404e-02,  9.0978e-02,  4.8317e-02, -1.3224e-01,\n",
            "         4.1324e-03,  1.1385e-02, -1.1284e-01, -7.5270e-02, -9.2014e-02,\n",
            "         7.7294e-02, -1.6906e-01, -1.5007e-01, -1.5222e-02, -4.9122e-02,\n",
            "        -4.5799e-02,  2.5703e-01, -1.5415e-01, -5.0819e-02,  2.3969e-03,\n",
            "         2.0888e-01, -1.3247e-01, -1.7500e-01,  5.1782e-02,  1.5973e-01,\n",
            "        -3.9407e-03, -9.4739e-02,  1.4637e-01,  3.1343e-01,  1.1822e-01,\n",
            "        -3.7588e-02,  2.8954e-01, -2.0084e-01, -2.2609e-02, -1.0796e-01,\n",
            "        -1.9377e-01,  1.2437e-01,  4.5123e-02,  7.3387e-02, -4.8666e-02,\n",
            "        -2.2416e-02,  1.6153e-01,  5.5827e-03,  9.4067e-02, -1.9309e-01,\n",
            "         1.5206e-01, -3.1544e-03,  2.3641e-01,  1.5589e-01,  2.9992e-01,\n",
            "         3.0596e-02,  1.2736e-01,  1.3264e-02,  2.4247e-01,  8.6267e-02,\n",
            "        -1.9742e-03, -1.1419e-01,  1.5486e-01, -2.8711e-02,  3.2943e-01,\n",
            "         9.6463e-02, -2.3593e-01, -4.1181e-02,  3.0025e-01, -6.5151e-02,\n",
            "         2.0339e-01, -7.0868e-02,  5.8211e-02, -7.3044e-02,  3.0093e-02,\n",
            "         7.2193e-02, -7.7196e-02,  1.3744e-01,  1.4581e-01, -4.5374e-02,\n",
            "        -4.7214e-02], grad_fn=<SelectBackward>)\n",
            "Printing encoder values after 4 word\n",
            "ces tensor(1384)\n",
            "tensor([ 1.2712e-01, -6.2225e-02, -1.6081e-01,  6.8707e-02, -3.8581e-02,\n",
            "        -2.1622e-01,  4.6728e-02, -2.0569e-01, -1.5591e-01,  1.4356e-01,\n",
            "         1.7592e-01, -2.3964e-01,  1.3029e-01, -1.2466e-01, -1.8717e-01,\n",
            "         3.4734e-01,  1.7715e-01,  6.1582e-02, -1.1602e-01, -7.2815e-02,\n",
            "        -2.8733e-03, -1.3231e-01,  4.0408e-02, -2.9468e-01,  8.9677e-03,\n",
            "        -2.5277e-01, -8.4378e-02, -4.2315e-02, -3.6726e-02,  1.8267e-02,\n",
            "         3.1513e-02,  1.6782e-01, -4.4962e-02,  9.9179e-02, -1.1487e-01,\n",
            "         8.7021e-02,  2.7496e-01, -4.8199e-02, -1.6752e-01,  1.3380e-01,\n",
            "         9.0494e-02, -6.3234e-02,  1.9055e-02,  1.3555e-01,  5.7244e-02,\n",
            "        -2.9075e-01, -1.2091e-02,  5.2850e-02,  9.8757e-02, -2.2278e-02,\n",
            "        -8.4578e-02,  6.0459e-02,  1.3620e-01, -2.1108e-02,  6.4848e-02,\n",
            "        -8.2552e-02, -1.5398e-02,  1.7513e-01,  7.4174e-02, -5.3567e-02,\n",
            "         1.5924e-01, -8.0326e-02, -1.3399e-01, -5.7549e-02,  8.0088e-03,\n",
            "        -1.8419e-01, -7.2740e-02,  1.3966e-01,  2.2770e-01, -8.8841e-02,\n",
            "        -9.9419e-02, -1.4842e-01, -1.3316e-01,  1.1933e-02,  4.2347e-02,\n",
            "        -9.4686e-02, -3.3991e-01, -6.5603e-02, -1.1186e-01, -8.9284e-02,\n",
            "         1.1454e-02, -1.0711e-01, -2.4712e-01,  6.8730e-02, -1.8010e-01,\n",
            "         1.8832e-01,  2.5863e-01,  8.5839e-02,  1.4916e-01, -5.4210e-02,\n",
            "         1.9251e-01, -1.6818e-02, -3.9700e-02,  2.5072e-01,  7.5258e-02,\n",
            "         3.0319e-02,  1.5034e-01,  9.1629e-02, -1.5713e-02, -1.4101e-01,\n",
            "         1.6227e-01,  7.2186e-02, -1.6316e-01,  8.5394e-02,  1.1457e-01,\n",
            "        -1.8939e-03, -1.0468e-01, -2.8317e-02,  1.6585e-01, -2.7377e-02,\n",
            "        -2.2560e-01,  5.3220e-02, -5.2687e-02, -1.5519e-01, -1.2044e-01,\n",
            "         1.4253e-01,  1.2106e-02, -8.5229e-04, -3.9936e-02, -1.7214e-01,\n",
            "        -1.9539e-02, -9.0818e-02,  3.0341e-01,  7.9927e-02,  5.5136e-02,\n",
            "        -2.3999e-01,  2.1060e-01,  3.9813e-03, -1.6197e-01,  9.8738e-02,\n",
            "         2.3882e-02, -7.5309e-02,  1.2578e-01, -4.8757e-02,  4.2758e-01,\n",
            "         1.7995e-01, -2.4556e-01, -1.0198e-01,  7.0072e-02,  2.7742e-01,\n",
            "        -9.2479e-02,  7.9537e-02,  1.2983e-01, -5.2410e-02,  2.2465e-01,\n",
            "         1.2746e-02,  2.9565e-01,  1.5926e-01,  1.6046e-01, -1.5017e-01,\n",
            "         4.0313e-02,  3.8720e-02,  1.0085e-01,  2.9017e-01, -2.1941e-01,\n",
            "        -2.0921e-03, -1.4105e-02, -3.0743e-02, -9.1185e-02,  1.0683e-01,\n",
            "         1.1734e-01,  1.3314e-01, -1.4408e-01,  5.0130e-02, -5.1686e-02,\n",
            "         1.0616e-01,  1.6855e-01,  4.7815e-02,  2.6388e-02,  6.2237e-02,\n",
            "         3.6242e-01, -7.7095e-02,  1.6553e-04,  1.9596e-01,  4.2999e-02,\n",
            "         4.3543e-02,  2.0398e-01,  5.5400e-02,  1.4421e-01, -9.7734e-02,\n",
            "         2.5673e-01, -3.8983e-02,  3.1505e-02,  1.1537e-01,  7.1474e-02,\n",
            "        -6.1210e-02, -4.6874e-02, -5.2610e-02,  1.5636e-01, -4.5608e-02,\n",
            "         1.7292e-02,  9.2817e-02, -5.2898e-02, -6.5038e-02,  1.2640e-01,\n",
            "         9.7616e-02, -7.5079e-02, -1.0144e-01, -2.3796e-02, -1.2225e-01,\n",
            "         9.9620e-02,  7.3146e-02, -2.1784e-01,  9.9927e-02, -2.0365e-01,\n",
            "         3.8046e-02,  1.7285e-02,  1.6803e-02,  2.3800e-01,  2.5610e-01,\n",
            "        -1.9314e-01,  2.2837e-01, -6.9425e-03,  9.0238e-02,  3.5652e-02,\n",
            "         1.3006e-01,  6.0658e-02, -4.5601e-02,  5.4122e-02,  2.6510e-02,\n",
            "        -2.0523e-01,  9.7235e-02,  1.0635e-01, -6.0602e-02, -1.2602e-01,\n",
            "         1.1481e-01, -1.1193e-01,  8.7112e-02,  2.8742e-01,  1.1822e-01,\n",
            "         1.3608e-01,  4.4080e-02,  1.2482e-02, -2.2048e-02, -5.0947e-02,\n",
            "        -5.6869e-03,  3.6653e-02,  2.4852e-01,  2.2200e-02,  8.3839e-03,\n",
            "         1.6108e-02, -2.2774e-01, -8.8239e-02,  9.5090e-02,  1.7044e-01,\n",
            "         2.0428e-01, -1.0065e-01, -1.9048e-02, -6.9034e-02, -4.2110e-02,\n",
            "        -3.9642e-02,  1.0469e-02,  2.1362e-03,  1.0372e-01, -5.5239e-02,\n",
            "        -1.6922e-01], grad_fn=<SelectBackward>)\n",
            "Printing encoder values after 5 word\n",
            "dragueurs tensor(2222)\n",
            "tensor([ 0.0529, -0.1800, -0.2175,  0.2888, -0.0976, -0.0484, -0.0473, -0.0272,\n",
            "         0.1138,  0.0372,  0.0368,  0.1060,  0.0077, -0.1128, -0.0896,  0.1935,\n",
            "        -0.2261, -0.0443,  0.0201, -0.2333, -0.0045,  0.0874,  0.0419, -0.1556,\n",
            "         0.3049, -0.1962, -0.1982,  0.0392, -0.0103, -0.0236,  0.0635,  0.1455,\n",
            "         0.2580,  0.0199,  0.0430,  0.0592,  0.1749, -0.1781, -0.0653, -0.1662,\n",
            "         0.1723, -0.1119, -0.1473,  0.0126,  0.0753,  0.0253,  0.1496,  0.1298,\n",
            "         0.1998, -0.0197,  0.0022, -0.0655,  0.3198, -0.3349, -0.1971,  0.1681,\n",
            "         0.0260,  0.0658, -0.0358, -0.1110,  0.1148,  0.0148,  0.1290, -0.2280,\n",
            "        -0.1174, -0.0899, -0.0182,  0.0073,  0.1646, -0.0849, -0.0782, -0.0826,\n",
            "        -0.1828, -0.1448, -0.0050,  0.0972, -0.2419,  0.1397, -0.0459, -0.0479,\n",
            "         0.0245, -0.0301, -0.0206,  0.0704, -0.0353,  0.2617,  0.2191, -0.0529,\n",
            "         0.2449, -0.0860,  0.0717,  0.2259,  0.1078,  0.0548,  0.0482, -0.0774,\n",
            "         0.0898,  0.1674, -0.0111, -0.0677, -0.0250,  0.0635,  0.0568, -0.0574,\n",
            "        -0.0151, -0.0124,  0.0555, -0.1506, -0.0143, -0.0543,  0.1487,  0.0963,\n",
            "        -0.1393, -0.0693, -0.1471,  0.2907,  0.0431,  0.1279, -0.0329, -0.0039,\n",
            "        -0.0919, -0.2512,  0.0996,  0.1913,  0.2009, -0.1310,  0.4414,  0.0903,\n",
            "         0.0879,  0.1292,  0.1743, -0.1837,  0.1734,  0.1692,  0.2482,  0.0145,\n",
            "        -0.0941, -0.1157,  0.2165, -0.0701, -0.1639,  0.0189,  0.2498,  0.0434,\n",
            "         0.2073, -0.1484,  0.2032,  0.0095,  0.2889, -0.0020,  0.1113,  0.0387,\n",
            "         0.1702,  0.4623, -0.2067,  0.2028,  0.1534, -0.0951, -0.0634, -0.0638,\n",
            "         0.0202,  0.1524,  0.0883,  0.2335, -0.0465, -0.0494,  0.0885, -0.0962,\n",
            "        -0.1646, -0.0825,  0.1964,  0.0382, -0.1749,  0.0702, -0.1385,  0.0755,\n",
            "         0.0646,  0.0585,  0.1653, -0.1981,  0.1184,  0.1948, -0.0612,  0.1669,\n",
            "        -0.0383,  0.0114, -0.0939,  0.1512,  0.0996, -0.1187,  0.1244,  0.0752,\n",
            "        -0.0590, -0.0166,  0.1206,  0.1393,  0.0367,  0.0592,  0.0140, -0.0739,\n",
            "         0.2170,  0.0803, -0.1110,  0.1415, -0.0512,  0.0473, -0.0209, -0.0190,\n",
            "        -0.0077,  0.1432, -0.0608,  0.1355,  0.0839, -0.0241,  0.0549, -0.0509,\n",
            "         0.1992,  0.0486, -0.0923,  0.2245,  0.1342,  0.1498,  0.0325, -0.3381,\n",
            "        -0.1328,  0.1401, -0.1820, -0.0405,  0.0776,  0.0080,  0.0551, -0.0567,\n",
            "        -0.1753,  0.0972,  0.0120,  0.0064, -0.1027, -0.0747, -0.2335, -0.0705,\n",
            "        -0.1205, -0.1915, -0.1309,  0.0009, -0.0171,  0.0116, -0.0742,  0.0178,\n",
            "        -0.2390, -0.0386,  0.0476,  0.1847, -0.1459,  0.1886,  0.0386, -0.0611],\n",
            "       grad_fn=<SelectBackward>)\n",
            "Printing encoder values after 6 word\n",
            "! tensor(17)\n",
            "tensor([ 2.9158e-02, -1.4158e-01, -2.5095e-01, -5.0481e-02, -3.2055e-02,\n",
            "        -8.9748e-03,  1.5685e-01, -6.6876e-02, -2.1118e-02,  2.0211e-02,\n",
            "         3.4819e-02,  2.4827e-01, -1.5083e-01,  1.3672e-01, -1.2534e-02,\n",
            "        -2.6807e-02,  8.5352e-02,  8.1921e-02, -6.7129e-02, -2.5879e-01,\n",
            "         4.7534e-02, -1.3716e-01,  4.6313e-02, -5.2261e-02,  7.1554e-02,\n",
            "        -3.6488e-02,  1.0331e-01,  2.4085e-02, -2.9507e-01, -1.8868e-01,\n",
            "         7.0465e-02,  1.8992e-01,  2.1749e-01,  1.8096e-01,  4.0000e-02,\n",
            "         1.7759e-01,  8.6404e-02, -8.2307e-03,  5.4242e-02, -9.5058e-03,\n",
            "         2.8650e-01, -2.4911e-01, -1.6347e-01,  8.4628e-02, -3.2296e-02,\n",
            "        -1.5382e-01,  7.3522e-02,  8.3951e-02,  2.2461e-01,  8.1808e-02,\n",
            "        -8.2523e-02, -1.0445e-01,  9.5199e-02, -2.9402e-01, -9.1087e-02,\n",
            "         2.3616e-01, -2.1923e-02,  8.5497e-02, -3.1227e-02, -1.7349e-01,\n",
            "         1.1899e-01,  1.0020e-01, -1.1671e-01,  7.0389e-03, -1.5676e-01,\n",
            "         1.0809e-01,  1.0657e-01,  1.1101e-01,  2.6280e-01, -2.5925e-01,\n",
            "        -1.1920e-01, -2.9772e-02, -1.0783e-01, -9.8222e-02,  5.8134e-02,\n",
            "         1.8923e-01, -1.4645e-01, -4.2069e-02,  6.1637e-02,  1.4374e-01,\n",
            "         5.2840e-03,  1.2418e-01,  5.5426e-02,  1.2215e-01,  5.5165e-02,\n",
            "         7.8962e-02,  2.9715e-01, -8.0294e-02,  2.0595e-01,  6.2071e-02,\n",
            "         7.4186e-02,  2.0119e-01, -4.9577e-02,  9.7991e-03,  1.7304e-01,\n",
            "        -1.9959e-01,  5.3005e-02, -3.0194e-02,  2.1315e-01,  9.9275e-02,\n",
            "         4.2244e-02, -1.2172e-01,  2.1280e-01, -1.4544e-01,  4.1798e-02,\n",
            "         1.1867e-01, -1.4960e-01,  1.2262e-02, -4.7154e-02,  2.5166e-01,\n",
            "        -1.2677e-01, -1.4917e-01,  1.5541e-03, -6.5008e-03, -2.9087e-01,\n",
            "         3.0693e-01,  5.6567e-02,  9.5590e-02, -2.9019e-01,  7.4569e-03,\n",
            "         7.4335e-03, -1.6400e-01, -3.8620e-04,  1.6923e-02,  2.8417e-01,\n",
            "        -1.6563e-01,  1.7448e-01,  5.0620e-02, -5.7082e-02, -1.9584e-01,\n",
            "         1.9483e-01, -4.5715e-02,  2.9525e-01,  9.3471e-02, -4.4772e-02,\n",
            "         1.8741e-02, -5.8794e-02, -2.7240e-01,  9.9420e-02, -2.4933e-01,\n",
            "        -5.6081e-02, -1.7696e-01,  7.3960e-02, -5.8222e-02, -3.5023e-02,\n",
            "         1.3784e-01,  1.4955e-01,  1.1084e-01,  1.2338e-01,  7.0239e-03,\n",
            "         7.6350e-02,  1.1369e-01, -1.3986e-01,  1.8092e-01,  1.4018e-03,\n",
            "         6.5429e-02,  1.3199e-01, -1.5306e-01, -2.8438e-01, -1.1527e-01,\n",
            "         2.4009e-01,  1.5148e-01,  5.9236e-02,  4.8359e-01, -2.8869e-01,\n",
            "        -1.1562e-01,  1.8232e-01,  5.6771e-02, -1.1075e-01,  1.4018e-01,\n",
            "         3.4662e-02,  9.0940e-02, -3.2121e-03,  3.0443e-01, -7.6482e-02,\n",
            "         6.5646e-02,  4.5681e-02, -6.4076e-02,  1.0960e-01, -1.6288e-01,\n",
            "         1.9996e-01,  3.7252e-02, -1.1754e-01,  2.7625e-02, -4.9921e-02,\n",
            "         1.3831e-02, -2.2302e-02,  1.1025e-01, -7.4390e-02, -5.6478e-02,\n",
            "         5.5468e-02,  3.4058e-02,  1.7420e-02, -1.0461e-01,  1.1840e-02,\n",
            "         1.7735e-02, -1.1672e-01,  5.7453e-03,  1.6035e-01,  1.2677e-01,\n",
            "         1.3086e-01, -2.5526e-02, -1.2712e-01,  1.7193e-02, -8.2421e-02,\n",
            "        -1.1277e-01, -6.4668e-02, -2.9589e-01, -4.4671e-02,  2.0671e-01,\n",
            "         4.0866e-02,  3.9276e-02, -1.0028e-01,  1.1406e-01,  9.6458e-02,\n",
            "        -8.0398e-02,  5.0604e-02,  1.2021e-01, -2.0536e-01,  8.9802e-02,\n",
            "         1.6514e-01, -1.4953e-01, -7.2918e-02, -2.4142e-01, -1.4144e-01,\n",
            "         1.6961e-01,  4.7554e-02,  5.5569e-02, -1.1433e-01, -1.6654e-02,\n",
            "        -1.4682e-01, -4.5234e-02, -9.5450e-03, -5.5185e-02, -5.2614e-02,\n",
            "        -9.7675e-02,  7.6984e-02,  1.4631e-02,  9.1325e-02, -5.2036e-02,\n",
            "        -8.8770e-02, -3.3497e-02,  7.8065e-02,  4.3602e-02, -5.9908e-02,\n",
            "        -1.6106e-01,  4.3794e-02,  1.5392e-02, -3.5312e-01, -3.3075e-02,\n",
            "         1.4940e-01, -2.6431e-02, -1.4245e-01,  3.2339e-01,  3.5176e-02,\n",
            "        -2.2563e-01], grad_fn=<SelectBackward>)\n"
          ],
          "name": "stdout"
        }
      ]
    },
    {
      "cell_type": "code",
      "metadata": {
        "colab": {
          "base_uri": "https://localhost:8080/"
        },
        "id": "oKx47muYsXT0",
        "outputId": "7c7e0384-3e85-4806-f0f3-5536179323ce"
      },
      "source": [
        "encoder_outputs.shape, encoder_hidden.shape"
      ],
      "execution_count": null,
      "outputs": [
        {
          "output_type": "execute_result",
          "data": {
            "text/plain": [
              "(torch.Size([10, 256]), torch.Size([1, 1, 256]))"
            ]
          },
          "metadata": {
            "tags": []
          },
          "execution_count": 42
        }
      ]
    },
    {
      "cell_type": "code",
      "metadata": {
        "colab": {
          "base_uri": "https://localhost:8080/"
        },
        "id": "2lXx9q9B4Btd",
        "outputId": "ea3270a4-e843-4877-f509-74919e545cfd"
      },
      "source": [
        "output.shape"
      ],
      "execution_count": null,
      "outputs": [
        {
          "output_type": "execute_result",
          "data": {
            "text/plain": [
              "torch.Size([1, 1, 256])"
            ]
          },
          "metadata": {
            "tags": []
          },
          "execution_count": 43
        }
      ]
    },
    {
      "cell_type": "code",
      "metadata": {
        "colab": {
          "base_uri": "https://localhost:8080/"
        },
        "id": "2oBgvme9srTw",
        "outputId": "53bec33e-8c91-4d29-e497-f8b53aa71c09"
      },
      "source": [
        "encoder_outputs[0:4]"
      ],
      "execution_count": null,
      "outputs": [
        {
          "output_type": "execute_result",
          "data": {
            "text/plain": [
              "tensor([[-0.0090,  0.0585,  0.2581,  ...,  0.0283, -0.2182,  0.0445],\n",
              "        [-0.1590, -0.0903,  0.2652,  ...,  0.0160, -0.1945, -0.0623],\n",
              "        [-0.1437, -0.1361,  0.2042,  ...,  0.0287,  0.0752,  0.1000],\n",
              "        [-0.1655,  0.0199,  0.2864,  ..., -0.0444,  0.0425, -0.0738]],\n",
              "       grad_fn=<SliceBackward>)"
            ]
          },
          "metadata": {
            "tags": []
          },
          "execution_count": 44
        }
      ]
    },
    {
      "cell_type": "code",
      "metadata": {
        "colab": {
          "base_uri": "https://localhost:8080/"
        },
        "id": "1ejVWHPFsuR8",
        "outputId": "0a871596-d041-4339-fed5-06db70ff465d"
      },
      "source": [
        "encoder_outputs[7:10]"
      ],
      "execution_count": null,
      "outputs": [
        {
          "output_type": "execute_result",
          "data": {
            "text/plain": [
              "tensor([[-0.1889, -0.0540, -0.0039,  0.0164,  0.1833,  0.0023,  0.1334,  0.1169,\n",
              "          0.0339,  0.0552,  0.0291,  0.1667,  0.1388, -0.0740,  0.0260, -0.1575,\n",
              "         -0.3649,  0.0064,  0.0155,  0.3125, -0.1670,  0.1471,  0.0560,  0.0985,\n",
              "         -0.1469, -0.0907, -0.0037, -0.0889,  0.2039,  0.1004,  0.2053,  0.1767,\n",
              "         -0.0635, -0.1660,  0.2657, -0.0012, -0.0238,  0.0661, -0.1160, -0.0464,\n",
              "          0.0934,  0.0607, -0.1797, -0.0368,  0.1538,  0.0698,  0.0268,  0.1921,\n",
              "          0.1009,  0.1085, -0.1817,  0.0787, -0.1138, -0.3145,  0.0419,  0.0028,\n",
              "          0.0511,  0.1120,  0.1331, -0.1635, -0.1395,  0.2676,  0.3138,  0.0867,\n",
              "         -0.1096, -0.0660, -0.0241, -0.0263,  0.1202, -0.0468,  0.0336,  0.1028,\n",
              "          0.1041,  0.0296,  0.1523,  0.0991, -0.1169,  0.0700, -0.0496, -0.1493,\n",
              "          0.1534,  0.2230, -0.1863, -0.0727, -0.2299,  0.0922,  0.0993, -0.1755,\n",
              "         -0.0812,  0.0825, -0.0714,  0.1216, -0.0511,  0.1838, -0.2030,  0.0151,\n",
              "         -0.1383,  0.1384,  0.0778,  0.0864, -0.1424, -0.0454,  0.1903,  0.0513,\n",
              "         -0.1586,  0.0560,  0.0717,  0.2008, -0.1339, -0.3438,  0.1589, -0.0720,\n",
              "         -0.0559,  0.1176, -0.0249, -0.0929, -0.0444, -0.2566, -0.0519, -0.0408,\n",
              "          0.1904,  0.0512, -0.1012,  0.0066,  0.2325, -0.0960,  0.0359,  0.0528,\n",
              "          0.0378, -0.0266, -0.0055, -0.0851, -0.0921, -0.1262, -0.0861, -0.1539,\n",
              "         -0.2235, -0.0226, -0.0448, -0.1041,  0.0441, -0.0439, -0.1485,  0.0785,\n",
              "         -0.0763,  0.0940, -0.0887, -0.1224,  0.1609,  0.0348, -0.0047,  0.1072,\n",
              "          0.0162,  0.0928,  0.0130, -0.0235, -0.0518,  0.0675,  0.0517, -0.0382,\n",
              "         -0.2083, -0.0015, -0.0734, -0.0554,  0.0330, -0.2287, -0.2004, -0.0308,\n",
              "          0.0738, -0.3324, -0.2084,  0.1130,  0.2073,  0.0223, -0.0853, -0.0650,\n",
              "         -0.0174, -0.2282, -0.0521,  0.0190,  0.0600, -0.0477, -0.2974,  0.1042,\n",
              "          0.2332, -0.0063,  0.1687,  0.2490, -0.1104, -0.0784, -0.0324, -0.2656,\n",
              "         -0.2315, -0.0535, -0.0193, -0.0754, -0.2036, -0.0967,  0.1375, -0.1328,\n",
              "         -0.0623,  0.3400, -0.1151,  0.1460, -0.0344, -0.0154, -0.0193, -0.0151,\n",
              "         -0.0473, -0.1388,  0.0193, -0.0714,  0.1104,  0.1454, -0.0617,  0.0844,\n",
              "          0.1416,  0.1594,  0.1020,  0.1289,  0.0460,  0.0033,  0.2963,  0.1224,\n",
              "          0.1783, -0.1068, -0.0885,  0.0080, -0.0621, -0.1320,  0.1082,  0.3005,\n",
              "          0.0500, -0.1050,  0.1203,  0.0122, -0.0947,  0.0023,  0.1340,  0.1394,\n",
              "         -0.0387,  0.3175,  0.1803, -0.0662, -0.0038,  0.0415, -0.1302,  0.0100,\n",
              "         -0.0355,  0.0269,  0.0953, -0.0720, -0.1590, -0.0897,  0.1115,  0.0350],\n",
              "        [ 0.0000,  0.0000,  0.0000,  0.0000,  0.0000,  0.0000,  0.0000,  0.0000,\n",
              "          0.0000,  0.0000,  0.0000,  0.0000,  0.0000,  0.0000,  0.0000,  0.0000,\n",
              "          0.0000,  0.0000,  0.0000,  0.0000,  0.0000,  0.0000,  0.0000,  0.0000,\n",
              "          0.0000,  0.0000,  0.0000,  0.0000,  0.0000,  0.0000,  0.0000,  0.0000,\n",
              "          0.0000,  0.0000,  0.0000,  0.0000,  0.0000,  0.0000,  0.0000,  0.0000,\n",
              "          0.0000,  0.0000,  0.0000,  0.0000,  0.0000,  0.0000,  0.0000,  0.0000,\n",
              "          0.0000,  0.0000,  0.0000,  0.0000,  0.0000,  0.0000,  0.0000,  0.0000,\n",
              "          0.0000,  0.0000,  0.0000,  0.0000,  0.0000,  0.0000,  0.0000,  0.0000,\n",
              "          0.0000,  0.0000,  0.0000,  0.0000,  0.0000,  0.0000,  0.0000,  0.0000,\n",
              "          0.0000,  0.0000,  0.0000,  0.0000,  0.0000,  0.0000,  0.0000,  0.0000,\n",
              "          0.0000,  0.0000,  0.0000,  0.0000,  0.0000,  0.0000,  0.0000,  0.0000,\n",
              "          0.0000,  0.0000,  0.0000,  0.0000,  0.0000,  0.0000,  0.0000,  0.0000,\n",
              "          0.0000,  0.0000,  0.0000,  0.0000,  0.0000,  0.0000,  0.0000,  0.0000,\n",
              "          0.0000,  0.0000,  0.0000,  0.0000,  0.0000,  0.0000,  0.0000,  0.0000,\n",
              "          0.0000,  0.0000,  0.0000,  0.0000,  0.0000,  0.0000,  0.0000,  0.0000,\n",
              "          0.0000,  0.0000,  0.0000,  0.0000,  0.0000,  0.0000,  0.0000,  0.0000,\n",
              "          0.0000,  0.0000,  0.0000,  0.0000,  0.0000,  0.0000,  0.0000,  0.0000,\n",
              "          0.0000,  0.0000,  0.0000,  0.0000,  0.0000,  0.0000,  0.0000,  0.0000,\n",
              "          0.0000,  0.0000,  0.0000,  0.0000,  0.0000,  0.0000,  0.0000,  0.0000,\n",
              "          0.0000,  0.0000,  0.0000,  0.0000,  0.0000,  0.0000,  0.0000,  0.0000,\n",
              "          0.0000,  0.0000,  0.0000,  0.0000,  0.0000,  0.0000,  0.0000,  0.0000,\n",
              "          0.0000,  0.0000,  0.0000,  0.0000,  0.0000,  0.0000,  0.0000,  0.0000,\n",
              "          0.0000,  0.0000,  0.0000,  0.0000,  0.0000,  0.0000,  0.0000,  0.0000,\n",
              "          0.0000,  0.0000,  0.0000,  0.0000,  0.0000,  0.0000,  0.0000,  0.0000,\n",
              "          0.0000,  0.0000,  0.0000,  0.0000,  0.0000,  0.0000,  0.0000,  0.0000,\n",
              "          0.0000,  0.0000,  0.0000,  0.0000,  0.0000,  0.0000,  0.0000,  0.0000,\n",
              "          0.0000,  0.0000,  0.0000,  0.0000,  0.0000,  0.0000,  0.0000,  0.0000,\n",
              "          0.0000,  0.0000,  0.0000,  0.0000,  0.0000,  0.0000,  0.0000,  0.0000,\n",
              "          0.0000,  0.0000,  0.0000,  0.0000,  0.0000,  0.0000,  0.0000,  0.0000,\n",
              "          0.0000,  0.0000,  0.0000,  0.0000,  0.0000,  0.0000,  0.0000,  0.0000,\n",
              "          0.0000,  0.0000,  0.0000,  0.0000,  0.0000,  0.0000,  0.0000,  0.0000,\n",
              "          0.0000,  0.0000,  0.0000,  0.0000,  0.0000,  0.0000,  0.0000,  0.0000],\n",
              "        [ 0.0000,  0.0000,  0.0000,  0.0000,  0.0000,  0.0000,  0.0000,  0.0000,\n",
              "          0.0000,  0.0000,  0.0000,  0.0000,  0.0000,  0.0000,  0.0000,  0.0000,\n",
              "          0.0000,  0.0000,  0.0000,  0.0000,  0.0000,  0.0000,  0.0000,  0.0000,\n",
              "          0.0000,  0.0000,  0.0000,  0.0000,  0.0000,  0.0000,  0.0000,  0.0000,\n",
              "          0.0000,  0.0000,  0.0000,  0.0000,  0.0000,  0.0000,  0.0000,  0.0000,\n",
              "          0.0000,  0.0000,  0.0000,  0.0000,  0.0000,  0.0000,  0.0000,  0.0000,\n",
              "          0.0000,  0.0000,  0.0000,  0.0000,  0.0000,  0.0000,  0.0000,  0.0000,\n",
              "          0.0000,  0.0000,  0.0000,  0.0000,  0.0000,  0.0000,  0.0000,  0.0000,\n",
              "          0.0000,  0.0000,  0.0000,  0.0000,  0.0000,  0.0000,  0.0000,  0.0000,\n",
              "          0.0000,  0.0000,  0.0000,  0.0000,  0.0000,  0.0000,  0.0000,  0.0000,\n",
              "          0.0000,  0.0000,  0.0000,  0.0000,  0.0000,  0.0000,  0.0000,  0.0000,\n",
              "          0.0000,  0.0000,  0.0000,  0.0000,  0.0000,  0.0000,  0.0000,  0.0000,\n",
              "          0.0000,  0.0000,  0.0000,  0.0000,  0.0000,  0.0000,  0.0000,  0.0000,\n",
              "          0.0000,  0.0000,  0.0000,  0.0000,  0.0000,  0.0000,  0.0000,  0.0000,\n",
              "          0.0000,  0.0000,  0.0000,  0.0000,  0.0000,  0.0000,  0.0000,  0.0000,\n",
              "          0.0000,  0.0000,  0.0000,  0.0000,  0.0000,  0.0000,  0.0000,  0.0000,\n",
              "          0.0000,  0.0000,  0.0000,  0.0000,  0.0000,  0.0000,  0.0000,  0.0000,\n",
              "          0.0000,  0.0000,  0.0000,  0.0000,  0.0000,  0.0000,  0.0000,  0.0000,\n",
              "          0.0000,  0.0000,  0.0000,  0.0000,  0.0000,  0.0000,  0.0000,  0.0000,\n",
              "          0.0000,  0.0000,  0.0000,  0.0000,  0.0000,  0.0000,  0.0000,  0.0000,\n",
              "          0.0000,  0.0000,  0.0000,  0.0000,  0.0000,  0.0000,  0.0000,  0.0000,\n",
              "          0.0000,  0.0000,  0.0000,  0.0000,  0.0000,  0.0000,  0.0000,  0.0000,\n",
              "          0.0000,  0.0000,  0.0000,  0.0000,  0.0000,  0.0000,  0.0000,  0.0000,\n",
              "          0.0000,  0.0000,  0.0000,  0.0000,  0.0000,  0.0000,  0.0000,  0.0000,\n",
              "          0.0000,  0.0000,  0.0000,  0.0000,  0.0000,  0.0000,  0.0000,  0.0000,\n",
              "          0.0000,  0.0000,  0.0000,  0.0000,  0.0000,  0.0000,  0.0000,  0.0000,\n",
              "          0.0000,  0.0000,  0.0000,  0.0000,  0.0000,  0.0000,  0.0000,  0.0000,\n",
              "          0.0000,  0.0000,  0.0000,  0.0000,  0.0000,  0.0000,  0.0000,  0.0000,\n",
              "          0.0000,  0.0000,  0.0000,  0.0000,  0.0000,  0.0000,  0.0000,  0.0000,\n",
              "          0.0000,  0.0000,  0.0000,  0.0000,  0.0000,  0.0000,  0.0000,  0.0000,\n",
              "          0.0000,  0.0000,  0.0000,  0.0000,  0.0000,  0.0000,  0.0000,  0.0000,\n",
              "          0.0000,  0.0000,  0.0000,  0.0000,  0.0000,  0.0000,  0.0000,  0.0000]],\n",
              "       grad_fn=<SliceBackward>)"
            ]
          },
          "metadata": {
            "tags": []
          },
          "execution_count": 45
        }
      ]
    },
    {
      "cell_type": "markdown",
      "metadata": {
        "id": "2XIWgAOjs9TF"
      },
      "source": [
        "\n",
        "\n",
        "Finally our Encoder is fully ready. Now let's look at the class we wrote in the last class to see what we missed!\n",
        "\n",
        "```\n",
        "class EncoderRNN(nn.Module):\n",
        "    def __init__(self, input_size, hidden_size):\n",
        "        super(EncoderRNN, self).__init__()\n",
        "        self.hidden_size = hidden_size\n",
        "\n",
        "        self.embedding = nn.Embedding(input_size, hidden_size)\n",
        "        self.lstm = nn.LSTM(hidden_size, hidden_size)\n",
        "\n",
        "    def forward(self, input, hidden):\n",
        "        embedded = self.embedding(input).view(1, 1, -1)\n",
        "        output = embedded\n",
        "        output, (hidden,cell) = self.lstm(output, (hidden,hidden))\n",
        "        return output, hidden\n",
        "\n",
        "    def initHidden(self):\n",
        "        return torch.zeros(1, 1, self.hidden_size, device=device)\n",
        "```\n",
        "\n",
        "Cool! Next let's build out Decoder where we have attention in-built.\n",
        "\n",
        "# Decoder with Attention\n",
        "\n",
        "Here is the plan. \n",
        "\n",
        "1. First input to the decoder will be SOS_token, later inputs would be the words it predicted (unless we implement teacher forcing)\n",
        "2. decoder/LSTM's hidden state will be initialized with the encoder's last hidden state\n",
        "3. we will use LSTM's hidden state and last prediction to generate attention weight using a FC layer. \n",
        "4. this attention weight will be used to weigh the encoder_outputs using batch matric multiplication. This will give us a NEW view on how to look at encoder_states.\n",
        "5. this attention applied encoder_states will then be concatenated with the input, and then sent a linear layer and _then_ sent to the LSTM. \n",
        "6. LSTM's output will be sent to a FC layer to predict one of the output_language words\n",
        "\n",
        "Let's prepare all the inputs we need to do this\n"
      ]
    },
    {
      "cell_type": "code",
      "metadata": {
        "id": "Q6Hhren2sx0I"
      },
      "source": [
        "# first input\n",
        "decoder_input = torch.tensor([[SOS_token]], device=device)\n",
        "decoder_hidden = encoder_hidden\n",
        "decoded_words = []"
      ],
      "execution_count": null,
      "outputs": []
    },
    {
      "cell_type": "code",
      "metadata": {
        "id": "KmD98LBqw8FW"
      },
      "source": [
        "output_size = output_lang.n_words\n",
        "\n",
        "embedding = nn.Embedding(output_size, 256).to(device)"
      ],
      "execution_count": null,
      "outputs": []
    },
    {
      "cell_type": "code",
      "metadata": {
        "colab": {
          "base_uri": "https://localhost:8080/"
        },
        "id": "wxJp6qzcxi6C",
        "outputId": "ecc9f6d5-0649-4f1a-efb8-65fac574e0d2"
      },
      "source": [
        "embedded = embedding(decoder_input)\n",
        "embedded.shape"
      ],
      "execution_count": null,
      "outputs": [
        {
          "output_type": "execute_result",
          "data": {
            "text/plain": [
              "torch.Size([1, 1, 256])"
            ]
          },
          "metadata": {
            "tags": []
          },
          "execution_count": 48
        }
      ]
    },
    {
      "cell_type": "code",
      "metadata": {
        "id": "RhEm5eeax4hc"
      },
      "source": [
        "attn_weight_layer = nn.Linear(256 * 2, 10).to(device)"
      ],
      "execution_count": null,
      "outputs": []
    },
    {
      "cell_type": "code",
      "metadata": {
        "colab": {
          "base_uri": "https://localhost:8080/"
        },
        "id": "p5LtzjNa0FP_",
        "outputId": "f5bfd585-742f-4c76-ebdb-e63b20f0bf49"
      },
      "source": [
        "embedded.shape, decoder_hidden.shape"
      ],
      "execution_count": null,
      "outputs": [
        {
          "output_type": "execute_result",
          "data": {
            "text/plain": [
              "(torch.Size([1, 1, 256]), torch.Size([1, 1, 256]))"
            ]
          },
          "metadata": {
            "tags": []
          },
          "execution_count": 50
        }
      ]
    },
    {
      "cell_type": "code",
      "metadata": {
        "colab": {
          "base_uri": "https://localhost:8080/"
        },
        "id": "iokEImKI0NxI",
        "outputId": "b8a51db1-4f49-4062-b3f1-9d8c102bbb04"
      },
      "source": [
        "torch.cat((embedded, decoder_hidden), 1).shape"
      ],
      "execution_count": null,
      "outputs": [
        {
          "output_type": "execute_result",
          "data": {
            "text/plain": [
              "torch.Size([1, 2, 256])"
            ]
          },
          "metadata": {
            "tags": []
          },
          "execution_count": 51
        }
      ]
    },
    {
      "cell_type": "markdown",
      "metadata": {
        "id": "s75i3Z_C0crt"
      },
      "source": [
        "We don't want that. We wanted to concatenate them. "
      ]
    },
    {
      "cell_type": "code",
      "metadata": {
        "colab": {
          "base_uri": "https://localhost:8080/"
        },
        "id": "Nf9XgRtm0XMm",
        "outputId": "3a18395c-6996-4cf2-8cd9-983f361e0663"
      },
      "source": [
        "torch.cat((embedded[0], decoder_hidden[0]), 1).shape"
      ],
      "execution_count": null,
      "outputs": [
        {
          "output_type": "execute_result",
          "data": {
            "text/plain": [
              "torch.Size([1, 512])"
            ]
          },
          "metadata": {
            "tags": []
          },
          "execution_count": 52
        }
      ]
    },
    {
      "cell_type": "code",
      "metadata": {
        "colab": {
          "base_uri": "https://localhost:8080/"
        },
        "id": "_pFCF08y0mzp",
        "outputId": "5fbf7475-681c-4e0d-f75b-d1b1356e17fb"
      },
      "source": [
        "attn_weight_layer = nn.Linear(256 * 2, 10).to(device)\n",
        "attn_weights = attn_weight_layer(torch.cat((embedded[0], decoder_hidden[0]), 1))\n",
        "attn_weights"
      ],
      "execution_count": null,
      "outputs": [
        {
          "output_type": "execute_result",
          "data": {
            "text/plain": [
              "tensor([[-7.5995e-01, -7.6951e-01,  3.6280e-04,  3.7044e-01,  1.5908e-01,\n",
              "          5.1953e-01,  3.4279e-01,  3.3754e-02,  2.2608e-01,  2.9932e-01]],\n",
              "       grad_fn=<AddmmBackward>)"
            ]
          },
          "metadata": {
            "tags": []
          },
          "execution_count": 53
        }
      ]
    },
    {
      "cell_type": "markdown",
      "metadata": {
        "id": "xgsHjk7n02Ig"
      },
      "source": [
        "Let's take Softmax of these weights. "
      ]
    },
    {
      "cell_type": "code",
      "metadata": {
        "colab": {
          "base_uri": "https://localhost:8080/"
        },
        "id": "oVRkTdls0zUO",
        "outputId": "3d7f1c53-40c4-416f-9597-3f2f81f851d3"
      },
      "source": [
        "import torch.nn.functional as F\n",
        "\n",
        "attn_weight_layer = nn.Linear(256 * 2, 10).to(device)\n",
        "attn_weights = attn_weight_layer(torch.cat((embedded[0], decoder_hidden[0]), 1))\n",
        "attn_weights = F.softmax(attn_weights, dim = 1)\n",
        "attn_weights"
      ],
      "execution_count": null,
      "outputs": [
        {
          "output_type": "execute_result",
          "data": {
            "text/plain": [
              "tensor([[0.0805, 0.0672, 0.0937, 0.1484, 0.1337, 0.1852, 0.1087, 0.0453, 0.0646,\n",
              "         0.0727]], grad_fn=<SoftmaxBackward>)"
            ]
          },
          "metadata": {
            "tags": []
          },
          "execution_count": 54
        }
      ]
    },
    {
      "cell_type": "markdown",
      "metadata": {
        "id": "5VeLoyrf1VSM"
      },
      "source": [
        "Now let's **apply** this attention to the encoder_inputs"
      ]
    },
    {
      "cell_type": "code",
      "metadata": {
        "colab": {
          "base_uri": "https://localhost:8080/"
        },
        "id": "4AYYvCWk1F1Z",
        "outputId": "19494e2d-c307-43a3-8514-3f8b287220ef"
      },
      "source": [
        "attn_weights.shape, encoder_outputs.shape"
      ],
      "execution_count": null,
      "outputs": [
        {
          "output_type": "execute_result",
          "data": {
            "text/plain": [
              "(torch.Size([1, 10]), torch.Size([10, 256]))"
            ]
          },
          "metadata": {
            "tags": []
          },
          "execution_count": 55
        }
      ]
    },
    {
      "cell_type": "markdown",
      "metadata": {
        "id": "Fjiqmh2k1oRx"
      },
      "source": [
        "We need to think about the batch, and then our 2D data for matrix multiplication"
      ]
    },
    {
      "cell_type": "code",
      "metadata": {
        "colab": {
          "base_uri": "https://localhost:8080/"
        },
        "id": "AalFHS2x13vW",
        "outputId": "33feb322-708b-4231-d2f1-c54598a66176"
      },
      "source": [
        "attn_weights.unsqueeze(0).shape, encoder_outputs.unsqueeze(0).shape"
      ],
      "execution_count": null,
      "outputs": [
        {
          "output_type": "execute_result",
          "data": {
            "text/plain": [
              "(torch.Size([1, 1, 10]), torch.Size([1, 10, 256]))"
            ]
          },
          "metadata": {
            "tags": []
          },
          "execution_count": 57
        }
      ]
    },
    {
      "cell_type": "code",
      "metadata": {
        "colab": {
          "base_uri": "https://localhost:8080/"
        },
        "id": "hil0Bt_P1mIg",
        "outputId": "fa8e2e4e-ac20-4980-94ce-e8209f63588e"
      },
      "source": [
        "attn_applied = torch.bmm(attn_weights.unsqueeze(0), encoder_outputs.unsqueeze(0))\n",
        "attn_applied.shape"
      ],
      "execution_count": null,
      "outputs": [
        {
          "output_type": "execute_result",
          "data": {
            "text/plain": [
              "torch.Size([1, 1, 256])"
            ]
          },
          "metadata": {
            "tags": []
          },
          "execution_count": 58
        }
      ]
    },
    {
      "cell_type": "markdown",
      "metadata": {
        "id": "9t0pkAF92hCH"
      },
      "source": [
        "So, now we have this 256dm attn_applied encoder_outputs capturing what we should focus on on this step. We also have the input we already generated. That's 256dm again. GRU is gonna take 256 only. So we need to concatenate them, send to a linear layer to reduce dimensions, and then send to LSTM.\n",
        "![LSTM.JPG](data:image/jpeg;base64,/9j/4AAQSkZJRgABAQEAeAB4AAD/4RDcRXhpZgAATU0AKgAAAAgABAE7AAIAAAAGAAAISodpAAQAAAABAAAIUJydAAEAAAAMAAAQyOocAAcAAAgMAAAAPgAAAAAc6gAAAAgAAAAAAAAAAAAAAAAAAAAAAAAAAAAAAAAAAAAAAAAAAAAAAAAAAAAAAAAAAAAAAAAAAAAAAAAAAAAAAAAAAAAAAAAAAAAAAAAAAAAAAAAAAAAAAAAAAAAAAAAAAAAAAAAAAAAAAAAAAAAAAAAAAAAAAAAAAAAAAAAAAAAAAAAAAAAAAAAAAAAAAAAAAAAAAAAAAAAAAAAAAAAAAAAAAAAAAAAAAAAAAAAAAAAAAAAAAAAAAAAAAAAAAAAAAAAAAAAAAAAAAAAAAAAAAAAAAAAAAAAAAAAAAAAAAAAAAAAAAAAAAAAAAAAAAAAAAAAAAAAAAAAAAAAAAAAAAAAAAAAAAAAAAAAAAAAAAAAAAAAAAAAAAAAAAAAAAAAAAAAAAAAAAAAAAAAAAAAAAAAAAAAAAAAAAAAAAAAAAAAAAAAAAAAAAAAAAAAAAAAAAAAAAAAAAAAAAAAAAAAAAAAAAAAAAAAAAAAAAAAAAAAAAAAAAAAAAAAAAAAAAAAAAAAAAAAAAAAAAAAAAAAAAAAAAAAAAAAAAAAAAAAAAAAAAAAAAAAAAAAAAAAAAAAAAAAAAAAAAAAAAAAAAAAAAAAAAAAAAAAAAAAAAAAAAAAAAAAAAAAAAAAAAAAAAAAAAAAAAAAAAAAAAAAAAAAAAAAAAAAAAAAAAAAAAAAAAAAAAAAAAAAAAAAAAAAAAAAAAAAAAAAAAAAAAAAAAAAAAAAAAAAAAAAAAAAAAAAAAAAAAAAAAAAAAAAAAAAAAAAAAAAAAAAAAAAAAAAAAAAAAAAAAAAAAAAAAAAAAAAAAAAAAAAAAAAAAAAAAAAAAAAAAAAAAAAAAAAAAAAAAAAAAAAAAAAAAAAAAAAAAAAAAAAAAAAAAAAAAAAAAAAAAAAAAAAAAAAAAAAAAAAAAAAAAAAAAAAAAAAAAAAAAAAAAAAAAAAAAAAAAAAAAAAAAAAAAAAAAAAAAAAAAAAAAAAAAAAAAAAAAAAAAAAAAAAAAAAAAAAAAAAAAAAAAAAAAAAAAAAAAAAAAAAAAAAAAAAAAAAAAAAAAAAAAAAAAAAAAAAAAAAAAAAAAAAAAAAAAAAAAAAAAAAAAAAAAAAAAAAAAAAAAAAAAAAAAAAAAAAAAAAAAAAAAAAAAAAAAAAAAAAAAAAAAAAAAAAAAAAAAAAAAAAAAAAAAAAAAAAAAAAAAAAAAAAAAAAAAAAAAAAAAAAAAAAAAAAAAAAAAAAAAAAAAAAAAAAAAAAAAAAAAAAAAAAAAAAAAAAAAAAAAAAAAAAAAAAAAAAAAAAAAAAAAAAAAAAAAAAAAAAAAAAAAAAAAAAAAAAAAAAAAAAAAAAAAAAAAAAAAAAAAAAAAAAAAAAAAAAAAAAAAAAAAAAAAAAAAAAAAAAAAAAAAAAAAAAAAAAAAAAAAAAAAAAAAAAAAAAAAAAAAAAAAAAAAAAAAAAAAAAAAAAAAAAAAAAAAAAAAAAAAAAAAAAAAAAAAAAAAAAAAAAAAAAAAAAAAAAAAAAAAAAAAAAAAAAAAAAAAAAAAAAAAAAAAAAAAAAAAAAAAAAAAAAAAAAAAAAAAAAAAAAAAAAAAAAAAAAAAAAAAAAAAAAAAAAAAAAAAAAAAAAAAAAAAAAAAAAAAAAAAAAAAAAAAAAAAAAAAAAAAAAAAAAAAAAAAAAAAAAAAAAAAAAAAAAAAAAAAAAAAAAAAAAAAAAAAAAAAAAAAAAAAAAAAAAAAAAAAAAAAAAAAAAAAAAAAAAAAAAAAAAAAAAAAAAAAAAAAAAAAAAAAAAAAAAAAAAAAAAAAAAAAAAAAAAAAAAAAAAAAAAAAAAAAAAAAAAAAAAAAAAAAAAAAAAAAAAAAAAAAAAAAAAAAAAAAAAAAAAAAAAAAAAAAAAAAAAAAAAAAAAAAAAAAAAAAAAAAAAAAAAAAAAAAAAAAAAAAAAAAAAAAAAAAAAAAAAAAAAAAAAAAAAAAAAAAAAAAAAAAAAAAAAAAAAAAAAAAAAAAAAAAAAAAAAAAAAAAAAAAAAAAAAAAAAAAAAAAAAAAAAAAAAAAAAAAAAAAAAAAAAAAAAAAAAAAAAAAAAAAAAAAAAAAAAAAAAAAAAAAAAAAAAAAAAAAAAAAAAAAAAAAAAAAAAAAAAAAAAAAAAAAAAAAAAAAAAAAAAAAAAAAAAAAAAAAAAAAAAAAAAAAAAAAAAAAAAAAAAAAAAAAAAAAAAAAAAAAAAAAAAAAAAAAAAAAAAAAAAAAAAAAAAAAAAAAAAAAAAAAAAAAAAAAAAAAAAAAAAAAAAAAAAAAAAAAAAAAAAAAAAAAAAAAAAAAAAAAAAAAAAAAAAAAAAAAAAAAAAAAAAAAAAAAAAAAAAAAAAAAAAAAAAAAAAAAAAAAAAAAAAAAAAAAAAAAAAAAAAAAAAAAAAAAAAAAAAAAAAAAAAAAAAAAAAAAAAAAAAAAAAAAAAAAAAAAAAAAAAAAAAAAAAAAAAAAAAAAAAAAAAAAAAAAAAAAAAAAAAAAAAAAAAAAAAAAAAAAAAAAAAAAAAAAAAAAAAAAAAAAAAAAAAAAAAAAAAAAAAAAAAAAAAAAAAAAAAAAAAAAAAAAAAAAAAAAAAAAAAAAAAAAAAAAAAAAAAAAAAAAAAAAAAAAAAAAAAAAAAAAAAAAAAAAAAAAAAAAAAAAAAAAAAAAAAAAAAAAAAAAAAAAAAAAAAAAAAAAAAAAAAAAAAAAAAAAAAAAAAAAAAAAAAAAAAAAAAAAAAAAAAAAAAAAAAAAERyYWdvAAAFkAMAAgAAABQAABCekAQAAgAAABQAABCykpEAAgAAAAM1MAAAkpIAAgAAAAM1MAAA6hwABwAACAwAAAiSAAAAABzqAAAACAAAAAAAAAAAAAAAAAAAAAAAAAAAAAAAAAAAAAAAAAAAAAAAAAAAAAAAAAAAAAAAAAAAAAAAAAAAAAAAAAAAAAAAAAAAAAAAAAAAAAAAAAAAAAAAAAAAAAAAAAAAAAAAAAAAAAAAAAAAAAAAAAAAAAAAAAAAAAAAAAAAAAAAAAAAAAAAAAAAAAAAAAAAAAAAAAAAAAAAAAAAAAAAAAAAAAAAAAAAAAAAAAAAAAAAAAAAAAAAAAAAAAAAAAAAAAAAAAAAAAAAAAAAAAAAAAAAAAAAAAAAAAAAAAAAAAAAAAAAAAAAAAAAAAAAAAAAAAAAAAAAAAAAAAAAAAAAAAAAAAAAAAAAAAAAAAAAAAAAAAAAAAAAAAAAAAAAAAAAAAAAAAAAAAAAAAAAAAAAAAAAAAAAAAAAAAAAAAAAAAAAAAAAAAAAAAAAAAAAAAAAAAAAAAAAAAAAAAAAAAAAAAAAAAAAAAAAAAAAAAAAAAAAAAAAAAAAAAAAAAAAAAAAAAAAAAAAAAAAAAAAAAAAAAAAAAAAAAAAAAAAAAAAAAAAAAAAAAAAAAAAAAAAAAAAAAAAAAAAAAAAAAAAAAAAAAAAAAAAAAAAAAAAAAAAAAAAAAAAAAAAAAAAAAAAAAAAAAAAAAAAAAAAAAAAAAAAAAAAAAAAAAAAAAAAAAAAAAAAAAAAAAAAAAAAAAAAAAAAAAAAAAAAAAAAAAAAAAAAAAAAAAAAAAAAAAAAAAAAAAAAAAAAAAAAAAAAAAAAAAAAAAAAAAAAAAAAAAAAAAAAAAAAAAAAAAAAAAAAAAAAAAAAAAAAAAAAAAAAAAAAAAAAAAAAAAAAAAAAAAAAAAAAAAAAAAAAAAAAAAAAAAAAAAAAAAAAAAAAAAAAAAAAAAAAAAAAAAAAAAAAAAAAAAAAAAAAAAAAAAAAAAAAAAAAAAAAAAAAAAAAAAAAAAAAAAAAAAAAAAAAAAAAAAAAAAAAAAAAAAAAAAAAAAAAAAAAAAAAAAAAAAAAAAAAAAAAAAAAAAAAAAAAAAAAAAAAAAAAAAAAAAAAAAAAAAAAAAAAAAAAAAAAAAAAAAAAAAAAAAAAAAAAAAAAAAAAAAAAAAAAAAAAAAAAAAAAAAAAAAAAAAAAAAAAAAAAAAAAAAAAAAAAAAAAAAAAAAAAAAAAAAAAAAAAAAAAAAAAAAAAAAAAAAAAAAAAAAAAAAAAAAAAAAAAAAAAAAAAAAAAAAAAAAAAAAAAAAAAAAAAAAAAAAAAAAAAAAAAAAAAAAAAAAAAAAAAAAAAAAAAAAAAAAAAAAAAAAAAAAAAAAAAAAAAAAAAAAAAAAAAAAAAAAAAAAAAAAAAAAAAAAAAAAAAAAAAAAAAAAAAAAAAAAAAAAAAAAAAAAAAAAAAAAAAAAAAAAAAAAAAAAAAAAAAAAAAAAAAAAAAAAAAAAAAAAAAAAAAAAAAAAAAAAAAAAAAAAAAAAAAAAAAAAAAAAAAAAAAAAAAAAAAAAAAAAAAAAAAAAAAAAAAAAAAAAAAAAAAAAAAAAAAAAAAAAAAAAAAAAAAAAAAAAAAAAAAAAAAAAAAAAAAAAAAAAAAAAAAAAAAAAAAAAAAAAAAAAAAAAAAAAAAAAAAAAAAAAAAAAAAAAAAAAAAAAAAAAAAAAAAAAAAAAAAAAAAAAAAAAAAAAAAAAAAAAAAAAAAAAAAAAAAAAAAAAAAAAAAAAAAAAAAAAAAAAAAAAAAAAAAAAAAAAAAAAAAAAAAAAAAAAAAAAAAAAAAAAAAAAAAAAAAAAAAAAAAAAAAAAAAAAAAAAAAAAAAAAAAAAAAAAAAAAAAAAAAAAAAAAAAAAAAAAAAAAAAAAAAAAAAAAAAAAAAAAAAAAAAAAAAAAAAAAAAAAAAAAAAAAAAAAAAAAAAAAAAAAAAAAAAAAAAAAAAAAAAAAAAAAAAAAAAAAAAAAAAAAAAAAAAAAAAAAAAAAAAAAAAAAAAAAAAAAAAAAAAAAAAAAAAAAAAAAAAAAAAAAAAAAAAAAAAAAAAAAAAAAAAAAAAAAAAAAAAAAAAAAAAAAAAAAAAAAAAAAAAAAAAAAAAAAAAAAAAAAAAAAAAAAAAAAAAAAAAAAAAAAAAAAAAAAAAAAAAAAAAAAAAAAAAAAAAAAAAAAAAAAAAAAAAAAAAAAAAAAAAAAAAAAAAAAAAAAAAAAAAAAAAAAAAAAAAAAAAAAAAAAAAAAAAAAAAAAAAAAAAAAAAAAAAAAAAAAAAAAAAAAAAAAAAAAAAAAAAAAAAAAAAAAAAAAAAAAAAAAAAAAAAAAAAAAAAAAAAAAAAAAAAAAAAAAAAAAAAAAAAAAAAAAAAAAAAAAAAAAAAAAAAAAAAAAAAAAAAAAAAAAAAAAAAAAAAAAAAAAAAAAAAAAAAAAAAAAAAAAAAAAAAAAAAAAAAAAAAAAAAAAAAAAAAAAAAAAAAAAAAAAAAAAAAAAAAAAAAAAAAAAAAAAAAAAAAAAAAAAAAAAAAAAAAAAAAAAAAAAAAAAAAAAAAAAAAAAAAAAAAAAAAAAAAAAAAAAAAAAAAAAAAAAAAAAAAAAAAAAAAAAAAAAAAAAAAAAAAAAAAAAAAAAAAAAAAAAAAAAAAAAAAAAAAAAAAAAAAAAAAAAAAAAAAAAAAAAAAAAAAAAAAAAAAAAAAAAAAAAAAAAAAAAAAAAAAAAAAAAAAAAAAAAAAAAAAAAAAAAAAAAAAAAAAAAAAAAAAAAAAAAAAAAAAAAAAAAAAAAAAAAAAMjAyMTowNzoyNCAyMzowOToyNwAyMDIxOjA3OjI0IDIzOjA5OjI3AAAARAByAGEAZwBvAAAA/+ELGGh0dHA6Ly9ucy5hZG9iZS5jb20veGFwLzEuMC8APD94cGFja2V0IGJlZ2luPSfvu78nIGlkPSdXNU0wTXBDZWhpSHpyZVN6TlRjemtjOWQnPz4NCjx4OnhtcG1ldGEgeG1sbnM6eD0iYWRvYmU6bnM6bWV0YS8iPjxyZGY6UkRGIHhtbG5zOnJkZj0iaHR0cDovL3d3dy53My5vcmcvMTk5OS8wMi8yMi1yZGYtc3ludGF4LW5zIyI+PHJkZjpEZXNjcmlwdGlvbiByZGY6YWJvdXQ9InV1aWQ6ZmFmNWJkZDUtYmEzZC0xMWRhLWFkMzEtZDMzZDc1MTgyZjFiIiB4bWxuczpkYz0iaHR0cDovL3B1cmwub3JnL2RjL2VsZW1lbnRzLzEuMS8iLz48cmRmOkRlc2NyaXB0aW9uIHJkZjphYm91dD0idXVpZDpmYWY1YmRkNS1iYTNkLTExZGEtYWQzMS1kMzNkNzUxODJmMWIiIHhtbG5zOnhtcD0iaHR0cDovL25zLmFkb2JlLmNvbS94YXAvMS4wLyI+PHhtcDpDcmVhdGVEYXRlPjIwMjEtMDctMjRUMjM6MDk6MjcuNDk5PC94bXA6Q3JlYXRlRGF0ZT48L3JkZjpEZXNjcmlwdGlvbj48cmRmOkRlc2NyaXB0aW9uIHJkZjphYm91dD0idXVpZDpmYWY1YmRkNS1iYTNkLTExZGEtYWQzMS1kMzNkNzUxODJmMWIiIHhtbG5zOmRjPSJodHRwOi8vcHVybC5vcmcvZGMvZWxlbWVudHMvMS4xLyI+PGRjOmNyZWF0b3I+PHJkZjpTZXEgeG1sbnM6cmRmPSJodHRwOi8vd3d3LnczLm9yZy8xOTk5LzAyLzIyLXJkZi1zeW50YXgtbnMjIj48cmRmOmxpPkRyYWdvPC9yZGY6bGk+PC9yZGY6U2VxPg0KCQkJPC9kYzpjcmVhdG9yPjwvcmRmOkRlc2NyaXB0aW9uPjwvcmRmOlJERj48L3g6eG1wbWV0YT4NCiAgICAgICAgICAgICAgICAgICAgICAgICAgICAgICAgICAgICAgICAgICAgICAgICAgICAgICAgICAgICAgICAgICAgICAgICAgICAgICAgICAgICAgICAgICAgICAgICAgICAKICAgICAgICAgICAgICAgICAgICAgICAgICAgICAgICAgICAgICAgICAgICAgICAgICAgICAgICAgICAgICAgICAgICAgICAgICAgICAgICAgICAgICAgICAgICAgICAgICAgIAogICAgICAgICAgICAgICAgICAgICAgICAgICAgICAgICAgICAgICAgICAgICAgICAgICAgICAgICAgICAgICAgICAgICAgICAgICAgICAgICAgICAgICAgICAgICAgICAgICAgCiAgICAgICAgICAgICAgICAgICAgICAgICAgICAgICAgICAgICAgICAgICAgICAgICAgICAgICAgICAgICAgICAgICAgICAgICAgICAgICAgICAgICAgICAgICAgICAgICAgICAKICAgICAgICAgICAgICAgICAgICAgICAgICAgICAgICAgICAgICAgICAgICAgICAgICAgICAgICAgICAgICAgICAgICAgICAgICAgICAgICAgICAgICAgICAgICAgICAgICAgIAogICAgICAgICAgICAgICAgICAgICAgICAgICAgICAgICAgICAgICAgICAgICAgICAgICAgICAgICAgICAgICAgICAgICAgICAgICAgICAgICAgICAgICAgICAgICAgICAgICAgCiAgICAgICAgICAgICAgICAgICAgICAgICAgICAgICAgICAgICAgICAgICAgICAgICAgICAgICAgICAgICAgICAgICAgICAgICAgICAgICAgICAgICAgICAgICAgICAgICAgICAKICAgICAgICAgICAgICAgICAgICAgICAgICAgICAgICAgICAgICAgICAgICAgICAgICAgICAgICAgICAgICAgICAgICAgICAgICAgICAgICAgICAgICAgICAgICAgICAgICAgIAogICAgICAgICAgICAgICAgICAgICAgICAgICAgICAgICAgICAgICAgICAgICAgICAgICAgICAgICAgICAgICAgICAgICAgICAgICAgICAgICAgICAgICAgICAgICAgICAgICAgCiAgICAgICAgICAgICAgICAgICAgICAgICAgICAgICAgICAgICAgICAgICAgICAgICAgICAgICAgICAgICAgICAgICAgICAgICAgICAgICAgICAgICAgICAgICAgICAgICAgICAKICAgICAgICAgICAgICAgICAgICAgICAgICAgICAgICAgICAgICAgICAgICAgICAgICAgICAgICAgICAgICAgICAgICAgICAgICAgICAgICAgICAgICAgICAgICAgICAgICAgIAogICAgICAgICAgICAgICAgICAgICAgICAgICAgICAgICAgICAgICAgICAgICAgICAgICAgICAgICAgICAgICAgICAgICAgICAgICAgICAgICAgICAgICAgICAgICAgICAgICAgCiAgICAgICAgICAgICAgICAgICAgICAgICAgICAgICAgICAgICAgICAgICAgICAgICAgICAgICAgICAgICAgICAgICAgICAgICAgICAgICAgICAgICAgICAgICAgICAgICAgICAKICAgICAgICAgICAgICAgICAgICAgICAgICAgICAgICAgICAgICAgICAgICAgICAgICAgICAgICAgICAgICAgICAgICAgICAgICAgICAgICAgICAgICAgICAgICAgICAgICAgIAogICAgICAgICAgICAgICAgICAgICAgICAgICAgICAgICAgICAgICAgICAgICAgICAgICAgICAgICAgICAgICAgICAgICAgICAgICAgICAgICAgICAgICAgICAgICAgICAgICAgCiAgICAgICAgICAgICAgICAgICAgICAgICAgICAgICAgICAgICAgICAgICAgICAgICAgICAgICAgICAgICAgICAgICAgICAgICAgICAgICAgICAgICAgICAgICAgICAgICAgICAKICAgICAgICAgICAgICAgICAgICAgICAgICAgICAgICAgICAgICAgICAgICAgICAgICAgICAgICAgICAgICAgICAgICAgICAgICAgICAgICAgICAgICAgICAgICAgICAgICAgIAogICAgICAgICAgICAgICAgICAgICAgICAgICAgICAgICAgICAgICAgICAgICAgICAgICAgICAgICAgICAgICAgICAgICAgICAgICAgICAgICAgICAgICAgICAgICAgICAgICAgCiAgICAgICAgICAgICAgICAgICAgICAgICAgICAgICAgICAgICAgICAgICAgICAgICAgICAgICAgICAgICAgICAgICAgICAgICAgICAgICAgICAgICAgICAgICAgICAgICAgICAKICAgICAgICAgICAgICAgICAgICAgICAgICAgICAgICAgICAgICAgICAgICAgICAgICAgICAgICAgICAgICAgICAgICAgICAgICAgICAgICAgICAgICAgICAgICAgICAgICAgIAogICAgICAgICAgICAgICAgICAgICAgICAgICAgPD94cGFja2V0IGVuZD0ndyc/Pv/bAEMABwUFBgUEBwYFBggHBwgKEQsKCQkKFQ8QDBEYFRoZGBUYFxseJyEbHSUdFxgiLiIlKCkrLCsaIC8zLyoyJyorKv/bAEMBBwgICgkKFAsLFCocGBwqKioqKioqKioqKioqKioqKioqKioqKioqKioqKioqKioqKioqKioqKioqKioqKioqKv/AABEIAl4DkgMBIgACEQEDEQH/xAAfAAABBQEBAQEBAQAAAAAAAAAAAQIDBAUGBwgJCgv/xAC1EAACAQMDAgQDBQUEBAAAAX0BAgMABBEFEiExQQYTUWEHInEUMoGRoQgjQrHBFVLR8CQzYnKCCQoWFxgZGiUmJygpKjQ1Njc4OTpDREVGR0hJSlNUVVZXWFlaY2RlZmdoaWpzdHV2d3h5eoOEhYaHiImKkpOUlZaXmJmaoqOkpaanqKmqsrO0tba3uLm6wsPExcbHyMnK0tPU1dbX2Nna4eLj5OXm5+jp6vHy8/T19vf4+fr/xAAfAQADAQEBAQEBAQEBAAAAAAAAAQIDBAUGBwgJCgv/xAC1EQACAQIEBAMEBwUEBAABAncAAQIDEQQFITEGEkFRB2FxEyIygQgUQpGhscEJIzNS8BVictEKFiQ04SXxFxgZGiYnKCkqNTY3ODk6Q0RFRkdISUpTVFVWV1hZWmNkZWZnaGlqc3R1dnd4eXqCg4SFhoeIiYqSk5SVlpeYmZqio6Slpqeoqaqys7S1tre4ubrCw8TFxsfIycrS09TV1tfY2dri4+Tl5ufo6ery8/T19vf4+fr/2gAMAwEAAhEDEQA/APpGiiigAooooAKKKKACiiigAooooAKKKKACiiigAooooAKKKKACiiigAooooAKKKKACiiigAooooAKKKKACiiigAooooAKKKKACiiigAooooAKKKKACiiigAooooAKKKKACiiigAooooAKKKKACiiigAooooAKKKKACiiigAooooAKKKKACiiigAooooAKKKKACiiigAooooAKKKKACiiigAooooAKKKKACiiigAooooAKKKKACiiigAooooAKKKKACiiigAooooAKKKKACiiigAooooAKKKKACiiigAooooAKKKKACiiigAooooAKKKKACiiigAooooAKKKKACiiigAooooAKKKKACiiigAooooAKKKKACiiigAooooAKKKKACiiigAooooAKKKKACiiigAooooAKKKKACiiigAooooAKKKKACiiigAooooAKKKKACiiigAooooAKKKKACiiigAooooAKKKKACiiigAooooAKKKKACiiigAooooAKKKKACiiigAooooAKKKKACiiigAooooAKKKKACiiigAooooAKKKKACiiigAooooAKKKKACiiigAooooAKKKKACiiigAooooAKKKKACiiigAooooAKKKKACiiigAooooAKKKKACiiigAooooAKKKKACiiigAooooAKKKKACiiigAooooAKKKKACiiigAooooAKKKKACiiigAooooAKKKKACiiigAooooAKKKKACiiigAooooAKKKKACiiigAooooAKKKKACiiigAooooAKKKKACiiigAooooAKKKKACiiigAooooAKKKKACiiigAooooAKKKKACiiigAooooAKKKKACiiigAooooAKKKKACiiigAooooAKKKKACiiigAooooAKKKKACiiigAooooAKKKKACiiigAooooAKKKKACiiigAooooAKKKKACiiigAooooAKKKKACiiigAooooAKKKKACiiigAooooAKKKKACiiigAooooAKKKKACiiigAooooAKKKKACiiigAooooAKKKKACiiigAooooAKKKKACiiigAooooAKKKKACiiigAooooAKKKKACiiigAooooAKKKKACiiigAooooAKKKKACiiigAooooAKKKKACiiigAooooAKKKKACiiigAooooAKKKKACiiigAooooAKKKKACiiigAooooAKKKKACiiigAooooAKKKKACiiigAooooAKKKKACiiigAooooAKKKKACiiigAooooAKKKKACiiigAooooAKKKKACiiigAooooAKKKKACiiigAooooAKKKKACiiigAooooAKKKKACiiigAooooAKKKKACiiigAooooAKKKKACiiigAooooAKKKKACiiigAooooAKKKKACiiigAooooAKKKKACiiigAooooAKKKKACiiigAooooAKKKKACiiigAooooAKKKKACiiigAooooAKKKKACiiigAooooAKKKKACiiigAooooAKKKKACiiigAooooAKKKKACiiigAooooAKKKKACiiigAooooAKKKKACiiigAooooAKKKKACiiigAooooAKKKKACiiigAooooAKKKKACiiigAooooAKKKKACiiigAooooAKKp3eq2VlxcTqrenU1U/4SfS/+e/8A46aCHOK0bNeisj/hJ9L/AOe//jpo/wCEn0v/AJ7/APjpoF7SHc16KyP+En0v/nv/AOOmj/hJ9L/57/8AjpoD2kO5r0Vkf8JPpf8Az3/8dNH/AAk+l/8APf8A8dNAe0h3Neisj/hJ9L/57/8Ajpo/4SfS/wDnv/46aA9pDua9FZH/AAk+l/8APf8A8dNH/CT6X/z3/wDHTQHtIdzXorI/4SfS/wDnv/46aP8AhJ9L/wCe/wD46aA9pDua9FZH/CT6X/z3/wDHTR/wk+l/89//AB00B7SHc16KyP8AhJ9L/wCe/wD46aP+En0v/nv/AOOmgPaQ7mvRWR/wk+l/89//AB00f8JPpf8Az3/8dNAe0h3Neisj/hJ9L/57/wDjpo/4SfS/+e//AI6aA9pDua9FZH/CT6X/AM9//HTR/wAJPpf/AD3/APHTQHtIdzXorI/4SfS/+e//AI6aP+En0v8A57/+OmgPaQ7mvRWR/wAJPpf/AD3/APHTR/wk+l/89/8Ax00B7SHc16KyP+En0v8A57/+Omj/AISfS/8Anv8A+OmgPaQ7mvRWR/wk+l/89/8Ax00f8JPpf/Pf/wAdNAe0h3Neisj/AISfS/8Anv8A+Omj/hJ9L/57/wDjpoD2kO5r0Vkf8JPpf/Pf/wAdNH/CT6X/AM9//HTQHtIdzXorI/4SfS/+e/8A46aP+En0v/nv/wCOmgPaQ7mvRWR/wk+l/wDPf/x00f8ACT6X/wA9/wDx00B7SHc16KyP+En0v/nv/wCOmj/hJ9L/AOe//jpoD2kO5r0Vkf8ACT6X/wA9/wDx00f8JPpf/Pf/AMdNAe0h3Neisj/hJ9L/AOe//jpo/wCEn0v/AJ7/APjpoD2kO5r0Vkf8JPpf/Pf/AMdNH/CT6X/z3/8AHTQHtIdzXorI/wCEn0v/AJ7/APjpo/4SfS/+e/8A46aA9pDua9FZI8TaWSB9o/8AHTWjb3UF1Hvt5FkHsaClOMtmS0UUUFBRRRQAUUUUAFFFFABRRRQAUUUUAFFFFABRRRQAUUUUAFFFFABRRRQAUUUUAFFFFABRRRQAUUUUAFFFFABRRRQAUUUUAFFFFABRRRQAUUUUAFFFFABRRRQAUUUUAFFFFABRRRQAUUUUAFFFFABRRRQAUUUUAFFFFABVDWr46fpcsyffxhfrV+sPxb/yBD/vigio2oNo5CG3kvnaWaQnJ5J6mp/7LT/no1O0z/j2P1q5Vnhtu5R/stP+ejUf2Wn/AD0ar1FArso/2Wn/AD0aj+y0/wCejVeooC7KP9lp/wA9Go/stP8Ano1XqKAuyj/Zaf8APRqP7LT/AJ6NV6igLso/2Wn/AD0aj+y0/wCejVeooC7KP9lp/wA9Go/stP8Ano1XqKAuyj/Zaf8APRqP7LT/AJ6NV6igLso/2Wn/AD0aj+y0/wCejVeooC7KP9lp/wA9Go/stP8Ano1XqKAuyj/Zaf8APRqP7LT/AJ6NV6igLso/2Wn/AD0aj+y0/wCejVeooC7KP9lp/wA9Go/stP8Ano1XqKAuyj/Zaf8APRqP7LT/AJ6NV6igLso/2Wn/AD0aj+y0/wCejVeooC7KP9lp/wA9Go/stP8Ano1XqKAuyj/Zaf8APRqP7LT/AJ6NV6igLso/2Wn/AD0aj+y0/wCejVeooC7KP9lp/wA9Go/stP8Ano1XqKAuyj/Zaf8APRqP7LT/AJ6NV6igLso/2Wn/AD0aj+y0/wCejVeooC7KP9lp/wA9Go/stP8Ano1XqKAuyj/Zaf8APRqP7LT/AJ6NV6igLso/2Wn/AD0aj+y0/wCejVeooC7KP9lp/wA9Go/stP8Ano1XqKAuyh/Zaf8APRqXTrubSNUTDHYWAYdiKvVmXv8Ax/p+FJlwk1K6PSFO5QR3GaWmQ/6hP90U+pPdCiiigAooooAKKKKACiiigAooooAKKKKACiiigAooooAKKKKACiiigAooooAKKKKACiiigAooooAKKKKACiiigAooooAKKKKACiiigAooooAKKKKACiiigAooooAKKKKACiiigAooooAKKKKACiiigAooooAKKKKACsPxb/yBD/vitysPxb/yBD/vigzq/AzmdM/49j9auVT0z/j2P1q5VnhvcKKKKBBRRRQAUUVDcXltaKGup44gehdsUATUVQ/t3Sv+f+3/AO+xUtvqljdSbLa7ikb0VwTQOzLVFFFAgooooAKKKKACiiigAooooAKKKKACiiobm8trRd11OkQ9XbFAE1FUP7d0r/n/ALf/AL7FS2+qWN1Jst7uGRvRXBNA7MtUUUUCCiiigAooooAKKKKACiiigAooooAKKKKACiiigAooooAKKKKACiiigAooooAKzL3/AI/0/CtOsy9/4/0/ChlR3PRof9Qn+6KfTIf9Qn+6KfUHvhRRRQAUUUUAFFFFABRRRQAUUUUAFFFFABRRRQAUUUUAFFFFABRRRQAUUUUAFFFFABRRRQAUUUUAFFFFABRRRQAUUUUAFFFFABRRRQAUUUUAFFFFABRRRQAUUUUAFFFFABRRRQAUUUUAFFFFABRRRQAUUUUAFFFcn8StL1zWPBNzaeFpjDqLMpRw+3A5zzQB1mR61h+LSP7EPP8AGK+ev+Fb/Gn/AKC0v/gSKp6n8Pvi/b2Ze+1SRosjj7QDQRUV4tHtemH/AEY/WrmRXzvb+CPii8eYdRkC5/57ipf+EE+K3/QSk/7/AIqjy3Qjf40fQeRRkV8+f8IJ8Vv+glJ/3/FH/CCfFb/oJSf9/wAU7i9hH+dH0HkUZFfPn/CCfFb/AKCUn/f8Uf8ACCfFb/oJSf8Af8UXD2Ef50fQefevlr4xa3fX/wAQLy0mnf7PasEjj3fKPfFdF/wgnxW/6CUn/f8AFeZeJLLUrHxFdWutuZb5HxKxbOT9aTOnD0oxle6Zsn4da/IukSWardxatjyJIWyqnuG9Mc/lWex1HwZ4u8q3vR9qs5QGeB8qT6Z717b8OJIvCfgi10TxBqBt7/xAHNgrYP2Xcpw3PTOf1rwnxHo99ofia80/Uc/aY5Tlj/FnkH8ak7mrn2RYTm40+CZ/vSRhj+VWMivne18EfFGS0ieDUZBEygoPPHSpf+EE+K3/AEEpP+/4q7nk+wj/ADo+g8ijIr58/wCEE+K3/QSk/wC/4o/4QT4rf9BKT/v+KLi9hH+dH0HkUZFfPn/CCfFb/oJSf9/xR/wgnxW/6CUn/f8AFFw9hH+dH0HkUZFfPn/CCfFb/oJSf9/xR/wgnxW/6CUn/f8AFFw9hH+dH0HkUZFfPn/CCfFb/oJSf9/xR/wgnxW/6CUn/f8AFFw9hH+dH0HkUZFfPn/CCfFb/oJSf9/xR/wgnxW/6CUn/f8AFFw9hH+dH0HkV8u/GfW72+8fXdnLO32e1wscYPA464rf/wCEE+K3/QSk/wC/4rzrWra90nxg0XifN1PDKpuQXyXGeRn6UmdOHpRjO90w0bwtqOuaHqmq2jL5GlxiSbc3OOen5VR0bVLzStXtruxneKVJFIKtjPPSvf8AwX4l8E3PgXxPPp3hh7a0t7dTdwmcnzxg8Z7V4p4u1TQtY1eCTwtpLaVAFCtGZC2W45yak7nqj640y4a60m0uJPvywo7fUqDVrIr52s/BHxQlsYJLbUZBC0atGPPHCkcfpU3/AAgnxW/6CUn/AH/FXc8l0I3+NH0HkUZFfPn/AAgnxW/6CUn/AH/FH/CCfFb/AKCUn/f8UXF7CP8AOj6DyKMivnz/AIQT4rf9BKT/AL/ij/hBPit/0EpP+/4ouHsI/wA6PoPIoyK+fP8AhBPit/0EpP8Av+KP+EE+K3/QSk/7/ii4ewj/ADo+g8ijIr58/wCEE+K3/QSk/wC/4o/4QT4rf9BKT/v+KLh7CP8AOj6DyKMivnz/AIQT4rf9BKT/AL/ij/hBPit/0EpP+/4ouHsI/wA6PoPIoyK+fP8AhBPit/0EpP8Av+KP+EE+K3/QSk/7/ii4ewj/ADo+g8ijIr58/wCEE+K3/QSk/wC/4qrqfhX4naTplxf3epyiG3QyORODwBmi4/YRf20fRuRRkV8v+FrT4g+L7Sa40fVZ3jhba2+YDmt3/hBPit/0EpP+/wCKVweHSdnJH0HkUZFfPn/CCfFb/oJSf9/xR/wgnxW/6CUn/f8AFO4vYR/nR9B5FGRXz5/wgnxW/wCglJ/3/FH/AAgnxW/6CUn/AH/FFw9hH+dH0HkUZFfPn/CCfFb/AKCUn/f8Uf8ACCfFb/oJSf8Af8UXD2Ef50fQeRWXen/T0/CvEP8AhBPit/0EpP8Av+KrzeCficswWTUZC/b9+KRUaMb/ABo+vYSPITn+EVxfjP4paR4F1+wsNbWRIrxCwnUZCc45714qnw4+NBQFdWlxjj/SRXnvxJ8PeL9BvbOPxtdNcSyITCWk34FSesfamj69pevWa3OkX0N1EwzmN84+o7VoV8WfC/w38Qb3Uo7jwg1zaQhhunfIi/Xg19h6HDqUGjwR63PHcXqr+8kiXapP0oA0KKKKACiiigAooooAKKKKACiiigAooooAKKKKACiiigAooooAKKKKACiiigAooooAKKKKACiiigAooooAKKKKACiiigAooooAKKKKACiiigAooooAKKKKACiiigAooooAKKKKACiiigAooooAKKKKACiiigArD8W/8gQ/74rcrD8W/wDIEP8Avigzq/AzmdM/49j9auVT0z/j2P1q5VnhvcKKKKBBRRRQAV4R8UvhTrepeKJdY0KIXKXOC8YbDK1e70UGlOpKnK6PjrxJ4d8R+H5bZ9filhduIS75PHpXTaB8J/FXiDU7W41OJorWTa7XEr5JX2rrv2iP9Zov+839a9g8O/8AItad/wBeyf8AoIpW1O6eImqakupdtoVtraOFPuxqFFSUUUzzQooooAKKKKACiiigAooooAKKKKACvCvir8KtZ1XxPJrGhRC6S4A8yPdhlOK91ooNKdSVOV0fHc+l+JPD2oPoEgmtZr4Kr26vxKDwAa6TQfg14pvNXt1v7MWluHDSSOw6A9sVv/En/ku2lfWH/wBCNfQK/dH0qbHdVxE4xi11RFaW62lnDbpysMaoPoBipaKKo80KKKKACiiigAooooAKKKKACiiigAooooAK53x//wAiBrP/AF6Sf+gmt6e4itojJM4RR3JrkPFOt22r6De6Xb7v9JiaLzMcDIxmtqdCpV+BXBTjGSbOS/Z5/wCRb1L/AK+B/I17BXk3w5gTwNp9zayMbkTyB9w4xXpOn63Z6jxDJh/7rcGrnha1NXlEqrVhOo3FmhRRRXMSFFFFABRRRQAVmXv/AB/p+FadZl7/AMf6fhQyo7no0P8AqE/3RXPeIPAWg+KNatNS1y0F1JZqViR+VHPUiuhh/wBQn+6KfUHvkVtawWcCw2sSRRqMKqDAFS0UUAFFFFABRRRQAUUUUAFFFFABRRRQAUUUUAFFFFABRRRQAUUUUAFFFFABRRRQAUUUUAFFFFABRRRQAUUUUAFFFFABRRRQAUUUUAFFFFABRRRQAUUUUAFFFFABRRRQAUUUUAFFFFABRRRQAUUUUAFFFFABRRRQAVh+Lf8AkCH/AHxW5WH4t/5Ah/3xQZ1fgZzOmf8AHsfrVyqemf8AHsfrVyrPDe4UUUUCCiiigAooooA8O/aI/wBZov8AvN/WvYPDv/Itad/17J/6CK8f/aI/1mi/7zf1r2Dw7/yLWnf9eyf+gil1Omp/Bh8zRooopnMFFFFABRRRQAUUUUAFFFFABRRSb13bdw3DtmgBaKK868efF2w8G6mNOjtmvLoAF1U4CZoKjCU3aJwfxJ/5LtpX1h/9CNfQK/dH0r5M8SePf7f8d2viL7J5X2cp+6z12kn+teoaH8f7K+1SG11DTnto5WCeaDkKT60kdtajNwjZbI9jopEdZI1dDlWAII7ilpnAFFFFABRRRQAUUUUAFFFFABRRRQAUyeZLeB5ZDhVGSafWB4uuDFpaxqceY2D9K2o0/a1FDuTJ2VzmdW1abU7lmZiIgflSs+ilRDJIqDqxwK+uhCNOPLHZHE22zQ0zQr/ViTaRfIOsjHCir174cbSLNrltRgM0eMRxnJPNXvFN7Jpdva6NYuYoo4g0mw43E+tckTk5PJ9656bqVVz3tHt5HRNU6fuWuzuvDus/2jbmKY/voxz/ALQ9a26870G4NvrMBBwGbafoa9ErwsfQVGr7uzKpy5o6hRRRXAahRRRQAVmXv/H+n4Vp1mXv/H+n4UMqO56ND/qE/wB0U+mQ/wCoT/dFPqD3wooooAKKKKACiiigAooooAKKKKACiiigAooooAKKKKACiiigAooooAKKKKACiiigAooooAKKKKACiiigAooooAKKKKACiiigAooooAKKKKACiiigAooooAKKKKACiiigAooooAKKKKACiiigAooooAKKKKACiiigArD8W/8AIEP++K3Kw/Fv/IEP++KDOr8DOZ0z/j2P1q5VPTP+PY/WrlWeG9wooooEFFFFABRRRQB4d+0R/rNF/wB5v617B4d/5FrTv+vZP/QRXj/7RH+s0X/eb+teweHf+Ra07/r2T/0EUup01P4MPmaNFFFM5gooooAKKKKAGTTRwQvLMwSNAWZieAK841X45eF9OuXhgM12UOC0Y4/OtD4xX01j8Nb9rdijSFYyR6E4P865L4RfD7w/q3gyPVNVsUuriWRhmQZAAxQdFOEOTnmW/wDhoTQ/+gdc/n/9aj/hoTQ/+gdc/n/9au2Hw68Jj/mCWn/fsUf8K68Kf9AS0/79ijUfNQ/lZxP/AA0Jof8A0Drn8/8A61ee+Lvive6h4ti1bw3NPZIkQRo3OQxz6V7x/wAK68Kf9AS0/wC/YrzPxt8ILnWfGkUfh2zhsdOEI8yXGFBzzwO9LU1pSoc21vUueEPjza3fl2viWDyJTgefH90/UV5d8UbqK9+IeoXFu4kikKsjDuMV7v4T+D/h/wAOBJriIX92vPmSjgH2FeH/ABbgMHxL1FWQopKleO2O1D2NaDpuq+Q7bwf4N8MeOPC1lrPkfYjo7H+1I0yROgwQRnvXletXllfeKZbjSrRbO0aYeTCpPyrnjrXfaV8W7XwtY6PpnhuzdbCE79REoAN0x6j6YFcNr8+l6h4ukn8PQSw2c8waOGQDKknpwak7j670M58P6eT/AM+0f/oIq9VLRVZNBsEcYZbaMEHsdoq7Vnz73CiiigQUUUUAFFFFABRRRQAUUUUAFc74xiLafFIOiPz+NdFVe/tFvrKSB+jDg+lb4ep7KrGb6EyV42PMqt6TA1zq9rFGMlpV4/GrNrp9tBqxt9akeCJQfmUZzWwNc0XRAToVq8tzjAnm/h9xX09Sq2rU1dv7vvMKdNfFJ2X4lDxnKJfE9wFOQgCflWFT5pnuJ3llO53OSaZWtOHJBR7GdSXPNy7l7RojNrFuq/3wTXo9cx4V0logb2dcMwwgPp6109fPZjVVSraPQ6KUbRCiiivNNQooooAKzL3/AI/0/CtOsy9/4/0/ChlR3PRof9Qn+6KfTIf9Qn+6KfUHvhRRRQAUUUUAFFFFABRRRQAUUUUAFFFFABRRRQAUUUUAFFFFABRRRQAUUUUAFFFFABRRRQAUUUUAFFFFABRRRQAUUUUAFFFFABRRRQAUUUUAFFFFABRRRQAUUUUAFFFFABRRRQAUUUUAFFFFABRRRQAUUUUAFFFFABWH4t/5Ah/3xW5WH4t/5Ah/3xQZ1fgZzOmf8ex+tXKp6Z/x7H61cqzw3uFFFFAgooooAKKKCQoyTge9AHh37RH+s0X/AHm/rXsHh3/kWtO/69k/9BFeSfHq2l1ObSV09DcGMnfs5x1r1Tw5eW50CwiEyeYkCKy55BxU3VzuqUavsIvldtehsUUdaKo4QooooAKKKCQoyTgUAeefG/8A5Jndf9dY/wD0IVJ8FP8AkmVn/wBdH/pUXxkZb/wBc2lmwmnaRCI0OT94VL8HT9j+Htra3REU6yMTGxwR0qbq53OjVWGu4u1+x39FFFUcIUUUUAFcv4q+Hmg+L5Um1W3PnoMCWM4Yj0NdRQWCjLEAe9A4ycXdHy74x8F6ZonxPsdCs/M+yTmPdubJ5JBr2XRfg74W0fUI72O3kmkjO5BK5IB9cVwXxBsri6+NGnXlvE0lvGYt8i9Bhjmvc4L22nUeVMjcdjVezkldo6qtZ8sbS6E4GBgcCiiipOQKKKKACiiigAoqKa7gtxmaVU+pquusWDthbqMn60ro1jRqyV4xbXoXaKakiSLlGDD1Bp1Myaa3CiiigAooooApalpNtqce2ZcMOjjqK47W9Ak0bT7i/eQNbwIXc9wBXfVzvj//AJEDWf8Ar0k/9BNddHF1aKtF6E+zjOSucX4WdPF9vLPpDh44m2uzcYNdrpvhSG2cSXbea45C9hXAfs8/8i3qX/XwP5GvYK0qY+vUVr29CqlCFObSAAKAFGAOgooorhAKKKKQBRRRQAVmXv8Ax/p+FadZl7/x/p+FDKjuejQ/6hP90U+mQ/6hP90U+oPfCiiigAooooAKKKKACiiigAooooAKKKKACiiigAooooAKKKKACiiigAooooAKKKKACiiigAooooAKKKKACiiigAooooAKKKKACiiigAooooAKKKKACiiigAooooAKKKKACiiigAooooAKKKKACiiigAooooAKKKKACsPxb/yBD/vitysPxb/yBD/vigzq/AzmdM/49j9auVT0z/j2P1q5VnhvcKKKKBBRRRQBDd3cVlbPPO21FGTXnuseJrvUZGWJ2ig7KpxmtLxvqDNcR2SN8qjc49TXJVw16rvyo/RuHcopRorFVleUtr9EKSSck5PvT4FmMg+ziQt22A5/SreiaY+saxBZpwJG+Y+gHJrpdR8T2+iTNYeH7OFRCdrTuu5mPeueMdLs+nrV2p+ypx5n+CXmQaT4ivdOljt9XjkEb/deRSCK7VHWRA6HKsMgivK9T1i81iVJL6QOyDC4GMV2HgzUGutPe3lOWhPH0rroVbvlZ8XxBlMYUfrdOKi/tJbep0tFFFdZ8MQ3d1FZWrzzttRRk159rHia61GRlhdoYOyqcE1o+N9RZriOyQ4VRub3NclXDXqu/Kj9G4dyilGisVWV5S2v0X+YpJY5JyfU0+BZjIPs4ct22A5/SreiaY+saxBZIceY3zH0Hc10upeJrfQ5msNAs4VEPytO67mY1zxjpdn09au1P2VOPM/wS8yDSfEV7pssdvq8cgif7rSKQRXao6yRq6HKsMgivK9U1m91iRHvpA5QYXC4xXYeDNRa6097eU5aE8fSuuhVu+VnxfEGUxhR+twiov7SW3qdLRRRXWfDFe+vYrC1aaY4A6D1rhdT1261CQ/OY4uyKcVc8WXzTagLZT8kQ5HvWBX0WBwkYwVSS1Zy1JtuyA89algWcuDbCQt22A/0q94f0r+2NXjtmO2P70jeiiti+8Vx2EjWug2kMUUZ2iRlyze9dtSq+bkgrsIU04883ZCaVr1zaTJa6sjqG+6zjBFdWCGUEcg15pqGpXWqXAmvJN7gYBAxgV2Xhi+N3pYSQ5eI7T9K8jHYVQiqqVu5pCavyo2aKKK8c2CuW8R+KPsbta2JBlH3n/u1ta1e/YNJnnH3guF+pry13aSRnc5ZjkmuavUcfdR9dw5lNPFyeIrK8Y6Jd2PnuZrmQvPIzsfU1EOvHWiuysYrLwx4fg1K+tlub275hjfoq+tcSXM9T9Bq1Y4eKjGN29EkYmm3er6d++gjnMK8sGU7cV3ejaxDq9p5kfyuv309K4y+8ZapfQyQlo4oXG0pGgHFZ2la3/YV0buTcYVUmRV7itqdTkla+h89m2U/XKEqrgo1FqrdfJnqtFeZH48eFR1Fz/3xR/wvnwp6XP8A3xXoH5v7Cp/Kem0V5Zd/HXwvLZTxxfaQ7RsqnZ0JHFeceGfjVreiXjR3x/tCyLkhX4ZRnsaLlRw1SSbsfTEsqQxNJKwVEGWY9AK8k8cfF7w3d6Hqmj2kkk00kLxK6odpYgjrWjqHxK0TxV4B1X+zbnybv7McwucMOR0r578Mx6TP4htYvELSrYSOFleNgCue/NJs2w+HTbc+h6F8J/iPo/gzSLy21USl5pQ67FzxXtfhPxzo3jGGRtJny8f34nGGH4V4j4k+GGm+DdC1HU9bu3kSVwmkpGwBmGM7j7dKg+Asjr8QtisQrwNuGetJM2xFCLTn1PpiiiiqPLCiiigAooooAKzL3/j/AE/CtOsy9/4/0/ChlR3PRof9Qn+6KfTIf9Qn+6KfUHvhRRRQAUUUUAFFFFABRRRQAUUUUAFFFFABRRRQAUUUUAFFFFABRRRQAUUUUAFFFFABRRRQAUUUUAFFFFABRRRQAUUUUAFFFFABRRRQAUUUUAFFFFABRRRQAUUUUAFFFFABRRRQAUUUUAFFFFABRRRQAUUUUAFFFFABWH4t/wCQIf8AfFblYfi3/kCH/fFBnV+BnM6Z/wAex+tXKp6Z/wAex+tXKs8N7hRRRQIKKKKAPNfFef8AhIp93tj8hWNXX+N9OYSR30Y+Uja+O1Y+k+GNS1qIy2UQMQbaXY4ANeZUi/aNH6/lOLoyy6nNuySSfqtDU8ALjWLqX/nlauwPpxXMXDb7mVjzlyf1rswtp4O0e7iN1HcaldJ5e2M5EYPWuIJyeamWiSOrDP2tadZbOyXnb/hwrrPAmftlz6bBXJ16D4O01rPTTPKMPOcjPpV0E3M87iOvCll84y3lZL7zoqKKK9I/JzzXxXn/AISGfd7Y/Ksauw8b6a3mR30YyuNr+1Y2keGdS1qIy2UQMQOC7HAFeZUi/aNH6/lOLoyy6nUbSSST9Voanw+XGuTzf88rd2z6cGuYuG33MrHnLk/rXZBLTwdo95GbqO41K7jMe2M5EYNcSTk5NTLRJHVhn7StOstnZLzt/wAOFdV4Ez9uuMdNgz+tcrXoPg7TWs9NaeUYeY5A9qugm5o87iOvCll84y3lZL7zoqKKK9I/JzznXM/21c7v79UK6HxbYNFei6UfJIME+hqrpfhjUtWgE9tGohJx5jHAr62jWh7CM27I4/ZylNqKuaPgz92mqz9DHbHB9OtcuTkmutujaeGtAubCG5S4vrv5ZChyEX0rkqKHvSlUWz2+RpW92MYdUFdX4Lzi59Pl/rXKV33hqwNlpYMgw8p3GsMxmo0HF9SKSvI16KKK+ZOs5/xoGOhcdPMGa88r1bWLL7fpU0Hdl+X615lBp9zc6gLKGMtOW2hPeuHExfMmfpHCuIg8JOm3rF3+T6kCDMij1Irq/Hh2SaVAOBHZqMenAp1l4MewkS71+5itYIzuKFhub2rI8T6wuta5LcxDbCAEjH+yOKxs4xd+p76qRxGJhKnqop3fS7MenRxLPIsTjcshCkeoNNrY8M6c1/q8Zx+7iO5jURTckkdOKrQoUJ1Z7JGonwk8HtGrNpSbiMn607/hUXg3/oEpXa0V65+JurNu9zg734SeEUsLhodJTzFiYrj1xxXlPhr4I6xrV282p406y8w7Q3Lsuewr6SoosXHEVIpq55tq3w90Lwp8PdW/s20Vrj7MczuMueR3r598I22kXXiS1XxFdfZtORt8zbSSwHO3j16V9jXdrFe2cttcKHilUo6nuDXhni/4HWWl6ZqOrWOoyLFBG0ywMAegzjOKTR0YauldTerK3iXx94d8feGdQ0vUgthJpz7tIk253JjG04+grG+A4J+IinHSB8/lUHw6+FyeOtNubp9Qa18iQJtC5zXtfgH4Z6f4GMs0UrXV3KNplfsPQUkjavWgouHU7aiiiqPKCiiigAooooAKzL3/AI/0/CtOsy9/4/0/ChlR3PRof9Qn+6KfTIf9Qn+6KfUHvhRRRQAUUUUAFFFFABRRRQAUUUUAFFFFABRRRQAUUUUAFFFFABRRRQAUUUUAFFFFABRRRQAUUUUAFFFFABRRRQAUUUUAFFFFABRRRQAUUUUAFFFFABRRRQAUUUUAFFFFABRRRQAUUUUAFFFFABRRRQAUUUUAFFFFABWH4t/5Ah/3xW5WH4t/5Ah/3xQZ1fgZzOmf8ex+tXKp6Z/x7H61cqzw3uFFFFAgooooAjubeO6t2hnUMjDBBriNU0LU9MV10+WR7Rjnah6V3dFZzpqe56mX5pXwErw1i909v+HPHpd6P+/yrf7VOit5ZmCxRs5PTAqh+0BPLZzaObWRoS5bcYztz164r1nw5DEvh2wcRqHa3Qlsck4rm+ra7n10+K1GkpKlq/P/AIBz2g+EpGkW41IbVXkR9z9a7VVCKFUYAGAKWiuqFNQVkfG4/Ma+Pqc9Z+i6IKKKKs88juLeO6t2hnUMjDBBriNU0HU9MV106WR7Vjnap6V3dFZzpqe56mX5pXwErw1i909jx+VZEYmYMD3LUQwy3BAgRnJ/ujNbvxoH2b4d3M9uPKlEiYdOG+8O9S/Bkmf4c2s83zymRsu3JPTvXN9W13PrnxWvY86pa+v/AACxoPhKR5FuNSXag5Efc/Wu1VQihVGABgClorqhTjBWR8dj8xr4+pz1n6LogoooqzziG7tYr23aGddysPyrjtR0nUtOQx28kj2ucgKen4V29HWurD4mdB6arsRKPMeVOdsm2Q4f0PWpIreaZgsUbMT6CuU+IlzPD8btNgildIXMW6NWIU/Me1e8RQRRKPLjVeOy4r0v7WVtI6inhXFJt7nM6J4ZZJFuNQHTlY/8a6oDAwOlFFeVWrzry5plRioqyCiiisCgrntc8PNczfbdNfybpeeON1dDRUyipKzOrCYurhKqq0nZ/n5M8p1CK/ikb+0PNyOpc8VSUF/uDd9Oa7b4oEp8OdWkT5XWHKsOorl/gSBe+DZ5bsefILggNJ8xA57muV4bXRn21Liq1HmnS1XZ6E2m+H77UZBtjKR93bivQdK0qHSrQRQjJ/ibuTV4AKMKMD2orenRjA+bzPO8RmHuy92PZfqFFFFanhhRRRQAVzvj/wD5EDWf+vST/wBBNdFXO+P/APkQNZ/69JP/AEE0FQ+JHA/s8/8AIt6l/wBfA/ka9grx/wDZ5/5FvUv+vgfyNewUI1xH8VhRRRQYBRRRQAUUUUAFZl7/AMf6fhWnWZe/8f6fhQyo7no0P+oT/dFPpkP+oT/dFPqD3wooooAKKKKACiiigAooooAKKKKACiiigAooooAKKKKACiiigAooooAKKKKACiiigAooooAKKKKACiiigAooooAKKKKACiiigAooooAKKKKACiiigAooooAKKKKACiiigAooooAKKKKACiiigAooooAKKKKACiiigArD8W/8gQ/74rcrD8W/8gQ/74oM6vwM5nTP+PY/WrlU9M/49j9auVZ4b3CiiigQUUUUAFFFFAHh37RH+s0X/eb+teweHf8AkWtO/wCvZP8A0EV4/wDtEf6zRf8Aeb+teweHf+Ra07/r2T/0EUup01P4MPmaNFFFM5gooooAKKKKAPPPjf8A8kzuv+usf/oQqT4Kf8kys/8Aro/9Kj+N/wDyTO6/66x/+hCpPgp/yTKz/wCuj/0pdTp/5h/md/RRRTOYKKKKACiiigD5++JP/JdtK+sP/oRr6BX7o+lfP3xJ/wCS7aV9Yf8A0I19Ar90fSkjprfBD0CiiimcwUUUUAFFFFAHI/FL/kmur/8AXH+tcx+z/wD8iNcf9fJ/rXS/FaQR/DPVixxmLFc78AUK+A5WPRrhsfmaOp0r/d36nqVFFFBzBRRRQAUUUUAFc74//wCRA1n/AK9JP/QTXRVz3j1S/gLWQoyfskn/AKCaCofEjgP2ef8AkW9S/wCvgfyNewV47+zw4OgammfmWdSR+Br2KhGuI/isKKKKDAKKKKACiiigArMvf+P9PwrTrMvf+P8AT8KGVHc9Gh/1Cf7op9Mh/wBQn+6Kw9a8a6H4e1i103Wb1LSa6UtEZOFP41B75v0VHBPFcwrLbypLGwyGRsg1JQAUUUUAFFFFABRRRQAUUUUAFFFFABRRRQAUUUUAFFFFABRRRQAUUUUAFFFFABRRRQAUUUUAFFFFABRRRQAUUUUAFFFFABRRRQAUUUUAFFFFABRRRQAUUUUAFFFFABRRRQAUUUUAFFFFABRRRQAUUUUAFVdTnktdLuZ4F3SxxsyLjqQKtUEZ60AfMj/HX4kByB4bTAP/AD7yf41S1T41fEK9szFdeHkRMg5+zuP619SfZ4f+eSf98isTxZBENFOIkHzj+EUEVGlFtnzLb/FrxxDHtj0NSM/88H/xqX/hcHjz/oAr/wB+H/xr2/TYozbH92vX+7VzyYv+ea/981R5brU7/AeBP8Y/HMaF5NDjVVGSTA+B+tVrb45+Lb1itpptvMRyRHGxx+tewfEZ1tfh7q8saKGEBAIFcR+z5Ywf8Ite3LRq0kk+0sR2FBopU3Tc+Q58fGHx1n/kBof+2D/407/hcPjr/oAr/wB+H/xr3vyYv+eaf98ijyY/+eaf98igy9tT/kPBP+Fw+Ov+gCv/AH4f/Gj/AIXD46/6AK/9+H/xr3vyY/8Anmn/AHyKPJj/AOeaf98igPbQ/kPlnxp4h8U+NmtTqWjvH9mJK+VCwz+ddJZfFfxvY2MNrHoSlIUCKTA+cAY9a+gvJj/55p/3yKPJj/55p/3yKLFPERas4ngn/C4fHX/QBX/vw/8AjR/wuHx1/wBAFf8Avw/+Ne9+TH/zzT/vkUeTH/zzT/vkUE+2h/IeCf8AC4fHX/QBX/vw/wDjR/wuHx1/0AV/78P/AI1735Mf/PNP++RR5Mf/ADzT/vkUB7aH8h4J/wALh8df9AFf+/D/AONH/C4fHX/QBX/vw/8AjXvfkx/880/75FHkx/8APNP++RQHtofyHzX4q8d+MPFmhyaXfaKY4ZGDFo4Wzwc+tL4X8feMPCmhR6XY6IXhjYsDJC2efxr6T8mP/nmn/fIo8mP/AJ5p/wB8iixX1iPLy8uh4J/wuHx1/wBAFf8Avw/+NH/C4fHX/QBX/vw/+Ne9+TH/AM80/wC+RR5Mf/PNP++RQT7aH8h4J/wuHx1/0AV/78P/AI0f8Lh8df8AQBX/AL8P/jXvfkx/880/75FHkx/880/75FAe2h/IeCf8Lh8df9AFf+/D/wCNH/C4fHX/AEAV/wC/D/41735Mf/PNP++RR5Mf/PNP++RQHtofyHynres+Jtd8WW+v3OkSLcwbdqrC207Tn+tdiPjB46A/5AK/9+H/AMa978mP/nmn/fIo8mP/AJ5p/wB8iixTxEWknE8E/wCFw+Ov+gCv/fh/8aP+Fw+Ov+gCv/fh/wDGve/Jj/55p/3yKPJj/wCeaf8AfIoJ9tD+Q8E/4XD46/6AK/8Afh/8aP8AhcPjr/oAr/34f/Gve/Jj/wCeaf8AfIo8mP8A55p/3yKA9tD+Q8E/4XD46/6AK/8Afh/8aP8AhcPjr/oAr/34f/Gve/Jj/wCeaf8AfIo8mP8A55p/3yKA9tD+Q+c9Z8QfEH4g2g0htJkit5HBcRwsAfqT2r2vwD4YPhLwhaaY5DTKN0pH948mujCKv3VA+gpaZFSrzR5UrIKKKKDEKKKKACiiigAqC+tI7+wntJhmOeNo2+hGKnooA+ck0Xx18MdcvDoNpJc2czZ3JHvVh2zjoeavf8LQ+I56aIf/AAGavfyAeoB+tN8tP7i/lRY6vbp6yimzwL/hZ/xI/wCgIf8AwGaj/hZ/xI/6Ah/8Bmr33y0/uL+VHlp/cX8qBe2h/IjwL/hZ/wASP+gIf/AZqP8AhZ/xI/6Ah/8AAZq998tP7i/lR5af3F/KgPbQ/kR4F/ws/wCJH/QEP/gM1H/Cz/iR/wBAQ/8AgM1e++Wn9xfyo8tP7i/lQHtofyI8C/4Wf8SP+gIf/AZqrTfEj4hPMrSaMwYdB9navoby0/uL+VZl6ifb0+Ve3akVGtC/wI8sT4v/ABYCAL4fbAHH+iPXnfxL8WeKfFF9Zy+LbFrKWFCIgYimRn3r7chij8hPkX7o7VxPjf4UaT4816wvtYldYLNCvkRjG/Jzyak9Y+a/hf428fWGqx2nhj7RqcWRutXUugH16ivsHRLjULrSYJtYtVtLtlzJCjbgp+tQ6H4a0jw3ZLa6NYxW0aj+BeT9a1aACiiigAooooAKKKKACiiigAooooAKKKKACiiigAooooAKKKKACiiigAooooAKKKKACiiigAooooAKKKKACiiigAooooAKKKKACiiigAooooAKKKKACiiigAooooAKKKKACiiigAooooAKKKKACiiigAooooAKw/Fv/IEP++K3Kw/Fv/IEP++KDOr8DOZ0z/j2P1q5VPTP+PY/WrlWeG9zk/ih/wAk21f/AK41yn7P3/Ik3P8A18n+tdX8UP8Akm2r/wDXGuU/Z9/5Em5/6+T/AFo6nRH/AHd+p6vRRRQcwUUUUAFFFFABRRRQAUUUUAFFFFABRRRQAUUUUAFFFFABRRRQAUUUUAFFFFABRRRQAUUUUAFFFFABRRRQAUUUUAFFFFABRRRQAUUUUAFFFFABRRRQAUUUUAFZl7/x/p+FadZl7/x/p+FDKjuejQ/6hP8AdFPpkP8AqE/3RT6g98KKKKACiiigAooooAKKKKACiiigAooooAKKKKACiiigAooooAKKKKACiiigAooooAKKKKACiiigAooooAKKKKACiiigAooooAKKKKACiiigAooooAKKKKACiiigAooooAKKKKACiiigAooooAKKKKACiiigAooooAKw/Fv/ACBD/vitysXxWpbQ2wOjAmgzq/Azl9M/49j9auVS0xh9nIzyDV2rPDe5yfxQ/wCSbav/ANca5T9n3/kSbn/r5P8AWur+KH/JNtX/AOuNcp+z7/yJNz/18n+tHU6I/wC7v1PV6KKKDmCiiigAooooAKKKKACiiigAooooAKKKKACiiigAooooAKKKKACiiigAooooAKKKKACiiigAooooAKKKKACiiigAooooAKKKKACiiigAooooAKKKKACiiigArMvf+P8AT8K06y7s79RRV5OQKGVHc9Hh/wBQn+6KfTIhiFM/3RT6g98KKKKACiiigAooooAKKKKACiiigAooooAKKKKACiiigAooooAKKKKACiiigAooooAKKKKACiiigAooooAKKKKACiiigAooooAKKKKACiiigAooooAKKKKACiiigAooooAKKKKACiiigAooooAKKKKACiiigAooooAKiubdLq2eGUZRxg1LRQG5wl54d1CxnY2qmWPsynmq32HV/wDnjLXolFO5yPCwbPEfiXaaknw71Zp4pAgh5JrmPgLbX03gy4NpG7J9oOSv41698Y/+SS67/wBe/wDWuK/Zf/5J7d/9fR/rRcpYeKhyHUfYdX/54y0fYdX/AOeMteiUUXI+qQ7nnf2HV/8AnjLR9h1f/njLXolFFw+qQ7nnf2HV/wDnjLR9h1f/AJ4y16JRRcPqkO5539h1f/njLR9h1f8A54y16JRRcPqkO5539h1f/njLR9h1f/njLXolFFw+qQ7nnf2HV/8AnjLR9h1f/njLXolFFw+qQ7nnf2HV/wDnjLR9h1f/AJ4y16JRRcPqkO5539h1f/njLR9h1f8A54y16JRRcPqkO5539h1f/njLR9h1f/njLXolFFw+qQ7nnf2HV/8AnjLR9h1f/njLXolFFw+qQ7nnf2HV/wDnjLR9h1f/AJ4y16JRRcPqkO5539h1f/njLR9h1f8A54y16JRRcPqkO5539h1f/njLR9h1f/njLXolFFw+qQ7nnf2HV/8AnjLR9h1f/njLXolFFw+qQ7nnf2HV/wDnjLR9h1f/AJ4y16JRRcPqkO5539h1f/njLR9h1f8A54y16JRRcPqkO5539h1f/njLR9h1f/njLXolFFw+qQ7nnf2HV/8AnjLR9h1f/njLXolFFw+qQ7nnf2HV/wDnjLR9h1f/AJ4y16JRRcPqkO5539h1f/njLR9h1f8A54y16JRRcPqkO5539h1f/njLR9h1f/njLXolFFw+qQ7nnf2HV/8AnjLR9h1f/njLXolFFw+qQ7nnf2HV/wDnjLR9h1f/AJ4y16JRRcPqkO5539g1c8eTLWxofhqVLlbrUBgqcqnXn3rrKKLlQw0Iu4UUUUjqCiiigAooooAKKKKACiiigAooooAKKKKACiiigAooooAKKKKACiiigAooooAKKKKACiiigAooooAKKKKACiiigAooooAKKKKACiiigAooooAKKKKACiiigAooooAKKKKACiiigAooooAKKKKACiiigAooooAKKKKACiiigAooooA4j4x/8kl13/r3/rXFfsv/APJPbv8A6+j/AFrtfjH/AMkl13/r3/rXFfsv/wDJPbv/AK+j/WgD2yiiigAooooAKKKKACiiigAooooAKKKKACiiigAooooAKKKKACiiigAooooAKKKKACiiigAooooAKKKKACiiigAooooAKKKKACiiigAooooAKKKKACiiigAooooAKKKKACiiigAooooAKKKKACiiigAooooAKKKKACiiigAooooAKKKKACiiigAooooAKKKKACiiigAooooAKKKKACiiigAooooAKKKKACiiigAooooAKKKKACiiigAooooAKKKKACiiigAooooAKKKKACiiigAooooAKKKKACiiigAooooAKKKKAOL+L0Uk3wq1uOFGd2g4VRkmuM/ZntZ7XwBdpcxPExuicOMetezkBhgjI96RVVRhVA+goAWiiigAooooAKKKKACiiigAooooAKKKKACiiigAooooAKKKKACiiigAooooAKKKKACiiigAooooAKKKKACiiigAooooAKKKKACiiigAooooAKKKKACiiigAooooAKKKKACiiigAooooAKKKKACiiigAooooAKKKKACiiigAooooAKKKKACiiigAooooAKKKKACiiigAooooAKKKKACiiigAooooAKKKKACiiigAooooAKKKKACiiigAooooAKKKKACiiigAooooAKKKKACiiigAooooAKKKKACiiigAooooAKKKKACiiigAooooAKKKKACiiigAooooAKKKKACiiigAooooAKKKKACiiigAooooAKKKKACiiigAooooAKKKKACiiigAooooAKKKKACiiigAooooAKKKKACiiigAooooAKKKKACiiigAooooAKKKKACiiigAooooAKKKKACiiigAooooAKKKKACiiigAooooAKKKKACiiigAooooAKKKKACiiigAooooAKKKKACiiigAooooAKKKKACiiigAoooJx1oAKK5TxD4/0zRGaGM/abgfwIeB9TXB6h8TNbumP2Yx2ydgq5NZSqxierhspxWIXMlZeZ7PRXgq+OPEKybv7RkPsQMVt6Z8UtTt3A1CKO5TuQMNUKvFnVUyHFRV4tM9forD0DxbpviBMWsuybHMTnkVuVummro8SpSnSlyTVmFFFFMzCiiigAooooAKKKKACiiigAooooAKKKKACiiigAorn9d8Y6doeY5H86f/AJ5of51wuofEnVbliLRY7dO2Bk120cFWrK6Vl5nJVxdKk7N6nrVFeIf8Jlr2/d/aEn0wMVqaf8SNWtmAu1juE75GDXRLK6yV00zCOY0m9U0et0Vz+g+MtN1zEaN5M/8Azzc9fpXQV5tSnOnLlmrM74TjNXi7hRRRUFhRRRQAUUUUAFFFFABRRRQAUUUUAFFFFABRRTJZo4ULSuqKOpY4oAfRVH+29M/5/wC3/wC/go/tvS/+f+3/AO/goAvUVR/tvS/+f+3/AO/gp0er6dK4SO9gZj0AkFAFyigEEZHIooAKKKKACiiigAooooAKKKKACiiigAooooAKKKKACiq0+o2dq224uooz6M4FRf23pf8Az/2//fwUAXqKo/23pf8Az/2//fwUf23pf/P/AG//AH8FAF6iobe8trpc208co/2GBqagAooooAKKKKACiiigAooooAKKKKACiiigAoorjdV+J+g6R42tvC10Zv7QuGAX5flGRkc0AdlRRRQAUUUUAFFFFABRRRQAUUUUAFFFFABRRRQAUUUUAFFFFABRRRQAUUUUAFFFFABRRRQAUUUUAFFFFABXnPxA8bNas2laVJiXH76RT932Fdl4j1QaPoN1eE/MiYX6ngV8/XE73NxJNKxZ5GLEmuevU5VZH0WSYGNebrVFotvUYzFmLMck9SaSiiuE+2Cr1po2o32PslnNID3C4H5muq8JeH7GDSpNf10A28f+rjboff3ov/iVdZMWj2sVrCOFO3n/AArVQSV5M8ueMqzqOnhoXtu3ormBcaNrXhwRX08T2p3fI4YZz+Feq+CPFq+IbHybkhbyEfMP7w9a8l1TxHqmsxiPULkyoDkLtAAP4Ck8ParJo+uW93ExAVwHHqDVQmoS02McXgZ4vD/vrc62t+R9DUVHBMtxbxzJysihh9CKkrvPgmrOwUUUUCCiiigAooooAKKKKACiiigAooooAK43xx4uOkQ/YrB/9KkHzMP4B/jXU6hdrY6dPcv0iQtXg2oXsmo6hNdTMWaRyeew7CvUy7DKtPnlsjzsdiHSjyx3ZBJI80jSSsWdjkk96bRRX0x8+FWrXTb29IFrayy+6rx+ddD4Q8P294kup6pxZ2/Y8BiKt3/xAaEmDRLSKCFeAxXk/hXHPETc3CjG7W/ZHVCjFRU6rsn95z9xoGr6VbC+nt3gRCMPuGQfwr0LwP4u/taL7Dft/pSD5WP8Y/xrzzUfEuq6rCYby5LxMclNoA/lVLT7yTT7+G5hYq8bA8VFXDyxFJqrbm6WLp140al6d7dbn0HRVbTr1NQ02C6j6SoG+nFWa+VaadmfRppq6CiiikMKKKKACiiigAooooAKKKKACiiigClrGqQaLo91qN222G2jLsfpXxX4/wDirr3jfVZmku5bfT9xENqjEKF7Z9TX1B8cpHi+D+smNipMYBxXxLQA7zH/AL7fnR5j/wB9vzre8FeHLfxX4lh0i41FNPafiOR1yC3pW/8AEr4T6j8Ovs0s1wLy0uOBMi4Ct6GgDgvMf++350+G6nglEkMzo6nIZWwRXo3w7+DGo+O9Fn1V7xNOs0YhJJFzvx1P0rg9csLfTNaubKzuxeRQOUE6jAfHpQB7r8CvjFqMmtw+GfEt09zFcfLbTyNlkbHAJ9K+l6/P3wfI0XjbRmjYq326Hkf74r9AIzmJM/3RQA6iiigAooooAKKKKACiiigAooooAKKKKACvJfjn8UZ/A2kw6fo7Aaneg4f/AJ5J3P1r1qvkP9paR2+KhRmJVLaPaPTKigDy7Uta1HV7t7nUr2a5mc5LSOSap+Y/99vzptFADvMf++350eY/99vzr1XUfghNYfDb/hLDqyMn2ZZ/I8vnkdM15RQBt+HvF+ueFr9LrRtQmgZGyVDna3sR3r7O+F/jqPx94Oh1LAS6jPl3CDs47/qK+Fq+kv2U5XNvr0RY7FMbBfQnP+FAH0TRRRQAUUUUAFFFFABRRRQAUUUUAFFFFABXzZ+0HbtovxO8OeII/lDOm5h/ssP6CvpOvFP2m9I+1+ArXUEX57O5BJ9AeP5mgD2PT7kXmmW1ypyJYlcH6jNWK4/4U6sNa+GOjXW7cwg2N9VJFdhQAUUUUAFFFFABRRRQAUUUUAFFFFABRRRQAUUUUAFFFFABRRRQAUUUUAFFFFABRRRQAUUUUAFFFFAHBfFe6MWg28AOBLLz74Ga8jr1z4r2pl0G3nAyIpefbIxXkdcFf4z73I7fU1buwoAycDvRUtrGZruKNRku4UfnWJ7Tdlc77xw/9n+EdK0+L5VcbmA74A/xrzyu9+JrhW0y3z8yREkfl/hXBVpV+M8zKl/sql3bf4hRRRWR6h754Lujd+EbGRjkhNv5HH9K3awvBdqbTwjYxsMEpu/M5/rW7XqR+FH5fire3ny7Xf5hRRRVHOFFFFABRRRQAUUUUAFFFFABRRRQBy/xBuTb+E5QpwZXCf1/pXjlex/EG2Nx4TlKjJicP/T+teOV9LldvYO3c+fzG/tvkFFFAGSAOp4r1TzjvdVP9m/DO0hi+U3B+bHfmuCrvPGn7jwnpNueGxnH4CuDrhwOtNy7tnZi9JqPZIKKKK7jjPYfh3cmfwrGrHJicr+tdVXK/Du2MHhWNmGDK5b9a6qvjsVb287dz6rDX9jG/YKKKK5jcKKKKACiiigAooooAKKKKACiiigDzv47f8ke1j/cFfFFfa/x2/5I9rH+4K+KKAHwzSW86TQOUkRgysDyDX1h4F1fTvjR8MZNI18ZvLcKk5A5yOjj64NfKVpaT315Fa2sbSTTMERFGSSa+sfDllpXwN+GK3ur7Te3BUzY+87n+EfQZoAw/jN4ttvh/wCC7XwZ4b/dTzQBHZeNkfQn6nn86+ZCSSSeSetfVHxd8H2nxJ8CW3irw8Fku4YPNXZ1kTqV+o5r5YZSjFWBDKcEHtQBreEv+Rz0b/r+h/8AQxX6BRf6lP8AdFfn74S/5HPRv+v6H/0MV+gUX+pT/dFADqKKKACiiigAooooAKKKKACiiigAooooAK+QP2lP+SsSf9e0f/oIr6/r5A/aU/5KxJ/17R/+gigDyuwsLjU9QhsrKMy3E7hI0H8RPau0HwW8eZH/ABIpf++hXKaBq76D4gstVijEj2kyyhD0bB6V7SP2o9T4H9h2/wD32f8AGgD1HW/DmqXXwHGhwWrNqP2FYvJzzuA6V83t8F/HiqWOhSgAZPzCvqXU/G01h8Kv+EsW2Rpfsqz+STxkjpXi8n7UOpvGyHQ7cbgR98/40AeF3EElrcyW867JYmKOvoQcGvov9lL7mv8A/bP+tfPGoXh1DUrm8ZQrXErSFR2yc19D/spfc1//ALZ/1oA+jKKKKACiiigAooooAKKKKACiiigAooooAK5T4m6G3iL4c6vYRJvlaAug9Svzf0rq6pazqcGjaLd6jdECK2iaRs98DpQB8/8AwJ+J2jeGfDlx4e8T3X2Ka3nYxmQcY44/MGvWP+Fv+Bv+g9b/AK187+GfBF38a/Hmo6v5Uen6WJv3jRIFz7D3x/OvWh+zR4NCjL3RP/XQ/wCNAHXf8Lf8Df8AQet/1o/4W/4G/wCg9b/rXJf8M0eDP711/wB/D/jR/wAM0eDP711/38P+NAHVS/F/wR5L7Neg3bTjr1rxfw/+0jqOla5cW2uRLqGneewjmQ4dUzx9eK7yT9mrwasTlWuiQpI/eH/GvLfDn7O+va5q87Xn/Et01JmVGk++yg8YFAH0h4T+IPh7xnbrJot8ryYy0LcOv4V01cV4H+FXh3wLGH0238y7xhrmTlj/AIV2tABRRRQAUUUUAFFFFABRRRQAUUUUAFFFFABRRRQAUUUUAFFFFABRRRQAUUUUAZfiPSxrGg3NmRlnTK/Ucivn64ge2uJIZQVeNipBr6Vrzn4geCmui2q6XHmXH72NR973Fc9enzK6Poskx0aE3RqPR7ep5/Y+HdV1FVa0spXRujY4rsfD/goaLOuq+Ip44kg+dY89x61gW3jjWdO02PT7crEsK7QSvzVj6hrF/qj7r+6km9AzcCudOEdd2fQ1KeNrtwbUYvtq7F3xVrX9ua9LcpxEvyRj2FYtFFZNtu7PRpU40oKEdkFafh7SpdY1y3tYlJDOC59AOtUba1mvLhYLaNpJHOAqivafBHhJfD1j51yA15MPnP8AdHpWlODmzgzLHRwlF6+89kdPBCtvbxwoMLGoUfgKkoor0T87bu7sKKKKBBRRRQAUUUUAFFFFABRRRQAUUUUAVtQtFvtOntnGRIhWvBtQspNO1Ca1mUho2I57ivoKuN8ceEjq0JvrFR9qjHzKP4x/jXqZdiVRnyS2Z52Ow7qx5o7o8zstG1DUFDWdrJKpP3gOK6jRvA00EyXmuSJBBEd5TPJx61lWPivVtEsf7PgCxbGOd68is7UNb1HVP+P26kkX+6Tx+VezOOJqNpNKPfqeVB0IJNpt/gaXjHXE1jVQtqf9Gt12J7+9c9RRXTTpxpwUI7I56k3Uk5PqFWNPs5NQv4baFdzyMBUMcbyyBIlLsxwABkmvVfA/hH+yohf36j7U4+VT/AKxxWIjQp3e/Q2w9CVadlsdXptkmn6bBax9IkC/pVmiivkG23dn06SSsgooopDCiiigAooooAKKKKACiiigAooooA89+Ois/wAH9ZCjPyA18TV+hXiDR4PEGgXml3YzFdRFDntXw942+H+teCNans9QtJWgVj5Vwqko69jmgCT4c+K9M8GeJBq+paY2oyRL+4QSBQjevQ1e+KHxOu/iLqkMnktaWUC4jt9+7nuSa4SigD1X4Y/Gq48B6RPpd/ZNqNozbol8zb5eeo6HiuE8Xatp+ueJbnUdJsWsILg7zAX3bW74OBWLSqjOwVFLMegAzmgDX8IKX8aaMFGT9uh4H++K/QGL/Up/uivlf4DfCnUNQ8RQeI9atXtrG0O+FZVwZX7ceg6/hX1VQAUUUUAFFFFABRRRQAUUUUAFFFFABRRRQAV8hftKow+KzsRgNbR4Pr8or69rxf8AaA+GV34t02HWtEi82+slIeIdZE9vcUAfJlA61Nc2lxZTNDdwSQSKcFZFKkfnUNAH0DrPxZ8L3nwSHhuGeY6h9iWHaY+NwHrmvn6iigAr6R/ZTRhDrz4+UmMA/nXz7pOialrl7Ha6VZzXMsjBQI0J/M9q+0PhF4C/4QLwXHaXGDe3DedcEdmIHH4YoA7yiiigAooooAKKKKACiiigAooooAKKKKACvI/2jPER0f4cNYxPtm1CVYgAedoOT/KvXK+afjrcv4o+L2g+GIDvSJ4w6j1Ygn9CaAPVPgj4dHh74X6erJtmugZ5OOpPT9AK9CqvYWq2OnW9rGMLDEqAD2GKsUAFFFFABR0oooAKKKKACiiigAooooAKKKKACiiigAooooAKKKKACiiigAooooAKKKKACiiigAooooAKOvWiigDlPEXgDTdbYzRD7Lcn+OMcH6iuDvvhjrdqx+zBLlOxU4P5V7PRWUqUZanq4bNsVh1yp3XmeDr4F8QtJt/s2Ue5GBWzp3ws1S4YG/lS2TuAcmvX6KhYeKOqpn2KkrRSRh6B4S0zw/GPs0W+bvM/LGtyiit0klZHiVKs6suebuwooopmYUUUUAFFFFABRRRQAUUUUAFFFFABRRRQAUUUUAc/r3g7TtcUu6eTcdpU4z9a4W/+G2rW7E2jJcp2wcGvWqK7aONrUVZO68zkq4SlVd2tTxH/AIQvXt+3+z5frjitSw+G2rXDA3bJbp3ycmvWqK6JZpWaskkYRy6knrdnPaB4N07QwHVPPuP+eknOPpXQ0UV5tSpOpLmm7s74QjBcsVYKKKKgsKKKKACiiigAooooAKKKKACiiigAooooAKr3mn2eowmK/tYbmM/wyoGH61YooA58+A/Cp/5l/T/+/Ao/4QPwr/0L+n/9+BXQUUAc/wD8IH4V/wChf0//AL8CpIfBXhm3lEkOhWCOvQiBeK3KKAGpGkaBI1VFHQKMAU6iigAooooAKKKKACiiigAooooAKKKKACiiigAooooAyb7wroOpS+bf6PZzyf3nhUk1V/4QPwr/ANC/p/8A34FdBRQBz/8AwgfhX/oX9P8A+/Ao/wCED8K/9C/p/wD34FdBRQBn6doGk6T/AMgzTbW1PrFEFP51oUUUAFFFFABRRRQAUUUUAFFFFABRRRQAUUUUAFcZL8LtBl8fx+LiJv7QQkkFsqxwR0/GuzooAKKKKACiiigAooooAKKKKACiiigAooooAKKKKACiiigAooooAKKKKACiiigAooooAKKKKACiiigAooooAKKQEHoRWHo3iyz1vXNR0u2guI5tPYLI0iYVs/3T3oA3aKTcPUUuR60AFFJuGM5FLQAUUhcBS3UAZ4rF8NeKbTxRDcyWUNxELaXym89NuT7e3FAG3RXO+KfG2l+EZdOj1TzCdRuBbw+WufmPr+ddCrBlDDoRmgBaKKKACiiigAooooAKKKKACiiigAooooAKKKKACisfRPFWkeIbq9t9KuhNLYyeXOo/hb0/StfcM4yM0ALRRketZHibxJZeFPD9xrGpbzbW4Bfyxk8nH9aANeiqml6lBq+lWt/a58q5iWVA3BwRkVboAKKKKACiiigAooooAKKKKACiiigAooooAKKKKACiijIzjPNABRRRQAUUUUAFFGRnGeaKACiiigAooooAKKKKACiiigAooooAKKKKACiijpQAUUA56UUAFFFFABRR060Zz0oAKKKKACiiigAooooAKKKKACiiigAooooAKKKKACiiigAooooAKKKKACiiigAooooAKKKKACiiigAooooAKKKKACiiigAooooAKKKKACiiigAooooAKw/GcmpxeDtSfQWVNQEJ8gswADfU1uVQ1vSINe0W5027LrDcIUZo22sPcGgD538KeJNS03X9HTxBreuaXqEswS4W/wB0ltck9lIJHPatE+Ptd0m/+I9zFeSz/YNgtFdiViyvUCuytfgmjX+nNrXiK/1Oy0yUSWttNs+UjplguTj61dm+Gdno8firUbaGTVpNaj+exkYBTgY2ggZoA8y19PEmgfDTR/E0PjO+nuNSmh8+Jpjt+bnC81uXM/iDxJ8Yk8PW/iG80+yl0uKWTyXOc+WCSOeCT3rjH8GzaxYWOj6ToXiGK9W6RmjvyxgtEB52nAFe86b8PLax8cReKDdStdLZpamHjZ8qBc9M0AeNeH4/Fev6H4ohuPF+oxr4dkP2dkkIaQ8/eOckcVcb4i+JNV+Hng2xh1B7a81q5+zz3wPzBQxHB9TivU9E+GNlott4hhhvJ5BrjbpS2P3fXpx71Q/4UxozeArHw291c7tPlM1teqQJY3znI4x39KAOaiuNc+HnxU0jQX1671jT9XiO5LpyzRtnG4Z7Vylt8QvEVl8N9Ylj1CZ7u41pbKK4kYkwK27kenSvVfDPwog0fxANc1jWLzWtRjj8qGW6K4iX2AA5plp8GtFh8KapoVxcT3EOoXH2nzGIDRPzgrge9AHl/wAQfC+o+H7jwTJeeIbrVUudQidkuXLFXJBJUk9K+kof+PeP/dH8q8oX4Fx3E+mzat4m1O+bTZkktxKyYVVIIXG32616yi7EVf7oxQAtFFFABRRRQAUUUUAFFFFABRRRQAUUUUAFQXtsbyxmt1leEyoUEkZwyZHUe9T0UAfOfwo0t9O1vxnqJ1y4txp8pUtK5KNnPzOO5GK5/WfFOr6ZpFrrmleIddv7k3i77t96WrqW6BWIz+VewL8FtPj8QatfRarepaasrC5sgy7GJ79M8Vlt8A47jQItGvfE+pS2Fs4e2gAQLHg5/u80AYk174i8VfGb+wYfEF3p1nNpaTyCByMErk49K5y91fV2+G/xA8P6vqM2orpNwkcM07FmI3+p+le1aX8N7PTPHa+J0vJ3uFs1tPKbG3AGM9OtZlz8HNOubfxNE2oXIHiCVZZiNv7sg5+Xj+dAHmeojxH4K8N+C/ENv4kvJRdvBFJZliIghC4AHTpX0fA5kt43PVkBP4iuL8QfDGx8QeGdF0ae9nji0ho2jdMZfYBjPHtXbRRiKFIxyEULn6UAOooooAKKKKACiiigAooooAKKKKACiiigDzvX/jBp+ieLbrw4mlX99qEEYkWO2QNv+nP86ueHfivoOu6DqOpTebp50zP2yC5Xa8WPavNbzXZPD37S2sXyaVPqUa2AEiW6bnQZHzAfp+NU7fwN4g8a2PjjWI9Om0sawFFnbTKVaTZg8j3xQB3ll8dNKnu7Y3uj6lY6ddyeXBqE0QETnt3zT5vE9lZfF7VVa+1CVrXTftLWoYGDaEDZUZ649q4XWLvWvF/gHSPBFp4Vv7XULeWMTzSwlY4gueQce9ad14Z1a3+KuuOtlcS2/wDwj32dLgRkrI4hC4B7nNAGy37Qej/2bDqMeiao9iz7JbkRDZEc4wTn+VZPj74ratp/xA8OW+hwXjadcAu6oo/0tSONvPaqNv4a1Vf2X7nTDpdwL9pGb7P5R8wnJ5x1qPxTpGtacvw51mPR7y7j0uHFzFDGS6EqBgjtQB6RpvxX0y9u9atbqzubG40e2+0zxzgAldu7jB9KqwfGnQrjwE3ihIJ/IW6+yiDA3l+3evP/AIteGtevfF1lq3hnTrkxeILNba9CxkmPdx83pgGs2T4da3B8ULTw1BYT/wDCNvcxXskojPlqwGCM9KAPRdL8YWC/EvV5rq81KPyNMW6ltJj+5iXap4AP3vwqTSvjbZ6ldWr/ANg6lHpt3L5UN9sDITnGSFJIH1FYraFqQ+NXiu8XRpLmzn0kRxB1IjmOF+QGuFTSdTt7vT08E6Zr2map9p/0iwnjL2sYzyQWHT8aAPZfE/xYsNC1qTSdP0y91i8gTfcJZoGEK+5JFdH4S8Wad4y0NNT0p22ElZI3GGjYdVI9a8K1/wAK3vh/4j61qGtWeuT2ep/vIZ9JJ5Y/wNwa9O+Dnh3+wvDFxJ/Z13p32ydphBdybnx0yeBjOKAPQ6KKKACiiigAooooAKKKKAM3xDrUPh3w/eatco0kVpHvZU6kZ7V5wnx90hre1vpNG1OPS5yFa+aL92hJxzz2rrPin/yS7Xf+vY/zFeIxazqmufAuw8Haf4WvZby6VVjnWImErvzv3YoA9j8VfFLSfDk1la20Fxqt9ep5kNrZruYp/ePoKoRfEvS/FHg7XtovdLvNPt3NzbsNs8Qx1HP9a4u48Paz8PvH+ieJZtMudXsY9MWzn+zoXeFwc5wKjttE1rxHf+N/Fn9kXNhb6hpzW9rbSRkSTHA52++KAOk0z4r6R4Y8H+Ghdf2lqA1RWEMsg3ysQxHzcnJq/pfxks9Xn1PTxo+oWep2duZktZkAeRemRz7157YeGNY8n4XrLpV1iylY3IaI/ufnz83pXW3uh6k/7R76hFYzfYn0sx/aAh2FsDjPrQBheAfjTqkeg67qHiTT9QvobO6ciVFXESZ+4eeorvdW+MOg6S+gCVZXGtruiK4/djjlufeuH+GWjXy23i7wdrui3cA1G4uJI7mSMiMqwIGDXGaH8PfEur6PrX9r6dcxzaJaiHTA8ZG8hicr69BQB7H4s+IunPL4h0CP7bFJp1n5093a4+QHHCnPXmqdr8UtN8OeDPDkcUeoaveanETbxsR50g3EZYk4/WuO8K+F9duPhR4w1jWdPuF1nWAwWBoyJNoPQDr2ovtAKeAfB8eveGtQkjt7dlkvLLcLi0beT0H4HpQB6honxO03UtF1K/1K0utJOmf8fMV3Hgj6EZB/CsnS/jXpl7q1pb32k6hp1pfPstb25jAjlJ6d8jPvXnOleE/FviPwb4r02A376ZIFbTzqEe2aUhs4zgE8ZqrpPhldXk0XSZdC8TSXlvInni6k2wW5XGWBK9OM0AfTgIIBHIPSimQp5UEcf91QOfpT6ACiiigAooooAKKKKACiiigArlIfH1g/j278KzwSwXVvB54kfGyRcZ459K6uvEfjpoOuW2taZ4n8JWU1zeCOS0mWBCx2uhGTj0zQB1cXxk0JvD+oavLDcR29pdG1jBUFriQdkA69al8MfFiw13Xho+oabeaNeyIZII71AvmqOuCCa888T/DHVI/g54ehsLaea7sZjd3lvDxI5YgnHuMUzwv4Yg8QeNbO5s9J8Qr9kifde6nJtETFcbQCoz1oA7TVPjjpVlqN5Dp+kajqdpYuUury2iBjjI69T2rm/iN8XNQtdV8NSeGIrv7DeN5juiDFwpx8gyeo/rVHwzqGufDbS9d8O3XhS81K8ubuSW0kSAvFOG6bjirnxH0vxDJofg3Vn0ItPYXBlurSwiOIs44A59KAO2174s2WiNY2i6VfXmq3kQl/s+BAZIgRn5ucD86Sx+MGi3vhXVdX+z3MM2kqWu7KVdsqcZ6dK5DUZ9T0D4qw+PG0G+vNM1OxVGjjiLS2zbRwRjjpWDJ4Z17XNN8f+J/7HubOPV7by7SzaMiSTCkZ20Aep+C/inY+ONUW20rTb5YDB5pupI8R5yPlz3PNd3XH/CrTH0n4Z6LbT2ptZ0tl82Nk2sGxzn3rsKACiiigAooooAKKKKACiiigAooooAKKKKACiiigAooooAKKKKACiiigAooooAKKKKAE2gHIAz9KWiigAooooAKKKKACiiigAooooAKKKKACiiigAooooAKKKKACiiigAooooAKKKKACiiigAooooAKKKKACiiigAooooAKKKKACiiorq4W0s5bhwSsSFyB6AUAS0V5D/wANDaK2ljUYtG1KSzWTy551iOyHnHJxir9r8cdHuNcsLOTTL+3tNRcJa30sRWOQn0yKAOttvBOlWvja58UxiT+0LmHyZMt8u3IPT8K6HhR2ArltI8e2GseKNZ0OCGVZ9JBMrt0b6V5j8SPicfEHw3ur3w5LdWEllqq2kjhipJDgHp2oA93CgHIAz64o4J7ZrwbUPihr9j8WtH0qK0vpLE2qCS2WLLTk4+cHGcVuaV4407Rdd8ZajNdaldLpzbpraZspH8wGEHbrQB69gYxjikIB4OK8rj+PGkFbS6uNI1K30y6YIt/JCREGPbOKyr/xBdt8eNRtRqNwNNGimYRxyHaDgfMB0zQB7TgH0NLgZzjmvJvCfxE0Tw78K49ZvL6/vYnuHji+0nfNK+8jaMVseG/i5p+t66NHv9MvtIvHjMsSXcZXzF9RxQB6DgZzik2qDkKM+uK8tvvjlYWi3N1FoWpTaVay+VLfiIhAc4zyPWsLx98V9TsvGHhddAt7xtPu3V3CRZ+1KcfKuR1+lAHt5CtwQD9aWvLNH8TWc3xcvhcXmpQSpponls52xDEuRk47GmyfHnR1Z7lNJ1KTSI5fKbU1hPlA5xnOOlAHqtFcB4h+L2i6Bqun2P2e4vX1GDzrc2yF947AAd6s+CPibYeM9UvdMFjdadqFkN0ltdLtbGcZ/WgDtqKKKACiiigAooooAoa5o9tr+iXWl3277PdJsk2nBxUfh/QbPw3odrpWnhvs9qu2PecnH1rTrO17W7Xw7olzqmoFhBboWbapJPsAKANEgHqM0YAGMcV5jZfGuyl1TTrfU9D1DTbfUn2WtzcJhZD+XFW9d+Lunab4kuND0/Tb7VJ7Vc3T2kZcQD3wO1AHoWB2xxRxnJxmvCfhf8SE0/wr4o1/xJf3E1rBqLCFZSWYAgYQA/yqh49+Kl5rUvhtNOtNU0RptQjJEytGJ4z79x04oA+hcDPGM0YA9BXik3jIaVrvjWTTZ9Wvr20txmA/NHCSowyjHQdTWRpvxFvda+DT3fiSXVbWSK6QG/tgEMmc4AOMduaAPoPAx04pCoIwQMemK8/1f4n6b4YttJ06G2vNW1K7tkkjtoFLyFdudzYpdN+L+i6h4d1bUTBcW9xpCF7uymUrKnGehoA9AAA6DH0pAoByAM/SvJ1+P2jmOwum0fUU0+8dYxetERGrHtnHNerQypPCksR3JIoZT6gjIoAfRRRQAUUUUAFFFFABRWL4r8Vab4O0KXVdYkKQoQqqoyzsegA7muV8PfF+w1nxBb6Tf6Tf6TPeLutWu4iqzD2OKAPRKK8z1T416ZaaneW+m6TqGqW9g226urWItHEe/OOauaz8YvD2kaFo+rjzbq01aTy4miXJU98jrQB6BQQD1Ga898OfF7Tdd8VnQLnTb3TLtozLELuMr5i+oyKo6l8cdKtL67Sx0nUNRsrGTy7m9t4i0cZBwecUAeoUgUDoAPoK4fWvinpenafpc+n2l1qk2qrutoLaMlmHTnjjmsg/F+HUtA11bPSr631fTIj5lmyZdO27p0BoA9PKgnJAJ+lKQD1Ga8a+GPxZll+HNxq/jL7QFtCzNePHhZfmICrgcntW/onxi0/UtctdO1DSr/SvtwP2Sa7jKrN9DigD0UqCMEDH0pcDGMcV5defHLTYb7VbOz0XUb6fS5mjnWCIsAFJBbOOBxWq3xb0P/hBbfxNDFcTRXL+XHbxxkyF/wC7jFAHedOlFecaZ8X7a91ibR73RL/TtTFuZ4beZPmlA9PeuG8F/E3WNdsvF8GurqAghM5juI4wptECk7cgcN9aAPoCivLdF+I+jeGfhdpOo3FzfagbslLZJfnnnb8K1fDnxW0/W9Wm0q+0+80nUo4jMttdoVaRQM8ZHPFAHe0V5LJ8f9J+wXF3a6LqVzDaStHcyRxErFjuWxivStB1u08RaFa6tpzbra6jEiE9cGgDQooooAKKKKACiiigAooooAKKKKACiiigAooooAKKKKACiiigAooooAKKKKACiiigAooooAKKKKACiiigAooooAKKKKACiiigAooooAKKKKACiiigAooooAKKKKACiiigAooooAKKKKACiiigAooooAKp6ujSaLeIgLM0LgAdzirlFAHzlo/hjVY/2aNZ06TTJlvpbgssJT52/e5z+Va3i/w9qU3g34fQ22nytLaTqZ1VOYxx1r3eigDwVZ9X8EfFzxLcSaFeX0GsRH7NJbrkbj0zXGjwt4hk+EmsQS6Rcpdza8JhDt527lJP0r6sooA8J8WWmq6J8WvC/iJdIubyyisUgkMC5Ktx1rB1nS7+0tvide3dnLBBdANC7rgOPMXpX0pWZ4j0C08T6Bc6RqO77NcrtfacHGc/0oA+fLvVNU8U/B3R/B2neGbv7bKExcFB5QXcfmBrc/4RbVrL4s3bG0mlgTw8bcThflZ9oGM+te2aLpNvoWi2umWW7yLVNke45OKvUAfMlp4K8Qj4TeH7uLTJpLjR9Ue6lsmGGkTzCeB9K9CsPFmu+K/EkZ0jwsbS0trU+ZdXsWHEmOFWvWaKAPlLUbLXtc8Earaaxp+t3GvmUnyI0C2yAP1x34rqvE2laxYaP8OdXi0m5ul0khrmGNfnXBHGK+g6KAPCF0LVPEPxc168jsbi1t9R0MxxSyLgByVO361iwXWt2Pwln+Hb+Fbx9WJeBZQg8pgzE78/jX0jRQB4Ha+DNV0r4meAop7WSeLT7LZPOFyqNn1rpPDmj31v+0X4h1B7OSOymskVJtuFY/LXrFFABRRRQAUUUUAFFFFABXHfFR9cj+HmoN4Xi82/wNqhdx255IHriuxooA+WNS0i+1a68L3Vlp+u3M1vcA3k14o2oeOFA7da7LTpNU+HHxI8TG70G71K21qQy2s9um7knIU+gr3WigD5asvA/iPVfhr4iC6VNBdjV/tiWrjBkXg4FbHjTVtW8cr4WjsfC19bLYXkZuJJI8bCOw9utfRtFAHh2g+HdVbx98QmaylWO+svLt3ZcCRtmMCuVjtdZufgVP4YbQr2O+sr9HO5OJASeR+VfTdFAHhV5Y6r4M+ImleLJdIudR0+XTI7aVYF3PAwQDp9RWSfDuueIE8e+Kv7JnsodUs/KtLV1w8mFIzivouigDwHXPDepSfs4eH9Ph02U3sUkDPCE+ZSOpNe46KjR6Bp6SAq620YYHsQoq7RQAUUUUAFFFFABRRRQB5r8bfDGp+IfCtnNo8JuZtOvEumtx/y1VTyKoaV4s1fxZ4k0qz0/wALPaWtvEBd3V7FgxHphK9ZooA+fNAuNW+HOl+IvDN/4cvL+e9lkNrcQJuSUNkcnt1rNm8Aa7pXhTwNZ3NlJNMmrfaLiNBkQqz5wfwr6VooA8b8VeH9Qu/jvol1bWkn2UWDRvOq/KpPqa5/wvqGt/DfQtX8MXPhe61G+luXa1lWPdFOGY4LH8a+hKKAPB/F0vimHUfDS6rZXNnpTW+btdIjG9JCx+UE9OMVS+H3h3UU8aeMJE0y/t7a+0+QWzXvLyEkYyfU19C0UAfMWn+Gtf1v4J3nhFdIu7fUNNuDcYkGFnHmbsKfXFXtC8Pwa74g0WCPQ/EDzWbBppb6cLHbkeny8/pX0fRQB4v8PdBv7XWPiLJeWEkYu57jyGdf9YDuxiuOtLHxZovwpsYLSxuoIjqsrXnlRgypF8uCoP419M0UAfOXhzRbqT446Rqtlp2r/wBnmBla61AAszbe+Ogp2gWWsaOfiBoN1ot35mqG5mt51T5GBQ4H419F0UAfN0fhPXrDwR4H1yPS5rltEldrmxx8+045x+Fb6w6n8QviraeI7TR7rTdO0yylRnuE2tKzIRgD6mvcqKAPBPB3hzUbf4I+MbO506VLu5ubkxxsnzOCoxivRfhBZXWnfCzRrW+heCeOEB43GCvFdtRQAUUUUAFFFFABRRRQAUUUUAFFFFABRRRQAUUUUAFFFFABRRRQAUUUUAFFFFABRRRQAUUUUAFFFFABRRRQAUUUUAFFFFABRRRQAUUUUAFFFFABRRRQAUUUUAFFFFABRRRQAUUUUAFFFFABRRRQAUUUUAFFFFABRRRQAUUUUAFFFFABRRRQAUUUUAFFFFABRRRQAUUUUAFFFFABRRRQAUUUUAFFFFABRRRQAUUUUAFFFFABRRRQAUUUUAFFFFABRRRQAUUUUAFFFFABRRRQAUUUUAFFFFABRRRQAUUUUAFFFFABRRRQAUUUUAFFFFABRRRQAUUUUAFFFFABRRRQAUUUUAFFFFABRRRQAUUUUAFFFFABRRRQAUUUUAFFFFABRRRQAUUUUAFFFFABRRRQAUUUUAFFFFABRRRQAUUUUAFFFFABRRRQAUUUUAFFFFABRRRQAUUUUAFFFFABRRRQAUUUUAFFFFABRRRQAUUUUAFFFFABRRRQAUUUUAFFFFABRRRQAUUUUAFFFFABRRRQAUUUUAFFFFABRRRQAUUUUAFFFFABRRRQAUUUUAFFFFABRRRQAUUUUAFFFFABRRRQAUUUUAFFFFABRRRQAUUUUAFFFFABRRRQAUUUUAFFFFABRRRQAUUUUAFFFFABRRRQAUUUUAFFFFABRRRQAUUUUAFFFFABRRRQAUUUUAFFFFABRRRQAUUUUAFFFFABRRRQAUUUUAFFFFABRRRQAUUUUAFFFFABRRRQAUUUUAFFFFABRRRQAUUUUAFFFFABRRRQAUUUUAFFFFABRRRQAUUUUAFFFFABRRRQAUUUUAFFFFABRRRQAUUUUAFFFFABRRRQAUUUUAFFFFABRRRQAUUUUAFFFFABRRRQAUUUUAFFFFABRRRQAUUUUAFFFFABRRRQAUUUUAFFFFABRRRQAUUUUAFFFFABRRRQAUUUUAFFFFABRRRQAUUUUAFFFFABRRRQAUUUUAFFFFABRRRQAUUUUAFFFFABRRRQAUUUUAFFFFABRRRQAUUUUAFFFFABRRRQAUUUUAFFFFABRRRQAUUUUAFFFFABRRRQAUUUUAFFFFABRRRQAUUUUAFFFFABRRRQAUUUUAFFFFABRRRQAUUUUAFFFFABRRRQAUUUUAFFFFABRRRQAUUUUAFFFFABRRRQAUUUUAFFFFABRRRQAUUUUAFFFFABRRRQAUUUUAFFFFABRRRQAUUUUAFFFFABRRRQAUUUUAFFFFABRRRQAUUUUAFFFFABRRRQAUUUUAFFFFABRRRQAUUUUAFFFFABRRRQAUUUUAFFFFABRRRQAUUUUAFFFFABRRRQAUUUUAFFFFABRRRQAUUUUAFFFFABRRRQAUUUUAFFFFABRRRQAUUUUAFFFFABRRRQAUUUUAFFFFABRRRQAUUUUAFFFFABRRRQAUUUUAFFFFABRRRQAUUUUAFFFFABRRRQAUUUUAFFFFABRRRQAUUUUAFFFFABRRRQAUUUUAFFFFABRRRQAUUUUAFFFFABRRRQAUUUUAFFFFABRRRQAUUUUAFFFFABRRRQAUUUUAFFFFABRRRQAUUUUAf/2Q==)\n"
      ]
    },
    {
      "cell_type": "code",
      "metadata": {
        "colab": {
          "base_uri": "https://localhost:8080/"
        },
        "id": "3y-S9NYP174j",
        "outputId": "5e16319c-18b6-4ba0-b164-2afd570e8ed8"
      },
      "source": [
        "input_to_lstm_layer = nn.Linear(256 * 2, 256).to(device)\n",
        "\n",
        "embedded.shape, attn_applied.shape"
      ],
      "execution_count": null,
      "outputs": [
        {
          "output_type": "execute_result",
          "data": {
            "text/plain": [
              "(torch.Size([1, 1, 256]), torch.Size([1, 1, 256]))"
            ]
          },
          "metadata": {
            "tags": []
          },
          "execution_count": 59
        }
      ]
    },
    {
      "cell_type": "code",
      "metadata": {
        "colab": {
          "base_uri": "https://localhost:8080/"
        },
        "id": "x6CQLKW63oSV",
        "outputId": "6916494f-4f8a-4370-c393-945082ce7829"
      },
      "source": [
        "torch.cat((embedded, attn_applied), 1).shape, torch.cat((embedded[0], attn_applied[0]), 1).shape"
      ],
      "execution_count": null,
      "outputs": [
        {
          "output_type": "execute_result",
          "data": {
            "text/plain": [
              "(torch.Size([1, 2, 256]), torch.Size([1, 512]))"
            ]
          },
          "metadata": {
            "tags": []
          },
          "execution_count": 60
        }
      ]
    },
    {
      "cell_type": "code",
      "metadata": {
        "colab": {
          "base_uri": "https://localhost:8080/"
        },
        "id": "bXreN2rn3ybB",
        "outputId": "8932a9d3-c764-401d-dadb-93730af13f76"
      },
      "source": [
        "input_to_lstm = input_to_lstm_layer(torch.cat((embedded[0], attn_applied[0]), 1))\n",
        "input_to_lstm.shape"
      ],
      "execution_count": null,
      "outputs": [
        {
          "output_type": "execute_result",
          "data": {
            "text/plain": [
              "torch.Size([1, 256])"
            ]
          },
          "metadata": {
            "tags": []
          },
          "execution_count": 61
        }
      ]
    },
    {
      "cell_type": "code",
      "metadata": {
        "id": "1KAZQ_1l377H"
      },
      "source": [
        "lstm = nn.LSTM(256, 256).to(device)"
      ],
      "execution_count": null,
      "outputs": []
    },
    {
      "cell_type": "code",
      "metadata": {
        "colab": {
          "base_uri": "https://localhost:8080/"
        },
        "id": "hAse8eCp4BB1",
        "outputId": "a4ea35de-8762-40b6-87ac-407cb7f55c14"
      },
      "source": [
        "decoder_hidden.shape, input_to_lstm.shape"
      ],
      "execution_count": null,
      "outputs": [
        {
          "output_type": "execute_result",
          "data": {
            "text/plain": [
              "(torch.Size([1, 1, 256]), torch.Size([1, 256]))"
            ]
          },
          "metadata": {
            "tags": []
          },
          "execution_count": 63
        }
      ]
    },
    {
      "cell_type": "code",
      "metadata": {
        "colab": {
          "base_uri": "https://localhost:8080/"
        },
        "id": "uAFbYECJ4GmU",
        "outputId": "6c51dca8-8cfa-4f8a-e551-244c62fd5bc4"
      },
      "source": [
        "input_to_lstm = input_to_lstm.unsqueeze(0)\n",
        "decoder_hidden.shape, input_to_lstm.shape"
      ],
      "execution_count": null,
      "outputs": [
        {
          "output_type": "execute_result",
          "data": {
            "text/plain": [
              "(torch.Size([1, 1, 256]), torch.Size([1, 1, 256]))"
            ]
          },
          "metadata": {
            "tags": []
          },
          "execution_count": 64
        }
      ]
    },
    {
      "cell_type": "code",
      "metadata": {
        "colab": {
          "base_uri": "https://localhost:8080/"
        },
        "id": "2Qr3IdWh4WwS",
        "outputId": "4bcec175-91f7-485f-f617-6ebc40a8ae25"
      },
      "source": [
        "output, (decoder_hidden,decoder_cell_state) = lstm(input_to_lstm, (decoder_hidden,decoder_hidden))\n",
        "output.shape, decoder_hidden.shape,decoder_cell_state.shape"
      ],
      "execution_count": null,
      "outputs": [
        {
          "output_type": "execute_result",
          "data": {
            "text/plain": [
              "(torch.Size([1, 1, 256]), torch.Size([1, 1, 256]), torch.Size([1, 1, 256]))"
            ]
          },
          "metadata": {
            "tags": []
          },
          "execution_count": 65
        }
      ]
    },
    {
      "cell_type": "code",
      "metadata": {
        "id": "L6VUL9YS4j9q"
      },
      "source": [
        "output_word_layer = nn.Linear(256, output_lang.n_words).to(device)"
      ],
      "execution_count": null,
      "outputs": []
    },
    {
      "cell_type": "code",
      "metadata": {
        "colab": {
          "base_uri": "https://localhost:8080/"
        },
        "id": "ZxAFQZbj5ar6",
        "outputId": "f2a5cb58-89c8-42aa-d5bc-babdbf18fad9"
      },
      "source": [
        "output = F.relu(output)\n",
        "output = F.softmax(output_word_layer(output[0]), dim = 1)\n",
        "output, output.shape"
      ],
      "execution_count": null,
      "outputs": [
        {
          "output_type": "execute_result",
          "data": {
            "text/plain": [
              "(tensor([[0.0003, 0.0004, 0.0004,  ..., 0.0004, 0.0004, 0.0004]],\n",
              "        grad_fn=<SoftmaxBackward>), torch.Size([1, 2803]))"
            ]
          },
          "metadata": {
            "tags": []
          },
          "execution_count": 67
        }
      ]
    },
    {
      "cell_type": "code",
      "metadata": {
        "colab": {
          "base_uri": "https://localhost:8080/"
        },
        "id": "jpL4JuED5unT",
        "outputId": "c3c2acd1-3e54-47a6-c6c8-1c83328f3be5"
      },
      "source": [
        "output.data.topk(1)"
      ],
      "execution_count": null,
      "outputs": [
        {
          "output_type": "execute_result",
          "data": {
            "text/plain": [
              "torch.return_types.topk(values=tensor([[0.0004]]), indices=tensor([[1298]]))"
            ]
          },
          "metadata": {
            "tags": []
          },
          "execution_count": 68
        }
      ]
    },
    {
      "cell_type": "code",
      "metadata": {
        "colab": {
          "base_uri": "https://localhost:8080/",
          "height": 35
        },
        "id": "vQzy2wDg51_m",
        "outputId": "000ea246-7386-43b3-a6bc-c78a2c56f4d7"
      },
      "source": [
        "top_value, top_index = output.data.topk(1)\n",
        "output_lang.index2word[top_index.item()]"
      ],
      "execution_count": null,
      "outputs": [
        {
          "output_type": "execute_result",
          "data": {
            "application/vnd.google.colaboratory.intrinsic+json": {
              "type": "string"
            },
            "text/plain": [
              "'precious'"
            ]
          },
          "metadata": {
            "tags": []
          },
          "execution_count": 69
        }
      ]
    },
    {
      "cell_type": "markdown",
      "metadata": {
        "id": "-cMTzZF66rD2"
      },
      "source": [
        "\n",
        "Let's combine all of these steps, we we have just processed 1 input till now. "
      ]
    },
    {
      "cell_type": "code",
      "metadata": {
        "colab": {
          "base_uri": "https://localhost:8080/"
        },
        "id": "gjv0C7dx6AJc",
        "outputId": "78226128-0f38-4d15-f0b2-aea1982eb5f7"
      },
      "source": [
        "top_index.item()"
      ],
      "execution_count": null,
      "outputs": [
        {
          "output_type": "execute_result",
          "data": {
            "text/plain": [
              "1298"
            ]
          },
          "metadata": {
            "tags": []
          },
          "execution_count": 70
        }
      ]
    },
    {
      "cell_type": "code",
      "metadata": {
        "colab": {
          "base_uri": "https://localhost:8080/",
          "height": 35
        },
        "id": "urtp7C7n6Ear",
        "outputId": "262e961a-2fbb-4e91-dd17-be06a8f54700"
      },
      "source": [
        "decoder_input = torch.tensor([[SOS_token]], device=device)\n",
        "decoder_hidden = encoder_hidden\n",
        "output_size = output_lang.n_words\n",
        "embedding = nn.Embedding(output_size, 256).to(device)\n",
        "embedded = embedding(decoder_input)\n",
        "attn_weight_layer = nn.Linear(256 * 2, 10).to(device)\n",
        "attn_weights = attn_weight_layer(torch.cat((embedded[0], decoder_hidden[0]), 1))\n",
        "attn_weights = F.softmax(attn_weights, dim = 1)\n",
        "attn_applied = torch.bmm(attn_weights.unsqueeze(0), encoder_outputs.unsqueeze(0))\n",
        "input_to_lstm_layer = nn.Linear(256 * 2, 256).to(device)\n",
        "input_to_lstm = input_to_lstm_layer(torch.cat((embedded[0], attn_applied[0]), 1))\n",
        "lstm = nn.LSTM(256, 256).to(device)\n",
        "input_to_lstm = input_to_lstm.unsqueeze(0)\n",
        "output, (decoder_hidden,decoder_cell_state) = lstm(input_to_lstm, (decoder_hidden,decoder_hidden))\n",
        "output_word_layer = nn.Linear(256, output_lang.n_words).to(device)\n",
        "#output = F.relu(output)\n",
        "output = F.relu(decoder_hidden)\n",
        "output = F.softmax(output_word_layer(output[0]), dim = 1)\n",
        "top_value, top_index = output.data.topk(1)\n",
        "output_lang.index2word[top_index.item()]"
      ],
      "execution_count": null,
      "outputs": [
        {
          "output_type": "execute_result",
          "data": {
            "application/vnd.google.colaboratory.intrinsic+json": {
              "type": "string"
            },
            "text/plain": [
              "'allow'"
            ]
          },
          "metadata": {
            "tags": []
          },
          "execution_count": 71
        }
      ]
    },
    {
      "cell_type": "code",
      "metadata": {
        "colab": {
          "base_uri": "https://localhost:8080/"
        },
        "id": "hf6kLcLS5te-",
        "outputId": "a91ffbd7-c140-48ae-f5a3-1a3a2e7aa4f5"
      },
      "source": [
        "output_size"
      ],
      "execution_count": null,
      "outputs": [
        {
          "output_type": "execute_result",
          "data": {
            "text/plain": [
              "2803"
            ]
          },
          "metadata": {
            "tags": []
          },
          "execution_count": 72
        }
      ]
    },
    {
      "cell_type": "code",
      "metadata": {
        "colab": {
          "base_uri": "https://localhost:8080/"
        },
        "id": "hzSCWL0U7uT9",
        "outputId": "9737b2ea-7440-4dd4-a696-5dc071e881af"
      },
      "source": [
        "embedding = nn.Embedding(output_size, 256).to(device)\n",
        "attn_weight_layer = nn.Linear(256 * 2, 10).to(device)\n",
        "input_to_lstm_layer = nn.Linear(256 * 2, 256).to(device)\n",
        "lstm = nn.LSTM(256, 256).to(device)\n",
        "output_word_layer = nn.Linear(256, output_lang.n_words).to(device)\n",
        "\n",
        "\n",
        "decoder_input = torch.tensor([[SOS_token]], device=device)\n",
        "decoder_hidden = encoder_hidden\n",
        "output_size = output_lang.n_words\n",
        "embedded = embedding(decoder_input)\n",
        "attn_weights = attn_weight_layer(torch.cat((embedded[0], decoder_hidden[0]), 1))\n",
        "attn_weights = F.softmax(attn_weights, dim = 1)\n",
        "attn_applied = torch.bmm(attn_weights.unsqueeze(0), encoder_outputs.unsqueeze(0))\n",
        "input_to_lstm = input_to_lstm_layer(torch.cat((embedded[0], attn_applied[0]), 1))\n",
        "input_to_lstm = input_to_lstm.unsqueeze(0)\n",
        "output, (decoder_hidden,decoder_cell) = lstm(input_to_lstm, (decoder_hidden,decoder_hidden))\n",
        "#output = F.relu(output)\n",
        "output = F.relu(decoder_hidden)\n",
        "output = F.softmax(output_word_layer(output[0]), dim = 1)\n",
        "top_value, top_index = output.data.topk(1)\n",
        "output_lang.index2word[top_index.item()], attn_weights"
      ],
      "execution_count": null,
      "outputs": [
        {
          "output_type": "execute_result",
          "data": {
            "text/plain": [
              "('kindness',\n",
              " tensor([[0.0573, 0.1400, 0.0587, 0.0499, 0.1278, 0.1714, 0.1208, 0.0946, 0.1059,\n",
              "          0.0736]], grad_fn=<SoftmaxBackward>))"
            ]
          },
          "metadata": {
            "tags": []
          },
          "execution_count": 73
        }
      ]
    },
    {
      "cell_type": "code",
      "metadata": {
        "colab": {
          "base_uri": "https://localhost:8080/"
        },
        "id": "Ke0qlI3x6itw",
        "outputId": "216bb4b0-c083-4a53-a0bc-0a506f17034f"
      },
      "source": [
        "top_index"
      ],
      "execution_count": null,
      "outputs": [
        {
          "output_type": "execute_result",
          "data": {
            "text/plain": [
              "tensor([[2725]])"
            ]
          },
          "metadata": {
            "tags": []
          },
          "execution_count": 74
        }
      ]
    },
    {
      "cell_type": "code",
      "metadata": {
        "colab": {
          "base_uri": "https://localhost:8080/"
        },
        "id": "X-ZokbGGAKvP",
        "outputId": "532a6a1a-35b1-4d02-a365-31d27c024635"
      },
      "source": [
        "device"
      ],
      "execution_count": null,
      "outputs": [
        {
          "output_type": "execute_result",
          "data": {
            "text/plain": [
              "device(type='cpu')"
            ]
          },
          "metadata": {
            "tags": []
          },
          "execution_count": 75
        }
      ]
    },
    {
      "cell_type": "code",
      "metadata": {
        "colab": {
          "base_uri": "https://localhost:8080/"
        },
        "id": "7y3cnS0TAEAC",
        "outputId": "3793135e-4891-49a8-df9f-04a66c7b656b"
      },
      "source": [
        "embedded[0].shape,decoder_hidden[0].shape"
      ],
      "execution_count": null,
      "outputs": [
        {
          "output_type": "execute_result",
          "data": {
            "text/plain": [
              "(torch.Size([1, 256]), torch.Size([1, 256]))"
            ]
          },
          "metadata": {
            "tags": []
          },
          "execution_count": 76
        }
      ]
    },
    {
      "cell_type": "code",
      "metadata": {
        "colab": {
          "base_uri": "https://localhost:8080/"
        },
        "id": "9w9yNtqvATnb",
        "outputId": "2a154524-f4e3-4347-b7d4-c3dea8a8ab35"
      },
      "source": [
        "torch.cat((embedded[0], attn_applied[0]), 1).shape"
      ],
      "execution_count": null,
      "outputs": [
        {
          "output_type": "execute_result",
          "data": {
            "text/plain": [
              "torch.Size([1, 512])"
            ]
          },
          "metadata": {
            "tags": []
          },
          "execution_count": 77
        }
      ]
    },
    {
      "cell_type": "code",
      "metadata": {
        "id": "ANn0pQmaAdZX"
      },
      "source": [
        ""
      ],
      "execution_count": null,
      "outputs": []
    },
    {
      "cell_type": "code",
      "metadata": {
        "colab": {
          "base_uri": "https://localhost:8080/"
        },
        "id": "SLu65FW58bck",
        "outputId": "09d0d2bc-ec8e-470c-8d9e-ef6c4aec2462"
      },
      "source": [
        "decoder_input = torch.tensor([[top_index.item()]], device=device)\n",
        "decoder_hidden = encoder_hidden\n",
        "output_size = output_lang.n_words\n",
        "embedded = embedding(decoder_input)\n",
        "attn_weights = attn_weight_layer(torch.cat((embedded[0], decoder_hidden[0]), 1))\n",
        "attn_weights = F.softmax(attn_weights, dim = 1)\n",
        "attn_applied = torch.bmm(attn_weights.unsqueeze(0), encoder_outputs.unsqueeze(0))\n",
        "input_to_lstm = input_to_lstm_layer(torch.cat((embedded[0], attn_applied[0]), 1))\n",
        "input_to_lstm = input_to_lstm.unsqueeze(0)\n",
        "output, (decoder_hidden,decoder_cell) = lstm(input_to_lstm, (decoder_hidden,decoder_hidden))\n",
        "#output = F.relu(output)\n",
        "output = F.relu(decoder_hidden)\n",
        "output = F.softmax(output_word_layer(output[0]), dim = 1)\n",
        "top_value, top_index = output.data.topk(1)\n",
        "output_lang.index2word[top_index.item()], attn_weights"
      ],
      "execution_count": null,
      "outputs": [
        {
          "output_type": "execute_result",
          "data": {
            "text/plain": [
              "('she',\n",
              " tensor([[0.1399, 0.0630, 0.0721, 0.1543, 0.1113, 0.0905, 0.0926, 0.0917, 0.1154,\n",
              "          0.0692]], grad_fn=<SoftmaxBackward>))"
            ]
          },
          "metadata": {
            "tags": []
          },
          "execution_count": 79
        }
      ]
    },
    {
      "cell_type": "code",
      "metadata": {
        "colab": {
          "base_uri": "https://localhost:8080/"
        },
        "id": "AE3E4o0v6YD8",
        "outputId": "c85b8a83-471b-472e-ed7c-c7490b66def0"
      },
      "source": [
        "target_indices"
      ],
      "execution_count": null,
      "outputs": [
        {
          "output_type": "execute_result",
          "data": {
            "text/plain": [
              "[129, 78, 653, 42, 1276, 4, 1]"
            ]
          },
          "metadata": {
            "tags": []
          },
          "execution_count": 80
        }
      ]
    },
    {
      "cell_type": "code",
      "metadata": {
        "colab": {
          "base_uri": "https://localhost:8080/"
        },
        "id": "WOS8umw78oYP",
        "outputId": "662a9c5d-b09b-4441-d856-7751ea55c805"
      },
      "source": [
        "decoder_input = torch.tensor([[target_indices[6]]], device=device)\n",
        "decoder_hidden = encoder_hidden\n",
        "output_size = output_lang.n_words\n",
        "embedded = embedding(decoder_input)\n",
        "attn_weights = attn_weight_layer(torch.cat((embedded[0], decoder_hidden[0]), 1))\n",
        "attn_weights = F.softmax(attn_weights, dim = 1)\n",
        "attn_applied = torch.bmm(attn_weights.unsqueeze(0), encoder_outputs.unsqueeze(0))\n",
        "input_to_lstm = input_to_lstm_layer(torch.cat((embedded[0], attn_applied[0]), 1))\n",
        "input_to_lstm = input_to_lstm.unsqueeze(0)\n",
        "output, (decoder_hidden,decoder_cell) = lstm(input_to_lstm, (decoder_hidden,decoder_hidden))\n",
        "#output = F.relu(output)\n",
        "output = F.relu(decoder_hidden)\n",
        "output = F.softmax(output_word_layer(output[0]), dim = 1)\n",
        "top_value, top_index = output.data.topk(1)\n",
        "output_lang.index2word[top_index.item()], attn_weights"
      ],
      "execution_count": null,
      "outputs": [
        {
          "output_type": "execute_result",
          "data": {
            "text/plain": [
              "('thieves',\n",
              " tensor([[0.0765, 0.1132, 0.0584, 0.1341, 0.0877, 0.0776, 0.0785, 0.1467, 0.1364,\n",
              "          0.0910]], grad_fn=<SoftmaxBackward>))"
            ]
          },
          "metadata": {
            "tags": []
          },
          "execution_count": 82
        }
      ]
    },
    {
      "cell_type": "code",
      "metadata": {
        "colab": {
          "base_uri": "https://localhost:8080/"
        },
        "id": "N-4IE68n7RBl",
        "outputId": "ffacd238-ec72-4ddb-a225-55f7fa468706"
      },
      "source": [
        "for i in range(4):\n",
        "  print(i)"
      ],
      "execution_count": null,
      "outputs": [
        {
          "output_type": "stream",
          "text": [
            "0\n",
            "1\n",
            "2\n",
            "3\n"
          ],
          "name": "stdout"
        }
      ]
    },
    {
      "cell_type": "code",
      "metadata": {
        "colab": {
          "base_uri": "https://localhost:8080/"
        },
        "id": "YX5bXFee7iM7",
        "outputId": "c612f660-3b26-4874-abd1-106c357eb46d"
      },
      "source": [
        "target_indices"
      ],
      "execution_count": null,
      "outputs": [
        {
          "output_type": "execute_result",
          "data": {
            "text/plain": [
              "[129, 78, 653, 42, 1276, 4, 1]"
            ]
          },
          "metadata": {
            "tags": []
          },
          "execution_count": 84
        }
      ]
    },
    {
      "cell_type": "code",
      "metadata": {
        "colab": {
          "base_uri": "https://localhost:8080/"
        },
        "id": "jPHjvJ6k7sou",
        "outputId": "e5df9e93-5644-4c13-ec41-9ec6d6316235"
      },
      "source": [
        "target_sentence.split(\" \")"
      ],
      "execution_count": null,
      "outputs": [
        {
          "output_type": "execute_result",
          "data": {
            "text/plain": [
              "['you', 're', 'such', 'a', 'flirt', '.']"
            ]
          },
          "metadata": {
            "tags": []
          },
          "execution_count": 85
        }
      ]
    },
    {
      "cell_type": "code",
      "metadata": {
        "id": "pPLunbpl75Oc",
        "colab": {
          "base_uri": "https://localhost:8080/"
        },
        "outputId": "1e0db164-44d3-47ea-b94e-37c4bdeb6307"
      },
      "source": [
        " target_indices"
      ],
      "execution_count": null,
      "outputs": [
        {
          "output_type": "execute_result",
          "data": {
            "text/plain": [
              "[129, 78, 653, 42, 1276, 4, 1]"
            ]
          },
          "metadata": {
            "tags": []
          },
          "execution_count": 86
        }
      ]
    },
    {
      "cell_type": "code",
      "metadata": {
        "colab": {
          "base_uri": "https://localhost:8080/"
        },
        "id": "bKe48Nue8rwo",
        "outputId": "0827ab02-0330-486b-c425-1255cfe0f1e6"
      },
      "source": [
        "for i in range(6):\n",
        "  decoder_input = torch.tensor([[target_indices[i]]], device=device)\n",
        "  decoder_hidden = encoder_hidden\n",
        "  output_size = output_lang.n_words\n",
        "  embedded = embedding(decoder_input)\n",
        "  attn_weights = attn_weight_layer(torch.cat((embedded[0], decoder_hidden[0]), 1))\n",
        "  attn_weights = F.softmax(attn_weights, dim = 1)\n",
        "  attn_applied = torch.bmm(attn_weights.unsqueeze(0), encoder_outputs.unsqueeze(0))\n",
        "  input_to_lstm = input_to_lstm_layer(torch.cat((embedded[0], attn_applied[0]), 1))\n",
        "  input_to_lstm = input_to_lstm.unsqueeze(0)\n",
        "  output, (decoder_hidden,decoder_cell) = lstm(input_to_lstm, (decoder_hidden,decoder_hidden))\n",
        "  #output = F.relu(output)\n",
        "  output = F.relu(decoder_hidden)\n",
        "  output = F.softmax(output_word_layer(output[0]), dim = 1)\n",
        "  top_value, top_index = output.data.topk(1)\n",
        "  print(target_sentence.split(\" \")[i], target_indices[i], output_lang.index2word[top_index.item()], top_index.item() )\n",
        "  print(attn_weights)"
      ],
      "execution_count": null,
      "outputs": [
        {
          "output_type": "stream",
          "text": [
            "you 129 mad 185\n",
            "tensor([[0.1765, 0.0310, 0.1310, 0.1059, 0.1243, 0.0880, 0.0824, 0.1015, 0.1117,\n",
            "         0.0477]], grad_fn=<SoftmaxBackward>)\n",
            "re 78 reliable 286\n",
            "tensor([[0.1181, 0.0574, 0.0806, 0.0707, 0.0587, 0.1297, 0.0940, 0.1965, 0.0892,\n",
            "         0.1051]], grad_fn=<SoftmaxBackward>)\n",
            "such 653 traffic 2050\n",
            "tensor([[0.1536, 0.0841, 0.1154, 0.0746, 0.1202, 0.0734, 0.1679, 0.0612, 0.0913,\n",
            "         0.0582]], grad_fn=<SoftmaxBackward>)\n",
            "a 42 thieves 1250\n",
            "tensor([[0.1753, 0.0510, 0.0955, 0.0536, 0.0413, 0.1012, 0.0875, 0.1800, 0.1447,\n",
            "         0.0699]], grad_fn=<SoftmaxBackward>)\n",
            "flirt 1276 underwear 1197\n",
            "tensor([[0.0562, 0.1398, 0.1267, 0.0726, 0.0280, 0.0874, 0.0484, 0.2893, 0.0817,\n",
            "         0.0700]], grad_fn=<SoftmaxBackward>)\n",
            ". 4 thieves 1250\n",
            "tensor([[0.0541, 0.0566, 0.1810, 0.0545, 0.1737, 0.0661, 0.0864, 0.1412, 0.0626,\n",
            "         0.1239]], grad_fn=<SoftmaxBackward>)\n"
          ],
          "name": "stdout"
        }
      ]
    },
    {
      "cell_type": "code",
      "metadata": {
        "colab": {
          "base_uri": "https://localhost:8080/"
        },
        "id": "BwNXv9Iz9SDK",
        "outputId": "e62f9b15-bd38-4e7e-b7ce-0e41dfdc6c94"
      },
      "source": [
        "target_indices, target_sentence, input_sentence"
      ],
      "execution_count": null,
      "outputs": [
        {
          "output_type": "execute_result",
          "data": {
            "text/plain": [
              "([129, 78, 653, 42, 1276, 4, 1],\n",
              " 'you re such a flirt .',\n",
              " 'tu es un de ces dragueurs !')"
            ]
          },
          "metadata": {
            "tags": []
          },
          "execution_count": 88
        }
      ]
    },
    {
      "cell_type": "code",
      "metadata": {
        "colab": {
          "base_uri": "https://localhost:8080/"
        },
        "id": "tt5Ec3lOtAlC",
        "outputId": "68a53dfc-730a-48ab-9f2d-67a0f327a7ec"
      },
      "source": [
        "for i in range(6):\n",
        "  decoder_input = torch.tensor([[target_indices[i]]], device=device)\n",
        "  decoder_hidden = encoder_hidden\n",
        "  output_size = output_lang.n_words\n",
        "  embedded = embedding(decoder_input)\n",
        "  attn_weights = attn_weight_layer(torch.cat((embedded[0], decoder_hidden[0]), 1))\n",
        "  attn_weights = F.softmax(attn_weights, dim = 1)\n",
        "  attn_applied = torch.bmm(attn_weights.unsqueeze(0), encoder_outputs.unsqueeze(0))\n",
        "  input_to_lstm = input_to_lstm_layer(torch.cat((embedded[0], attn_applied[0]), 1))\n",
        "  input_to_lstm = input_to_lstm.unsqueeze(0)\n",
        "  output, (decoder_hidden,decoder_cell) = lstm(input_to_lstm, (decoder_hidden,decoder_hidden))\n",
        "  #output = F.relu(output)\n",
        "  output = F.relu(decoder_hidden)\n",
        "  output = F.softmax(output_word_layer(output[0]), dim = 1)\n",
        "  top_value, top_index = output.data.topk(1)\n",
        "  print(target_sentence.split(\" \")[i], target_indices[i], output_lang.index2word[top_index.item()], top_index.item() )\n",
        "  print(f'Printing the attention weights {attn_weights}')\n",
        "  print(f'Printing the output of decoder for each word {output}')"
      ],
      "execution_count": null,
      "outputs": [
        {
          "output_type": "stream",
          "text": [
            "you 129 unemployed 530\n",
            "Printing the attention weights tensor([[0.1921, 0.0312, 0.1231, 0.1107, 0.1091, 0.0976, 0.0888, 0.0949, 0.1012,\n",
            "         0.0514]], grad_fn=<SoftmaxBackward>)\n",
            "Printing the output of decoder for each word tensor([[0.0004, 0.0003, 0.0004,  ..., 0.0003, 0.0004, 0.0003]],\n",
            "       grad_fn=<SoftmaxBackward>)\n",
            "re 78 wandering 2595\n",
            "Printing the attention weights tensor([[0.1272, 0.0572, 0.0749, 0.0732, 0.0509, 0.1424, 0.1002, 0.1818, 0.0800,\n",
            "         0.1121]], grad_fn=<SoftmaxBackward>)\n",
            "Printing the output of decoder for each word tensor([[0.0004, 0.0004, 0.0004,  ..., 0.0003, 0.0004, 0.0003]],\n",
            "       grad_fn=<SoftmaxBackward>)\n",
            "such 653 awesome 418\n",
            "Printing the attention weights tensor([[0.1657, 0.0839, 0.1075, 0.0773, 0.1046, 0.0807, 0.1794, 0.0567, 0.0820,\n",
            "         0.0622]], grad_fn=<SoftmaxBackward>)\n",
            "Printing the output of decoder for each word tensor([[0.0004, 0.0004, 0.0004,  ..., 0.0003, 0.0004, 0.0003]],\n",
            "       grad_fn=<SoftmaxBackward>)\n",
            "a 42 faced 2648\n",
            "Printing the attention weights tensor([[0.1898, 0.0510, 0.0892, 0.0557, 0.0360, 0.1116, 0.0938, 0.1674, 0.1304,\n",
            "         0.0750]], grad_fn=<SoftmaxBackward>)\n",
            "Printing the output of decoder for each word tensor([[0.0004, 0.0004, 0.0003,  ..., 0.0003, 0.0004, 0.0003]],\n",
            "       grad_fn=<SoftmaxBackward>)\n",
            "flirt 1276 adventurous 607\n",
            "Printing the attention weights tensor([[0.0618, 0.1421, 0.1201, 0.0767, 0.0248, 0.0979, 0.0527, 0.2731, 0.0747,\n",
            "         0.0762]], grad_fn=<SoftmaxBackward>)\n",
            "Printing the output of decoder for each word tensor([[0.0004, 0.0003, 0.0004,  ..., 0.0003, 0.0004, 0.0003]],\n",
            "       grad_fn=<SoftmaxBackward>)\n",
            ". 4 thieves 1250\n",
            "Printing the attention weights tensor([[0.0598, 0.0579, 0.1728, 0.0580, 0.1549, 0.0745, 0.0946, 0.1341, 0.0576,\n",
            "         0.1358]], grad_fn=<SoftmaxBackward>)\n",
            "Printing the output of decoder for each word tensor([[0.0004, 0.0004, 0.0004,  ..., 0.0003, 0.0004, 0.0003]],\n",
            "       grad_fn=<SoftmaxBackward>)\n"
          ],
          "name": "stdout"
        }
      ]
    },
    {
      "cell_type": "markdown",
      "metadata": {
        "id": "ZHTqr8Nx_-mI"
      },
      "source": [
        "# Now let's combine everything together"
      ]
    },
    {
      "cell_type": "code",
      "metadata": {
        "id": "OgZYkyAK-Mm6"
      },
      "source": [
        "%matplotlib inline"
      ],
      "execution_count": null,
      "outputs": []
    },
    {
      "cell_type": "code",
      "metadata": {
        "id": "aq_jmhrHACZR"
      },
      "source": [
        "from __future__ import unicode_literals, print_function, division\n",
        "from io import open\n",
        "import unicodedata\n",
        "import string\n",
        "import re\n",
        "import random\n",
        "\n",
        "import torch\n",
        "import torch.nn as nn\n",
        "from torch import optim\n",
        "import torch.nn.functional as F\n",
        "\n",
        "device = torch.device(\"cuda\" if torch.cuda.is_available() else \"cpu\")"
      ],
      "execution_count": null,
      "outputs": []
    },
    {
      "cell_type": "code",
      "metadata": {
        "colab": {
          "base_uri": "https://localhost:8080/"
        },
        "id": "3hl8lTBKAECX",
        "outputId": "bc1d2221-c871-4a8a-f03a-5071eafda261"
      },
      "source": [
        "!wget https://download.pytorch.org/tutorial/data.zip\n",
        "\n",
        "!unzip data.zip"
      ],
      "execution_count": null,
      "outputs": [
        {
          "output_type": "stream",
          "text": [
            "--2021-07-24 15:44:34--  https://download.pytorch.org/tutorial/data.zip\n",
            "Resolving download.pytorch.org (download.pytorch.org)... 13.226.52.128, 13.226.52.90, 13.226.52.36, ...\n",
            "Connecting to download.pytorch.org (download.pytorch.org)|13.226.52.128|:443... connected.\n",
            "HTTP request sent, awaiting response... 200 OK\n",
            "Length: 2882130 (2.7M) [application/zip]\n",
            "Saving to: ‘data.zip.1’\n",
            "\n",
            "data.zip.1          100%[===================>]   2.75M  16.8MB/s    in 0.2s    \n",
            "\n",
            "2021-07-24 15:44:35 (16.8 MB/s) - ‘data.zip.1’ saved [2882130/2882130]\n",
            "\n",
            "Archive:  data.zip\n",
            "replace data/eng-fra.txt? [y]es, [n]o, [A]ll, [N]one, [r]ename: y\n",
            "  inflating: data/eng-fra.txt        \n",
            "replace data/names/Arabic.txt? [y]es, [n]o, [A]ll, [N]one, [r]ename: y\n",
            "  inflating: data/names/Arabic.txt   \n",
            "replace data/names/Chinese.txt? [y]es, [n]o, [A]ll, [N]one, [r]ename: y\n",
            "  inflating: data/names/Chinese.txt  \n",
            "replace data/names/Czech.txt? [y]es, [n]o, [A]ll, [N]one, [r]ename: y\n",
            "  inflating: data/names/Czech.txt    \n",
            "replace data/names/Dutch.txt? [y]es, [n]o, [A]ll, [N]one, [r]ename: y\n",
            "  inflating: data/names/Dutch.txt    \n",
            "replace data/names/English.txt? [y]es, [n]o, [A]ll, [N]one, [r]ename: y\n",
            "  inflating: data/names/English.txt  \n",
            "replace data/names/French.txt? [y]es, [n]o, [A]ll, [N]one, [r]ename: y\n",
            "  inflating: data/names/French.txt   \n",
            "replace data/names/German.txt? [y]es, [n]o, [A]ll, [N]one, [r]ename: y\n",
            "  inflating: data/names/German.txt   \n",
            "replace data/names/Greek.txt? [y]es, [n]o, [A]ll, [N]one, [r]ename: y\n",
            "  inflating: data/names/Greek.txt    \n",
            "replace data/names/Irish.txt? [y]es, [n]o, [A]ll, [N]one, [r]ename: y\n",
            "  inflating: data/names/Irish.txt    \n",
            "replace data/names/Italian.txt? [y]es, [n]o, [A]ll, [N]one, [r]ename: y\n",
            "  inflating: data/names/Italian.txt  \n",
            "replace data/names/Japanese.txt? [y]es, [n]o, [A]ll, [N]one, [r]ename: y\n",
            "  inflating: data/names/Japanese.txt  \n",
            "replace data/names/Korean.txt? [y]es, [n]o, [A]ll, [N]one, [r]ename: y\n",
            "  inflating: data/names/Korean.txt   \n",
            "replace data/names/Polish.txt? [y]es, [n]o, [A]ll, [N]one, [r]ename: y\n",
            "  inflating: data/names/Polish.txt   \n",
            "replace data/names/Portuguese.txt? [y]es, [n]o, [A]ll, [N]one, [r]ename: y\n",
            "  inflating: data/names/Portuguese.txt  \n",
            "replace data/names/Russian.txt? [y]es, [n]o, [A]ll, [N]one, [r]ename: y\n",
            "  inflating: data/names/Russian.txt  \n",
            "replace data/names/Scottish.txt? [y]es, [n]o, [A]ll, [N]one, [r]ename: y\n",
            "  inflating: data/names/Scottish.txt  \n",
            "replace data/names/Spanish.txt? [y]es, [n]o, [A]ll, [N]one, [r]ename: y\n",
            "  inflating: data/names/Spanish.txt  \n",
            "replace data/names/Vietnamese.txt? [y]es, [n]o, [A]ll, [N]one, [r]ename: \n",
            "error:  invalid response [{ENTER}]\n",
            "replace data/names/Vietnamese.txt? [y]es, [n]o, [A]ll, [N]one, [r]ename: y\n",
            "  inflating: data/names/Vietnamese.txt  \n"
          ],
          "name": "stdout"
        }
      ]
    },
    {
      "cell_type": "code",
      "metadata": {
        "id": "mDZ36dsHAF8j"
      },
      "source": [
        "SOS_token = 0\n",
        "EOS_token = 1\n",
        "\n",
        "\n",
        "class Lang:\n",
        "    def __init__(self, name):\n",
        "        self.name = name\n",
        "        self.word2index = {}\n",
        "        self.word2count = {}\n",
        "        self.index2word = {0: \"SOS\", 1: \"EOS\"}\n",
        "        self.n_words = 2  # Count SOS and EOS\n",
        "\n",
        "    def addSentence(self, sentence):\n",
        "        for word in sentence.split(' '):\n",
        "            self.addWord(word)\n",
        "\n",
        "    def addWord(self, word):\n",
        "        if word not in self.word2index:\n",
        "            self.word2index[word] = self.n_words\n",
        "            self.word2count[word] = 1\n",
        "            self.index2word[self.n_words] = word\n",
        "            self.n_words += 1\n",
        "        else:\n",
        "            self.word2count[word] += 1"
      ],
      "execution_count": null,
      "outputs": []
    },
    {
      "cell_type": "code",
      "metadata": {
        "id": "HzB6Q2ozAIYP"
      },
      "source": [
        "# Turn a Unicode string to plain ASCII, thanks to\n",
        "# https://stackoverflow.com/a/518232/2809427\n",
        "def unicodeToAscii(s):\n",
        "    return ''.join(\n",
        "        c for c in unicodedata.normalize('NFD', s)\n",
        "        if unicodedata.category(c) != 'Mn'\n",
        "    )\n",
        "\n",
        "# Lowercase, trim, and remove non-letter characters\n",
        "\n",
        "\n",
        "def normalizeString(s):\n",
        "    s = unicodeToAscii(s.lower().strip())\n",
        "    s = re.sub(r\"([.!?])\", r\" \\1\", s)\n",
        "    s = re.sub(r\"[^a-zA-Z.!?]+\", r\" \", s)\n",
        "    return s"
      ],
      "execution_count": null,
      "outputs": []
    },
    {
      "cell_type": "code",
      "metadata": {
        "id": "1MJl_dZLAJ11"
      },
      "source": [
        "def readLangs(lang1, lang2, reverse=False):\n",
        "    print(\"Reading lines...\")\n",
        "\n",
        "    # Read the file and split into lines\n",
        "    lines = open('data/%s-%s.txt' % (lang1, lang2), encoding='utf-8').\\\n",
        "        read().strip().split('\\n')\n",
        "\n",
        "    # Split every line into pairs and normalize\n",
        "    pairs = [[normalizeString(s) for s in l.split('\\t')] for l in lines]\n",
        "\n",
        "    # Reverse pairs, make Lang instances\n",
        "    if reverse:\n",
        "        pairs = [list(reversed(p)) for p in pairs]\n",
        "        input_lang = Lang(lang2)\n",
        "        output_lang = Lang(lang1)\n",
        "    else:\n",
        "        input_lang = Lang(lang1)\n",
        "        output_lang = Lang(lang2)\n",
        "\n",
        "    return input_lang, output_lang, pairs"
      ],
      "execution_count": null,
      "outputs": []
    },
    {
      "cell_type": "code",
      "metadata": {
        "id": "VQPAjMUxALL5"
      },
      "source": [
        "MAX_LENGTH = 10\n",
        "\n",
        "eng_prefixes = (\n",
        "    \"i am \", \"i m \",\n",
        "    \"he is\", \"he s \",\n",
        "    \"she is\", \"she s \",\n",
        "    \"you are\", \"you re \",\n",
        "    \"we are\", \"we re \",\n",
        "    \"they are\", \"they re \"\n",
        ")\n",
        "\n",
        "\n",
        "def filterPair(p):\n",
        "    return len(p[0].split(' ')) < MAX_LENGTH and \\\n",
        "        len(p[1].split(' ')) < MAX_LENGTH and \\\n",
        "        p[1].startswith(eng_prefixes)\n",
        "\n",
        "\n",
        "def filterPairs(pairs):\n",
        "    return [pair for pair in pairs if filterPair(pair)]"
      ],
      "execution_count": null,
      "outputs": []
    },
    {
      "cell_type": "code",
      "metadata": {
        "colab": {
          "base_uri": "https://localhost:8080/"
        },
        "id": "-u8usM3DAMd9",
        "outputId": "ad56bfff-b01f-4537-c4d8-f2bb7390ef65"
      },
      "source": [
        "def prepareData(lang1, lang2, reverse=False):\n",
        "    input_lang, output_lang, pairs = readLangs(lang1, lang2, reverse)\n",
        "    print(\"Read %s sentence pairs\" % len(pairs))\n",
        "    pairs = filterPairs(pairs)\n",
        "    print(\"Trimmed to %s sentence pairs\" % len(pairs))\n",
        "    print(\"Counting words...\")\n",
        "    for pair in pairs:\n",
        "        input_lang.addSentence(pair[0])\n",
        "        output_lang.addSentence(pair[1])\n",
        "    print(\"Counted words:\")\n",
        "    print(input_lang.name, input_lang.n_words)\n",
        "    print(output_lang.name, output_lang.n_words)\n",
        "    return input_lang, output_lang, pairs\n",
        "\n",
        "\n",
        "input_lang, output_lang, pairs = prepareData('eng', 'fra', True)\n",
        "print(random.choice(pairs))"
      ],
      "execution_count": null,
      "outputs": [
        {
          "output_type": "stream",
          "text": [
            "Reading lines...\n",
            "Read 135842 sentence pairs\n",
            "Trimmed to 10599 sentence pairs\n",
            "Counting words...\n",
            "Counted words:\n",
            "fra 4345\n",
            "eng 2803\n",
            "['je me trouve pres de la gare .', 'i am near the station .']\n"
          ],
          "name": "stdout"
        }
      ]
    },
    {
      "cell_type": "markdown",
      "metadata": {
        "id": "NdchGIUsAXlp"
      },
      "source": [
        "The Seq2Seq Model\n",
        "=================\n",
        "\n",
        "A Recurrent Neural Network, or RNN, is a network that operates on a\n",
        "sequence and uses its own output as input for subsequent steps.\n",
        "\n",
        "A [Sequence to Sequence network](https://arxiv.org/abs/1409.3215), or\n",
        "seq2seq network, or [Encoder Decoder\n",
        "network](https://arxiv.org/pdf/1406.1078v3.pdf), is a model\n",
        "consisting of two RNNs called the encoder and decoder. The encoder reads\n",
        "an input sequence and outputs a single vector, and the decoder reads\n",
        "that vector to produce an output sequence.\n",
        "\n",
        "![image](https://pytorch.org/tutorials/_images/seq2seq.png)\n",
        "\n",
        "Unlike sequence prediction with a single RNN, where every input\n",
        "corresponds to an output, the seq2seq model frees us from sequence\n",
        "length and order, which makes it ideal for translation between two\n",
        "languages.\n",
        "\n",
        "Consider the sentence \"Je ne suis pas le chat noir\" → \"I am not the\n",
        "black cat\". Most of the words in the input sentence have a direct\n",
        "translation in the output sentence, but are in slightly different\n",
        "orders, e.g. \"chat noir\" and \"black cat\". Because of the \"ne/pas\"\n",
        "construction there is also one more word in the input sentence. It would\n",
        "be difficult to produce a correct translation directly from the sequence\n",
        "of input words.\n",
        "\n",
        "With a seq2seq model the encoder creates a single vector which, in the\n",
        "ideal case, encodes the \"meaning\" of the input sequence into a single\n",
        "vector — a single point in some N dimensional space of sentences.\n",
        "\n",
        "\n"
      ]
    },
    {
      "cell_type": "markdown",
      "metadata": {
        "id": "nM3YPk50AaRp"
      },
      "source": [
        "The Encoder\n",
        "-----------\n",
        "\n",
        "The encoder of a seq2seq network is a RNN that outputs some value for\n",
        "every word from the input sentence. For every input word the encoder\n",
        "outputs a vector and a hidden state, and uses the hidden state for the\n",
        "next input word.\n",
        "\n",
        "![image](https://pytorch.org/tutorials/_images/encoder-network.png)"
      ]
    },
    {
      "cell_type": "code",
      "metadata": {
        "id": "RTuF3DD1AOGJ"
      },
      "source": [
        "class EncoderRNN(nn.Module):\n",
        "    def __init__(self, input_size, hidden_size):\n",
        "        super(EncoderRNN, self).__init__()\n",
        "        self.hidden_size = hidden_size\n",
        "\n",
        "        self.embedding = nn.Embedding(input_size, hidden_size)\n",
        "        self.lstm = nn.LSTM(hidden_size, hidden_size)\n",
        "\n",
        "    def forward(self, input, hidden):\n",
        "        embedded = self.embedding(input).view(1, 1, -1)\n",
        "        output = embedded\n",
        "        output,(hidden,cell_state) = lstm(output,( hidden,hidden))\n",
        "        return output, hidden\n",
        "\n",
        "    def initHidden(self):\n",
        "        return torch.zeros(1, 1, self.hidden_size, device=device)"
      ],
      "execution_count": null,
      "outputs": []
    },
    {
      "cell_type": "markdown",
      "metadata": {
        "id": "Tth5YZ9-AfVt"
      },
      "source": [
        "# Attention Decoder\n",
        "\n",
        "If only the context vector is passed between the encoder and decoder,\n",
        "that single vector carries the burden of encoding the entire sentence.\n",
        "\n",
        "Attention allows the decoder network to \"focus\" on a different part of\n",
        "the encoder's outputs for every step of the decoder's own outputs. First\n",
        "we calculate a set of *attention weights*. These will be multiplied by\n",
        "the encoder output vectors to create a weighted combination. The result\n",
        "(called ``attn_applied`` in the code) should contain information about\n",
        "that specific part of the input sequence, and thus help the decoder\n",
        "choose the right output words.\n",
        "\n",
        "![image](https://i.imgur.com/1152PYf.png)\n",
        "\n",
        "Calculating the attention weights is done with another feed-forward\n",
        "layer ``attn``, using the decoder's input and hidden state as inputs.\n",
        "Because there are sentences of all sizes in the training data, to\n",
        "actually create and train this layer we have to choose a maximum\n",
        "sentence length (input length, for encoder outputs) that it can apply\n",
        "to. Sentences of the maximum length will use all the attention weights,\n",
        "while shorter sentences will only use the first few.\n",
        "\n",
        "![image](https://pytorch.org/tutorials/_images/attention-decoder-network.png)\n",
        "\n",
        "\n",
        "\n"
      ]
    },
    {
      "cell_type": "code",
      "metadata": {
        "id": "X_W90unsAcMt"
      },
      "source": [
        "class AttnDecoderRNN(nn.Module):\n",
        "    def __init__(self, hidden_size, output_size, dropout_p=0.1, max_length=MAX_LENGTH):\n",
        "        super(AttnDecoderRNN, self).__init__()\n",
        "        self.hidden_size = hidden_size\n",
        "        self.output_size = output_size\n",
        "        self.dropout_p = dropout_p\n",
        "        self.max_length = max_length\n",
        "\n",
        "        self.embedding = nn.Embedding(self.output_size, self.hidden_size)\n",
        "        self.attn = nn.Linear(self.hidden_size * 2, self.max_length)\n",
        "        self.attn_combine = nn.Linear(self.hidden_size * 2, self.hidden_size)\n",
        "        self.dropout = nn.Dropout(self.dropout_p)\n",
        "        self.lstm = nn.LSTM(hidden_size, hidden_size)\n",
        "        self.out = nn.Linear(self.hidden_size, self.output_size)\n",
        "\n",
        "    def forward(self, input, hidden, encoder_outputs):\n",
        "        embedded = self.embedding(input).view(1, 1, -1)\n",
        "        embedded = self.dropout(embedded)\n",
        "\n",
        "        attn_weights = F.softmax(\n",
        "            self.attn(torch.cat((embedded[0], hidden[0]), 1)), dim=1)\n",
        "        attn_applied = torch.bmm(attn_weights.unsqueeze(0),\n",
        "                                 encoder_outputs.unsqueeze(0))\n",
        "\n",
        "        output = torch.cat((embedded[0], attn_applied[0]), 1)\n",
        "        output = self.attn_combine(output).unsqueeze(0)\n",
        "\n",
        "        output = F.relu(output)\n",
        "        output,(hidden,cell_state) = lstm(output,( hidden,hidden))\n",
        "\n",
        "        output = F.log_softmax(self.out(hidden[0]), dim=1)\n",
        "        return output, hidden, attn_weights\n",
        "\n",
        "    def initHidden(self):\n",
        "        return torch.zeros(1, 1, self.hidden_size, device=device)"
      ],
      "execution_count": null,
      "outputs": []
    },
    {
      "cell_type": "markdown",
      "metadata": {
        "id": "_V8gEEQ9AkDa"
      },
      "source": [
        "<div class=\"alert alert-info\"><h4>Note</h4><p>There are other forms of attention that work around the length\n",
        "  limitation by using a relative position approach. Read about \"local\n",
        "  attention\" in `Effective Approaches to Attention-based Neural Machine\n",
        "  Translation <https://arxiv.org/abs/1508.04025>`__.</p></div>\n",
        "\n",
        "Training\n",
        "========\n",
        "\n",
        "Preparing Training Data\n",
        "-----------------------\n",
        "\n",
        "To train, for each pair we will need an input tensor (indexes of the\n",
        "words in the input sentence) and target tensor (indexes of the words in\n",
        "the target sentence). While creating these vectors we will append the\n",
        "EOS token to both sequences.\n",
        "\n",
        "\n"
      ]
    },
    {
      "cell_type": "code",
      "metadata": {
        "id": "-bcOEA8LAiP9"
      },
      "source": [
        "def indexesFromSentence(lang, sentence):\n",
        "    return [lang.word2index[word] for word in sentence.split(' ')]\n",
        "\n",
        "\n",
        "def tensorFromSentence(lang, sentence):\n",
        "    indexes = indexesFromSentence(lang, sentence)\n",
        "    indexes.append(EOS_token)\n",
        "    return torch.tensor(indexes, dtype=torch.long, device=device).view(-1, 1)\n",
        "\n",
        "\n",
        "def tensorsFromPair(pair):\n",
        "    input_tensor = tensorFromSentence(input_lang, pair[0])\n",
        "    target_tensor = tensorFromSentence(output_lang, pair[1])\n",
        "    return (input_tensor, target_tensor)"
      ],
      "execution_count": null,
      "outputs": []
    },
    {
      "cell_type": "markdown",
      "metadata": {
        "id": "99iL0DyJAn-O"
      },
      "source": [
        "Training the Model\n",
        "------------------\n",
        "\n",
        "To train we run the input sentence through the encoder, and keep track\n",
        "of every output and the latest hidden state. Then the decoder is given\n",
        "the ``<SOS>`` token as its first input, and the last hidden state of the\n",
        "encoder as its first hidden state.\n",
        "\n",
        "\"Teacher forcing\" is the concept of using the real target outputs as\n",
        "each next input, instead of using the decoder's guess as the next input.\n",
        "Using teacher forcing causes it to converge faster but [when the trained network is exploited, it may exhibit instability](http://citeseerx.ist.psu.edu/viewdoc/download?doi=10.1.1.378.4095&rep=rep1&type=pdf).\n",
        "\n",
        "You can observe outputs of teacher-forced networks that read with\n",
        "coherent grammar but wander far from the correct translation -\n",
        "intuitively it has learned to represent the output grammar and can \"pick\n",
        "up\" the meaning once the teacher tells it the first few words, but it\n",
        "has not properly learned how to create the sentence from the translation\n",
        "in the first place.\n",
        "\n",
        "Because of the freedom PyTorch's autograd gives us, we can randomly\n",
        "choose to use teacher forcing or not with a simple if statement. Turn\n",
        "``teacher_forcing_ratio`` up to use more of it.\n",
        "\n",
        "\n"
      ]
    },
    {
      "cell_type": "code",
      "metadata": {
        "id": "TI3pQ_u_AmLH"
      },
      "source": [
        "teacher_forcing_ratio = 0.5\n",
        "\n",
        "\n",
        "def train(input_tensor, target_tensor, encoder, decoder, encoder_optimizer, decoder_optimizer, criterion, max_length=MAX_LENGTH):\n",
        "    encoder_hidden = encoder.initHidden()\n",
        "\n",
        "    encoder_optimizer.zero_grad()\n",
        "    decoder_optimizer.zero_grad()\n",
        "\n",
        "    input_length = input_tensor.size(0)\n",
        "    target_length = target_tensor.size(0)\n",
        "\n",
        "    encoder_outputs = torch.zeros(max_length, encoder.hidden_size, device=device)\n",
        "\n",
        "    loss = 0\n",
        "\n",
        "    for ei in range(input_length):\n",
        "        encoder_output, encoder_hidden = encoder(\n",
        "            input_tensor[ei], encoder_hidden)\n",
        "        encoder_outputs[ei] = encoder_output[0, 0]\n",
        "\n",
        "    decoder_input = torch.tensor([[SOS_token]], device=device)\n",
        "\n",
        "    decoder_hidden = encoder_hidden\n",
        "\n",
        "    use_teacher_forcing = True if random.random() < teacher_forcing_ratio else False\n",
        "\n",
        "    if use_teacher_forcing:\n",
        "        # Teacher forcing: Feed the target as the next input\n",
        "        for di in range(target_length):\n",
        "            decoder_output, decoder_hidden, decoder_attention = decoder(\n",
        "                decoder_input, decoder_hidden, encoder_outputs)\n",
        "            loss += criterion(decoder_output, target_tensor[di])\n",
        "            decoder_input = target_tensor[di]  # Teacher forcing\n",
        "\n",
        "    else:\n",
        "        # Without teacher forcing: use its own predictions as the next input\n",
        "        for di in range(target_length):\n",
        "            decoder_output, decoder_hidden, decoder_attention = decoder(\n",
        "                decoder_input, decoder_hidden, encoder_outputs)\n",
        "            topv, topi = decoder_output.topk(1)\n",
        "            decoder_input = topi.squeeze().detach()  # detach from history as input\n",
        "\n",
        "            loss += criterion(decoder_output, target_tensor[di])\n",
        "            if decoder_input.item() == EOS_token:\n",
        "                break\n",
        "\n",
        "    loss.backward()\n",
        "\n",
        "    encoder_optimizer.step()\n",
        "    decoder_optimizer.step()\n",
        "\n",
        "    return loss.item() / target_length"
      ],
      "execution_count": null,
      "outputs": []
    },
    {
      "cell_type": "code",
      "metadata": {
        "id": "zvVnuD6PAp2P"
      },
      "source": [
        "import time\n",
        "import math\n",
        "\n",
        "\n",
        "def asMinutes(s):\n",
        "    m = math.floor(s / 60)\n",
        "    s -= m * 60\n",
        "    return '%dm %ds' % (m, s)\n",
        "\n",
        "\n",
        "def timeSince(since, percent):\n",
        "    now = time.time()\n",
        "    s = now - since\n",
        "    es = s / (percent)\n",
        "    rs = es - s\n",
        "    return '%s (- %s)' % (asMinutes(s), asMinutes(rs))\n",
        "\n"
      ],
      "execution_count": null,
      "outputs": []
    },
    {
      "cell_type": "markdown",
      "metadata": {
        "id": "_UFyXdn1A09m"
      },
      "source": [
        "The whole training process looks like this:\n",
        "\n",
        "-  Start a timer\n",
        "-  Initialize optimizers and criterion\n",
        "-  Create set of training pairs\n",
        "-  Start empty losses array for plotting\n",
        "\n",
        "Then we call ``train`` many times and occasionally print the progress (%\n",
        "of examples, time so far, estimated time) and average loss.\n",
        "\n",
        "\n"
      ]
    },
    {
      "cell_type": "code",
      "metadata": {
        "id": "f5MSvEbvAzD7"
      },
      "source": [
        "def trainIters(encoder, decoder, n_iters, print_every=1000, plot_every=100, learning_rate=0.01):\n",
        "    start = time.time()\n",
        "    plot_losses = []\n",
        "    print_loss_total = 0  # Reset every print_every\n",
        "    plot_loss_total = 0  # Reset every plot_every\n",
        "\n",
        "    encoder_optimizer = optim.SGD(encoder.parameters(), lr=learning_rate)\n",
        "    decoder_optimizer = optim.SGD(decoder.parameters(), lr=learning_rate)\n",
        "    training_pairs = [tensorsFromPair(random.choice(pairs))\n",
        "                      for i in range(n_iters)]\n",
        "    criterion = nn.NLLLoss()\n",
        "\n",
        "    for iter in range(1, n_iters + 1):\n",
        "        training_pair = training_pairs[iter - 1]\n",
        "        input_tensor = training_pair[0]\n",
        "        target_tensor = training_pair[1]\n",
        "\n",
        "        loss = train(input_tensor, target_tensor, encoder,\n",
        "                     decoder, encoder_optimizer, decoder_optimizer, criterion)\n",
        "        print_loss_total += loss\n",
        "        plot_loss_total += loss\n",
        "\n",
        "        if iter % print_every == 0:\n",
        "            print_loss_avg = print_loss_total / print_every\n",
        "            print_loss_total = 0\n",
        "            print('%s (%d %d%%) %.4f' % (timeSince(start, iter / n_iters),\n",
        "                                         iter, iter / n_iters * 100, print_loss_avg))\n",
        "\n",
        "        if iter % plot_every == 0:\n",
        "            plot_loss_avg = plot_loss_total / plot_every\n",
        "            plot_losses.append(plot_loss_avg)\n",
        "            plot_loss_total = 0\n",
        "\n",
        "    showPlot(plot_losses)"
      ],
      "execution_count": null,
      "outputs": []
    },
    {
      "cell_type": "markdown",
      "metadata": {
        "id": "XyuduTFlA4Ub"
      },
      "source": [
        "Plotting results\n",
        "----------------\n",
        "\n",
        "Plotting is done with matplotlib, using the array of loss values\n",
        "``plot_losses`` saved while training.\n",
        "\n",
        "\n"
      ]
    },
    {
      "cell_type": "code",
      "metadata": {
        "id": "4R8u9srXA2vh"
      },
      "source": [
        "import matplotlib.pyplot as plt\n",
        "plt.switch_backend('agg')\n",
        "import matplotlib.ticker as ticker\n",
        "import numpy as np\n",
        "\n",
        "\n",
        "def showPlot(points):\n",
        "    plt.figure()\n",
        "    fig, ax = plt.subplots()\n",
        "    # this locator puts ticks at regular intervals\n",
        "    loc = ticker.MultipleLocator(base=0.2)\n",
        "    ax.yaxis.set_major_locator(loc)\n",
        "    plt.plot(points)"
      ],
      "execution_count": null,
      "outputs": []
    },
    {
      "cell_type": "markdown",
      "metadata": {
        "id": "p5EIp9N_A7Wh"
      },
      "source": [
        "Evaluation\n",
        "==========\n",
        "\n",
        "Evaluation is mostly the same as training, but there are no targets so\n",
        "we simply feed the decoder's predictions back to itself for each step.\n",
        "Every time it predicts a word we add it to the output string, and if it\n",
        "predicts the EOS token we stop there. We also store the decoder's\n",
        "attention outputs for display later.\n",
        "\n",
        "\n"
      ]
    },
    {
      "cell_type": "code",
      "metadata": {
        "id": "G8mfleZLA59k"
      },
      "source": [
        "def evaluate(encoder, decoder, sentence, max_length=MAX_LENGTH):\n",
        "    with torch.no_grad():\n",
        "        input_tensor = tensorFromSentence(input_lang, sentence)\n",
        "        input_length = input_tensor.size()[0]\n",
        "        encoder_hidden = encoder.initHidden()\n",
        "\n",
        "        encoder_outputs = torch.zeros(max_length, encoder.hidden_size, device=device)\n",
        "\n",
        "        for ei in range(input_length):\n",
        "            encoder_output, encoder_hidden = encoder(input_tensor[ei],\n",
        "                                                     encoder_hidden)\n",
        "            encoder_outputs[ei] += encoder_output[0, 0]\n",
        "\n",
        "        decoder_input = torch.tensor([[SOS_token]], device=device)  # SOS\n",
        "\n",
        "        decoder_hidden = encoder_hidden\n",
        "\n",
        "        decoded_words = []\n",
        "        decoder_attentions = torch.zeros(max_length, max_length)\n",
        "\n",
        "        for di in range(max_length):\n",
        "            decoder_output, decoder_hidden, decoder_attention = decoder(\n",
        "                decoder_input, decoder_hidden, encoder_outputs)\n",
        "            decoder_attentions[di] = decoder_attention.data\n",
        "            topv, topi = decoder_output.data.topk(1)\n",
        "            if topi.item() == EOS_token:\n",
        "                decoded_words.append('<EOS>')\n",
        "                break\n",
        "            else:\n",
        "                decoded_words.append(output_lang.index2word[topi.item()])\n",
        "\n",
        "            decoder_input = topi.squeeze().detach()\n",
        "\n",
        "        return decoded_words, decoder_attentions[:di + 1]"
      ],
      "execution_count": null,
      "outputs": []
    },
    {
      "cell_type": "markdown",
      "metadata": {
        "id": "DOd-jZ51A_UZ"
      },
      "source": [
        "We can evaluate random sentences from the training set and print out the\n",
        "input, target, and output to make some subjective quality judgements:\n",
        "\n",
        "\n"
      ]
    },
    {
      "cell_type": "code",
      "metadata": {
        "id": "_z8uRHJUA9EU"
      },
      "source": [
        "def evaluateRandomly(encoder, decoder, n=10):\n",
        "    for i in range(n):\n",
        "        pair = random.choice(pairs)\n",
        "        print('>', pair[0])\n",
        "        print('=', pair[1])\n",
        "        output_words, attentions = evaluate(encoder, decoder, pair[0])\n",
        "        output_sentence = ' '.join(output_words)\n",
        "        print('<', output_sentence)\n",
        "        print('')"
      ],
      "execution_count": null,
      "outputs": []
    },
    {
      "cell_type": "markdown",
      "metadata": {
        "id": "EZqON1KHBCOc"
      },
      "source": [
        "Training and Evaluating\n",
        "=======================\n",
        "\n",
        "With all these helper functions in place (it looks like extra work, but\n",
        "it makes it easier to run multiple experiments) we can actually\n",
        "initialize a network and start training.\n",
        "\n",
        "Remember that the input sentences were heavily filtered. For this small\n",
        "dataset we can use relatively small networks of 256 hidden nodes and a\n",
        "single LSTM layer. \n",
        "\n",
        ".. Note::\n",
        "   If you run this notebook you can train, interrupt the kernel,\n",
        "   evaluate, and continue training later. Comment out the lines where the\n",
        "   encoder and decoder are initialized and run ``trainIters`` again.\n",
        "\n",
        "\n"
      ]
    },
    {
      "cell_type": "code",
      "metadata": {
        "colab": {
          "base_uri": "https://localhost:8080/"
        },
        "id": "nfkt7gGuBA6i",
        "outputId": "7b40de0b-1475-4c4d-a9a5-4b907535672b"
      },
      "source": [
        "hidden_size = 256\n",
        "encoder1 = EncoderRNN(input_lang.n_words, hidden_size).to(device)\n",
        "attn_decoder1 = AttnDecoderRNN(hidden_size, output_lang.n_words, dropout_p=0.1).to(device)\n",
        "\n",
        "trainIters(encoder1, attn_decoder1, 75000, print_every=5000)"
      ],
      "execution_count": null,
      "outputs": [
        {
          "output_type": "stream",
          "text": [
            "3m 52s (- 54m 18s) (5000 6%) 3.4059\n",
            "7m 53s (- 51m 20s) (10000 13%) 2.9601\n",
            "11m 58s (- 47m 54s) (15000 20%) 2.7313\n",
            "16m 2s (- 44m 6s) (20000 26%) 2.6511\n",
            "19m 56s (- 39m 52s) (25000 33%) 2.5791\n",
            "23m 47s (- 35m 40s) (30000 40%) 2.5133\n",
            "27m 46s (- 31m 44s) (35000 46%) 2.5054\n",
            "31m 45s (- 27m 46s) (40000 53%) 2.4587\n",
            "35m 42s (- 23m 48s) (45000 60%) 2.3938\n",
            "39m 40s (- 19m 50s) (50000 66%) 2.3973\n",
            "43m 40s (- 15m 52s) (55000 73%) 2.3884\n",
            "47m 42s (- 11m 55s) (60000 80%) 2.3268\n",
            "51m 44s (- 7m 57s) (65000 86%) 2.3443\n",
            "55m 45s (- 3m 58s) (70000 93%) 2.3122\n",
            "59m 50s (- 0m 0s) (75000 100%) 2.2783\n"
          ],
          "name": "stdout"
        }
      ]
    },
    {
      "cell_type": "code",
      "metadata": {
        "colab": {
          "base_uri": "https://localhost:8080/"
        },
        "id": "SEQhT6OWBESV",
        "outputId": "cc0ba6ed-4cdf-493b-d46a-0f93754de713"
      },
      "source": [
        "evaluateRandomly(encoder1, attn_decoder1)"
      ],
      "execution_count": null,
      "outputs": [
        {
          "output_type": "stream",
          "text": [
            "> je suis heureux que vous veniez .\n",
            "= i m glad you re coming .\n",
            "< i m glad you re here . <EOS>\n",
            "\n",
            "> tu es une opportuniste .\n",
            "= you re opportunistic .\n",
            "< you re very . . <EOS>\n",
            "\n",
            "> je ne suis pas du matin .\n",
            "= i m not a morning person .\n",
            "< i m not a . . <EOS>\n",
            "\n",
            "> c est un etudiant paresseux .\n",
            "= he is a lazy student .\n",
            "< he s a a . . <EOS>\n",
            "\n",
            "> tu n es d aucune aide .\n",
            "= you re no help .\n",
            "< you re the aren t you ? <EOS>\n",
            "\n",
            "> il souffre d une maladie grave .\n",
            "= he is suffering from a serious illness .\n",
            "< he s a to his . <EOS>\n",
            "\n",
            "> je vais etre ici .\n",
            "= i m going to be over here .\n",
            "< i m very of you . <EOS>\n",
            "\n",
            "> je ne suis toujours pas impressionne .\n",
            "= i m still not impressed .\n",
            "< i m not a to . <EOS>\n",
            "\n",
            "> j en suis vraiment fiere .\n",
            "= i m really proud of this .\n",
            "< i m a little . <EOS>\n",
            "\n",
            "> je suis desole de vous avoir deranges !\n",
            "= i m sorry to have bothered you .\n",
            "< i m glad to see you . <EOS>\n",
            "\n"
          ],
          "name": "stdout"
        }
      ]
    },
    {
      "cell_type": "markdown",
      "metadata": {
        "id": "v1sDWgSVBKJB"
      },
      "source": [
        "Visualizing Attention\n",
        "---------------------\n",
        "\n",
        "A useful property of the attention mechanism is its highly interpretable\n",
        "outputs. Because it is used to weight specific encoder outputs of the\n",
        "input sequence, we can imagine looking where the network is focused most\n",
        "at each time step.\n",
        "\n",
        "You could simply run ``plt.matshow(attentions)`` to see attention output\n",
        "displayed as a matrix, with the columns being input steps and rows being\n",
        "output steps:\n",
        "\n",
        "\n"
      ]
    },
    {
      "cell_type": "code",
      "metadata": {
        "colab": {
          "base_uri": "https://localhost:8080/",
          "height": 293
        },
        "id": "Q5iS-6m2BIW-",
        "outputId": "3fb51e13-7bc5-4f97-9421-ef6dcfe6ed81"
      },
      "source": [
        "%matplotlib inline\n",
        "output_words, attentions = evaluate(\n",
        "    encoder1, attn_decoder1, \"je suis trop froid .\")\n",
        "plt.matshow(attentions.numpy())"
      ],
      "execution_count": null,
      "outputs": [
        {
          "output_type": "execute_result",
          "data": {
            "text/plain": [
              "<matplotlib.image.AxesImage at 0x7f436ae2f490>"
            ]
          },
          "metadata": {
            "tags": []
          },
          "execution_count": 122
        },
        {
          "output_type": "display_data",
          "data": {
            "image/png": "[encoded data removed]",
            "text/plain": [
              "<Figure size 480x288 with 1 Axes>"
            ]
          },
          "metadata": {
            "tags": [],
            "needs_background": "light"
          }
        }
      ]
    },
    {
      "cell_type": "markdown",
      "metadata": {
        "id": "RAJZN54MBNZt"
      },
      "source": [
        "For a better viewing experience we will do the extra work of adding axes\n",
        "and labels:"
      ]
    },
    {
      "cell_type": "code",
      "metadata": {
        "colab": {
          "base_uri": "https://localhost:8080/",
          "height": 1000
        },
        "id": "rdZDWRwHBL-C",
        "outputId": "3a838c12-5c20-41d8-ffb6-70a0bc78f754"
      },
      "source": [
        "def showAttention(input_sentence, output_words, attentions):\n",
        "    # Set up figure with colorbar\n",
        "    fig = plt.figure()\n",
        "    ax = fig.add_subplot(111)\n",
        "    cax = ax.matshow(attentions.numpy(), cmap='bone')\n",
        "    fig.colorbar(cax)\n",
        "\n",
        "    # Set up axes\n",
        "    ax.set_xticklabels([''] + input_sentence.split(' ') +\n",
        "                       ['<EOS>'], rotation=90)\n",
        "    ax.set_yticklabels([''] + output_words)\n",
        "\n",
        "    # Show label at every tick\n",
        "    ax.xaxis.set_major_locator(ticker.MultipleLocator(1))\n",
        "    ax.yaxis.set_major_locator(ticker.MultipleLocator(1))\n",
        "\n",
        "    plt.show()\n",
        "\n",
        "\n",
        "def evaluateAndShowAttention(input_sentence):\n",
        "    output_words, attentions = evaluate(\n",
        "        encoder1, attn_decoder1, input_sentence)\n",
        "    print('input =', input_sentence)\n",
        "    print('output =', ' '.join(output_words))\n",
        "    showAttention(input_sentence, output_words, attentions)\n",
        "\n",
        "\n",
        "evaluateAndShowAttention(\"elle a cinq ans de moins que moi .\")\n",
        "\n",
        "evaluateAndShowAttention(\"elle est trop petit .\")\n",
        "\n",
        "evaluateAndShowAttention(\"je ne crains pas de mourir .\")\n",
        "\n",
        "evaluateAndShowAttention(\"c est un jeune directeur plein de talent .\")"
      ],
      "execution_count": null,
      "outputs": [
        {
          "output_type": "stream",
          "text": [
            "input = elle a cinq ans de moins que moi .\n",
            "output = she s a to . than you . <EOS>\n"
          ],
          "name": "stdout"
        },
        {
          "output_type": "display_data",
          "data": {
            "image/png": "[encoded data removed]",
            "text/plain": [
              "<Figure size 432x288 with 2 Axes>"
            ]
          },
          "metadata": {
            "tags": [],
            "needs_background": "light"
          }
        },
        {
          "output_type": "stream",
          "text": [
            "input = elle est trop petit .\n",
            "output = she s the one . <EOS>\n"
          ],
          "name": "stdout"
        },
        {
          "output_type": "display_data",
          "data": {
            "image/png": "[encoded data removed]",
            "text/plain": [
              "<Figure size 432x288 with 2 Axes>"
            ]
          },
          "metadata": {
            "tags": [],
            "needs_background": "light"
          }
        },
        {
          "output_type": "stream",
          "text": [
            "input = je ne crains pas de mourir .\n",
            "output = i m not a . . <EOS>\n"
          ],
          "name": "stdout"
        },
        {
          "output_type": "display_data",
          "data": {
            "image/png": "[encoded data removed]",
            "text/plain": [
              "<Figure size 432x288 with 2 Axes>"
            ]
          },
          "metadata": {
            "tags": [],
            "needs_background": "light"
          }
        },
        {
          "output_type": "stream",
          "text": [
            "input = c est un jeune directeur plein de talent .\n",
            "output = he s a a . . . <EOS>\n"
          ],
          "name": "stdout"
        },
        {
          "output_type": "display_data",
          "data": {
            "image/png": "[encoded data removed]",
            "text/plain": [
              "<Figure size 432x288 with 2 Axes>"
            ]
          },
          "metadata": {
            "tags": [],
            "needs_background": "light"
          }
        }
      ]
    },
    {
      "cell_type": "code",
      "metadata": {
        "id": "JrMai70PBPhQ"
      },
      "source": [
        ""
      ],
      "execution_count": null,
      "outputs": []
    }
  ]
}