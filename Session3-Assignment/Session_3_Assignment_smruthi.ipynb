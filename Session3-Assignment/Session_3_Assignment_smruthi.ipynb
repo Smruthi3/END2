{
  "nbformat": 4,
  "nbformat_minor": 0,
  "metadata": {
    "colab": {
      "name": "Session 3-Assignment-smruthi.ipynb",
      "provenance": [],
      "collapsed_sections": [],
      "include_colab_link": true
    },
    "kernelspec": {
      "name": "python3",
      "display_name": "Python 3"
    },
    "language_info": {
      "name": "python"
    },
    "accelerator": "GPU"
  },
  "cells": [
    {
      "cell_type": "markdown",
      "metadata": {
        "id": "view-in-github",
        "colab_type": "text"
      },
      "source": [
        "<a href=\"https://colab.research.google.com/github/Smruthi3/END2/blob/main/Session3-Assignment/Session_3_Assignment_smruthi.ipynb\" target=\"_parent\"><img src=\"https://colab.research.google.com/assets/colab-badge.svg\" alt=\"Open In Colab\"/></a>"
      ]
    },
    {
      "cell_type": "markdown",
      "metadata": {
        "id": "AT9DFzYLIOGn"
      },
      "source": [
        "Write a neural network that can:\n",
        "* Take 2 inputs:\n",
        "  1. an image from MNIST dataset, and\n",
        "  2. a random number between 0 and 9\n",
        "* And gives two outputs:\n",
        "  1. the \"number\" that was represented by the MNIST image, and\n",
        "  2. the \"sum\" of this number with the random number that was generated and sent as the input to the network\n",
        "\n",
        "\n",
        "![image](https://drive.google.com/file/d/1tlNRJeYKzXiZW4jnhfHRYKal3l78cW4x/view?usp=sharing)\n",
        "\n",
        "* you can mix fully connected layers and convolution layers\n",
        "* you can use one-hot encoding to represent the random number input as well as the \"summed\" output. "
      ]
    },
    {
      "cell_type": "markdown",
      "metadata": {
        "id": "j9EO7qjBxdxA"
      },
      "source": [
        "### Importing MNIST data set"
      ]
    },
    {
      "cell_type": "code",
      "metadata": {
        "id": "qoiTWoREMJoB"
      },
      "source": [
        "## Importing required libraries\n",
        "import torch\n",
        "import torchvision # provide access to datasets, models, transforms, utils, etc\n",
        "import torchvision.transforms as transforms\n",
        "\n",
        "import numpy as np\n",
        "import matplotlib.pyplot as plt\n",
        "\n",
        "torch.set_printoptions(linewidth=120)"
      ],
      "execution_count": null,
      "outputs": []
    },
    {
      "cell_type": "code",
      "metadata": {
        "id": "znjpWJGkMwp5"
      },
      "source": [
        "# Uploading MNIST dataset\n",
        "\n",
        "train_set = torchvision.datasets.MNIST(\n",
        "    root='./data'\n",
        "    ,train=True\n",
        "    ,download=True\n",
        "    ,transform=transforms.Compose([\n",
        "        transforms.ToTensor()\n",
        "    ])\n",
        ")"
      ],
      "execution_count": null,
      "outputs": []
    },
    {
      "cell_type": "code",
      "metadata": {
        "id": "BuOHva54MrBV",
        "colab": {
          "base_uri": "https://localhost:8080/"
        },
        "outputId": "28140b3b-dd79-4f4d-871a-a6703b5e922e"
      },
      "source": [
        "## Printing length of MNIST data set\n",
        "len(train_set)"
      ],
      "execution_count": null,
      "outputs": [
        {
          "output_type": "execute_result",
          "data": {
            "text/plain": [
              "60000"
            ]
          },
          "metadata": {
            "tags": []
          },
          "execution_count": 3
        }
      ]
    },
    {
      "cell_type": "code",
      "metadata": {
        "id": "Fgm2gcN4OnEg",
        "colab": {
          "base_uri": "https://localhost:8080/"
        },
        "outputId": "a2bc61c2-12bd-4196-9ef1-f4336bda3cfb"
      },
      "source": [
        "## Observing distinct image lables\n",
        "train_set.targets.unique()"
      ],
      "execution_count": null,
      "outputs": [
        {
          "output_type": "execute_result",
          "data": {
            "text/plain": [
              "tensor([0, 1, 2, 3, 4, 5, 6, 7, 8, 9])"
            ]
          },
          "metadata": {
            "tags": []
          },
          "execution_count": 4
        }
      ]
    },
    {
      "cell_type": "code",
      "metadata": {
        "id": "8URbAplWvsLB",
        "colab": {
          "base_uri": "https://localhost:8080/"
        },
        "outputId": "2284238c-d0e1-4c83-a7d9-7b710ef5e94c"
      },
      "source": [
        "## Type of the dataset and number of samples from each image label\n",
        "print(type(train_set[0]))\n",
        "print(train_set.train_labels.bincount())"
      ],
      "execution_count": null,
      "outputs": [
        {
          "output_type": "stream",
          "text": [
            "<class 'tuple'>\n",
            "tensor([5923, 6742, 5958, 6131, 5842, 5421, 5918, 6265, 5851, 5949])\n"
          ],
          "name": "stdout"
        },
        {
          "output_type": "stream",
          "text": [
            "/usr/local/lib/python3.7/dist-packages/torchvision/datasets/mnist.py:54: UserWarning: train_labels has been renamed targets\n",
            "  warnings.warn(\"train_labels has been renamed targets\")\n"
          ],
          "name": "stderr"
        }
      ]
    },
    {
      "cell_type": "code",
      "metadata": {
        "id": "6W2tdgSpPoJ4"
      },
      "source": [
        "### Sending data to dataloader to view the images in batch\n",
        "input_train_loader1 = torch.utils.data.DataLoader(train_set\n",
        "    ,batch_size=10\n",
        "    ,shuffle=True\n",
        ")"
      ],
      "execution_count": null,
      "outputs": []
    },
    {
      "cell_type": "code",
      "metadata": {
        "id": "yFiy8NujPzhh",
        "colab": {
          "base_uri": "https://localhost:8080/"
        },
        "outputId": "eac2fc50-4732-410e-a9ba-b0fa350d39ca"
      },
      "source": [
        "batch = next(iter(input_train_loader1))\n",
        "images , labels = batch\n",
        "print(len(batch),type(batch))\n",
        "print(images.shape, labels.shape)"
      ],
      "execution_count": null,
      "outputs": [
        {
          "output_type": "stream",
          "text": [
            "2 <class 'list'>\n",
            "torch.Size([10, 1, 28, 28]) torch.Size([10])\n"
          ],
          "name": "stdout"
        }
      ]
    },
    {
      "cell_type": "code",
      "metadata": {
        "id": "TpOcvGaFRR9P",
        "colab": {
          "base_uri": "https://localhost:8080/",
          "height": 156
        },
        "outputId": "8d2f3c62-559f-4ecf-955e-2d1e92dfc459"
      },
      "source": [
        "grid = torchvision.utils.make_grid(images, nrow=10)\n",
        "plt.figure(figsize=(15,15))\n",
        "plt.imshow(np.transpose(grid, (1,2,0)))\n",
        "print('labels:', labels)"
      ],
      "execution_count": null,
      "outputs": [
        {
          "output_type": "stream",
          "text": [
            "labels: tensor([0, 2, 5, 1, 2, 5, 8, 7, 2, 8])\n"
          ],
          "name": "stdout"
        },
        {
          "output_type": "display_data",
          "data": {
            "image/png": "[encoded data removed]",
            "text/plain": [
              "<Figure size 1080x1080 with 1 Axes>"
            ]
          },
          "metadata": {
            "tags": [],
            "needs_background": "light"
          }
        }
      ]
    },
    {
      "cell_type": "markdown",
      "metadata": {
        "id": "TAONXcABd23x"
      },
      "source": [
        "### Data Gerenation and Represntation strategy\n",
        "Generating a Dataframe with two columns\n",
        "1. input = Numbers from 0 to 9\n",
        "2. output = Possible outcomes thats possible from summing up random numbers from 0 to 9 with MNIST data labels 0 to 9 \n",
        "3. Repeating this sample to 600 times to match the MNIST dataset length\n",
        "4. Custom data generation class is written to combine image and random numbder data by extending pytorch's Dataset class\n",
        "  * The random data set's input is converted into one hot encoding tensor\n",
        "  * This class returns the two inputs, image and random number (in one hot format) and two outputs, image label and summed output "
      ]
    },
    {
      "cell_type": "code",
      "metadata": {
        "id": "8RbUAUz8eXjN"
      },
      "source": [
        "## For loop to generate random number and summed output dataset\n",
        "import pandas as pd\n",
        "input = []\n",
        "output = []\n",
        "for i in range(0,10):\n",
        "  for j in range(0,10):\n",
        "    input.append(i)\n",
        "    output.append(i+j)\n",
        "    \n",
        "random_number_df=pd.DataFrame({'Input': input,\n",
        "              'Output': output}) "
      ],
      "execution_count": null,
      "outputs": []
    },
    {
      "cell_type": "code",
      "metadata": {
        "id": "b0xhjrp2f3YX",
        "colab": {
          "base_uri": "https://localhost:8080/"
        },
        "outputId": "04fa44b5-6964-4bb8-cdeb-59b0adee7031"
      },
      "source": [
        "random_number_df.shape"
      ],
      "execution_count": null,
      "outputs": [
        {
          "output_type": "execute_result",
          "data": {
            "text/plain": [
              "(100, 2)"
            ]
          },
          "metadata": {
            "tags": []
          },
          "execution_count": 10
        }
      ]
    },
    {
      "cell_type": "code",
      "metadata": {
        "id": "-iuY70vaGZyd",
        "colab": {
          "base_uri": "https://localhost:8080/",
          "height": 359
        },
        "outputId": "7b1ada0e-84cd-4afb-90b1-32de7ac04a61"
      },
      "source": [
        "random_number_df.head(10)"
      ],
      "execution_count": null,
      "outputs": [
        {
          "output_type": "execute_result",
          "data": {
            "text/html": [
              "<div>\n",
              "<style scoped>\n",
              "    .dataframe tbody tr th:only-of-type {\n",
              "        vertical-align: middle;\n",
              "    }\n",
              "\n",
              "    .dataframe tbody tr th {\n",
              "        vertical-align: top;\n",
              "    }\n",
              "\n",
              "    .dataframe thead th {\n",
              "        text-align: right;\n",
              "    }\n",
              "</style>\n",
              "<table border=\"1\" class=\"dataframe\">\n",
              "  <thead>\n",
              "    <tr style=\"text-align: right;\">\n",
              "      <th></th>\n",
              "      <th>Input</th>\n",
              "      <th>Output</th>\n",
              "    </tr>\n",
              "  </thead>\n",
              "  <tbody>\n",
              "    <tr>\n",
              "      <th>0</th>\n",
              "      <td>0</td>\n",
              "      <td>0</td>\n",
              "    </tr>\n",
              "    <tr>\n",
              "      <th>1</th>\n",
              "      <td>0</td>\n",
              "      <td>1</td>\n",
              "    </tr>\n",
              "    <tr>\n",
              "      <th>2</th>\n",
              "      <td>0</td>\n",
              "      <td>2</td>\n",
              "    </tr>\n",
              "    <tr>\n",
              "      <th>3</th>\n",
              "      <td>0</td>\n",
              "      <td>3</td>\n",
              "    </tr>\n",
              "    <tr>\n",
              "      <th>4</th>\n",
              "      <td>0</td>\n",
              "      <td>4</td>\n",
              "    </tr>\n",
              "    <tr>\n",
              "      <th>5</th>\n",
              "      <td>0</td>\n",
              "      <td>5</td>\n",
              "    </tr>\n",
              "    <tr>\n",
              "      <th>6</th>\n",
              "      <td>0</td>\n",
              "      <td>6</td>\n",
              "    </tr>\n",
              "    <tr>\n",
              "      <th>7</th>\n",
              "      <td>0</td>\n",
              "      <td>7</td>\n",
              "    </tr>\n",
              "    <tr>\n",
              "      <th>8</th>\n",
              "      <td>0</td>\n",
              "      <td>8</td>\n",
              "    </tr>\n",
              "    <tr>\n",
              "      <th>9</th>\n",
              "      <td>0</td>\n",
              "      <td>9</td>\n",
              "    </tr>\n",
              "  </tbody>\n",
              "</table>\n",
              "</div>"
            ],
            "text/plain": [
              "   Input  Output\n",
              "0      0       0\n",
              "1      0       1\n",
              "2      0       2\n",
              "3      0       3\n",
              "4      0       4\n",
              "5      0       5\n",
              "6      0       6\n",
              "7      0       7\n",
              "8      0       8\n",
              "9      0       9"
            ]
          },
          "metadata": {
            "tags": []
          },
          "execution_count": 11
        }
      ]
    },
    {
      "cell_type": "code",
      "metadata": {
        "id": "jb6lNJOCstpw"
      },
      "source": [
        "### Repeating samples 600 times\n",
        "random_number_df=pd.concat([random_number_df]*600,ignore_index=True)"
      ],
      "execution_count": null,
      "outputs": []
    },
    {
      "cell_type": "code",
      "metadata": {
        "id": "BLyJN0QetC4m",
        "colab": {
          "base_uri": "https://localhost:8080/"
        },
        "outputId": "5cd67ed5-a8b9-417b-dc34-1760365cd146"
      },
      "source": [
        "random_number_df.shape"
      ],
      "execution_count": null,
      "outputs": [
        {
          "output_type": "execute_result",
          "data": {
            "text/plain": [
              "(60000, 2)"
            ]
          },
          "metadata": {
            "tags": []
          },
          "execution_count": 13
        }
      ]
    },
    {
      "cell_type": "code",
      "metadata": {
        "id": "LWia6OqkQkJu"
      },
      "source": [
        "### Customer dataset generator class \n",
        "from torch.utils.data import Dataset\n",
        "class RandomNumberdata(Dataset):\n",
        "  def __init__(self, img_df,input_df,):\n",
        "    self.img = img_df\n",
        "    self.data = input_df\n",
        "\n",
        "  def __getitem__(self, index):\n",
        "    \n",
        "    images = self.img[index][0]\n",
        "    output1 = self.img[index][1]\n",
        "\n",
        "    r = self.data.iloc[index]\n",
        "    input_onehot = torch.nn.functional.one_hot(torch.tensor(self.data.Input,dtype=torch.long)) ## converting to one hot encoding\n",
        "    output = torch.tensor(self.data.Output,dtype=torch.long)\n",
        "    #output_onehot = torch.nn.functional.one_hot(torch.tensor(self.data.Output,dtype=torch.long))\n",
        "    output2 = output[r[0]]\n",
        "    sample = input_onehot[r[1]]\n",
        "    return images, output1, sample, output2 ## returning 4 objects as mentioned above\n",
        "  \n",
        "  def __len__(self):\n",
        "    return len(self.data)"
      ],
      "execution_count": null,
      "outputs": []
    },
    {
      "cell_type": "code",
      "metadata": {
        "id": "wN-nwZHiSYSA"
      },
      "source": [
        "## Calling an instance of custom dataset class\n",
        "combined_data_set = RandomNumberdata(train_set,random_number_df)"
      ],
      "execution_count": null,
      "outputs": []
    },
    {
      "cell_type": "code",
      "metadata": {
        "id": "AqTgBzyLThFP",
        "colab": {
          "base_uri": "https://localhost:8080/"
        },
        "outputId": "da2bc960-6963-4e49-b278-f3b75240af89"
      },
      "source": [
        "print(len(combined_data_set))\n"
      ],
      "execution_count": null,
      "outputs": [
        {
          "output_type": "stream",
          "text": [
            "60000\n"
          ],
          "name": "stdout"
        }
      ]
    },
    {
      "cell_type": "code",
      "metadata": {
        "id": "hJsaha4UvRnk",
        "colab": {
          "base_uri": "https://localhost:8080/"
        },
        "outputId": "461668e9-bb4e-4ffe-9d44-6777b2d4c1e7"
      },
      "source": [
        "## View of one record from combined dataset \n",
        "combined_data_set[0]"
      ],
      "execution_count": null,
      "outputs": [
        {
          "output_type": "execute_result",
          "data": {
            "text/plain": [
              "(tensor([[[0.0000, 0.0000, 0.0000, 0.0000, 0.0000, 0.0000, 0.0000, 0.0000, 0.0000, 0.0000, 0.0000, 0.0000, 0.0000,\n",
              "           0.0000, 0.0000, 0.0000, 0.0000, 0.0000, 0.0000, 0.0000, 0.0000, 0.0000, 0.0000, 0.0000, 0.0000, 0.0000,\n",
              "           0.0000, 0.0000],\n",
              "          [0.0000, 0.0000, 0.0000, 0.0000, 0.0000, 0.0000, 0.0000, 0.0000, 0.0000, 0.0000, 0.0000, 0.0000, 0.0000,\n",
              "           0.0000, 0.0000, 0.0000, 0.0000, 0.0000, 0.0000, 0.0000, 0.0000, 0.0000, 0.0000, 0.0000, 0.0000, 0.0000,\n",
              "           0.0000, 0.0000],\n",
              "          [0.0000, 0.0000, 0.0000, 0.0000, 0.0000, 0.0000, 0.0000, 0.0000, 0.0000, 0.0000, 0.0000, 0.0000, 0.0000,\n",
              "           0.0000, 0.0000, 0.0000, 0.0000, 0.0000, 0.0000, 0.0000, 0.0000, 0.0000, 0.0000, 0.0000, 0.0000, 0.0000,\n",
              "           0.0000, 0.0000],\n",
              "          [0.0000, 0.0000, 0.0000, 0.0000, 0.0000, 0.0000, 0.0000, 0.0000, 0.0000, 0.0000, 0.0000, 0.0000, 0.0000,\n",
              "           0.0000, 0.0000, 0.0000, 0.0000, 0.0000, 0.0000, 0.0000, 0.0000, 0.0000, 0.0000, 0.0000, 0.0000, 0.0000,\n",
              "           0.0000, 0.0000],\n",
              "          [0.0000, 0.0000, 0.0000, 0.0000, 0.0000, 0.0000, 0.0000, 0.0000, 0.0000, 0.0000, 0.0000, 0.0000, 0.0000,\n",
              "           0.0000, 0.0000, 0.0000, 0.0000, 0.0000, 0.0000, 0.0000, 0.0000, 0.0000, 0.0000, 0.0000, 0.0000, 0.0000,\n",
              "           0.0000, 0.0000],\n",
              "          [0.0000, 0.0000, 0.0000, 0.0000, 0.0000, 0.0000, 0.0000, 0.0000, 0.0000, 0.0000, 0.0000, 0.0000, 0.0118,\n",
              "           0.0706, 0.0706, 0.0706, 0.4941, 0.5333, 0.6863, 0.1020, 0.6510, 1.0000, 0.9686, 0.4980, 0.0000, 0.0000,\n",
              "           0.0000, 0.0000],\n",
              "          [0.0000, 0.0000, 0.0000, 0.0000, 0.0000, 0.0000, 0.0000, 0.0000, 0.1176, 0.1412, 0.3686, 0.6039, 0.6667,\n",
              "           0.9922, 0.9922, 0.9922, 0.9922, 0.9922, 0.8824, 0.6745, 0.9922, 0.9490, 0.7647, 0.2510, 0.0000, 0.0000,\n",
              "           0.0000, 0.0000],\n",
              "          [0.0000, 0.0000, 0.0000, 0.0000, 0.0000, 0.0000, 0.0000, 0.1922, 0.9333, 0.9922, 0.9922, 0.9922, 0.9922,\n",
              "           0.9922, 0.9922, 0.9922, 0.9922, 0.9843, 0.3647, 0.3216, 0.3216, 0.2196, 0.1529, 0.0000, 0.0000, 0.0000,\n",
              "           0.0000, 0.0000],\n",
              "          [0.0000, 0.0000, 0.0000, 0.0000, 0.0000, 0.0000, 0.0000, 0.0706, 0.8588, 0.9922, 0.9922, 0.9922, 0.9922,\n",
              "           0.9922, 0.7765, 0.7137, 0.9686, 0.9451, 0.0000, 0.0000, 0.0000, 0.0000, 0.0000, 0.0000, 0.0000, 0.0000,\n",
              "           0.0000, 0.0000],\n",
              "          [0.0000, 0.0000, 0.0000, 0.0000, 0.0000, 0.0000, 0.0000, 0.0000, 0.3137, 0.6118, 0.4196, 0.9922, 0.9922,\n",
              "           0.8039, 0.0431, 0.0000, 0.1686, 0.6039, 0.0000, 0.0000, 0.0000, 0.0000, 0.0000, 0.0000, 0.0000, 0.0000,\n",
              "           0.0000, 0.0000],\n",
              "          [0.0000, 0.0000, 0.0000, 0.0000, 0.0000, 0.0000, 0.0000, 0.0000, 0.0000, 0.0549, 0.0039, 0.6039, 0.9922,\n",
              "           0.3529, 0.0000, 0.0000, 0.0000, 0.0000, 0.0000, 0.0000, 0.0000, 0.0000, 0.0000, 0.0000, 0.0000, 0.0000,\n",
              "           0.0000, 0.0000],\n",
              "          [0.0000, 0.0000, 0.0000, 0.0000, 0.0000, 0.0000, 0.0000, 0.0000, 0.0000, 0.0000, 0.0000, 0.5451, 0.9922,\n",
              "           0.7451, 0.0078, 0.0000, 0.0000, 0.0000, 0.0000, 0.0000, 0.0000, 0.0000, 0.0000, 0.0000, 0.0000, 0.0000,\n",
              "           0.0000, 0.0000],\n",
              "          [0.0000, 0.0000, 0.0000, 0.0000, 0.0000, 0.0000, 0.0000, 0.0000, 0.0000, 0.0000, 0.0000, 0.0431, 0.7451,\n",
              "           0.9922, 0.2745, 0.0000, 0.0000, 0.0000, 0.0000, 0.0000, 0.0000, 0.0000, 0.0000, 0.0000, 0.0000, 0.0000,\n",
              "           0.0000, 0.0000],\n",
              "          [0.0000, 0.0000, 0.0000, 0.0000, 0.0000, 0.0000, 0.0000, 0.0000, 0.0000, 0.0000, 0.0000, 0.0000, 0.1373,\n",
              "           0.9451, 0.8824, 0.6275, 0.4235, 0.0039, 0.0000, 0.0000, 0.0000, 0.0000, 0.0000, 0.0000, 0.0000, 0.0000,\n",
              "           0.0000, 0.0000],\n",
              "          [0.0000, 0.0000, 0.0000, 0.0000, 0.0000, 0.0000, 0.0000, 0.0000, 0.0000, 0.0000, 0.0000, 0.0000, 0.0000,\n",
              "           0.3176, 0.9412, 0.9922, 0.9922, 0.4667, 0.0980, 0.0000, 0.0000, 0.0000, 0.0000, 0.0000, 0.0000, 0.0000,\n",
              "           0.0000, 0.0000],\n",
              "          [0.0000, 0.0000, 0.0000, 0.0000, 0.0000, 0.0000, 0.0000, 0.0000, 0.0000, 0.0000, 0.0000, 0.0000, 0.0000,\n",
              "           0.0000, 0.1765, 0.7294, 0.9922, 0.9922, 0.5882, 0.1059, 0.0000, 0.0000, 0.0000, 0.0000, 0.0000, 0.0000,\n",
              "           0.0000, 0.0000],\n",
              "          [0.0000, 0.0000, 0.0000, 0.0000, 0.0000, 0.0000, 0.0000, 0.0000, 0.0000, 0.0000, 0.0000, 0.0000, 0.0000,\n",
              "           0.0000, 0.0000, 0.0627, 0.3647, 0.9882, 0.9922, 0.7333, 0.0000, 0.0000, 0.0000, 0.0000, 0.0000, 0.0000,\n",
              "           0.0000, 0.0000],\n",
              "          [0.0000, 0.0000, 0.0000, 0.0000, 0.0000, 0.0000, 0.0000, 0.0000, 0.0000, 0.0000, 0.0000, 0.0000, 0.0000,\n",
              "           0.0000, 0.0000, 0.0000, 0.0000, 0.9765, 0.9922, 0.9765, 0.2510, 0.0000, 0.0000, 0.0000, 0.0000, 0.0000,\n",
              "           0.0000, 0.0000],\n",
              "          [0.0000, 0.0000, 0.0000, 0.0000, 0.0000, 0.0000, 0.0000, 0.0000, 0.0000, 0.0000, 0.0000, 0.0000, 0.0000,\n",
              "           0.0000, 0.1804, 0.5098, 0.7176, 0.9922, 0.9922, 0.8118, 0.0078, 0.0000, 0.0000, 0.0000, 0.0000, 0.0000,\n",
              "           0.0000, 0.0000],\n",
              "          [0.0000, 0.0000, 0.0000, 0.0000, 0.0000, 0.0000, 0.0000, 0.0000, 0.0000, 0.0000, 0.0000, 0.0000, 0.1529,\n",
              "           0.5804, 0.8980, 0.9922, 0.9922, 0.9922, 0.9804, 0.7137, 0.0000, 0.0000, 0.0000, 0.0000, 0.0000, 0.0000,\n",
              "           0.0000, 0.0000],\n",
              "          [0.0000, 0.0000, 0.0000, 0.0000, 0.0000, 0.0000, 0.0000, 0.0000, 0.0000, 0.0000, 0.0941, 0.4471, 0.8667,\n",
              "           0.9922, 0.9922, 0.9922, 0.9922, 0.7882, 0.3059, 0.0000, 0.0000, 0.0000, 0.0000, 0.0000, 0.0000, 0.0000,\n",
              "           0.0000, 0.0000],\n",
              "          [0.0000, 0.0000, 0.0000, 0.0000, 0.0000, 0.0000, 0.0000, 0.0000, 0.0902, 0.2588, 0.8353, 0.9922, 0.9922,\n",
              "           0.9922, 0.9922, 0.7765, 0.3176, 0.0078, 0.0000, 0.0000, 0.0000, 0.0000, 0.0000, 0.0000, 0.0000, 0.0000,\n",
              "           0.0000, 0.0000],\n",
              "          [0.0000, 0.0000, 0.0000, 0.0000, 0.0000, 0.0000, 0.0706, 0.6706, 0.8588, 0.9922, 0.9922, 0.9922, 0.9922,\n",
              "           0.7647, 0.3137, 0.0353, 0.0000, 0.0000, 0.0000, 0.0000, 0.0000, 0.0000, 0.0000, 0.0000, 0.0000, 0.0000,\n",
              "           0.0000, 0.0000],\n",
              "          [0.0000, 0.0000, 0.0000, 0.0000, 0.2157, 0.6745, 0.8863, 0.9922, 0.9922, 0.9922, 0.9922, 0.9569, 0.5216,\n",
              "           0.0431, 0.0000, 0.0000, 0.0000, 0.0000, 0.0000, 0.0000, 0.0000, 0.0000, 0.0000, 0.0000, 0.0000, 0.0000,\n",
              "           0.0000, 0.0000],\n",
              "          [0.0000, 0.0000, 0.0000, 0.0000, 0.5333, 0.9922, 0.9922, 0.9922, 0.8314, 0.5294, 0.5176, 0.0627, 0.0000,\n",
              "           0.0000, 0.0000, 0.0000, 0.0000, 0.0000, 0.0000, 0.0000, 0.0000, 0.0000, 0.0000, 0.0000, 0.0000, 0.0000,\n",
              "           0.0000, 0.0000],\n",
              "          [0.0000, 0.0000, 0.0000, 0.0000, 0.0000, 0.0000, 0.0000, 0.0000, 0.0000, 0.0000, 0.0000, 0.0000, 0.0000,\n",
              "           0.0000, 0.0000, 0.0000, 0.0000, 0.0000, 0.0000, 0.0000, 0.0000, 0.0000, 0.0000, 0.0000, 0.0000, 0.0000,\n",
              "           0.0000, 0.0000],\n",
              "          [0.0000, 0.0000, 0.0000, 0.0000, 0.0000, 0.0000, 0.0000, 0.0000, 0.0000, 0.0000, 0.0000, 0.0000, 0.0000,\n",
              "           0.0000, 0.0000, 0.0000, 0.0000, 0.0000, 0.0000, 0.0000, 0.0000, 0.0000, 0.0000, 0.0000, 0.0000, 0.0000,\n",
              "           0.0000, 0.0000],\n",
              "          [0.0000, 0.0000, 0.0000, 0.0000, 0.0000, 0.0000, 0.0000, 0.0000, 0.0000, 0.0000, 0.0000, 0.0000, 0.0000,\n",
              "           0.0000, 0.0000, 0.0000, 0.0000, 0.0000, 0.0000, 0.0000, 0.0000, 0.0000, 0.0000, 0.0000, 0.0000, 0.0000,\n",
              "           0.0000, 0.0000]]]),\n",
              " 5,\n",
              " tensor([1, 0, 0, 0, 0, 0, 0, 0, 0, 0]),\n",
              " tensor(0))"
            ]
          },
          "metadata": {
            "tags": []
          },
          "execution_count": 17
        }
      ]
    },
    {
      "cell_type": "code",
      "metadata": {
        "id": "G1nt4Ufq0s-G"
      },
      "source": [
        "# combined_data_loader = torch.utils.data.DataLoader(combined_data_set, batch_size=10)\n",
        "\n",
        "# batch = next(iter(combined_data_loader))\n",
        "# images , output1, numbers,output2 = batch\n",
        "# print(len(batch),type(batch))\n",
        "# print(images.shape, output1.shape,numbers.shape, output2.shape)"
      ],
      "execution_count": null,
      "outputs": []
    },
    {
      "cell_type": "markdown",
      "metadata": {
        "id": "z_Il5d5Rd5dZ"
      },
      "source": [
        "### Building neural network here\n",
        "The network consists of 2 conv2d layers, 4 linear layers \n",
        "\n",
        "1. The image is passed as a first input to network with consists of 2 conv2d layers followed by one linear layer with approriate activation function at each layer\n",
        "2. The random number passed as second input linear with layer with approriate activation function at each layer\n",
        "3. First and second inputs are combined using torch.cat function \n",
        "4. Concatenated input is sent to 3rd liner layer followed by softmax activation function to get first output\n",
        "5. The same  concatenated input is sent to 4th liner layer followed by softmax activation function to get second output\n",
        "6. Finally two outputs, image label and summed output are returned from the network\n"
      ]
    },
    {
      "cell_type": "code",
      "metadata": {
        "id": "NCmhyMnMpIn_"
      },
      "source": [
        "import torch.nn as nn\n",
        "import torch.nn.functional as F\n",
        "class Network(nn.Module):\n",
        "    def __init__(self):\n",
        "        super().__init__()\n",
        "        self.conv1 = nn.Conv2d(in_channels=1, out_channels=6, kernel_size=5)\n",
        "        self.conv2 = nn.Conv2d(in_channels=6, out_channels=12, kernel_size=5)\n",
        "\n",
        "        self.fc1 = nn.Linear(in_features=12 * 4 * 4, out_features=120)\n",
        "\n",
        "        self.fc2 = nn.Linear(in_features=10, out_features=120)\n",
        "\n",
        "        self.out1 = nn.Linear(in_features=240, out_features=10)\n",
        "\n",
        "        self.out2 = nn.Linear(in_features=240, out_features=19)\n",
        "\n",
        "    def forward(self, img, rand): ## Passing two inputs here \n",
        "        \n",
        "        img = self.conv1(img)\n",
        "        img = F.relu(img)\n",
        "        img = F.max_pool2d(img, kernel_size=2, stride=2)\n",
        "\n",
        "     \n",
        "        img = self.conv2(img)\n",
        "        img= F.relu(img)\n",
        "        img= F.max_pool2d(img, kernel_size=2, stride=2)\n",
        "\n",
        "\n",
        "        img = img.reshape(-1, 12 * 4 * 4)\n",
        "        img = self.fc1(img)\n",
        "        img = F.relu(img)\n",
        "\n",
        "\n",
        "        rand = self.fc2(rand)\n",
        "        rand = F.relu(rand)\n",
        "\n",
        "        combined = torch.cat((img,rand),dim=1) ## combining two inputs here\n",
        "\n",
        "        #print(combined.shape)\n",
        "\n",
        "        out1 = self.out1(combined)\n",
        "        out1 = F.softmax(out1, dim=1) ## output1, image label\n",
        "\n",
        "\n",
        "        out2=self.out2(combined)\n",
        "        out2 = F.softmax(out1, dim=1) ## output2, summed output\n",
        "\n",
        "        return out1,out2"
      ],
      "execution_count": null,
      "outputs": []
    },
    {
      "cell_type": "code",
      "metadata": {
        "id": "N3LfD-ISpcOw",
        "colab": {
          "base_uri": "https://localhost:8080/"
        },
        "outputId": "e2ed58d0-1ffd-4822-a6f8-073213c23432"
      },
      "source": [
        "## Enabling the GPU \n",
        "device = torch.device(\"cuda:0\" if torch.cuda.is_available() else \"cpu\")\n",
        "print(device)\n",
        "\n"
      ],
      "execution_count": null,
      "outputs": [
        {
          "output_type": "stream",
          "text": [
            "cuda:0\n"
          ],
          "name": "stdout"
        }
      ]
    },
    {
      "cell_type": "markdown",
      "metadata": {
        "id": "tS6-qwLn9cWV"
      },
      "source": [
        "### Generating train and test loaders by  SubsetRandomSampler\n",
        "1. Data is split into 80% train and 20% test \n",
        "2. Model data is trained using training set and its perfomance is evaluated on test \n",
        "3. Cross entropy is used as loss function for both the output, because we are solving a classification problem and The purpose of the Cross-Entropy is to take the output probabilities (P) and measure the distance from the truth values\n",
        "4. Based on loss and accuracy model perfomance is evaluated "
      ]
    },
    {
      "cell_type": "code",
      "metadata": {
        "id": "UAmGFq922dp4"
      },
      "source": [
        "from torch.utils.data.sampler import SubsetRandomSampler\n",
        "\n",
        "batch_size = 100\n",
        "test_split = .2\n",
        "shuffle_dataset = True\n",
        "random_seed= 42\n",
        "\n",
        "# Creating data indices for training and test splits:\n",
        "dataset_size = len(combined_data_set)\n",
        "indices = list(range(dataset_size))\n",
        "split = int(np.floor(test_split * dataset_size))\n",
        "if shuffle_dataset :\n",
        "    np.random.seed(random_seed)\n",
        "    np.random.shuffle(indices)\n",
        "train_indices, test_indices = indices[split:], indices[:split]\n",
        "\n",
        "# Creating  data samplers and loaders:\n",
        "train_sampler = SubsetRandomSampler(train_indices)\n",
        "testid_sampler = SubsetRandomSampler(test_indices)\n",
        "\n",
        "train_loader = torch.utils.data.DataLoader(combined_data_set, batch_size=batch_size, \n",
        "                                           sampler=train_sampler)\n",
        "test_loader = torch.utils.data.DataLoader(combined_data_set, batch_size=batch_size,\n",
        "                                                sampler=testid_sampler)"
      ],
      "execution_count": null,
      "outputs": []
    },
    {
      "cell_type": "code",
      "metadata": {
        "id": "oa0-VCqE2F2B",
        "colab": {
          "base_uri": "https://localhost:8080/"
        },
        "outputId": "aca551c5-dca9-491c-ca6e-ee4fc1285722"
      },
      "source": [
        "len(train_loader),len(test_loader)"
      ],
      "execution_count": null,
      "outputs": [
        {
          "output_type": "execute_result",
          "data": {
            "text/plain": [
              "(480, 120)"
            ]
          },
          "metadata": {
            "tags": []
          },
          "execution_count": 22
        }
      ]
    },
    {
      "cell_type": "code",
      "metadata": {
        "id": "d7hdTfOqRMjy"
      },
      "source": [
        "import torch.optim as optim\n",
        "network = Network()\n",
        "network = network.to(device) ## Adding network to gpu\n",
        "optimizer = optim.Adam(network.parameters(), lr=0.01) ## Defining an optimizer"
      ],
      "execution_count": null,
      "outputs": []
    },
    {
      "cell_type": "code",
      "metadata": {
        "id": "xde9n1WBboAp"
      },
      "source": [
        "## Defining accuracy function here\n",
        "def accuracy(preds, labels):\n",
        "    \"\"\"\n",
        "    Returns accuracy per batch, i.e. if you get 8/10 right, this returns 0.8, NOT 8\n",
        "    \"\"\"\n",
        "    #round predictions to the closest integer\n",
        "    correct = preds.argmax(dim=1).eq(labels).sum().item() #convert into float for division \n",
        "    acc = correct / len(labels)\n",
        "    return acc"
      ],
      "execution_count": null,
      "outputs": []
    },
    {
      "cell_type": "code",
      "metadata": {
        "id": "xDgxNVXRRMyW"
      },
      "source": [
        "## Defined the train function here which takes network, data iterator, optimizer and device\n",
        "## Trains the network batch wise\n",
        "def train(model, iterator, optimizer,device):\n",
        "    \n",
        "    epoch_loss = 0\n",
        "    epoch_acc1 = 0\n",
        "    epoch_acc2 = 0\n",
        "    \n",
        "    model.train()\n",
        "    \n",
        "    for batch in iterator:\n",
        "        \n",
        "        optimizer.zero_grad()\n",
        "\n",
        "        images, output1, numbers,output2 = batch \n",
        "        images, output1, numbers,output2 = images.to(device), output1.to(device), numbers.to(device),output2.to(device) ## Adding all inputs to gpu\n",
        "\n",
        "       # print(images.shape)\n",
        "       # print(numbers.shape)\n",
        "\n",
        "        preds1,preds2 = model(images.float(),numbers.float()) # Pass Batch\n",
        "        \n",
        "        #preds1,preds2 = network(images.float().to(device),numbers.float().to(device))\n",
        "\n",
        "        loss1 = F.cross_entropy(preds1, output1)\n",
        "\n",
        "        loss2 = F.cross_entropy(preds2, output2)# Calculate Loss\n",
        "        \n",
        "        loss=loss1+loss2 ## Two losses are calculated seperately and combined later and sent to backpropagation\n",
        "     \n",
        "        acc1 = accuracy(preds1, output1)\n",
        "\n",
        "        acc2 = accuracy(preds2, output2)\n",
        "\n",
        "\n",
        "        optimizer.zero_grad()\n",
        "        loss.backward() # Calculate Gradients\n",
        "        optimizer.step() # Update Weights\n",
        "\n",
        "        \n",
        "        epoch_loss += loss.item()\n",
        "        epoch_acc1 += acc1\n",
        "        epoch_acc2 += acc2\n",
        "        \n",
        "    return epoch_loss / len(iterator), epoch_acc1 / len(iterator), epoch_acc2 / len(iterator)"
      ],
      "execution_count": null,
      "outputs": []
    },
    {
      "cell_type": "code",
      "metadata": {
        "id": "r58Jc_E9TxGc"
      },
      "source": [
        "## Defined the evaluate function here which takes network, data iterator, optimizer and device\n",
        "## Trains the network batch wise\n",
        "\n",
        "def evaluate(model, iterator,device):\n",
        "    \n",
        "    epoch_loss = 0\n",
        "    epoch_acc1 = 0\n",
        "    epoch_acc2 = 0\n",
        "    \n",
        "    model.eval()\n",
        "    \n",
        "    with torch.no_grad():\n",
        "    \n",
        "        for batch in iterator:\n",
        "\n",
        "            images, output1, numbers,output2 = batch \n",
        "            images, output1, numbers,output2 = images.to(device), output1.to(device), numbers.to(device),output2.to(device)\n",
        "\n",
        "            preds1,preds2 = model(images.float(),numbers.float()) # Pass Batch\n",
        "        \n",
        "            loss1 = F.cross_entropy(preds1, output1)\n",
        "\n",
        "            loss2 = F.cross_entropy(preds2, output2)# Calculate Loss\n",
        "            \n",
        "            loss=loss1+loss2\n",
        "        \n",
        "            acc1 = accuracy(preds1, output1)\n",
        "\n",
        "            acc2 = accuracy(preds2, output2)\n",
        "\n",
        "            epoch_loss += loss.item()\n",
        "            epoch_acc1 += acc1\n",
        "            epoch_acc2 += acc2\n",
        "\n",
        "    return epoch_loss / len(iterator), epoch_acc1 / len(iterator), epoch_acc2 / len(iterator)"
      ],
      "execution_count": null,
      "outputs": []
    },
    {
      "cell_type": "code",
      "metadata": {
        "id": "HnYEHcygVao2"
      },
      "source": [
        "## Function that calculates time taken per batch\n",
        "import time\n",
        "\n",
        "def epoch_time(start_time, end_time):\n",
        "    elapsed_time = end_time - start_time\n",
        "    elapsed_mins = int(elapsed_time / 60)\n",
        "    elapsed_secs = int(elapsed_time - (elapsed_mins * 60))\n",
        "    return elapsed_mins, elapsed_secs"
      ],
      "execution_count": null,
      "outputs": []
    },
    {
      "cell_type": "code",
      "metadata": {
        "id": "dIuJ0YINV4Iu",
        "colab": {
          "base_uri": "https://localhost:8080/"
        },
        "outputId": "096ff359-ab56-42f9-ed4d-ce318ba605b8"
      },
      "source": [
        "## Running a network for 10 epochs\n",
        "N_EPOCHS = 10\n",
        "\n",
        "best_valid_loss = float('inf')\n",
        "\n",
        "for epoch in range(N_EPOCHS):\n",
        "\n",
        "    start_time = time.time()\n",
        "    \n",
        "    train_loss, train_acc1, train_acc2 = train(network, train_loader, optimizer,device)\n",
        "    valid_loss, valid_acc1, valid_acc2 = evaluate(network, test_loader,device)\n",
        "    \n",
        "    end_time = time.time()\n",
        "\n",
        "    epoch_mins, epoch_secs = epoch_time(start_time, end_time)\n",
        "    \n",
        "    if valid_loss < best_valid_loss:\n",
        "        best_valid_loss = valid_loss\n",
        "        #torch.save(model.state_dict(), 'tut2-model.pt')\n",
        "    \n",
        "    print(f'Epoch: {epoch+1:02} | Epoch Time: {epoch_mins}m {epoch_secs}s')\n",
        "    print(f'\\tTrain Loss: {train_loss:.3f} | Train Acc of Image: {train_acc1*100:.2f} \\\n",
        "               | Train Acc of addition of image label and Random Number: {train_acc2*100:.2f} %')\n",
        "    print(f'\\t Val. Loss: {valid_loss:.3f} |  Val. Acc of Image: {valid_acc1*100:.2f} | \\\n",
        "              | Val. Acc of addition of image label and Random Number: {train_acc2*100:.2f} %')"
      ],
      "execution_count": null,
      "outputs": [
        {
          "output_type": "stream",
          "text": [
            "Epoch: 01 | Epoch Time: 12m 40s\n",
            "\tTrain Loss: 3.989 | Train Acc of Image: 77.54                | Train Acc of addition of image label and Random Number: 9.98 %\n",
            "\t Val. Loss: 3.913 |  Val. Acc of Image: 85.12 |               | Val. Acc of addition of image label and Random Number: 9.98 %\n",
            "Epoch: 02 | Epoch Time: 12m 37s\n",
            "\tTrain Loss: 3.854 | Train Acc of Image: 91.08                | Train Acc of addition of image label and Random Number: 9.98 %\n",
            "\t Val. Loss: 3.860 |  Val. Acc of Image: 90.54 |               | Val. Acc of addition of image label and Random Number: 9.98 %\n",
            "Epoch: 03 | Epoch Time: 12m 35s\n",
            "\tTrain Loss: 3.844 | Train Acc of Image: 92.05                | Train Acc of addition of image label and Random Number: 10.07 %\n",
            "\t Val. Loss: 3.894 |  Val. Acc of Image: 87.08 |               | Val. Acc of addition of image label and Random Number: 10.07 %\n",
            "Epoch: 04 | Epoch Time: 12m 30s\n",
            "\tTrain Loss: 3.854 | Train Acc of Image: 91.07                | Train Acc of addition of image label and Random Number: 10.06 %\n",
            "\t Val. Loss: 3.837 |  Val. Acc of Image: 92.80 |               | Val. Acc of addition of image label and Random Number: 10.06 %\n",
            "Epoch: 05 | Epoch Time: 12m 27s\n",
            "\tTrain Loss: 3.850 | Train Acc of Image: 91.51                | Train Acc of addition of image label and Random Number: 9.98 %\n",
            "\t Val. Loss: 3.851 |  Val. Acc of Image: 91.43 |               | Val. Acc of addition of image label and Random Number: 9.98 %\n",
            "Epoch: 06 | Epoch Time: 12m 17s\n",
            "\tTrain Loss: 3.858 | Train Acc of Image: 90.62                | Train Acc of addition of image label and Random Number: 10.00 %\n",
            "\t Val. Loss: 3.833 |  Val. Acc of Image: 93.23 |               | Val. Acc of addition of image label and Random Number: 10.00 %\n",
            "Epoch: 07 | Epoch Time: 12m 25s\n",
            "\tTrain Loss: 3.849 | Train Acc of Image: 91.55                | Train Acc of addition of image label and Random Number: 9.93 %\n",
            "\t Val. Loss: 3.900 |  Val. Acc of Image: 86.51 |               | Val. Acc of addition of image label and Random Number: 9.93 %\n",
            "Epoch: 08 | Epoch Time: 12m 22s\n",
            "\tTrain Loss: 3.869 | Train Acc of Image: 89.55                | Train Acc of addition of image label and Random Number: 9.86 %\n",
            "\t Val. Loss: 3.834 |  Val. Acc of Image: 93.10 |               | Val. Acc of addition of image label and Random Number: 9.86 %\n",
            "Epoch: 09 | Epoch Time: 12m 21s\n",
            "\tTrain Loss: 3.831 | Train Acc of Image: 93.34                | Train Acc of addition of image label and Random Number: 9.99 %\n",
            "\t Val. Loss: 3.857 |  Val. Acc of Image: 90.82 |               | Val. Acc of addition of image label and Random Number: 9.99 %\n",
            "Epoch: 10 | Epoch Time: 12m 21s\n",
            "\tTrain Loss: 3.831 | Train Acc of Image: 93.36                | Train Acc of addition of image label and Random Number: 10.00 %\n",
            "\t Val. Loss: 3.827 |  Val. Acc of Image: 93.84 |               | Val. Acc of addition of image label and Random Number: 10.00 %\n"
          ],
          "name": "stdout"
        }
      ]
    },
    {
      "cell_type": "markdown",
      "metadata": {
        "id": "1g4zQy93B138"
      },
      "source": [
        "### Final Comments\n",
        "\n",
        "1. Combined loss on train and validation seems to be consistant from the 1st epoch and there is no much improvement seen\n",
        "2. The accuracy for image prediction looks good where as accuracy for summed output is very poor <10%\n",
        "3.Note that model is exectued only for 10 epochs as each epoch takes ~13mins\n",
        "4.I attempted to solve the given problem based on my understanding. However feel there is an improvement needed in the solution approuch \n",
        "    * I understand cross entropy loss is used for classification problem and RMSE/MSE to be used while adding numbers or any regression problem\n",
        "    * I converted this entire problem as muti node classification, where first output node classifys a given image out of 10 labels and second output node  with 19 lables (each of them represents the sum of the image lable and random number ) \n"
      ]
    }
  ]
}